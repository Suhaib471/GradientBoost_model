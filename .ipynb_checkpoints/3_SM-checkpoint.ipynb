{
 "cells": [
  {
   "cell_type": "markdown",
   "metadata": {},
   "source": [
    "# Scienaptic Data Science Assignment II - Models\n",
    "\n",
    "Author: Sharmeen Malik\n",
    "\n",
    "Date: May 18, 2020"
   ]
  },
  {
   "cell_type": "code",
   "execution_count": 1,
   "metadata": {},
   "outputs": [
    {
     "name": "stderr",
     "output_type": "stream",
     "text": [
      "/Applications/anaconda3/envs/LoanStreet/lib/python3.7/site-packages/statsmodels/tools/_testing.py:19: FutureWarning: pandas.util.testing is deprecated. Use the functions in the public API at pandas.testing instead.\n",
      "  import pandas.util.testing as tm\n"
     ]
    }
   ],
   "source": [
    "#import modules\n",
    "import pandas as pd\n",
    "import numpy as np\n",
    "import matplotlib\n",
    "import matplotlib.pyplot as plt \n",
    "import seaborn as sns\n",
    "import collections, numpy\n",
    "import time\n",
    "\n",
    "from xgboost import XGBClassifier\n",
    "from sklearn.metrics import make_scorer, accuracy_score, roc_auc_score\n",
    "from sklearn.tree import DecisionTreeClassifier\n",
    "from sklearn.linear_model import LogisticRegression\n",
    "from sklearn.metrics import confusion_matrix\n",
    "from sklearn.model_selection import train_test_split\n",
    "\n",
    "pd.options.display.max_columns=999\n",
    "pd.options.display.max_rows=3000\n",
    "\n",
    "data_file = pd.read_excel('Collections Case Study Data.xlsx', sheet_name=None)"
   ]
  },
  {
   "cell_type": "markdown",
   "metadata": {},
   "source": [
    "## Data"
   ]
  },
  {
   "cell_type": "code",
   "execution_count": 2,
   "metadata": {},
   "outputs": [
    {
     "data": {
      "text/plain": [
       "dict_keys(['Loan Details', 'Loan_Status_MartoMay', 'Loan_Status_AprtoJun', 'Historical 6 Months Details', 'Loan_ID mapping', 'Call Details'])"
      ]
     },
     "execution_count": 2,
     "metadata": {},
     "output_type": "execute_result"
    }
   ],
   "source": [
    "#assign data to new dataframe and display keys\n",
    "df = data_file\n",
    "df.keys()"
   ]
  },
  {
   "cell_type": "code",
   "execution_count": 3,
   "metadata": {},
   "outputs": [],
   "source": [
    "#creates stratums for data based on month\n",
    "mar_data = df['Loan_Status_MartoMay'].loc[df['Loan_Status_MartoMay']['Month'] == 'March']\n",
    "apr_data = df['Loan_Status_MartoMay'].loc[df['Loan_Status_MartoMay']['Month'] == 'April']\n",
    "may_data = df['Loan_Status_MartoMay'].loc[df['Loan_Status_MartoMay']['Month'] == 'May']\n",
    "marapr_data = df['Loan_Status_AprtoJun'].loc[df['Loan_Status_AprtoJun']['Month'] == 'April']\n",
    "aprmay_data = df['Loan_Status_AprtoJun'].loc[df['Loan_Status_AprtoJun']['Month'] == 'May']\n",
    "mayjun_data = df['Loan_Status_AprtoJun'].loc[df['Loan_Status_AprtoJun']['Month'] == 'June']"
   ]
  },
  {
   "cell_type": "code",
   "execution_count": 4,
   "metadata": {},
   "outputs": [
    {
     "name": "stdout",
     "output_type": "stream",
     "text": [
      "True\n",
      "True\n",
      "True\n"
     ]
    }
   ],
   "source": [
    "#QC checking to see if our assumption is correct\n",
    "print(len(mar_data) == len(marapr_data))\n",
    "print(len(apr_data) == len(aprmay_data))\n",
    "print(len(may_data) == len(mayjun_data))"
   ]
  },
  {
   "cell_type": "code",
   "execution_count": 5,
   "metadata": {},
   "outputs": [],
   "source": [
    "#combines account information for each month with performance in the following month\n",
    "mar_data1 = pd.merge(mar_data, marapr_data, how='left', on='Loan_id', suffixes=('_mar', '_marapr'))\n",
    "apr_data1 = pd.merge(apr_data, aprmay_data, how='left', on='Loan_id', suffixes=('_apr', '_aprmay'))\n",
    "may_data1 = pd.merge(may_data, mayjun_data, how='left', on='Loan_id', suffixes=('_may', '_mayjun'))"
   ]
  },
  {
   "cell_type": "code",
   "execution_count": 6,
   "metadata": {},
   "outputs": [],
   "source": [
    "#merges monthly data into one dataframe\n",
    "data1 = pd.merge(mar_data1, apr_data1, how='outer', on='Loan_id')\n",
    "data1 = pd.merge(data1, may_data1, how='outer', on='Loan_id')"
   ]
  },
  {
   "cell_type": "code",
   "execution_count": 7,
   "metadata": {},
   "outputs": [
    {
     "name": "stdout",
     "output_type": "stream",
     "text": [
      "(24575, 13)\n",
      "(27079, 13)\n",
      "(29115, 13)\n",
      "(40339, 37)\n"
     ]
    }
   ],
   "source": [
    "#checks length of dataframes\n",
    "print(mar_data1.shape)\n",
    "print(apr_data1.shape)\n",
    "print(may_data1.shape)\n",
    "print(data1.shape)"
   ]
  },
  {
   "cell_type": "code",
   "execution_count": 8,
   "metadata": {},
   "outputs": [
    {
     "data": {
      "text/plain": [
       "Index(['Loan_id', 'Bucket_mar', 'TENURE_mar', 'PRINBALANCE_mar',\n",
       "       'Months on Books_mar', 'Sanctioned Amount_mar', 'Month_mar',\n",
       "       'Bucket_marapr', 'PRINBALANCE_marapr', 'TENURE_marapr',\n",
       "       'Months on Books_marapr', 'Sanctioned Amount_marapr', 'Month_marapr',\n",
       "       'Bucket_apr', 'TENURE_apr', 'PRINBALANCE_apr', 'Months on Books_apr',\n",
       "       'Sanctioned Amount_apr', 'Month_apr', 'Bucket_aprmay',\n",
       "       'PRINBALANCE_aprmay', 'TENURE_aprmay', 'Months on Books_aprmay',\n",
       "       'Sanctioned Amount_aprmay', 'Month_aprmay', 'Bucket_may', 'TENURE_may',\n",
       "       'PRINBALANCE_may', 'Months on Books_may', 'Sanctioned Amount_may',\n",
       "       'Month_may', 'Bucket_mayjun', 'PRINBALANCE_mayjun', 'TENURE_mayjun',\n",
       "       'Months on Books_mayjun', 'Sanctioned Amount_mayjun', 'Month_mayjun'],\n",
       "      dtype='object')"
      ]
     },
     "execution_count": 8,
     "metadata": {},
     "output_type": "execute_result"
    }
   ],
   "source": [
    "#displays column names of dataframe\n",
    "data1.columns"
   ]
  },
  {
   "cell_type": "markdown",
   "metadata": {},
   "source": [
    "### Roll Forward Data"
   ]
  },
  {
   "cell_type": "markdown",
   "metadata": {},
   "source": [
    "This section calculates the roll forward for each account in order to create a target variable for our model."
   ]
  },
  {
   "cell_type": "code",
   "execution_count": 9,
   "metadata": {},
   "outputs": [
    {
     "data": {
      "text/html": [
       "<div>\n",
       "<style scoped>\n",
       "    .dataframe tbody tr th:only-of-type {\n",
       "        vertical-align: middle;\n",
       "    }\n",
       "\n",
       "    .dataframe tbody tr th {\n",
       "        vertical-align: top;\n",
       "    }\n",
       "\n",
       "    .dataframe thead th {\n",
       "        text-align: right;\n",
       "    }\n",
       "</style>\n",
       "<table border=\"1\" class=\"dataframe\">\n",
       "  <thead>\n",
       "    <tr style=\"text-align: right;\">\n",
       "      <th></th>\n",
       "      <th>TENURE_mar</th>\n",
       "      <th>PRINBALANCE_mar</th>\n",
       "      <th>Months on Books_mar</th>\n",
       "      <th>Sanctioned Amount_mar</th>\n",
       "      <th>PRINBALANCE_marapr</th>\n",
       "      <th>Months on Books_marapr</th>\n",
       "      <th>PRINBALANCE_apr</th>\n",
       "      <th>Months on Books_apr</th>\n",
       "      <th>PRINBALANCE_aprmay</th>\n",
       "      <th>Months on Books_aprmay</th>\n",
       "      <th>PRINBALANCE_may</th>\n",
       "      <th>Months on Books_may</th>\n",
       "      <th>PRINBALANCE_mayjun</th>\n",
       "      <th>Months on Books_mayjun</th>\n",
       "    </tr>\n",
       "  </thead>\n",
       "  <tbody>\n",
       "    <tr>\n",
       "      <th>count</th>\n",
       "      <td>24575.000000</td>\n",
       "      <td>2.457500e+04</td>\n",
       "      <td>24575.000000</td>\n",
       "      <td>2.457500e+04</td>\n",
       "      <td>2.457500e+04</td>\n",
       "      <td>24575.000000</td>\n",
       "      <td>2.707900e+04</td>\n",
       "      <td>27079.000000</td>\n",
       "      <td>2.707900e+04</td>\n",
       "      <td>27079.000000</td>\n",
       "      <td>2.911500e+04</td>\n",
       "      <td>29115.000000</td>\n",
       "      <td>2.911500e+04</td>\n",
       "      <td>29115.000000</td>\n",
       "    </tr>\n",
       "    <tr>\n",
       "      <th>mean</th>\n",
       "      <td>41.832838</td>\n",
       "      <td>3.368172e+07</td>\n",
       "      <td>15.600895</td>\n",
       "      <td>4.603559e+07</td>\n",
       "      <td>3.183383e+07</td>\n",
       "      <td>16.600895</td>\n",
       "      <td>3.340031e+07</td>\n",
       "      <td>15.773847</td>\n",
       "      <td>3.157736e+07</td>\n",
       "      <td>16.773847</td>\n",
       "      <td>3.415342e+07</td>\n",
       "      <td>15.400996</td>\n",
       "      <td>3.231523e+07</td>\n",
       "      <td>16.400996</td>\n",
       "    </tr>\n",
       "    <tr>\n",
       "      <th>std</th>\n",
       "      <td>7.599259</td>\n",
       "      <td>2.397062e+07</td>\n",
       "      <td>10.692061</td>\n",
       "      <td>2.586228e+07</td>\n",
       "      <td>2.367301e+07</td>\n",
       "      <td>10.692061</td>\n",
       "      <td>2.364095e+07</td>\n",
       "      <td>10.643053</td>\n",
       "      <td>2.335223e+07</td>\n",
       "      <td>10.643053</td>\n",
       "      <td>2.497425e+07</td>\n",
       "      <td>10.549727</td>\n",
       "      <td>2.467654e+07</td>\n",
       "      <td>10.549727</td>\n",
       "    </tr>\n",
       "    <tr>\n",
       "      <th>min</th>\n",
       "      <td>12.000000</td>\n",
       "      <td>4.090000e+05</td>\n",
       "      <td>0.000000</td>\n",
       "      <td>1.000000e+07</td>\n",
       "      <td>2.000000e+02</td>\n",
       "      <td>1.000000</td>\n",
       "      <td>7.470000e+04</td>\n",
       "      <td>0.000000</td>\n",
       "      <td>1.000000e+03</td>\n",
       "      <td>1.000000</td>\n",
       "      <td>2.372000e+05</td>\n",
       "      <td>0.000000</td>\n",
       "      <td>2.000000e+02</td>\n",
       "      <td>1.000000</td>\n",
       "    </tr>\n",
       "    <tr>\n",
       "      <th>25%</th>\n",
       "      <td>36.000000</td>\n",
       "      <td>1.762650e+07</td>\n",
       "      <td>6.000000</td>\n",
       "      <td>3.000000e+07</td>\n",
       "      <td>1.597412e+07</td>\n",
       "      <td>7.000000</td>\n",
       "      <td>1.757270e+07</td>\n",
       "      <td>7.000000</td>\n",
       "      <td>1.592710e+07</td>\n",
       "      <td>8.000000</td>\n",
       "      <td>1.807675e+07</td>\n",
       "      <td>6.000000</td>\n",
       "      <td>1.641180e+07</td>\n",
       "      <td>7.000000</td>\n",
       "    </tr>\n",
       "    <tr>\n",
       "      <th>50%</th>\n",
       "      <td>48.000000</td>\n",
       "      <td>2.906860e+07</td>\n",
       "      <td>14.000000</td>\n",
       "      <td>4.000000e+07</td>\n",
       "      <td>2.757780e+07</td>\n",
       "      <td>15.000000</td>\n",
       "      <td>2.893120e+07</td>\n",
       "      <td>15.000000</td>\n",
       "      <td>2.740140e+07</td>\n",
       "      <td>16.000000</td>\n",
       "      <td>2.940660e+07</td>\n",
       "      <td>14.000000</td>\n",
       "      <td>2.798320e+07</td>\n",
       "      <td>15.000000</td>\n",
       "    </tr>\n",
       "    <tr>\n",
       "      <th>75%</th>\n",
       "      <td>48.000000</td>\n",
       "      <td>4.406620e+07</td>\n",
       "      <td>23.000000</td>\n",
       "      <td>5.500000e+07</td>\n",
       "      <td>4.230300e+07</td>\n",
       "      <td>24.000000</td>\n",
       "      <td>4.370955e+07</td>\n",
       "      <td>23.000000</td>\n",
       "      <td>4.205315e+07</td>\n",
       "      <td>24.000000</td>\n",
       "      <td>4.434225e+07</td>\n",
       "      <td>22.000000</td>\n",
       "      <td>4.268020e+07</td>\n",
       "      <td>23.000000</td>\n",
       "    </tr>\n",
       "    <tr>\n",
       "      <th>max</th>\n",
       "      <td>239.000000</td>\n",
       "      <td>3.753802e+08</td>\n",
       "      <td>74.000000</td>\n",
       "      <td>4.200000e+08</td>\n",
       "      <td>3.732658e+08</td>\n",
       "      <td>75.000000</td>\n",
       "      <td>3.743314e+08</td>\n",
       "      <td>78.000000</td>\n",
       "      <td>3.721831e+08</td>\n",
       "      <td>79.000000</td>\n",
       "      <td>1.137036e+09</td>\n",
       "      <td>84.000000</td>\n",
       "      <td>1.131137e+09</td>\n",
       "      <td>85.000000</td>\n",
       "    </tr>\n",
       "  </tbody>\n",
       "</table>\n",
       "</div>"
      ],
      "text/plain": [
       "         TENURE_mar  PRINBALANCE_mar  Months on Books_mar  \\\n",
       "count  24575.000000     2.457500e+04         24575.000000   \n",
       "mean      41.832838     3.368172e+07            15.600895   \n",
       "std        7.599259     2.397062e+07            10.692061   \n",
       "min       12.000000     4.090000e+05             0.000000   \n",
       "25%       36.000000     1.762650e+07             6.000000   \n",
       "50%       48.000000     2.906860e+07            14.000000   \n",
       "75%       48.000000     4.406620e+07            23.000000   \n",
       "max      239.000000     3.753802e+08            74.000000   \n",
       "\n",
       "       Sanctioned Amount_mar  PRINBALANCE_marapr  Months on Books_marapr  \\\n",
       "count           2.457500e+04        2.457500e+04            24575.000000   \n",
       "mean            4.603559e+07        3.183383e+07               16.600895   \n",
       "std             2.586228e+07        2.367301e+07               10.692061   \n",
       "min             1.000000e+07        2.000000e+02                1.000000   \n",
       "25%             3.000000e+07        1.597412e+07                7.000000   \n",
       "50%             4.000000e+07        2.757780e+07               15.000000   \n",
       "75%             5.500000e+07        4.230300e+07               24.000000   \n",
       "max             4.200000e+08        3.732658e+08               75.000000   \n",
       "\n",
       "       PRINBALANCE_apr  Months on Books_apr  PRINBALANCE_aprmay  \\\n",
       "count     2.707900e+04         27079.000000        2.707900e+04   \n",
       "mean      3.340031e+07            15.773847        3.157736e+07   \n",
       "std       2.364095e+07            10.643053        2.335223e+07   \n",
       "min       7.470000e+04             0.000000        1.000000e+03   \n",
       "25%       1.757270e+07             7.000000        1.592710e+07   \n",
       "50%       2.893120e+07            15.000000        2.740140e+07   \n",
       "75%       4.370955e+07            23.000000        4.205315e+07   \n",
       "max       3.743314e+08            78.000000        3.721831e+08   \n",
       "\n",
       "       Months on Books_aprmay  PRINBALANCE_may  Months on Books_may  \\\n",
       "count            27079.000000     2.911500e+04         29115.000000   \n",
       "mean                16.773847     3.415342e+07            15.400996   \n",
       "std                 10.643053     2.497425e+07            10.549727   \n",
       "min                  1.000000     2.372000e+05             0.000000   \n",
       "25%                  8.000000     1.807675e+07             6.000000   \n",
       "50%                 16.000000     2.940660e+07            14.000000   \n",
       "75%                 24.000000     4.434225e+07            22.000000   \n",
       "max                 79.000000     1.137036e+09            84.000000   \n",
       "\n",
       "       PRINBALANCE_mayjun  Months on Books_mayjun  \n",
       "count        2.911500e+04            29115.000000  \n",
       "mean         3.231523e+07               16.400996  \n",
       "std          2.467654e+07               10.549727  \n",
       "min          2.000000e+02                1.000000  \n",
       "25%          1.641180e+07                7.000000  \n",
       "50%          2.798320e+07               15.000000  \n",
       "75%          4.268020e+07               23.000000  \n",
       "max          1.131137e+09               85.000000  "
      ]
     },
     "execution_count": 9,
     "metadata": {},
     "output_type": "execute_result"
    }
   ],
   "source": [
    "#drop columns and assign to new dataframe in order to calculate roll forwards\n",
    "data2 = data1.drop(columns=['Month_mar', 'TENURE_marapr', 'Sanctioned Amount_marapr', \n",
    "                            'Month_marapr', 'TENURE_apr', 'Sanctioned Amount_apr','Month_apr', \n",
    "                            'TENURE_aprmay', 'Sanctioned Amount_aprmay', 'Month_aprmay', \n",
    "                            'TENURE_may', 'Sanctioned Amount_may', 'Month_may', 'TENURE_mayjun', \n",
    "                            'Sanctioned Amount_mayjun', 'Month_mayjun'])\n",
    "\n",
    "data2.describe()"
   ]
  },
  {
   "cell_type": "code",
   "execution_count": 10,
   "metadata": {},
   "outputs": [
    {
     "data": {
      "text/html": [
       "<div>\n",
       "<style scoped>\n",
       "    .dataframe tbody tr th:only-of-type {\n",
       "        vertical-align: middle;\n",
       "    }\n",
       "\n",
       "    .dataframe tbody tr th {\n",
       "        vertical-align: top;\n",
       "    }\n",
       "\n",
       "    .dataframe thead th {\n",
       "        text-align: right;\n",
       "    }\n",
       "</style>\n",
       "<table border=\"1\" class=\"dataframe\">\n",
       "  <thead>\n",
       "    <tr style=\"text-align: right;\">\n",
       "      <th></th>\n",
       "      <th>Loan_id</th>\n",
       "      <th>Bucket_mar</th>\n",
       "      <th>TENURE_mar</th>\n",
       "      <th>PRINBALANCE_mar</th>\n",
       "      <th>Months on Books_mar</th>\n",
       "      <th>Sanctioned Amount_mar</th>\n",
       "      <th>Bucket_marapr</th>\n",
       "      <th>PRINBALANCE_marapr</th>\n",
       "      <th>Months on Books_marapr</th>\n",
       "      <th>Bucket_apr</th>\n",
       "      <th>PRINBALANCE_apr</th>\n",
       "      <th>Months on Books_apr</th>\n",
       "      <th>Bucket_aprmay</th>\n",
       "      <th>PRINBALANCE_aprmay</th>\n",
       "      <th>Months on Books_aprmay</th>\n",
       "      <th>Bucket_may</th>\n",
       "      <th>PRINBALANCE_may</th>\n",
       "      <th>Months on Books_may</th>\n",
       "      <th>Bucket_mayjun</th>\n",
       "      <th>PRINBALANCE_mayjun</th>\n",
       "      <th>Months on Books_mayjun</th>\n",
       "    </tr>\n",
       "  </thead>\n",
       "  <tbody>\n",
       "    <tr>\n",
       "      <th>0</th>\n",
       "      <td>A205346000</td>\n",
       "      <td>TB0</td>\n",
       "      <td>36.0</td>\n",
       "      <td>3693500.0</td>\n",
       "      <td>33.0</td>\n",
       "      <td>22000000.0</td>\n",
       "      <td>TB1</td>\n",
       "      <td>1332100.0</td>\n",
       "      <td>34.0</td>\n",
       "      <td>NaN</td>\n",
       "      <td>NaN</td>\n",
       "      <td>NaN</td>\n",
       "      <td>NaN</td>\n",
       "      <td>NaN</td>\n",
       "      <td>NaN</td>\n",
       "      <td>NaN</td>\n",
       "      <td>NaN</td>\n",
       "      <td>NaN</td>\n",
       "      <td>NaN</td>\n",
       "      <td>NaN</td>\n",
       "      <td>NaN</td>\n",
       "    </tr>\n",
       "    <tr>\n",
       "      <th>1</th>\n",
       "      <td>A675851816</td>\n",
       "      <td>TB0</td>\n",
       "      <td>48.0</td>\n",
       "      <td>24353700.0</td>\n",
       "      <td>30.0</td>\n",
       "      <td>40000000.0</td>\n",
       "      <td>TB1</td>\n",
       "      <td>20875500.0</td>\n",
       "      <td>31.0</td>\n",
       "      <td>NaN</td>\n",
       "      <td>NaN</td>\n",
       "      <td>NaN</td>\n",
       "      <td>NaN</td>\n",
       "      <td>NaN</td>\n",
       "      <td>NaN</td>\n",
       "      <td>NaN</td>\n",
       "      <td>NaN</td>\n",
       "      <td>NaN</td>\n",
       "      <td>NaN</td>\n",
       "      <td>NaN</td>\n",
       "      <td>NaN</td>\n",
       "    </tr>\n",
       "    <tr>\n",
       "      <th>2</th>\n",
       "      <td>A260852240</td>\n",
       "      <td>TB0</td>\n",
       "      <td>48.0</td>\n",
       "      <td>42514900.0</td>\n",
       "      <td>24.0</td>\n",
       "      <td>60000000.0</td>\n",
       "      <td>TB1</td>\n",
       "      <td>37947922.5</td>\n",
       "      <td>25.0</td>\n",
       "      <td>NaN</td>\n",
       "      <td>NaN</td>\n",
       "      <td>NaN</td>\n",
       "      <td>NaN</td>\n",
       "      <td>NaN</td>\n",
       "      <td>NaN</td>\n",
       "      <td>NaN</td>\n",
       "      <td>NaN</td>\n",
       "      <td>NaN</td>\n",
       "      <td>NaN</td>\n",
       "      <td>NaN</td>\n",
       "      <td>NaN</td>\n",
       "    </tr>\n",
       "    <tr>\n",
       "      <th>3</th>\n",
       "      <td>A374402177</td>\n",
       "      <td>TB0</td>\n",
       "      <td>36.0</td>\n",
       "      <td>12290300.0</td>\n",
       "      <td>19.0</td>\n",
       "      <td>20000000.0</td>\n",
       "      <td>TB0</td>\n",
       "      <td>11214900.0</td>\n",
       "      <td>20.0</td>\n",
       "      <td>TB0</td>\n",
       "      <td>11214900.0</td>\n",
       "      <td>20.0</td>\n",
       "      <td>TB0</td>\n",
       "      <td>10639500.0</td>\n",
       "      <td>21.0</td>\n",
       "      <td>NaN</td>\n",
       "      <td>NaN</td>\n",
       "      <td>NaN</td>\n",
       "      <td>NaN</td>\n",
       "      <td>NaN</td>\n",
       "      <td>NaN</td>\n",
       "    </tr>\n",
       "    <tr>\n",
       "      <th>4</th>\n",
       "      <td>A211889361</td>\n",
       "      <td>TB0</td>\n",
       "      <td>36.0</td>\n",
       "      <td>9396700.0</td>\n",
       "      <td>25.0</td>\n",
       "      <td>22000000.0</td>\n",
       "      <td>TB0</td>\n",
       "      <td>8666200.0</td>\n",
       "      <td>26.0</td>\n",
       "      <td>TB0</td>\n",
       "      <td>8666200.0</td>\n",
       "      <td>26.0</td>\n",
       "      <td>TB1</td>\n",
       "      <td>8666200.0</td>\n",
       "      <td>27.0</td>\n",
       "      <td>NaN</td>\n",
       "      <td>NaN</td>\n",
       "      <td>NaN</td>\n",
       "      <td>NaN</td>\n",
       "      <td>NaN</td>\n",
       "      <td>NaN</td>\n",
       "    </tr>\n",
       "  </tbody>\n",
       "</table>\n",
       "</div>"
      ],
      "text/plain": [
       "      Loan_id Bucket_mar  TENURE_mar  PRINBALANCE_mar  Months on Books_mar  \\\n",
       "0  A205346000        TB0        36.0        3693500.0                 33.0   \n",
       "1  A675851816        TB0        48.0       24353700.0                 30.0   \n",
       "2  A260852240        TB0        48.0       42514900.0                 24.0   \n",
       "3  A374402177        TB0        36.0       12290300.0                 19.0   \n",
       "4  A211889361        TB0        36.0        9396700.0                 25.0   \n",
       "\n",
       "   Sanctioned Amount_mar Bucket_marapr  PRINBALANCE_marapr  \\\n",
       "0             22000000.0           TB1           1332100.0   \n",
       "1             40000000.0           TB1          20875500.0   \n",
       "2             60000000.0           TB1          37947922.5   \n",
       "3             20000000.0           TB0          11214900.0   \n",
       "4             22000000.0           TB0           8666200.0   \n",
       "\n",
       "   Months on Books_marapr Bucket_apr  PRINBALANCE_apr  Months on Books_apr  \\\n",
       "0                    34.0        NaN              NaN                  NaN   \n",
       "1                    31.0        NaN              NaN                  NaN   \n",
       "2                    25.0        NaN              NaN                  NaN   \n",
       "3                    20.0        TB0       11214900.0                 20.0   \n",
       "4                    26.0        TB0        8666200.0                 26.0   \n",
       "\n",
       "  Bucket_aprmay  PRINBALANCE_aprmay  Months on Books_aprmay Bucket_may  \\\n",
       "0           NaN                 NaN                     NaN        NaN   \n",
       "1           NaN                 NaN                     NaN        NaN   \n",
       "2           NaN                 NaN                     NaN        NaN   \n",
       "3           TB0          10639500.0                    21.0        NaN   \n",
       "4           TB1           8666200.0                    27.0        NaN   \n",
       "\n",
       "   PRINBALANCE_may  Months on Books_may Bucket_mayjun  PRINBALANCE_mayjun  \\\n",
       "0              NaN                  NaN           NaN                 NaN   \n",
       "1              NaN                  NaN           NaN                 NaN   \n",
       "2              NaN                  NaN           NaN                 NaN   \n",
       "3              NaN                  NaN           NaN                 NaN   \n",
       "4              NaN                  NaN           NaN                 NaN   \n",
       "\n",
       "   Months on Books_mayjun  \n",
       "0                     NaN  \n",
       "1                     NaN  \n",
       "2                     NaN  \n",
       "3                     NaN  \n",
       "4                     NaN  "
      ]
     },
     "execution_count": 10,
     "metadata": {},
     "output_type": "execute_result"
    }
   ],
   "source": [
    "data2.head()"
   ]
  },
  {
   "cell_type": "markdown",
   "metadata": {},
   "source": [
    "**Notes:**\n",
    "\n",
    "In order to calculate roll forward for accounts. The status at the beginning of each month was assessed, with account status of any thing other than 'REGULAR' considered bad and therefore assigned a one.\n",
    "\n",
    "June data for accounts (referenced as 'mayjun' was also assessed to estimate an ending status of accounts."
   ]
  },
  {
   "cell_type": "code",
   "execution_count": 11,
   "metadata": {},
   "outputs": [],
   "source": [
    "#calculates roll forward for each month\n",
    "data2['RF1'] = np.where(data2['Bucket_mar']=='TB0', 1, 0)\n",
    "data2['RF2'] = np.where((data2['Bucket_apr']=='TB0')|(data2['Bucket_apr']=='TB1'), 1, 0)\n",
    "data2['RF3'] = np.where((data2['Bucket_may']=='TB0')|(data2['Bucket_may']=='TB1'), 1, 0)\n",
    "data2['RF4'] = np.where((data2['Bucket_mayjun']=='TB0')|(data2['Bucket_mayjun']=='TB1'), 1, 0)"
   ]
  },
  {
   "cell_type": "code",
   "execution_count": 12,
   "metadata": {},
   "outputs": [
    {
     "name": "stdout",
     "output_type": "stream",
     "text": [
      "RF1\n",
      "0    15764\n",
      "1    24575\n",
      "Name: RF1, dtype: int64\n",
      "\n",
      "\n",
      "RF2\n",
      "0    13260\n",
      "1    27079\n",
      "Name: RF2, dtype: int64\n",
      "\n",
      "\n",
      "RF3\n",
      "0    11224\n",
      "1    29115\n",
      "Name: RF3, dtype: int64\n",
      "\n",
      "\n",
      "RF4\n",
      "0    38309\n",
      "1     2030\n",
      "Name: RF4, dtype: int64\n",
      "\n",
      "\n"
     ]
    }
   ],
   "source": [
    "#displays value counts for each bucket\n",
    "\n",
    "cols = ['RF1', 'RF2', 'RF3', 'RF4']\n",
    "\n",
    "for c in cols:\n",
    "    print(c)\n",
    "    print(data2[c].value_counts().sort_index())\n",
    "    print('\\n')"
   ]
  },
  {
   "cell_type": "markdown",
   "metadata": {},
   "source": [
    "### Target Variable "
   ]
  },
  {
   "cell_type": "code",
   "execution_count": 13,
   "metadata": {},
   "outputs": [
    {
     "name": "stdout",
     "output_type": "stream",
     "text": [
      "<class 'pandas.core.frame.DataFrame'>\n",
      "Int64Index: 40339 entries, 0 to 40338\n",
      "Data columns (total 25 columns):\n",
      " #   Column                  Non-Null Count  Dtype  \n",
      "---  ------                  --------------  -----  \n",
      " 0   Loan_id                 40339 non-null  object \n",
      " 1   Bucket_mar              24575 non-null  object \n",
      " 2   TENURE_mar              24575 non-null  float64\n",
      " 3   PRINBALANCE_mar         24575 non-null  float64\n",
      " 4   Months on Books_mar     24575 non-null  float64\n",
      " 5   Sanctioned Amount_mar   24575 non-null  float64\n",
      " 6   Bucket_marapr           24575 non-null  object \n",
      " 7   PRINBALANCE_marapr      24575 non-null  float64\n",
      " 8   Months on Books_marapr  24575 non-null  float64\n",
      " 9   Bucket_apr              27079 non-null  object \n",
      " 10  PRINBALANCE_apr         27079 non-null  float64\n",
      " 11  Months on Books_apr     27079 non-null  float64\n",
      " 12  Bucket_aprmay           27079 non-null  object \n",
      " 13  PRINBALANCE_aprmay      27079 non-null  float64\n",
      " 14  Months on Books_aprmay  27079 non-null  float64\n",
      " 15  Bucket_may              29115 non-null  object \n",
      " 16  PRINBALANCE_may         29115 non-null  float64\n",
      " 17  Months on Books_may     29115 non-null  float64\n",
      " 18  Bucket_mayjun           29115 non-null  object \n",
      " 19  PRINBALANCE_mayjun      29115 non-null  float64\n",
      " 20  Months on Books_mayjun  29115 non-null  float64\n",
      " 21  RF1                     40339 non-null  int64  \n",
      " 22  RF2                     40339 non-null  int64  \n",
      " 23  RF3                     40339 non-null  int64  \n",
      " 24  RF4                     40339 non-null  int64  \n",
      "dtypes: float64(14), int64(4), object(7)\n",
      "memory usage: 8.0+ MB\n"
     ]
    }
   ],
   "source": [
    "#displays current information for the dataframe\n",
    "data2.info()"
   ]
  },
  {
   "cell_type": "markdown",
   "metadata": {},
   "source": [
    "There are substantial null values which can be dropped as we are only interested in the roll forward columns for our target variable."
   ]
  },
  {
   "cell_type": "code",
   "execution_count": 14,
   "metadata": {},
   "outputs": [],
   "source": [
    "#drops columns not needed for calculating the target variable\n",
    "target_var = data2.drop(columns=['Bucket_mar', 'TENURE_mar', 'PRINBALANCE_mar',\n",
    "                               'Months on Books_mar', 'Sanctioned Amount_mar', 'Bucket_marapr',\n",
    "                               'PRINBALANCE_marapr', 'Months on Books_marapr', 'Bucket_apr',\n",
    "                               'PRINBALANCE_apr', 'Months on Books_apr', 'Bucket_aprmay',\n",
    "                               'PRINBALANCE_aprmay', 'Months on Books_aprmay', 'Bucket_may',\n",
    "                               'PRINBALANCE_may', 'Months on Books_may', 'Bucket_mayjun',\n",
    "                               'PRINBALANCE_mayjun', 'Months on Books_mayjun'])"
   ]
  },
  {
   "cell_type": "code",
   "execution_count": 15,
   "metadata": {},
   "outputs": [
    {
     "data": {
      "text/html": [
       "<div>\n",
       "<style scoped>\n",
       "    .dataframe tbody tr th:only-of-type {\n",
       "        vertical-align: middle;\n",
       "    }\n",
       "\n",
       "    .dataframe tbody tr th {\n",
       "        vertical-align: top;\n",
       "    }\n",
       "\n",
       "    .dataframe thead th {\n",
       "        text-align: right;\n",
       "    }\n",
       "</style>\n",
       "<table border=\"1\" class=\"dataframe\">\n",
       "  <thead>\n",
       "    <tr style=\"text-align: right;\">\n",
       "      <th></th>\n",
       "      <th>Loan_id</th>\n",
       "      <th>RF1</th>\n",
       "      <th>RF2</th>\n",
       "      <th>RF3</th>\n",
       "      <th>RF4</th>\n",
       "      <th>RF_sum</th>\n",
       "      <th>target</th>\n",
       "    </tr>\n",
       "  </thead>\n",
       "  <tbody>\n",
       "    <tr>\n",
       "      <th>0</th>\n",
       "      <td>A205346000</td>\n",
       "      <td>1</td>\n",
       "      <td>0</td>\n",
       "      <td>0</td>\n",
       "      <td>0</td>\n",
       "      <td>1</td>\n",
       "      <td>0</td>\n",
       "    </tr>\n",
       "    <tr>\n",
       "      <th>1</th>\n",
       "      <td>A675851816</td>\n",
       "      <td>1</td>\n",
       "      <td>0</td>\n",
       "      <td>0</td>\n",
       "      <td>0</td>\n",
       "      <td>1</td>\n",
       "      <td>0</td>\n",
       "    </tr>\n",
       "    <tr>\n",
       "      <th>2</th>\n",
       "      <td>A260852240</td>\n",
       "      <td>1</td>\n",
       "      <td>0</td>\n",
       "      <td>0</td>\n",
       "      <td>0</td>\n",
       "      <td>1</td>\n",
       "      <td>0</td>\n",
       "    </tr>\n",
       "    <tr>\n",
       "      <th>3</th>\n",
       "      <td>A374402177</td>\n",
       "      <td>1</td>\n",
       "      <td>1</td>\n",
       "      <td>0</td>\n",
       "      <td>0</td>\n",
       "      <td>2</td>\n",
       "      <td>0</td>\n",
       "    </tr>\n",
       "    <tr>\n",
       "      <th>4</th>\n",
       "      <td>A211889361</td>\n",
       "      <td>1</td>\n",
       "      <td>1</td>\n",
       "      <td>0</td>\n",
       "      <td>0</td>\n",
       "      <td>2</td>\n",
       "      <td>0</td>\n",
       "    </tr>\n",
       "  </tbody>\n",
       "</table>\n",
       "</div>"
      ],
      "text/plain": [
       "      Loan_id  RF1  RF2  RF3  RF4  RF_sum  target\n",
       "0  A205346000    1    0    0    0       1       0\n",
       "1  A675851816    1    0    0    0       1       0\n",
       "2  A260852240    1    0    0    0       1       0\n",
       "3  A374402177    1    1    0    0       2       0\n",
       "4  A211889361    1    1    0    0       2       0"
      ]
     },
     "execution_count": 15,
     "metadata": {},
     "output_type": "execute_result"
    }
   ],
   "source": [
    "#creates a target variable by summing roll forwards\n",
    "#threshold has been set at 2 for improved model performance\n",
    "target_var['RF_sum'] = target_var['RF1']+ target_var['RF2']+ target_var['RF3']+ target_var['RF4']\n",
    "target_var['target'] = target_var['RF_sum'].apply(lambda x: 1 if x >2 else 0)\n",
    "\n",
    "target_var.head()"
   ]
  },
  {
   "cell_type": "code",
   "execution_count": 16,
   "metadata": {},
   "outputs": [
    {
     "data": {
      "text/html": [
       "<div>\n",
       "<style scoped>\n",
       "    .dataframe tbody tr th:only-of-type {\n",
       "        vertical-align: middle;\n",
       "    }\n",
       "\n",
       "    .dataframe tbody tr th {\n",
       "        vertical-align: top;\n",
       "    }\n",
       "\n",
       "    .dataframe thead th {\n",
       "        text-align: right;\n",
       "    }\n",
       "</style>\n",
       "<table border=\"1\" class=\"dataframe\">\n",
       "  <thead>\n",
       "    <tr style=\"text-align: right;\">\n",
       "      <th></th>\n",
       "      <th>Loan_id</th>\n",
       "      <th>target</th>\n",
       "    </tr>\n",
       "  </thead>\n",
       "  <tbody>\n",
       "    <tr>\n",
       "      <th>0</th>\n",
       "      <td>A205346000</td>\n",
       "      <td>0</td>\n",
       "    </tr>\n",
       "    <tr>\n",
       "      <th>1</th>\n",
       "      <td>A675851816</td>\n",
       "      <td>0</td>\n",
       "    </tr>\n",
       "    <tr>\n",
       "      <th>2</th>\n",
       "      <td>A260852240</td>\n",
       "      <td>0</td>\n",
       "    </tr>\n",
       "    <tr>\n",
       "      <th>3</th>\n",
       "      <td>A374402177</td>\n",
       "      <td>0</td>\n",
       "    </tr>\n",
       "    <tr>\n",
       "      <th>4</th>\n",
       "      <td>A211889361</td>\n",
       "      <td>0</td>\n",
       "    </tr>\n",
       "  </tbody>\n",
       "</table>\n",
       "</div>"
      ],
      "text/plain": [
       "      Loan_id  target\n",
       "0  A205346000       0\n",
       "1  A675851816       0\n",
       "2  A260852240       0\n",
       "3  A374402177       0\n",
       "4  A211889361       0"
      ]
     },
     "execution_count": 16,
     "metadata": {},
     "output_type": "execute_result"
    }
   ],
   "source": [
    "#cleaning up the dataframe further\n",
    "target = target_var[['Loan_id', 'target']]\n",
    "target.head()"
   ]
  },
  {
   "cell_type": "code",
   "execution_count": 17,
   "metadata": {},
   "outputs": [
    {
     "name": "stdout",
     "output_type": "stream",
     "text": [
      "(40339, 2)\n",
      "\n",
      "\n",
      "0    24943\n",
      "1    15396\n",
      "Name: target, dtype: int64\n"
     ]
    }
   ],
   "source": [
    "#displays value counts for target variable\n",
    "print(target.shape)\n",
    "print('\\n')\n",
    "print(target['target'].value_counts())"
   ]
  },
  {
   "cell_type": "markdown",
   "metadata": {},
   "source": [
    "There is a class imbalance will need to assess whether to under/over sample in order to refine model performance."
   ]
  },
  {
   "cell_type": "markdown",
   "metadata": {},
   "source": [
    "### TB0 Data"
   ]
  },
  {
   "cell_type": "markdown",
   "metadata": {},
   "source": [
    "In this section we create a dataframe which provides information for each account based on the first instance of the account becoming TB0."
   ]
  },
  {
   "cell_type": "code",
   "execution_count": 18,
   "metadata": {},
   "outputs": [
    {
     "name": "stdout",
     "output_type": "stream",
     "text": [
      "<class 'pandas.core.frame.DataFrame'>\n",
      "Int64Index: 40339 entries, 0 to 59792\n",
      "Data columns (total 4 columns):\n",
      " #   Column           Non-Null Count  Dtype  \n",
      "---  ------           --------------  -----  \n",
      " 0   Loan_id          40339 non-null  object \n",
      " 1   PRINBALANCE      40339 non-null  float64\n",
      " 2   Months on Books  40339 non-null  int64  \n",
      " 3   term_completed   40339 non-null  float64\n",
      "dtypes: float64(2), int64(1), object(1)\n",
      "memory usage: 1.5+ MB\n"
     ]
    }
   ],
   "source": [
    "#creates dataframe and adds term completed as defined by 'month on books/tenure'\n",
    "data_TB0 = pd.DataFrame(df['Loan_Status_MartoMay'])\n",
    "data_TB0 = data_TB0.sort_values('Month',ascending=True)\n",
    "data_TB0 = data_TB0.drop_duplicates(subset =\"Loan_id\", keep = 'first', inplace = False) \n",
    "\n",
    "data_TB0['term_completed'] = data_TB0['Months on Books'] / data_TB0['TENURE']\n",
    "\n",
    "data_TB0 = data_TB0.drop(columns=['TENURE', 'Sanctioned Amount','Month', 'Bucket'])\n",
    "data_TB0.info() \n",
    "                               "
   ]
  },
  {
   "cell_type": "markdown",
   "metadata": {},
   "source": [
    "### Historical Data"
   ]
  },
  {
   "cell_type": "markdown",
   "metadata": {},
   "source": [
    "In this section we create a dataframe which provides historical data for each account based on the first instance of the account becoming TB0."
   ]
  },
  {
   "cell_type": "code",
   "execution_count": 19,
   "metadata": {},
   "outputs": [
    {
     "name": "stdout",
     "output_type": "stream",
     "text": [
      "<class 'pandas.core.frame.DataFrame'>\n",
      "Int64Index: 40339 entries, 0 to 59792\n",
      "Data columns (total 11 columns):\n",
      " #   Column            Non-Null Count  Dtype \n",
      "---  ------            --------------  ----- \n",
      " 0   Loan_id           40339 non-null  object\n",
      " 1   paidcure          40339 non-null  int64 \n",
      " 2   paiduncure        40339 non-null  int64 \n",
      " 3   unpaid            40339 non-null  int64 \n",
      " 4   rollb             40339 non-null  int64 \n",
      " 5   num6mosdel        40339 non-null  int64 \n",
      " 6   num3mosdel        40339 non-null  int64 \n",
      " 7   num6mosdel_2plus  40339 non-null  int64 \n",
      " 8   num3mosdel_2plus  40339 non-null  int64 \n",
      " 9   max6del           40339 non-null  int64 \n",
      " 10  max3del           40339 non-null  int64 \n",
      "dtypes: int64(10), object(1)\n",
      "memory usage: 3.7+ MB\n"
     ]
    }
   ],
   "source": [
    "#creates dataframe for 6 month historical data\n",
    "data_6m = pd.DataFrame(df['Historical 6 Months Details'])\n",
    "data_6m = data_6m.sort_values('Month',ascending=True)\n",
    "data_6m = data_6m.drop_duplicates(subset =\"Loan_id\", keep = 'first', inplace = False) \n",
    "data_6m = data_6m.drop(columns=['rollf', 'Month'])\n",
    "data_6m.info()"
   ]
  },
  {
   "cell_type": "markdown",
   "metadata": {},
   "source": [
    "### Call Data"
   ]
  },
  {
   "cell_type": "markdown",
   "metadata": {},
   "source": [
    "In this section we create a dataframe which provides call center data for each account based on the first instance of the account becoming TB0."
   ]
  },
  {
   "cell_type": "code",
   "execution_count": 20,
   "metadata": {},
   "outputs": [
    {
     "data": {
      "text/html": [
       "<div>\n",
       "<style scoped>\n",
       "    .dataframe tbody tr th:only-of-type {\n",
       "        vertical-align: middle;\n",
       "    }\n",
       "\n",
       "    .dataframe tbody tr th {\n",
       "        vertical-align: top;\n",
       "    }\n",
       "\n",
       "    .dataframe thead th {\n",
       "        text-align: right;\n",
       "    }\n",
       "</style>\n",
       "<table border=\"1\" class=\"dataframe\">\n",
       "  <thead>\n",
       "    <tr style=\"text-align: right;\">\n",
       "      <th></th>\n",
       "      <th>month</th>\n",
       "      <th>Right_Party_Contact</th>\n",
       "      <th>Promise_to_pay</th>\n",
       "      <th>total_contacts</th>\n",
       "    </tr>\n",
       "  </thead>\n",
       "  <tbody>\n",
       "    <tr>\n",
       "      <th>count</th>\n",
       "      <td>79614.000000</td>\n",
       "      <td>79614.000000</td>\n",
       "      <td>79614.000000</td>\n",
       "      <td>79614.000000</td>\n",
       "    </tr>\n",
       "    <tr>\n",
       "      <th>mean</th>\n",
       "      <td>4.040194</td>\n",
       "      <td>3.213895</td>\n",
       "      <td>1.119175</td>\n",
       "      <td>10.995001</td>\n",
       "    </tr>\n",
       "    <tr>\n",
       "      <th>std</th>\n",
       "      <td>0.813121</td>\n",
       "      <td>6.639031</td>\n",
       "      <td>1.489993</td>\n",
       "      <td>21.288761</td>\n",
       "    </tr>\n",
       "    <tr>\n",
       "      <th>min</th>\n",
       "      <td>3.000000</td>\n",
       "      <td>0.000000</td>\n",
       "      <td>0.000000</td>\n",
       "      <td>1.000000</td>\n",
       "    </tr>\n",
       "    <tr>\n",
       "      <th>25%</th>\n",
       "      <td>3.000000</td>\n",
       "      <td>1.000000</td>\n",
       "      <td>0.000000</td>\n",
       "      <td>2.000000</td>\n",
       "    </tr>\n",
       "    <tr>\n",
       "      <th>50%</th>\n",
       "      <td>4.000000</td>\n",
       "      <td>2.000000</td>\n",
       "      <td>1.000000</td>\n",
       "      <td>4.000000</td>\n",
       "    </tr>\n",
       "    <tr>\n",
       "      <th>75%</th>\n",
       "      <td>5.000000</td>\n",
       "      <td>4.000000</td>\n",
       "      <td>2.000000</td>\n",
       "      <td>11.000000</td>\n",
       "    </tr>\n",
       "    <tr>\n",
       "      <th>max</th>\n",
       "      <td>5.000000</td>\n",
       "      <td>651.000000</td>\n",
       "      <td>25.000000</td>\n",
       "      <td>659.000000</td>\n",
       "    </tr>\n",
       "  </tbody>\n",
       "</table>\n",
       "</div>"
      ],
      "text/plain": [
       "              month  Right_Party_Contact  Promise_to_pay  total_contacts\n",
       "count  79614.000000         79614.000000    79614.000000    79614.000000\n",
       "mean       4.040194             3.213895        1.119175       10.995001\n",
       "std        0.813121             6.639031        1.489993       21.288761\n",
       "min        3.000000             0.000000        0.000000        1.000000\n",
       "25%        3.000000             1.000000        0.000000        2.000000\n",
       "50%        4.000000             2.000000        1.000000        4.000000\n",
       "75%        5.000000             4.000000        2.000000       11.000000\n",
       "max        5.000000           651.000000       25.000000      659.000000"
      ]
     },
     "execution_count": 20,
     "metadata": {},
     "output_type": "execute_result"
    }
   ],
   "source": [
    "#assigns 'Call Detail' table to dataframe\n",
    "call_data = df['Call Details']\n",
    "call_data.describe()"
   ]
  },
  {
   "cell_type": "code",
   "execution_count": 21,
   "metadata": {},
   "outputs": [],
   "source": [
    "#groups call data by id and then aggregates\n",
    "month_table = call_data.groupby(['Application_Id']).aggregate({'month':'nunique', \n",
    "                                                               'Right_Party_Contact':'sum', \n",
    "                                                               'Promise_to_pay':'sum', \n",
    "                                                               'total_contacts':'sum'})\n",
    "\n",
    "#calculates Right Party Contacts (RPC) rate and Percentage of outbound calls resulting in Promise to Pay (PTP)\n",
    "# month_table['avg_intensity'] = round(month_table['total_contacts'] / month_table['month'], 3)\n",
    "month_table['RPC_rate'] = round(month_table['Right_Party_Contact'] / month_table['total_contacts'], 3)\n",
    "month_table['PTP_rate'] = round(month_table['Promise_to_pay'] / month_table['total_contacts'], 3)\n",
    "month_table.rename(columns={'month':'month_count'}, inplace=True)\n",
    "\n"
   ]
  },
  {
   "cell_type": "code",
   "execution_count": 22,
   "metadata": {},
   "outputs": [
    {
     "name": "stdout",
     "output_type": "stream",
     "text": [
      "<class 'pandas.core.frame.DataFrame'>\n",
      "Int64Index: 40339 entries, 0 to 40338\n",
      "Data columns (total 8 columns):\n",
      " #   Column               Non-Null Count  Dtype  \n",
      "---  ------               --------------  -----  \n",
      " 0   Loanid               40339 non-null  object \n",
      " 1   Application_id       40339 non-null  object \n",
      " 2   month_count          38051 non-null  float64\n",
      " 3   Right_Party_Contact  38051 non-null  float64\n",
      " 4   Promise_to_pay       38051 non-null  float64\n",
      " 5   total_contacts       38051 non-null  float64\n",
      " 6   RPC_rate             38051 non-null  float64\n",
      " 7   PTP_rate             38051 non-null  float64\n",
      "dtypes: float64(6), object(2)\n",
      "memory usage: 2.8+ MB\n"
     ]
    }
   ],
   "source": [
    "#maps Application_id to Loan_ID and displays information\n",
    "call_data = pd.merge(df['Loan_ID mapping'], month_table, how='outer', left_on='Application_id', right_on='Application_Id')\n",
    "\n",
    "call_data.info()"
   ]
  },
  {
   "cell_type": "markdown",
   "metadata": {},
   "source": [
    "There are null values in this dataframe.  We will handle these by substituting a 0 for the nulls as they represent no activity for the variables."
   ]
  },
  {
   "cell_type": "code",
   "execution_count": 23,
   "metadata": {},
   "outputs": [
    {
     "name": "stdout",
     "output_type": "stream",
     "text": [
      "<class 'pandas.core.frame.DataFrame'>\n",
      "Int64Index: 40339 entries, 0 to 40338\n",
      "Data columns (total 8 columns):\n",
      " #   Column               Non-Null Count  Dtype  \n",
      "---  ------               --------------  -----  \n",
      " 0   Loanid               40339 non-null  object \n",
      " 1   Application_id       40339 non-null  object \n",
      " 2   month_count          40339 non-null  float64\n",
      " 3   Right_Party_Contact  40339 non-null  float64\n",
      " 4   Promise_to_pay       40339 non-null  float64\n",
      " 5   total_contacts       40339 non-null  float64\n",
      " 6   RPC_rate             40339 non-null  float64\n",
      " 7   PTP_rate             40339 non-null  float64\n",
      "dtypes: float64(6), object(2)\n",
      "memory usage: 2.8+ MB\n"
     ]
    }
   ],
   "source": [
    "call_data.fillna(0, inplace=True)\n",
    "call_data.info()"
   ]
  },
  {
   "cell_type": "code",
   "execution_count": 24,
   "metadata": {},
   "outputs": [
    {
     "data": {
      "text/html": [
       "<div>\n",
       "<style scoped>\n",
       "    .dataframe tbody tr th:only-of-type {\n",
       "        vertical-align: middle;\n",
       "    }\n",
       "\n",
       "    .dataframe tbody tr th {\n",
       "        vertical-align: top;\n",
       "    }\n",
       "\n",
       "    .dataframe thead th {\n",
       "        text-align: right;\n",
       "    }\n",
       "</style>\n",
       "<table border=\"1\" class=\"dataframe\">\n",
       "  <thead>\n",
       "    <tr style=\"text-align: right;\">\n",
       "      <th></th>\n",
       "      <th>month_count</th>\n",
       "      <th>Right_Party_Contact</th>\n",
       "      <th>Promise_to_pay</th>\n",
       "      <th>total_contacts</th>\n",
       "      <th>RPC_rate</th>\n",
       "      <th>PTP_rate</th>\n",
       "    </tr>\n",
       "  </thead>\n",
       "  <tbody>\n",
       "    <tr>\n",
       "      <th>count</th>\n",
       "      <td>40339.000000</td>\n",
       "      <td>40339.000000</td>\n",
       "      <td>40339.000000</td>\n",
       "      <td>40339.000000</td>\n",
       "      <td>40339.000000</td>\n",
       "      <td>40339.000000</td>\n",
       "    </tr>\n",
       "    <tr>\n",
       "      <th>mean</th>\n",
       "      <td>1.857384</td>\n",
       "      <td>6.343018</td>\n",
       "      <td>2.208830</td>\n",
       "      <td>21.699993</td>\n",
       "      <td>0.440444</td>\n",
       "      <td>0.197430</td>\n",
       "    </tr>\n",
       "    <tr>\n",
       "      <th>std</th>\n",
       "      <td>0.944077</td>\n",
       "      <td>10.807385</td>\n",
       "      <td>2.813729</td>\n",
       "      <td>36.832550</td>\n",
       "      <td>0.322395</td>\n",
       "      <td>0.254779</td>\n",
       "    </tr>\n",
       "    <tr>\n",
       "      <th>min</th>\n",
       "      <td>0.000000</td>\n",
       "      <td>0.000000</td>\n",
       "      <td>0.000000</td>\n",
       "      <td>0.000000</td>\n",
       "      <td>0.000000</td>\n",
       "      <td>0.000000</td>\n",
       "    </tr>\n",
       "    <tr>\n",
       "      <th>25%</th>\n",
       "      <td>1.000000</td>\n",
       "      <td>1.000000</td>\n",
       "      <td>0.000000</td>\n",
       "      <td>3.000000</td>\n",
       "      <td>0.188000</td>\n",
       "      <td>0.000000</td>\n",
       "    </tr>\n",
       "    <tr>\n",
       "      <th>50%</th>\n",
       "      <td>2.000000</td>\n",
       "      <td>3.000000</td>\n",
       "      <td>1.000000</td>\n",
       "      <td>8.000000</td>\n",
       "      <td>0.387000</td>\n",
       "      <td>0.110000</td>\n",
       "    </tr>\n",
       "    <tr>\n",
       "      <th>75%</th>\n",
       "      <td>3.000000</td>\n",
       "      <td>8.000000</td>\n",
       "      <td>3.000000</td>\n",
       "      <td>24.000000</td>\n",
       "      <td>0.667000</td>\n",
       "      <td>0.286000</td>\n",
       "    </tr>\n",
       "    <tr>\n",
       "      <th>max</th>\n",
       "      <td>3.000000</td>\n",
       "      <td>651.000000</td>\n",
       "      <td>43.000000</td>\n",
       "      <td>662.000000</td>\n",
       "      <td>1.000000</td>\n",
       "      <td>1.000000</td>\n",
       "    </tr>\n",
       "  </tbody>\n",
       "</table>\n",
       "</div>"
      ],
      "text/plain": [
       "        month_count  Right_Party_Contact  Promise_to_pay  total_contacts  \\\n",
       "count  40339.000000         40339.000000    40339.000000    40339.000000   \n",
       "mean       1.857384             6.343018        2.208830       21.699993   \n",
       "std        0.944077            10.807385        2.813729       36.832550   \n",
       "min        0.000000             0.000000        0.000000        0.000000   \n",
       "25%        1.000000             1.000000        0.000000        3.000000   \n",
       "50%        2.000000             3.000000        1.000000        8.000000   \n",
       "75%        3.000000             8.000000        3.000000       24.000000   \n",
       "max        3.000000           651.000000       43.000000      662.000000   \n",
       "\n",
       "           RPC_rate      PTP_rate  \n",
       "count  40339.000000  40339.000000  \n",
       "mean       0.440444      0.197430  \n",
       "std        0.322395      0.254779  \n",
       "min        0.000000      0.000000  \n",
       "25%        0.188000      0.000000  \n",
       "50%        0.387000      0.110000  \n",
       "75%        0.667000      0.286000  \n",
       "max        1.000000      1.000000  "
      ]
     },
     "execution_count": 24,
     "metadata": {},
     "output_type": "execute_result"
    }
   ],
   "source": [
    "#rename column for consistency and display descriptives\n",
    "call_data.rename(columns = {'Loanid': 'Loan_id'}, inplace = True)\n",
    "call_data.describe()"
   ]
  },
  {
   "cell_type": "markdown",
   "metadata": {},
   "source": [
    "### Features Combined"
   ]
  },
  {
   "cell_type": "code",
   "execution_count": 25,
   "metadata": {},
   "outputs": [
    {
     "name": "stdout",
     "output_type": "stream",
     "text": [
      "<class 'pandas.core.frame.DataFrame'>\n",
      "Int64Index: 40339 entries, 0 to 40338\n",
      "Data columns (total 23 columns):\n",
      " #   Column                Non-Null Count  Dtype  \n",
      "---  ------                --------------  -----  \n",
      " 0   PRINBALANCE           40339 non-null  float64\n",
      " 1   Months on Books       40339 non-null  int64  \n",
      " 2   term_completed        40339 non-null  float64\n",
      " 3   Debt_to_burden_Ratio  40339 non-null  float64\n",
      " 4   total_income          40339 non-null  float64\n",
      " 5   TENURE                40339 non-null  int64  \n",
      " 6   Sanctioned Amount     40339 non-null  int64  \n",
      " 7   paidcure              40339 non-null  int64  \n",
      " 8   paiduncure            40339 non-null  int64  \n",
      " 9   unpaid                40339 non-null  int64  \n",
      " 10  num6mosdel            40339 non-null  int64  \n",
      " 11  num3mosdel            40339 non-null  int64  \n",
      " 12  num6mosdel_2plus      40339 non-null  int64  \n",
      " 13  num3mosdel_2plus      40339 non-null  int64  \n",
      " 14  max6del               40339 non-null  int64  \n",
      " 15  max3del               40339 non-null  int64  \n",
      " 16  month_count           40339 non-null  float64\n",
      " 17  Right_Party_Contact   40339 non-null  float64\n",
      " 18  Promise_to_pay        40339 non-null  float64\n",
      " 19  total_contacts        40339 non-null  float64\n",
      " 20  RPC_rate              40339 non-null  float64\n",
      " 21  PTP_rate              40339 non-null  float64\n",
      " 22  target                40339 non-null  int64  \n",
      "dtypes: float64(10), int64(13)\n",
      "memory usage: 7.4 MB\n"
     ]
    }
   ],
   "source": [
    "#creates one dataframe by combining all the dataframes from above\n",
    "#displays info\n",
    "dataframe = pd.merge(data_TB0, df['Loan Details'], how='left', on='Loan_id')\n",
    "dataframe = pd.merge(dataframe, data_6m, how='left', on='Loan_id')\n",
    "dataframe = pd.merge(dataframe, call_data, how='left', on='Loan_id')\n",
    "dataframe = pd.merge(dataframe, target, how='left', on='Loan_id')\n",
    "dataframe = dataframe.drop(columns=[ 'Loan_id','Application_id','rollb'])\n",
    "\n",
    "dataframe.info()"
   ]
  },
  {
   "cell_type": "markdown",
   "metadata": {},
   "source": [
    "No missing values, so we continue."
   ]
  },
  {
   "cell_type": "code",
   "execution_count": 26,
   "metadata": {},
   "outputs": [
    {
     "data": {
      "text/html": [
       "<div>\n",
       "<style scoped>\n",
       "    .dataframe tbody tr th:only-of-type {\n",
       "        vertical-align: middle;\n",
       "    }\n",
       "\n",
       "    .dataframe tbody tr th {\n",
       "        vertical-align: top;\n",
       "    }\n",
       "\n",
       "    .dataframe thead th {\n",
       "        text-align: right;\n",
       "    }\n",
       "</style>\n",
       "<table border=\"1\" class=\"dataframe\">\n",
       "  <thead>\n",
       "    <tr style=\"text-align: right;\">\n",
       "      <th></th>\n",
       "      <th>PRINBALANCE</th>\n",
       "      <th>Months on Books</th>\n",
       "      <th>term_completed</th>\n",
       "      <th>Debt_to_burden_Ratio</th>\n",
       "      <th>total_income</th>\n",
       "      <th>TENURE</th>\n",
       "      <th>Sanctioned Amount</th>\n",
       "      <th>paidcure</th>\n",
       "      <th>paiduncure</th>\n",
       "      <th>unpaid</th>\n",
       "      <th>num6mosdel</th>\n",
       "      <th>num3mosdel</th>\n",
       "      <th>num6mosdel_2plus</th>\n",
       "      <th>num3mosdel_2plus</th>\n",
       "      <th>max6del</th>\n",
       "      <th>max3del</th>\n",
       "      <th>month_count</th>\n",
       "      <th>Right_Party_Contact</th>\n",
       "      <th>Promise_to_pay</th>\n",
       "      <th>total_contacts</th>\n",
       "      <th>RPC_rate</th>\n",
       "      <th>PTP_rate</th>\n",
       "      <th>target</th>\n",
       "    </tr>\n",
       "  </thead>\n",
       "  <tbody>\n",
       "    <tr>\n",
       "      <th>count</th>\n",
       "      <td>4.033900e+04</td>\n",
       "      <td>40339.000000</td>\n",
       "      <td>40339.000000</td>\n",
       "      <td>40339.000000</td>\n",
       "      <td>4.033900e+04</td>\n",
       "      <td>40339.000000</td>\n",
       "      <td>4.033900e+04</td>\n",
       "      <td>40339.000000</td>\n",
       "      <td>40339.000000</td>\n",
       "      <td>40339.000000</td>\n",
       "      <td>40339.000000</td>\n",
       "      <td>40339.000000</td>\n",
       "      <td>40339.000000</td>\n",
       "      <td>40339.000000</td>\n",
       "      <td>40339.000000</td>\n",
       "      <td>40339.000000</td>\n",
       "      <td>40339.000000</td>\n",
       "      <td>40339.000000</td>\n",
       "      <td>40339.000000</td>\n",
       "      <td>40339.000000</td>\n",
       "      <td>40339.000000</td>\n",
       "      <td>40339.000000</td>\n",
       "      <td>40339.000000</td>\n",
       "    </tr>\n",
       "    <tr>\n",
       "      <th>mean</th>\n",
       "      <td>3.434502e+07</td>\n",
       "      <td>14.904063</td>\n",
       "      <td>0.364590</td>\n",
       "      <td>0.288089</td>\n",
       "      <td>7.975965e+06</td>\n",
       "      <td>41.596445</td>\n",
       "      <td>4.616752e+07</td>\n",
       "      <td>5.157242</td>\n",
       "      <td>0.031334</td>\n",
       "      <td>0.080889</td>\n",
       "      <td>0.182652</td>\n",
       "      <td>0.128114</td>\n",
       "      <td>0.011379</td>\n",
       "      <td>0.005974</td>\n",
       "      <td>0.109993</td>\n",
       "      <td>0.099011</td>\n",
       "      <td>1.857384</td>\n",
       "      <td>6.343018</td>\n",
       "      <td>2.208830</td>\n",
       "      <td>21.699993</td>\n",
       "      <td>0.440444</td>\n",
       "      <td>0.197430</td>\n",
       "      <td>0.381665</td>\n",
       "    </tr>\n",
       "    <tr>\n",
       "      <th>std</th>\n",
       "      <td>2.509795e+07</td>\n",
       "      <td>10.798653</td>\n",
       "      <td>0.260053</td>\n",
       "      <td>0.158125</td>\n",
       "      <td>3.065198e+07</td>\n",
       "      <td>7.859246</td>\n",
       "      <td>2.682744e+07</td>\n",
       "      <td>1.559468</td>\n",
       "      <td>0.187517</td>\n",
       "      <td>0.287451</td>\n",
       "      <td>0.703402</td>\n",
       "      <td>0.446723</td>\n",
       "      <td>0.183737</td>\n",
       "      <td>0.098775</td>\n",
       "      <td>0.342466</td>\n",
       "      <td>0.320771</td>\n",
       "      <td>0.944077</td>\n",
       "      <td>10.807385</td>\n",
       "      <td>2.813729</td>\n",
       "      <td>36.832550</td>\n",
       "      <td>0.322395</td>\n",
       "      <td>0.254779</td>\n",
       "      <td>0.485801</td>\n",
       "    </tr>\n",
       "    <tr>\n",
       "      <th>min</th>\n",
       "      <td>7.470000e+04</td>\n",
       "      <td>0.000000</td>\n",
       "      <td>0.000000</td>\n",
       "      <td>0.000192</td>\n",
       "      <td>8.000000e+05</td>\n",
       "      <td>12.000000</td>\n",
       "      <td>1.000000e+07</td>\n",
       "      <td>0.000000</td>\n",
       "      <td>0.000000</td>\n",
       "      <td>0.000000</td>\n",
       "      <td>0.000000</td>\n",
       "      <td>0.000000</td>\n",
       "      <td>0.000000</td>\n",
       "      <td>0.000000</td>\n",
       "      <td>0.000000</td>\n",
       "      <td>0.000000</td>\n",
       "      <td>0.000000</td>\n",
       "      <td>0.000000</td>\n",
       "      <td>0.000000</td>\n",
       "      <td>0.000000</td>\n",
       "      <td>0.000000</td>\n",
       "      <td>0.000000</td>\n",
       "      <td>0.000000</td>\n",
       "    </tr>\n",
       "    <tr>\n",
       "      <th>25%</th>\n",
       "      <td>1.804305e+07</td>\n",
       "      <td>6.000000</td>\n",
       "      <td>0.138889</td>\n",
       "      <td>0.227182</td>\n",
       "      <td>5.715942e+06</td>\n",
       "      <td>36.000000</td>\n",
       "      <td>3.000000e+07</td>\n",
       "      <td>5.000000</td>\n",
       "      <td>0.000000</td>\n",
       "      <td>0.000000</td>\n",
       "      <td>0.000000</td>\n",
       "      <td>0.000000</td>\n",
       "      <td>0.000000</td>\n",
       "      <td>0.000000</td>\n",
       "      <td>0.000000</td>\n",
       "      <td>0.000000</td>\n",
       "      <td>1.000000</td>\n",
       "      <td>1.000000</td>\n",
       "      <td>0.000000</td>\n",
       "      <td>3.000000</td>\n",
       "      <td>0.188000</td>\n",
       "      <td>0.000000</td>\n",
       "      <td>0.000000</td>\n",
       "    </tr>\n",
       "    <tr>\n",
       "      <th>50%</th>\n",
       "      <td>2.954160e+07</td>\n",
       "      <td>13.000000</td>\n",
       "      <td>0.312500</td>\n",
       "      <td>0.261264</td>\n",
       "      <td>7.000000e+06</td>\n",
       "      <td>48.000000</td>\n",
       "      <td>4.000000e+07</td>\n",
       "      <td>6.000000</td>\n",
       "      <td>0.000000</td>\n",
       "      <td>0.000000</td>\n",
       "      <td>0.000000</td>\n",
       "      <td>0.000000</td>\n",
       "      <td>0.000000</td>\n",
       "      <td>0.000000</td>\n",
       "      <td>0.000000</td>\n",
       "      <td>0.000000</td>\n",
       "      <td>2.000000</td>\n",
       "      <td>3.000000</td>\n",
       "      <td>1.000000</td>\n",
       "      <td>8.000000</td>\n",
       "      <td>0.387000</td>\n",
       "      <td>0.110000</td>\n",
       "      <td>0.000000</td>\n",
       "    </tr>\n",
       "    <tr>\n",
       "      <th>75%</th>\n",
       "      <td>4.474255e+07</td>\n",
       "      <td>22.000000</td>\n",
       "      <td>0.555556</td>\n",
       "      <td>0.327515</td>\n",
       "      <td>8.514182e+06</td>\n",
       "      <td>48.000000</td>\n",
       "      <td>5.500000e+07</td>\n",
       "      <td>6.000000</td>\n",
       "      <td>0.000000</td>\n",
       "      <td>0.000000</td>\n",
       "      <td>0.000000</td>\n",
       "      <td>0.000000</td>\n",
       "      <td>0.000000</td>\n",
       "      <td>0.000000</td>\n",
       "      <td>0.000000</td>\n",
       "      <td>0.000000</td>\n",
       "      <td>3.000000</td>\n",
       "      <td>8.000000</td>\n",
       "      <td>3.000000</td>\n",
       "      <td>24.000000</td>\n",
       "      <td>0.667000</td>\n",
       "      <td>0.286000</td>\n",
       "      <td>1.000000</td>\n",
       "    </tr>\n",
       "    <tr>\n",
       "      <th>max</th>\n",
       "      <td>1.137036e+09</td>\n",
       "      <td>84.000000</td>\n",
       "      <td>1.000000</td>\n",
       "      <td>11.111200</td>\n",
       "      <td>6.100000e+09</td>\n",
       "      <td>240.000000</td>\n",
       "      <td>1.300000e+09</td>\n",
       "      <td>6.000000</td>\n",
       "      <td>3.000000</td>\n",
       "      <td>3.000000</td>\n",
       "      <td>6.000000</td>\n",
       "      <td>3.000000</td>\n",
       "      <td>6.000000</td>\n",
       "      <td>3.000000</td>\n",
       "      <td>5.000000</td>\n",
       "      <td>5.000000</td>\n",
       "      <td>3.000000</td>\n",
       "      <td>651.000000</td>\n",
       "      <td>43.000000</td>\n",
       "      <td>662.000000</td>\n",
       "      <td>1.000000</td>\n",
       "      <td>1.000000</td>\n",
       "      <td>1.000000</td>\n",
       "    </tr>\n",
       "  </tbody>\n",
       "</table>\n",
       "</div>"
      ],
      "text/plain": [
       "        PRINBALANCE  Months on Books  term_completed  Debt_to_burden_Ratio  \\\n",
       "count  4.033900e+04     40339.000000    40339.000000          40339.000000   \n",
       "mean   3.434502e+07        14.904063        0.364590              0.288089   \n",
       "std    2.509795e+07        10.798653        0.260053              0.158125   \n",
       "min    7.470000e+04         0.000000        0.000000              0.000192   \n",
       "25%    1.804305e+07         6.000000        0.138889              0.227182   \n",
       "50%    2.954160e+07        13.000000        0.312500              0.261264   \n",
       "75%    4.474255e+07        22.000000        0.555556              0.327515   \n",
       "max    1.137036e+09        84.000000        1.000000             11.111200   \n",
       "\n",
       "       total_income        TENURE  Sanctioned Amount      paidcure  \\\n",
       "count  4.033900e+04  40339.000000       4.033900e+04  40339.000000   \n",
       "mean   7.975965e+06     41.596445       4.616752e+07      5.157242   \n",
       "std    3.065198e+07      7.859246       2.682744e+07      1.559468   \n",
       "min    8.000000e+05     12.000000       1.000000e+07      0.000000   \n",
       "25%    5.715942e+06     36.000000       3.000000e+07      5.000000   \n",
       "50%    7.000000e+06     48.000000       4.000000e+07      6.000000   \n",
       "75%    8.514182e+06     48.000000       5.500000e+07      6.000000   \n",
       "max    6.100000e+09    240.000000       1.300000e+09      6.000000   \n",
       "\n",
       "         paiduncure        unpaid    num6mosdel    num3mosdel  \\\n",
       "count  40339.000000  40339.000000  40339.000000  40339.000000   \n",
       "mean       0.031334      0.080889      0.182652      0.128114   \n",
       "std        0.187517      0.287451      0.703402      0.446723   \n",
       "min        0.000000      0.000000      0.000000      0.000000   \n",
       "25%        0.000000      0.000000      0.000000      0.000000   \n",
       "50%        0.000000      0.000000      0.000000      0.000000   \n",
       "75%        0.000000      0.000000      0.000000      0.000000   \n",
       "max        3.000000      3.000000      6.000000      3.000000   \n",
       "\n",
       "       num6mosdel_2plus  num3mosdel_2plus       max6del       max3del  \\\n",
       "count      40339.000000      40339.000000  40339.000000  40339.000000   \n",
       "mean           0.011379          0.005974      0.109993      0.099011   \n",
       "std            0.183737          0.098775      0.342466      0.320771   \n",
       "min            0.000000          0.000000      0.000000      0.000000   \n",
       "25%            0.000000          0.000000      0.000000      0.000000   \n",
       "50%            0.000000          0.000000      0.000000      0.000000   \n",
       "75%            0.000000          0.000000      0.000000      0.000000   \n",
       "max            6.000000          3.000000      5.000000      5.000000   \n",
       "\n",
       "        month_count  Right_Party_Contact  Promise_to_pay  total_contacts  \\\n",
       "count  40339.000000         40339.000000    40339.000000    40339.000000   \n",
       "mean       1.857384             6.343018        2.208830       21.699993   \n",
       "std        0.944077            10.807385        2.813729       36.832550   \n",
       "min        0.000000             0.000000        0.000000        0.000000   \n",
       "25%        1.000000             1.000000        0.000000        3.000000   \n",
       "50%        2.000000             3.000000        1.000000        8.000000   \n",
       "75%        3.000000             8.000000        3.000000       24.000000   \n",
       "max        3.000000           651.000000       43.000000      662.000000   \n",
       "\n",
       "           RPC_rate      PTP_rate        target  \n",
       "count  40339.000000  40339.000000  40339.000000  \n",
       "mean       0.440444      0.197430      0.381665  \n",
       "std        0.322395      0.254779      0.485801  \n",
       "min        0.000000      0.000000      0.000000  \n",
       "25%        0.188000      0.000000      0.000000  \n",
       "50%        0.387000      0.110000      0.000000  \n",
       "75%        0.667000      0.286000      1.000000  \n",
       "max        1.000000      1.000000      1.000000  "
      ]
     },
     "execution_count": 26,
     "metadata": {},
     "output_type": "execute_result"
    }
   ],
   "source": [
    "dataframe.describe()"
   ]
  },
  {
   "cell_type": "code",
   "execution_count": 27,
   "metadata": {},
   "outputs": [
    {
     "data": {
      "text/plain": [
       "max3del                -0.121919\n",
       "max6del                -0.110035\n",
       "num3mosdel             -0.095892\n",
       "unpaid                 -0.088830\n",
       "num6mosdel             -0.065881\n",
       "PTP_rate               -0.056919\n",
       "RPC_rate               -0.056415\n",
       "PRINBALANCE            -0.047067\n",
       "num3mosdel_2plus       -0.033571\n",
       "num6mosdel_2plus       -0.027547\n",
       "paiduncure             -0.023519\n",
       "Debt_to_burden_Ratio   -0.020137\n",
       "Sanctioned Amount      -0.008450\n",
       "total_income           -0.006179\n",
       "TENURE                  0.048770\n",
       "term_completed          0.106211\n",
       "Months on Books         0.119218\n",
       "paidcure                0.193460\n",
       "total_contacts          0.294263\n",
       "Right_Party_Contact     0.304885\n",
       "Promise_to_pay          0.420683\n",
       "month_count             0.809482\n",
       "target                  1.000000\n",
       "Name: target, dtype: float64"
      ]
     },
     "execution_count": 27,
     "metadata": {},
     "output_type": "execute_result"
    }
   ],
   "source": [
    "#calculates correlation of feature against target variable\n",
    "dataframe.corr()['target'].sort_values()"
   ]
  },
  {
   "cell_type": "code",
   "execution_count": 28,
   "metadata": {},
   "outputs": [
    {
     "data": {
      "text/plain": [
       "target                  1.000000\n",
       "month_count             0.809482\n",
       "Promise_to_pay          0.420683\n",
       "Right_Party_Contact     0.304885\n",
       "total_contacts          0.294263\n",
       "paidcure                0.193460\n",
       "max3del                 0.121919\n",
       "Months on Books         0.119218\n",
       "max6del                 0.110035\n",
       "term_completed          0.106211\n",
       "num3mosdel              0.095892\n",
       "unpaid                  0.088830\n",
       "num6mosdel              0.065881\n",
       "PTP_rate                0.056919\n",
       "RPC_rate                0.056415\n",
       "TENURE                  0.048770\n",
       "PRINBALANCE             0.047067\n",
       "num3mosdel_2plus        0.033571\n",
       "num6mosdel_2plus        0.027547\n",
       "paiduncure              0.023519\n",
       "Debt_to_burden_Ratio    0.020137\n",
       "Sanctioned Amount       0.008450\n",
       "total_income            0.006179\n",
       "Name: target, dtype: float64"
      ]
     },
     "execution_count": 28,
     "metadata": {},
     "output_type": "execute_result"
    }
   ],
   "source": [
    "#sorts absolute values of correlation coefficient\n",
    "abs(dataframe.corr()['target']).sort_values(ascending=False)"
   ]
  },
  {
   "cell_type": "markdown",
   "metadata": {},
   "source": [
    "Features with correlation greater than 0.20 are 'total_contacts', 'Right_Party_Contact', 'Promise_to_pay'.  However, this should be taken with the caveat that only loans that have gone bad would have positive increasing values for this field. These fields were extracted from the call center data.\n",
    "\n",
    "This leads me to the point that having historical call center data for accounts to tie out with historical payment history would be more useful for analysis."
   ]
  },
  {
   "cell_type": "markdown",
   "metadata": {},
   "source": [
    "## Models"
   ]
  },
  {
   "cell_type": "markdown",
   "metadata": {},
   "source": [
    "### XGB Classifier"
   ]
  },
  {
   "cell_type": "code",
   "execution_count": 29,
   "metadata": {},
   "outputs": [],
   "source": [
    "#assigns data to variable and splits\n",
    "X= dataframe.drop(columns=['target'])\n",
    "y= dataframe['target']\n",
    "X_train, X_test, y_train, y_test = train_test_split(X, y, test_size=0.2, random_state=42)"
   ]
  },
  {
   "cell_type": "code",
   "execution_count": 30,
   "metadata": {},
   "outputs": [
    {
     "name": "stdout",
     "output_type": "stream",
     "text": [
      "(32271, 22)\n",
      "(32271,)\n",
      "(8068, 22)\n",
      "(8068,)\n",
      "Counter({0: 19986, 1: 12285})\n",
      "Counter({0: 4957, 1: 3111})\n"
     ]
    }
   ],
   "source": [
    "#prints shape of datasets and displays counts of target variable in train and test data\n",
    "print(X_train.shape)\n",
    "print(y_train.shape)\n",
    "print(X_test.shape)\n",
    "print(y_test.shape)\n",
    "print(collections.Counter(y_train))\n",
    "print(collections.Counter(y_test))"
   ]
  },
  {
   "cell_type": "code",
   "execution_count": 31,
   "metadata": {},
   "outputs": [
    {
     "name": "stdout",
     "output_type": "stream",
     "text": [
      "XGBoost's prediction accuracy is: 94.42%\n",
      "Time consumed for training:       1.343\n",
      "Time consumed for prediction:     0.00997 seconds\n",
      "AUC:                              0.9304292064438193\n"
     ]
    }
   ],
   "source": [
    "#instantiate, train and predict XGB classifier model\n",
    "\n",
    "xgb = XGBClassifier(n_estimators=100)\n",
    "\n",
    "training_start = time.perf_counter()\n",
    "xgb.fit(X_train, y_train)\n",
    "training_end = time.perf_counter()\n",
    "\n",
    "prediction_start = time.perf_counter()\n",
    "XGB_preds = xgb.predict(X_test)\n",
    "prediction_end = time.perf_counter()\n",
    "\n",
    "acc_xgb = (XGB_preds == y_test).sum().astype(float) / len(XGB_preds)*100\n",
    "\n",
    "xgb_train_time = training_end-training_start\n",
    "xgb_prediction_time = prediction_end-prediction_start\n",
    "\n",
    "XGB_Accuracy = accuracy_score(y_test, XGB_preds)\n",
    "XGB_AUC = roc_auc_score(y_test, XGB_preds)\n",
    "\n",
    "print(\"XGBoost's prediction accuracy is: %3.2f\" % (acc_xgb)+\"%\" )\n",
    "print(\"Time consumed for training:       %4.3f\" % (xgb_train_time))\n",
    "print(\"Time consumed for prediction:     %6.5f seconds\" % (xgb_prediction_time)) \n",
    "print(\"AUC:                              \" + str(XGB_AUC))"
   ]
  },
  {
   "cell_type": "code",
   "execution_count": 32,
   "metadata": {},
   "outputs": [
    {
     "data": {
      "text/plain": [
       "array([[4911,   46],\n",
       "       [ 404, 2707]])"
      ]
     },
     "execution_count": 32,
     "metadata": {},
     "output_type": "execute_result"
    }
   ],
   "source": [
    "cf1 = confusion_matrix(y_test, XGB_preds)\n",
    "cf1"
   ]
  },
  {
   "cell_type": "markdown",
   "metadata": {},
   "source": [
    "The scores look pretty good.  Since we are trying to assess credit risk and the improper classification of a risky account could have an adverse affect on our bottom line and other business consideration, we are concerned with how the model handles the false negative. Ideally, we would like to minimize this value."
   ]
  },
  {
   "cell_type": "code",
   "execution_count": 33,
   "metadata": {},
   "outputs": [
    {
     "name": "stdout",
     "output_type": "stream",
     "text": [
      "XGBoost's Accuracy is:  94.42%\n",
      "XGBoost's Recall is:    92.40%\n",
      "XGBoost's Precision is: 99.07%\n",
      "False Negative:         404\n"
     ]
    }
   ],
   "source": [
    "Accuracy1 = (cf1[0,0] + cf1[1,1]) / (cf1[0,0] + cf1[1,1] + cf1[0,1] + cf1[1,0]) * 100\n",
    "Recall1 = (cf1[0,0]) / (cf1[0,0] + cf1[1,0]) * 100\n",
    "Precision1 = (cf1[0,0]) / (cf1[0,0] + cf1[0,1]) * 100\n",
    "fn1 = cf1[1,0]\n",
    "print(\"XGBoost's Accuracy is:  %3.2f\" % (Accuracy1) + \"%\")\n",
    "print(\"XGBoost's Recall is:    %3.2f\" % (Recall1) + \"%\")\n",
    "print(\"XGBoost's Precision is: %3.2f\" % (Precision1) + \"%\")\n",
    "print(\"False Negative:        \", fn1)"
   ]
  },
  {
   "cell_type": "markdown",
   "metadata": {},
   "source": [
    "### Decision Tree Classifier"
   ]
  },
  {
   "cell_type": "code",
   "execution_count": 34,
   "metadata": {},
   "outputs": [
    {
     "name": "stdout",
     "output_type": "stream",
     "text": [
      "DT's prediction accuracy is:  0.91\n",
      "Time consumed for training:   0.224\n",
      "Time consumed for prediction: 0.00214 seconds\n",
      "AUC:                          0.9063948348597682\n"
     ]
    }
   ],
   "source": [
    "#instantiate, train and predict Decision Tree classifier model\n",
    "\n",
    "DT_Model = DecisionTreeClassifier()\n",
    "\n",
    "training_start = time.perf_counter()\n",
    "DT_Model.fit(X_train, y_train)\n",
    "training_end = time.perf_counter()\n",
    "\n",
    "prediction_start = time.perf_counter()\n",
    "DT_Predict = DT_Model.predict(X_test)\n",
    "prediction_end = time.perf_counter()\n",
    "\n",
    "DT_train_time = training_end-training_start\n",
    "DT_prediction_time = prediction_end-prediction_start\n",
    "\n",
    "DT_Accuracy = accuracy_score(y_test, DT_Predict)\n",
    "DT_AUC = roc_auc_score(y_test, DT_Predict) \n",
    "\n",
    "print(\"DT's prediction accuracy is:  %3.2f\" % (DT_Accuracy))\n",
    "print(\"Time consumed for training:   %4.3f\" % (DT_train_time))\n",
    "print(\"Time consumed for prediction: %6.5f seconds\" % (DT_prediction_time)) \n",
    "print(\"AUC:                          \" + str(DT_AUC))"
   ]
  },
  {
   "cell_type": "code",
   "execution_count": 35,
   "metadata": {},
   "outputs": [
    {
     "data": {
      "text/plain": [
       "array([[4558,  399],\n",
       "       [ 332, 2779]])"
      ]
     },
     "execution_count": 35,
     "metadata": {},
     "output_type": "execute_result"
    }
   ],
   "source": [
    "cf2 = confusion_matrix(y_test, DT_Predict)\n",
    "cf2"
   ]
  },
  {
   "cell_type": "code",
   "execution_count": 36,
   "metadata": {},
   "outputs": [
    {
     "name": "stdout",
     "output_type": "stream",
     "text": [
      "DTC's Accuracy is:  90.94%\n",
      "DTC's Recall is:    93.21%\n",
      "DTC's Precision is: 91.95%\n",
      "False Negative:     332\n"
     ]
    }
   ],
   "source": [
    "Accuracy2 = (cf2[0,0] + cf2[1,1]) / (cf2[0,0] + cf2[1,1] + cf2[0,1] + cf2[1,0]) * 100\n",
    "Recall2 = (cf2[0,0]) / (cf2[0,0] + cf2[1,0]) * 100\n",
    "Precision2 = (cf2[0,0]) / (cf2[0,0] + cf2[0,1]) * 100\n",
    "fn2 = cf2[1,0]\n",
    "print(\"DTC's Accuracy is:  %3.2f\" % (Accuracy2) + \"%\")\n",
    "print(\"DTC's Recall is:    %3.2f\" % (Recall2) + \"%\")\n",
    "print(\"DTC's Precision is: %3.2f\" % (Precision2) + \"%\")\n",
    "print(\"False Negative:    \", fn2)"
   ]
  },
  {
   "cell_type": "markdown",
   "metadata": {},
   "source": [
    "### Logistic Regression"
   ]
  },
  {
   "cell_type": "code",
   "execution_count": 37,
   "metadata": {},
   "outputs": [
    {
     "name": "stdout",
     "output_type": "stream",
     "text": [
      "Logreg's prediction accuracy is: 0.61\n",
      "Time consumed for training:      0.061\n",
      "Time consumed for prediction:    0.00146 seconds\n",
      "AUC:                             0.4969749164576852\n"
     ]
    }
   ],
   "source": [
    "logreg = LogisticRegression()\n",
    "\n",
    "training_start = time.perf_counter()\n",
    "logreg.fit(X_train, y_train)\n",
    "training_end = time.perf_counter()\n",
    "\n",
    "prediction_start = time.perf_counter()\n",
    "logreg_Predict = logreg.predict(X_test)\n",
    "prediction_end = time.perf_counter()\n",
    "\n",
    "logreg_train_time = training_end-training_start\n",
    "logreg_prediction_time = prediction_end-prediction_start\n",
    "\n",
    "logreg_Accuracy = accuracy_score(y_test, logreg_Predict)\n",
    "logreg_AUC = roc_auc_score(y_test, logreg_Predict) \n",
    "\n",
    "print(\"Logreg's prediction accuracy is: %3.2f\" % (logreg_Accuracy))\n",
    "print(\"Time consumed for training:      %4.3f\" % (logreg_train_time))\n",
    "print(\"Time consumed for prediction:    %6.5f seconds\" % (logreg_prediction_time)) \n",
    "print(\"AUC:                             \" + str(logreg_AUC))"
   ]
  },
  {
   "cell_type": "code",
   "execution_count": 38,
   "metadata": {},
   "outputs": [
    {
     "data": {
      "text/plain": [
       "array([[4833,  124],\n",
       "       [3052,   59]])"
      ]
     },
     "execution_count": 38,
     "metadata": {},
     "output_type": "execute_result"
    }
   ],
   "source": [
    "cf3 = confusion_matrix(y_test, logreg_Predict)\n",
    "cf3"
   ]
  },
  {
   "cell_type": "code",
   "execution_count": 39,
   "metadata": {},
   "outputs": [
    {
     "name": "stdout",
     "output_type": "stream",
     "text": [
      "Logreg's Accuracy is:  60.63%\n",
      "Logreg's Recall is:    61.29%\n",
      "Logreg's Precision is: 97.50%\n",
      "False Negative:        3052\n"
     ]
    }
   ],
   "source": [
    "Accuracy3 = (cf3[0,0] + cf3[1,1]) / (cf3[0,0] + cf3[1,1] + cf3[0,1] + cf3[1,0]) * 100\n",
    "Recall3 = (cf3[0,0]) / (cf3[0,0] + cf3[1,0]) * 100\n",
    "Precision3 = (cf3[0,0]) / (cf3[0,0] + cf3[0,1]) *100\n",
    "fn3 = cf3[1,0]\n",
    "print(\"Logreg's Accuracy is:  %3.2f\" % (Accuracy3) + \"%\")\n",
    "print(\"Logreg's Recall is:    %3.2f\" % (Recall3) + \"%\")\n",
    "print(\"Logreg's Precision is: %3.2f\" % (Precision3) + \"%\")\n",
    "print(\"False Negative:       \", fn3)"
   ]
  },
  {
   "cell_type": "code",
   "execution_count": 40,
   "metadata": {},
   "outputs": [
    {
     "data": {
      "text/html": [
       "<div>\n",
       "<style scoped>\n",
       "    .dataframe tbody tr th:only-of-type {\n",
       "        vertical-align: middle;\n",
       "    }\n",
       "\n",
       "    .dataframe tbody tr th {\n",
       "        vertical-align: top;\n",
       "    }\n",
       "\n",
       "    .dataframe thead th {\n",
       "        text-align: right;\n",
       "    }\n",
       "</style>\n",
       "<table border=\"1\" class=\"dataframe\">\n",
       "  <thead>\n",
       "    <tr style=\"text-align: right;\">\n",
       "      <th></th>\n",
       "      <th>Model</th>\n",
       "      <th>Accuracy</th>\n",
       "      <th>AUC</th>\n",
       "      <th>Recall</th>\n",
       "      <th>Precision</th>\n",
       "      <th>False Negative</th>\n",
       "    </tr>\n",
       "  </thead>\n",
       "  <tbody>\n",
       "    <tr>\n",
       "      <th>0</th>\n",
       "      <td>XGBClassifier</td>\n",
       "      <td>0.944224</td>\n",
       "      <td>0.930429</td>\n",
       "      <td>92.398871</td>\n",
       "      <td>99.072019</td>\n",
       "      <td>404</td>\n",
       "    </tr>\n",
       "    <tr>\n",
       "      <th>1</th>\n",
       "      <td>DecisionTreeClassifier</td>\n",
       "      <td>0.909395</td>\n",
       "      <td>0.906395</td>\n",
       "      <td>93.210634</td>\n",
       "      <td>91.950777</td>\n",
       "      <td>332</td>\n",
       "    </tr>\n",
       "    <tr>\n",
       "      <th>2</th>\n",
       "      <td>LogisticRegression</td>\n",
       "      <td>0.606346</td>\n",
       "      <td>0.496975</td>\n",
       "      <td>61.293595</td>\n",
       "      <td>97.498487</td>\n",
       "      <td>3052</td>\n",
       "    </tr>\n",
       "  </tbody>\n",
       "</table>\n",
       "</div>"
      ],
      "text/plain": [
       "                    Model  Accuracy       AUC     Recall  Precision  \\\n",
       "0           XGBClassifier  0.944224  0.930429  92.398871  99.072019   \n",
       "1  DecisionTreeClassifier  0.909395  0.906395  93.210634  91.950777   \n",
       "2      LogisticRegression  0.606346  0.496975  61.293595  97.498487   \n",
       "\n",
       "   False Negative  \n",
       "0             404  \n",
       "1             332  \n",
       "2            3052  "
      ]
     },
     "execution_count": 40,
     "metadata": {},
     "output_type": "execute_result"
    }
   ],
   "source": [
    "model_performance= pd.DataFrame({'Model': ['XGBClassifier','DecisionTreeClassifier', 'LogisticRegression'],\n",
    "                                            'Accuracy': [XGB_Accuracy,DT_Accuracy, logreg_Accuracy],\n",
    "                                            'AUC': [XGB_AUC, DT_AUC,logreg_AUC],\n",
    "                                            'Recall': [Recall1, Recall2,Recall3],\n",
    "                                            'Precision': [Precision1, Precision2,Precision3],\n",
    "                                            'False Negative': [fn1, fn2, fn3]})\n",
    "model_performance"
   ]
  },
  {
   "cell_type": "markdown",
   "metadata": {},
   "source": [
    "The classifiers are performing better than the logistic regression model.  We can try and fine tune the features and parameters further in order to try and improve the model performance."
   ]
  }
 ],
 "metadata": {
  "kernelspec": {
   "display_name": "Python 3",
   "language": "python",
   "name": "python3"
  },
  "language_info": {
   "codemirror_mode": {
    "name": "ipython",
    "version": 3
   },
   "file_extension": ".py",
   "mimetype": "text/x-python",
   "name": "python",
   "nbconvert_exporter": "python",
   "pygments_lexer": "ipython3",
   "version": "3.7.4"
  }
 },
 "nbformat": 4,
 "nbformat_minor": 2
}
