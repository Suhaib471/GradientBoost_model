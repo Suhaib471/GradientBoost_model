{
 "cells": [
  {
   "cell_type": "code",
   "execution_count": 1,
   "metadata": {},
   "outputs": [],
   "source": [
    "#import modules\n",
    "import pandas as pd\n",
    "import datetime as dt\n",
    "import numpy as np\n",
    "import matplotlib\n",
    "import matplotlib.pyplot as plt \n",
    "import seaborn as sns\n",
    "import sklearn\n",
    "\n",
    "from xgboost import XGBClassifier\n",
    "from sklearn.linear_model import LogisticRegression\n",
    "from sklearn.ensemble import RandomForestClassifier\n",
    "from sklearn.model_selection import cross_val_predict\n",
    "from sklearn.metrics import confusion_matrix\n",
    "from sklearn.model_selection import train_test_split\n",
    "from sklearn.utils import resample\n",
    "\n",
    "\n",
    "pd.options.display.max_columns=999\n",
    "pd.options.display.max_rows=3000\n",
    "\n",
    "from openpyxl.workbook import Workbook"
   ]
  },
  {
   "cell_type": "code",
   "execution_count": 2,
   "metadata": {},
   "outputs": [],
   "source": [
    "data_file = pd.read_excel('Collections Case Study Data.xlsx', sheet_name=None)"
   ]
  },
  {
   "cell_type": "markdown",
   "metadata": {},
   "source": [
    "## Model Data Cleaning "
   ]
  },
  {
   "cell_type": "code",
   "execution_count": 3,
   "metadata": {},
   "outputs": [
    {
     "output_type": "execute_result",
     "data": {
      "text/plain": "dict_keys(['Loan Details', 'Loan_Status_MartoMay', 'Loan_Status_AprtoJun', 'Historical 6 Months Details', 'Loan_ID mapping', 'Call Details'])"
     },
     "metadata": {},
     "execution_count": 3
    }
   ],
   "source": [
    "data_file.keys()"
   ]
  },
  {
   "cell_type": "code",
   "execution_count": 5,
   "metadata": {},
   "outputs": [],
   "source": [
    "df = data_file"
   ]
  },
  {
   "cell_type": "code",
   "execution_count": 6,
   "metadata": {},
   "outputs": [],
   "source": [
    "#creates stratums for data based on month\n",
    "mar_data = df['Loan_Status_MartoMay'].loc[df['Loan_Status_MartoMay']['Month'] == 'March']\n",
    "apr_data = df['Loan_Status_MartoMay'].loc[df['Loan_Status_MartoMay']['Month'] == 'April']\n",
    "may_data = df['Loan_Status_MartoMay'].loc[df['Loan_Status_MartoMay']['Month'] == 'May']\n",
    "marapr_data = df['Loan_Status_AprtoJun'].loc[df['Loan_Status_AprtoJun']['Month'] == 'April']\n",
    "aprmay_data = df['Loan_Status_AprtoJun'].loc[df['Loan_Status_AprtoJun']['Month'] == 'May']\n",
    "mayjun_data = df['Loan_Status_AprtoJun'].loc[df['Loan_Status_AprtoJun']['Month'] == 'June']"
   ]
  },
  {
   "cell_type": "code",
   "execution_count": 7,
   "metadata": {},
   "outputs": [
    {
     "output_type": "stream",
     "name": "stdout",
     "text": "True\nTrue\nTrue\n"
    }
   ],
   "source": [
    "#QC checking to see if our assumption is correct\n",
    "print(len(mar_data) == len(marapr_data))\n",
    "print(len(apr_data) == len(aprmay_data))\n",
    "print(len(may_data) == len(mayjun_data))"
   ]
  },
  {
   "cell_type": "code",
   "execution_count": 8,
   "metadata": {},
   "outputs": [],
   "source": [
    "#creates stratums for each month with performance in the following month\n",
    "mar_data1 = pd.merge(mar_data, marapr_data, how='left', on='Loan_id', suffixes=('_mar', '_marapr'))\n",
    "apr_data1 = pd.merge(apr_data, aprmay_data, how='left', on='Loan_id', suffixes=('_apr', '_aprmay'))\n",
    "may_data1 = pd.merge(may_data, mayjun_data, how='left', on='Loan_id', suffixes=('_may', '_mayjun'))"
   ]
  },
  {
   "cell_type": "code",
   "execution_count": 9,
   "metadata": {},
   "outputs": [],
   "source": [
    "#merges monthly data into one dataframe\n",
    "data1 = pd.merge(mar_data1, apr_data1, how='outer', on='Loan_id')\n",
    "data1 = pd.merge(data1, may_data1, how='outer', on='Loan_id')"
   ]
  },
  {
   "cell_type": "code",
   "execution_count": 10,
   "metadata": {},
   "outputs": [
    {
     "output_type": "stream",
     "name": "stdout",
     "text": "(24575, 13)\n(27079, 13)\n(29115, 13)\n(40339, 37)\n"
    }
   ],
   "source": [
    "print(mar_data1.shape)\n",
    "print(apr_data1.shape)\n",
    "print(may_data1.shape)\n",
    "print(data1.shape)"
   ]
  },
  {
   "cell_type": "code",
   "execution_count": 11,
   "metadata": {},
   "outputs": [
    {
     "output_type": "execute_result",
     "data": {
      "text/plain": "      Loan_id Bucket_mar  TENURE_mar  PRINBALANCE_mar  Months on Books_mar  \\\n0  A205346000        TB0        36.0        3693500.0                 33.0   \n1  A675851816        TB0        48.0       24353700.0                 30.0   \n2  A260852240        TB0        48.0       42514900.0                 24.0   \n3  A374402177        TB0        36.0       12290300.0                 19.0   \n4  A211889361        TB0        36.0        9396700.0                 25.0   \n\n   Sanctioned Amount_mar Month_mar Bucket_marapr  PRINBALANCE_marapr  \\\n0             22000000.0     March           TB1           1332100.0   \n1             40000000.0     March           TB1          20875500.0   \n2             60000000.0     March           TB1          37947922.5   \n3             20000000.0     March           TB0          11214900.0   \n4             22000000.0     March           TB0           8666200.0   \n\n   TENURE_marapr  Months on Books_marapr  Sanctioned Amount_marapr  \\\n0           36.0                    34.0                22000000.0   \n1           48.0                    31.0                40000000.0   \n2           48.0                    25.0                60000000.0   \n3           36.0                    20.0                20000000.0   \n4           36.0                    26.0                22000000.0   \n\n  Month_marapr Bucket_apr  TENURE_apr  PRINBALANCE_apr  Months on Books_apr  \\\n0        April        NaN         NaN              NaN                  NaN   \n1        April        NaN         NaN              NaN                  NaN   \n2        April        NaN         NaN              NaN                  NaN   \n3        April        TB0        36.0       11214900.0                 20.0   \n4        April        TB0        36.0        8666200.0                 26.0   \n\n   Sanctioned Amount_apr Month_apr Bucket_aprmay  PRINBALANCE_aprmay  \\\n0                    NaN       NaN           NaN                 NaN   \n1                    NaN       NaN           NaN                 NaN   \n2                    NaN       NaN           NaN                 NaN   \n3             20000000.0     April           TB0          10639500.0   \n4             22000000.0     April           TB1           8666200.0   \n\n   TENURE_aprmay  Months on Books_aprmay  Sanctioned Amount_aprmay  \\\n0            NaN                     NaN                       NaN   \n1            NaN                     NaN                       NaN   \n2            NaN                     NaN                       NaN   \n3           36.0                    21.0                20000000.0   \n4           36.0                    27.0                22000000.0   \n\n  Month_aprmay Bucket_may  TENURE_may  PRINBALANCE_may  Months on Books_may  \\\n0          NaN        NaN         NaN              NaN                  NaN   \n1          NaN        NaN         NaN              NaN                  NaN   \n2          NaN        NaN         NaN              NaN                  NaN   \n3          May        NaN         NaN              NaN                  NaN   \n4          May        NaN         NaN              NaN                  NaN   \n\n   Sanctioned Amount_may Month_may Bucket_mayjun  PRINBALANCE_mayjun  \\\n0                    NaN       NaN           NaN                 NaN   \n1                    NaN       NaN           NaN                 NaN   \n2                    NaN       NaN           NaN                 NaN   \n3                    NaN       NaN           NaN                 NaN   \n4                    NaN       NaN           NaN                 NaN   \n\n   TENURE_mayjun  Months on Books_mayjun  Sanctioned Amount_mayjun  \\\n0            NaN                     NaN                       NaN   \n1            NaN                     NaN                       NaN   \n2            NaN                     NaN                       NaN   \n3            NaN                     NaN                       NaN   \n4            NaN                     NaN                       NaN   \n\n  Month_mayjun  \n0          NaN  \n1          NaN  \n2          NaN  \n3          NaN  \n4          NaN  ",
      "text/html": "<div>\n<style scoped>\n    .dataframe tbody tr th:only-of-type {\n        vertical-align: middle;\n    }\n\n    .dataframe tbody tr th {\n        vertical-align: top;\n    }\n\n    .dataframe thead th {\n        text-align: right;\n    }\n</style>\n<table border=\"1\" class=\"dataframe\">\n  <thead>\n    <tr style=\"text-align: right;\">\n      <th></th>\n      <th>Loan_id</th>\n      <th>Bucket_mar</th>\n      <th>TENURE_mar</th>\n      <th>PRINBALANCE_mar</th>\n      <th>Months on Books_mar</th>\n      <th>Sanctioned Amount_mar</th>\n      <th>Month_mar</th>\n      <th>Bucket_marapr</th>\n      <th>PRINBALANCE_marapr</th>\n      <th>TENURE_marapr</th>\n      <th>Months on Books_marapr</th>\n      <th>Sanctioned Amount_marapr</th>\n      <th>Month_marapr</th>\n      <th>Bucket_apr</th>\n      <th>TENURE_apr</th>\n      <th>PRINBALANCE_apr</th>\n      <th>Months on Books_apr</th>\n      <th>Sanctioned Amount_apr</th>\n      <th>Month_apr</th>\n      <th>Bucket_aprmay</th>\n      <th>PRINBALANCE_aprmay</th>\n      <th>TENURE_aprmay</th>\n      <th>Months on Books_aprmay</th>\n      <th>Sanctioned Amount_aprmay</th>\n      <th>Month_aprmay</th>\n      <th>Bucket_may</th>\n      <th>TENURE_may</th>\n      <th>PRINBALANCE_may</th>\n      <th>Months on Books_may</th>\n      <th>Sanctioned Amount_may</th>\n      <th>Month_may</th>\n      <th>Bucket_mayjun</th>\n      <th>PRINBALANCE_mayjun</th>\n      <th>TENURE_mayjun</th>\n      <th>Months on Books_mayjun</th>\n      <th>Sanctioned Amount_mayjun</th>\n      <th>Month_mayjun</th>\n    </tr>\n  </thead>\n  <tbody>\n    <tr>\n      <th>0</th>\n      <td>A205346000</td>\n      <td>TB0</td>\n      <td>36.0</td>\n      <td>3693500.0</td>\n      <td>33.0</td>\n      <td>22000000.0</td>\n      <td>March</td>\n      <td>TB1</td>\n      <td>1332100.0</td>\n      <td>36.0</td>\n      <td>34.0</td>\n      <td>22000000.0</td>\n      <td>April</td>\n      <td>NaN</td>\n      <td>NaN</td>\n      <td>NaN</td>\n      <td>NaN</td>\n      <td>NaN</td>\n      <td>NaN</td>\n      <td>NaN</td>\n      <td>NaN</td>\n      <td>NaN</td>\n      <td>NaN</td>\n      <td>NaN</td>\n      <td>NaN</td>\n      <td>NaN</td>\n      <td>NaN</td>\n      <td>NaN</td>\n      <td>NaN</td>\n      <td>NaN</td>\n      <td>NaN</td>\n      <td>NaN</td>\n      <td>NaN</td>\n      <td>NaN</td>\n      <td>NaN</td>\n      <td>NaN</td>\n      <td>NaN</td>\n    </tr>\n    <tr>\n      <th>1</th>\n      <td>A675851816</td>\n      <td>TB0</td>\n      <td>48.0</td>\n      <td>24353700.0</td>\n      <td>30.0</td>\n      <td>40000000.0</td>\n      <td>March</td>\n      <td>TB1</td>\n      <td>20875500.0</td>\n      <td>48.0</td>\n      <td>31.0</td>\n      <td>40000000.0</td>\n      <td>April</td>\n      <td>NaN</td>\n      <td>NaN</td>\n      <td>NaN</td>\n      <td>NaN</td>\n      <td>NaN</td>\n      <td>NaN</td>\n      <td>NaN</td>\n      <td>NaN</td>\n      <td>NaN</td>\n      <td>NaN</td>\n      <td>NaN</td>\n      <td>NaN</td>\n      <td>NaN</td>\n      <td>NaN</td>\n      <td>NaN</td>\n      <td>NaN</td>\n      <td>NaN</td>\n      <td>NaN</td>\n      <td>NaN</td>\n      <td>NaN</td>\n      <td>NaN</td>\n      <td>NaN</td>\n      <td>NaN</td>\n      <td>NaN</td>\n    </tr>\n    <tr>\n      <th>2</th>\n      <td>A260852240</td>\n      <td>TB0</td>\n      <td>48.0</td>\n      <td>42514900.0</td>\n      <td>24.0</td>\n      <td>60000000.0</td>\n      <td>March</td>\n      <td>TB1</td>\n      <td>37947922.5</td>\n      <td>48.0</td>\n      <td>25.0</td>\n      <td>60000000.0</td>\n      <td>April</td>\n      <td>NaN</td>\n      <td>NaN</td>\n      <td>NaN</td>\n      <td>NaN</td>\n      <td>NaN</td>\n      <td>NaN</td>\n      <td>NaN</td>\n      <td>NaN</td>\n      <td>NaN</td>\n      <td>NaN</td>\n      <td>NaN</td>\n      <td>NaN</td>\n      <td>NaN</td>\n      <td>NaN</td>\n      <td>NaN</td>\n      <td>NaN</td>\n      <td>NaN</td>\n      <td>NaN</td>\n      <td>NaN</td>\n      <td>NaN</td>\n      <td>NaN</td>\n      <td>NaN</td>\n      <td>NaN</td>\n      <td>NaN</td>\n    </tr>\n    <tr>\n      <th>3</th>\n      <td>A374402177</td>\n      <td>TB0</td>\n      <td>36.0</td>\n      <td>12290300.0</td>\n      <td>19.0</td>\n      <td>20000000.0</td>\n      <td>March</td>\n      <td>TB0</td>\n      <td>11214900.0</td>\n      <td>36.0</td>\n      <td>20.0</td>\n      <td>20000000.0</td>\n      <td>April</td>\n      <td>TB0</td>\n      <td>36.0</td>\n      <td>11214900.0</td>\n      <td>20.0</td>\n      <td>20000000.0</td>\n      <td>April</td>\n      <td>TB0</td>\n      <td>10639500.0</td>\n      <td>36.0</td>\n      <td>21.0</td>\n      <td>20000000.0</td>\n      <td>May</td>\n      <td>NaN</td>\n      <td>NaN</td>\n      <td>NaN</td>\n      <td>NaN</td>\n      <td>NaN</td>\n      <td>NaN</td>\n      <td>NaN</td>\n      <td>NaN</td>\n      <td>NaN</td>\n      <td>NaN</td>\n      <td>NaN</td>\n      <td>NaN</td>\n    </tr>\n    <tr>\n      <th>4</th>\n      <td>A211889361</td>\n      <td>TB0</td>\n      <td>36.0</td>\n      <td>9396700.0</td>\n      <td>25.0</td>\n      <td>22000000.0</td>\n      <td>March</td>\n      <td>TB0</td>\n      <td>8666200.0</td>\n      <td>36.0</td>\n      <td>26.0</td>\n      <td>22000000.0</td>\n      <td>April</td>\n      <td>TB0</td>\n      <td>36.0</td>\n      <td>8666200.0</td>\n      <td>26.0</td>\n      <td>22000000.0</td>\n      <td>April</td>\n      <td>TB1</td>\n      <td>8666200.0</td>\n      <td>36.0</td>\n      <td>27.0</td>\n      <td>22000000.0</td>\n      <td>May</td>\n      <td>NaN</td>\n      <td>NaN</td>\n      <td>NaN</td>\n      <td>NaN</td>\n      <td>NaN</td>\n      <td>NaN</td>\n      <td>NaN</td>\n      <td>NaN</td>\n      <td>NaN</td>\n      <td>NaN</td>\n      <td>NaN</td>\n      <td>NaN</td>\n    </tr>\n  </tbody>\n</table>\n</div>"
     },
     "metadata": {},
     "execution_count": 11
    }
   ],
   "source": [
    "data1.head()"
   ]
  },
  {
   "cell_type": "code",
   "execution_count": 12,
   "metadata": {},
   "outputs": [
    {
     "output_type": "execute_result",
     "data": {
      "text/plain": "Index(['Loan_id', 'Bucket_mar', 'TENURE_mar', 'PRINBALANCE_mar',\n       'Months on Books_mar', 'Sanctioned Amount_mar', 'Month_mar',\n       'Bucket_marapr', 'PRINBALANCE_marapr', 'TENURE_marapr',\n       'Months on Books_marapr', 'Sanctioned Amount_marapr', 'Month_marapr',\n       'Bucket_apr', 'TENURE_apr', 'PRINBALANCE_apr', 'Months on Books_apr',\n       'Sanctioned Amount_apr', 'Month_apr', 'Bucket_aprmay',\n       'PRINBALANCE_aprmay', 'TENURE_aprmay', 'Months on Books_aprmay',\n       'Sanctioned Amount_aprmay', 'Month_aprmay', 'Bucket_may', 'TENURE_may',\n       'PRINBALANCE_may', 'Months on Books_may', 'Sanctioned Amount_may',\n       'Month_may', 'Bucket_mayjun', 'PRINBALANCE_mayjun', 'TENURE_mayjun',\n       'Months on Books_mayjun', 'Sanctioned Amount_mayjun', 'Month_mayjun'],\n      dtype='object')"
     },
     "metadata": {},
     "execution_count": 12
    }
   ],
   "source": [
    "data1.columns"
   ]
  },
  {
   "cell_type": "code",
   "execution_count": 12,
   "metadata": {},
   "outputs": [],
   "source": [
    "data1 = data1.drop(columns=['Month_mar', 'TENURE_marapr', 'Sanctioned Amount_marapr', 'Month_marapr', 'TENURE_apr', 'Sanctioned Amount_apr','Month_apr',\n",
    "                            'TENURE_apr31','Sanctioned Amount_apr31', 'Month_apr31',\n",
    "                            'TENURE_may01', 'Sanctioned Amount_may01', 'Month_may01',\n",
    "                            'TENURE_may31', 'Sanctioned Amount_may31', 'Month_may31'\n",
    "                           ])"
   ]
  },
  {
   "cell_type": "code",
   "execution_count": 14,
   "metadata": {},
   "outputs": [
    {
     "data": {
      "text/html": [
       "<div>\n",
       "<style scoped>\n",
       "    .dataframe tbody tr th:only-of-type {\n",
       "        vertical-align: middle;\n",
       "    }\n",
       "\n",
       "    .dataframe tbody tr th {\n",
       "        vertical-align: top;\n",
       "    }\n",
       "\n",
       "    .dataframe thead th {\n",
       "        text-align: right;\n",
       "    }\n",
       "</style>\n",
       "<table border=\"1\" class=\"dataframe\">\n",
       "  <thead>\n",
       "    <tr style=\"text-align: right;\">\n",
       "      <th></th>\n",
       "      <th>TENURE_mar01</th>\n",
       "      <th>PRINBALANCE_mar01</th>\n",
       "      <th>Months on Books_mar01</th>\n",
       "      <th>Sanctioned Amount_mar01</th>\n",
       "      <th>PRINBALANCE_mar31</th>\n",
       "      <th>Months on Books_mar31</th>\n",
       "      <th>PRINBALANCE_apr01</th>\n",
       "      <th>Months on Books_apr01</th>\n",
       "      <th>PRINBALANCE_apr31</th>\n",
       "      <th>Months on Books_apr31</th>\n",
       "      <th>PRINBALANCE_may01</th>\n",
       "      <th>Months on Books_may01</th>\n",
       "      <th>PRINBALANCE_may31</th>\n",
       "      <th>Months on Books_may31</th>\n",
       "    </tr>\n",
       "  </thead>\n",
       "  <tbody>\n",
       "    <tr>\n",
       "      <th>count</th>\n",
       "      <td>24575.000000</td>\n",
       "      <td>2.457500e+04</td>\n",
       "      <td>24575.000000</td>\n",
       "      <td>2.457500e+04</td>\n",
       "      <td>2.457500e+04</td>\n",
       "      <td>24575.000000</td>\n",
       "      <td>2.707900e+04</td>\n",
       "      <td>27079.000000</td>\n",
       "      <td>2.707900e+04</td>\n",
       "      <td>27079.000000</td>\n",
       "      <td>2.911500e+04</td>\n",
       "      <td>29115.000000</td>\n",
       "      <td>2.911500e+04</td>\n",
       "      <td>29115.000000</td>\n",
       "    </tr>\n",
       "    <tr>\n",
       "      <th>mean</th>\n",
       "      <td>41.832838</td>\n",
       "      <td>3.368172e+07</td>\n",
       "      <td>15.600895</td>\n",
       "      <td>4.603559e+07</td>\n",
       "      <td>3.183383e+07</td>\n",
       "      <td>16.600895</td>\n",
       "      <td>3.340031e+07</td>\n",
       "      <td>15.773847</td>\n",
       "      <td>3.157736e+07</td>\n",
       "      <td>16.773847</td>\n",
       "      <td>3.415342e+07</td>\n",
       "      <td>15.400996</td>\n",
       "      <td>3.231523e+07</td>\n",
       "      <td>16.400996</td>\n",
       "    </tr>\n",
       "    <tr>\n",
       "      <th>std</th>\n",
       "      <td>7.599259</td>\n",
       "      <td>2.397062e+07</td>\n",
       "      <td>10.692061</td>\n",
       "      <td>2.586228e+07</td>\n",
       "      <td>2.367301e+07</td>\n",
       "      <td>10.692061</td>\n",
       "      <td>2.364095e+07</td>\n",
       "      <td>10.643053</td>\n",
       "      <td>2.335223e+07</td>\n",
       "      <td>10.643053</td>\n",
       "      <td>2.497425e+07</td>\n",
       "      <td>10.549727</td>\n",
       "      <td>2.467654e+07</td>\n",
       "      <td>10.549727</td>\n",
       "    </tr>\n",
       "    <tr>\n",
       "      <th>min</th>\n",
       "      <td>12.000000</td>\n",
       "      <td>4.090000e+05</td>\n",
       "      <td>0.000000</td>\n",
       "      <td>1.000000e+07</td>\n",
       "      <td>2.000000e+02</td>\n",
       "      <td>1.000000</td>\n",
       "      <td>7.470000e+04</td>\n",
       "      <td>0.000000</td>\n",
       "      <td>1.000000e+03</td>\n",
       "      <td>1.000000</td>\n",
       "      <td>2.372000e+05</td>\n",
       "      <td>0.000000</td>\n",
       "      <td>2.000000e+02</td>\n",
       "      <td>1.000000</td>\n",
       "    </tr>\n",
       "    <tr>\n",
       "      <th>25%</th>\n",
       "      <td>36.000000</td>\n",
       "      <td>1.762650e+07</td>\n",
       "      <td>6.000000</td>\n",
       "      <td>3.000000e+07</td>\n",
       "      <td>1.597412e+07</td>\n",
       "      <td>7.000000</td>\n",
       "      <td>1.757270e+07</td>\n",
       "      <td>7.000000</td>\n",
       "      <td>1.592710e+07</td>\n",
       "      <td>8.000000</td>\n",
       "      <td>1.807675e+07</td>\n",
       "      <td>6.000000</td>\n",
       "      <td>1.641180e+07</td>\n",
       "      <td>7.000000</td>\n",
       "    </tr>\n",
       "    <tr>\n",
       "      <th>50%</th>\n",
       "      <td>48.000000</td>\n",
       "      <td>2.906860e+07</td>\n",
       "      <td>14.000000</td>\n",
       "      <td>4.000000e+07</td>\n",
       "      <td>2.757780e+07</td>\n",
       "      <td>15.000000</td>\n",
       "      <td>2.893120e+07</td>\n",
       "      <td>15.000000</td>\n",
       "      <td>2.740140e+07</td>\n",
       "      <td>16.000000</td>\n",
       "      <td>2.940660e+07</td>\n",
       "      <td>14.000000</td>\n",
       "      <td>2.798320e+07</td>\n",
       "      <td>15.000000</td>\n",
       "    </tr>\n",
       "    <tr>\n",
       "      <th>75%</th>\n",
       "      <td>48.000000</td>\n",
       "      <td>4.406620e+07</td>\n",
       "      <td>23.000000</td>\n",
       "      <td>5.500000e+07</td>\n",
       "      <td>4.230300e+07</td>\n",
       "      <td>24.000000</td>\n",
       "      <td>4.370955e+07</td>\n",
       "      <td>23.000000</td>\n",
       "      <td>4.205315e+07</td>\n",
       "      <td>24.000000</td>\n",
       "      <td>4.434225e+07</td>\n",
       "      <td>22.000000</td>\n",
       "      <td>4.268020e+07</td>\n",
       "      <td>23.000000</td>\n",
       "    </tr>\n",
       "    <tr>\n",
       "      <th>max</th>\n",
       "      <td>239.000000</td>\n",
       "      <td>3.753802e+08</td>\n",
       "      <td>74.000000</td>\n",
       "      <td>4.200000e+08</td>\n",
       "      <td>3.732658e+08</td>\n",
       "      <td>75.000000</td>\n",
       "      <td>3.743314e+08</td>\n",
       "      <td>78.000000</td>\n",
       "      <td>3.721831e+08</td>\n",
       "      <td>79.000000</td>\n",
       "      <td>1.137036e+09</td>\n",
       "      <td>84.000000</td>\n",
       "      <td>1.131137e+09</td>\n",
       "      <td>85.000000</td>\n",
       "    </tr>\n",
       "  </tbody>\n",
       "</table>\n",
       "</div>"
      ],
      "text/plain": [
       "       TENURE_mar01  PRINBALANCE_mar01  Months on Books_mar01  \\\n",
       "count  24575.000000       2.457500e+04           24575.000000   \n",
       "mean      41.832838       3.368172e+07              15.600895   \n",
       "std        7.599259       2.397062e+07              10.692061   \n",
       "min       12.000000       4.090000e+05               0.000000   \n",
       "25%       36.000000       1.762650e+07               6.000000   \n",
       "50%       48.000000       2.906860e+07              14.000000   \n",
       "75%       48.000000       4.406620e+07              23.000000   \n",
       "max      239.000000       3.753802e+08              74.000000   \n",
       "\n",
       "       Sanctioned Amount_mar01  PRINBALANCE_mar31  Months on Books_mar31  \\\n",
       "count             2.457500e+04       2.457500e+04           24575.000000   \n",
       "mean              4.603559e+07       3.183383e+07              16.600895   \n",
       "std               2.586228e+07       2.367301e+07              10.692061   \n",
       "min               1.000000e+07       2.000000e+02               1.000000   \n",
       "25%               3.000000e+07       1.597412e+07               7.000000   \n",
       "50%               4.000000e+07       2.757780e+07              15.000000   \n",
       "75%               5.500000e+07       4.230300e+07              24.000000   \n",
       "max               4.200000e+08       3.732658e+08              75.000000   \n",
       "\n",
       "       PRINBALANCE_apr01  Months on Books_apr01  PRINBALANCE_apr31  \\\n",
       "count       2.707900e+04           27079.000000       2.707900e+04   \n",
       "mean        3.340031e+07              15.773847       3.157736e+07   \n",
       "std         2.364095e+07              10.643053       2.335223e+07   \n",
       "min         7.470000e+04               0.000000       1.000000e+03   \n",
       "25%         1.757270e+07               7.000000       1.592710e+07   \n",
       "50%         2.893120e+07              15.000000       2.740140e+07   \n",
       "75%         4.370955e+07              23.000000       4.205315e+07   \n",
       "max         3.743314e+08              78.000000       3.721831e+08   \n",
       "\n",
       "       Months on Books_apr31  PRINBALANCE_may01  Months on Books_may01  \\\n",
       "count           27079.000000       2.911500e+04           29115.000000   \n",
       "mean               16.773847       3.415342e+07              15.400996   \n",
       "std                10.643053       2.497425e+07              10.549727   \n",
       "min                 1.000000       2.372000e+05               0.000000   \n",
       "25%                 8.000000       1.807675e+07               6.000000   \n",
       "50%                16.000000       2.940660e+07              14.000000   \n",
       "75%                24.000000       4.434225e+07              22.000000   \n",
       "max                79.000000       1.137036e+09              84.000000   \n",
       "\n",
       "       PRINBALANCE_may31  Months on Books_may31  \n",
       "count       2.911500e+04           29115.000000  \n",
       "mean        3.231523e+07              16.400996  \n",
       "std         2.467654e+07              10.549727  \n",
       "min         2.000000e+02               1.000000  \n",
       "25%         1.641180e+07               7.000000  \n",
       "50%         2.798320e+07              15.000000  \n",
       "75%         4.268020e+07              23.000000  \n",
       "max         1.131137e+09              85.000000  "
      ]
     },
     "execution_count": 14,
     "metadata": {},
     "output_type": "execute_result"
    }
   ],
   "source": [
    "data1.describe()"
   ]
  },
  {
   "cell_type": "code",
   "execution_count": 32,
   "metadata": {},
   "outputs": [],
   "source": [
    "data2=data1"
   ]
  },
  {
   "cell_type": "code",
   "execution_count": 33,
   "metadata": {},
   "outputs": [],
   "source": [
    "\n",
    "data2['RF1'] = np.where(data2['Bucket_mar01']=='TB0', 1, 0)\n",
    "data2['RF2'] = np.where((data2['Bucket_apr01']=='TB0')|(data2['Bucket_apr01']=='TB1'), 1, 0)\n",
    "data2['RF3'] = np.where((data2['Bucket_may01']=='TB0')|(data2['Bucket_may01']=='TB1'), 1, 0)\n",
    "data2['RF4'] = np.where((data2['Bucket_may31']=='TB0')|(data2['Bucket_may31']=='TB1'), 1, 0)"
   ]
  },
  {
   "cell_type": "code",
   "execution_count": 34,
   "metadata": {},
   "outputs": [],
   "source": [
    "data2['RB2'] = np.where((data2['Bucket_apr01']=='TB0')&(data2['Bucket_mar01']=='TB0'), 1, 0)\n",
    "data2['RB3'] = np.where(((data2['Bucket_may01']=='Nan')&(data2['Bucket_apr01']=='TB0')\n",
    "                         |(data2['Bucket_may01']=='REGULAR')&(data2['Bucket_apr01']=='TB0')\n",
    "                        |(data2['Bucket_may01']=='TB0')&(data2['Bucket_apr01']=='TB1')\n",
    "                        ), 1, 0)\n",
    "data2['RB4'] = np.where(((data2['Bucket_may31']=='Nan')&(data2['Bucket_may01']=='TB0')\n",
    "                         |(data2['Bucket_may31']=='REGULAR')&(data2['Bucket_may01']=='TB0')\n",
    "                        |(data2['Bucket_may31']=='TB0')&(data2['Bucket_may01']=='TB1')\n",
    "                        ), 1, 0)"
   ]
  },
  {
   "cell_type": "code",
   "execution_count": 35,
   "metadata": {},
   "outputs": [
    {
     "data": {
      "text/plain": [
       "0    38309\n",
       "1     2030\n",
       "Name: RF4, dtype: int64"
      ]
     },
     "execution_count": 35,
     "metadata": {},
     "output_type": "execute_result"
    }
   ],
   "source": [
    "data2['RF4'].value_counts()"
   ]
  },
  {
   "cell_type": "code",
   "execution_count": 189,
   "metadata": {},
   "outputs": [
    {
     "data": {
      "text/html": [
       "<div>\n",
       "<style scoped>\n",
       "    .dataframe tbody tr th:only-of-type {\n",
       "        vertical-align: middle;\n",
       "    }\n",
       "\n",
       "    .dataframe tbody tr th {\n",
       "        vertical-align: top;\n",
       "    }\n",
       "\n",
       "    .dataframe thead th {\n",
       "        text-align: right;\n",
       "    }\n",
       "</style>\n",
       "<table border=\"1\" class=\"dataframe\">\n",
       "  <thead>\n",
       "    <tr style=\"text-align: right;\">\n",
       "      <th></th>\n",
       "      <th>Loan_id</th>\n",
       "      <th>Bucket_mar01</th>\n",
       "      <th>TENURE_mar01</th>\n",
       "      <th>PRINBALANCE_mar01</th>\n",
       "      <th>Months on Books_mar01</th>\n",
       "      <th>Sanctioned Amount_mar01</th>\n",
       "      <th>Bucket_mar31</th>\n",
       "      <th>PRINBALANCE_mar31</th>\n",
       "      <th>Months on Books_mar31</th>\n",
       "      <th>Bucket_apr01</th>\n",
       "      <th>PRINBALANCE_apr01</th>\n",
       "      <th>Months on Books_apr01</th>\n",
       "      <th>Bucket_apr31</th>\n",
       "      <th>PRINBALANCE_apr31</th>\n",
       "      <th>Months on Books_apr31</th>\n",
       "      <th>Bucket_may01</th>\n",
       "      <th>PRINBALANCE_may01</th>\n",
       "      <th>Months on Books_may01</th>\n",
       "      <th>Bucket_may31</th>\n",
       "      <th>PRINBALANCE_may31</th>\n",
       "      <th>Months on Books_may31</th>\n",
       "      <th>RF1</th>\n",
       "      <th>RF2</th>\n",
       "      <th>RF3</th>\n",
       "      <th>RF4</th>\n",
       "      <th>RB2</th>\n",
       "      <th>RB3</th>\n",
       "      <th>RB4</th>\n",
       "    </tr>\n",
       "  </thead>\n",
       "  <tbody>\n",
       "    <tr>\n",
       "      <th>0</th>\n",
       "      <td>A205346000</td>\n",
       "      <td>TB0</td>\n",
       "      <td>36.0</td>\n",
       "      <td>3693500.0</td>\n",
       "      <td>33.0</td>\n",
       "      <td>22000000.0</td>\n",
       "      <td>TB1</td>\n",
       "      <td>1332100.0</td>\n",
       "      <td>34.0</td>\n",
       "      <td>NaN</td>\n",
       "      <td>NaN</td>\n",
       "      <td>NaN</td>\n",
       "      <td>NaN</td>\n",
       "      <td>NaN</td>\n",
       "      <td>NaN</td>\n",
       "      <td>NaN</td>\n",
       "      <td>NaN</td>\n",
       "      <td>NaN</td>\n",
       "      <td>NaN</td>\n",
       "      <td>NaN</td>\n",
       "      <td>NaN</td>\n",
       "      <td>1</td>\n",
       "      <td>0</td>\n",
       "      <td>0</td>\n",
       "      <td>0</td>\n",
       "      <td>0</td>\n",
       "      <td>0</td>\n",
       "      <td>0</td>\n",
       "    </tr>\n",
       "    <tr>\n",
       "      <th>1</th>\n",
       "      <td>A675851816</td>\n",
       "      <td>TB0</td>\n",
       "      <td>48.0</td>\n",
       "      <td>24353700.0</td>\n",
       "      <td>30.0</td>\n",
       "      <td>40000000.0</td>\n",
       "      <td>TB1</td>\n",
       "      <td>20875500.0</td>\n",
       "      <td>31.0</td>\n",
       "      <td>NaN</td>\n",
       "      <td>NaN</td>\n",
       "      <td>NaN</td>\n",
       "      <td>NaN</td>\n",
       "      <td>NaN</td>\n",
       "      <td>NaN</td>\n",
       "      <td>NaN</td>\n",
       "      <td>NaN</td>\n",
       "      <td>NaN</td>\n",
       "      <td>NaN</td>\n",
       "      <td>NaN</td>\n",
       "      <td>NaN</td>\n",
       "      <td>1</td>\n",
       "      <td>0</td>\n",
       "      <td>0</td>\n",
       "      <td>0</td>\n",
       "      <td>0</td>\n",
       "      <td>0</td>\n",
       "      <td>0</td>\n",
       "    </tr>\n",
       "    <tr>\n",
       "      <th>2</th>\n",
       "      <td>A260852240</td>\n",
       "      <td>TB0</td>\n",
       "      <td>48.0</td>\n",
       "      <td>42514900.0</td>\n",
       "      <td>24.0</td>\n",
       "      <td>60000000.0</td>\n",
       "      <td>TB1</td>\n",
       "      <td>37947922.5</td>\n",
       "      <td>25.0</td>\n",
       "      <td>NaN</td>\n",
       "      <td>NaN</td>\n",
       "      <td>NaN</td>\n",
       "      <td>NaN</td>\n",
       "      <td>NaN</td>\n",
       "      <td>NaN</td>\n",
       "      <td>NaN</td>\n",
       "      <td>NaN</td>\n",
       "      <td>NaN</td>\n",
       "      <td>NaN</td>\n",
       "      <td>NaN</td>\n",
       "      <td>NaN</td>\n",
       "      <td>1</td>\n",
       "      <td>0</td>\n",
       "      <td>0</td>\n",
       "      <td>0</td>\n",
       "      <td>0</td>\n",
       "      <td>0</td>\n",
       "      <td>0</td>\n",
       "    </tr>\n",
       "    <tr>\n",
       "      <th>3</th>\n",
       "      <td>A374402177</td>\n",
       "      <td>TB0</td>\n",
       "      <td>36.0</td>\n",
       "      <td>12290300.0</td>\n",
       "      <td>19.0</td>\n",
       "      <td>20000000.0</td>\n",
       "      <td>TB0</td>\n",
       "      <td>11214900.0</td>\n",
       "      <td>20.0</td>\n",
       "      <td>TB0</td>\n",
       "      <td>11214900.0</td>\n",
       "      <td>20.0</td>\n",
       "      <td>TB0</td>\n",
       "      <td>10639500.0</td>\n",
       "      <td>21.0</td>\n",
       "      <td>NaN</td>\n",
       "      <td>NaN</td>\n",
       "      <td>NaN</td>\n",
       "      <td>NaN</td>\n",
       "      <td>NaN</td>\n",
       "      <td>NaN</td>\n",
       "      <td>1</td>\n",
       "      <td>1</td>\n",
       "      <td>0</td>\n",
       "      <td>0</td>\n",
       "      <td>1</td>\n",
       "      <td>0</td>\n",
       "      <td>0</td>\n",
       "    </tr>\n",
       "    <tr>\n",
       "      <th>4</th>\n",
       "      <td>A211889361</td>\n",
       "      <td>TB0</td>\n",
       "      <td>36.0</td>\n",
       "      <td>9396700.0</td>\n",
       "      <td>25.0</td>\n",
       "      <td>22000000.0</td>\n",
       "      <td>TB0</td>\n",
       "      <td>8666200.0</td>\n",
       "      <td>26.0</td>\n",
       "      <td>TB0</td>\n",
       "      <td>8666200.0</td>\n",
       "      <td>26.0</td>\n",
       "      <td>TB1</td>\n",
       "      <td>8666200.0</td>\n",
       "      <td>27.0</td>\n",
       "      <td>NaN</td>\n",
       "      <td>NaN</td>\n",
       "      <td>NaN</td>\n",
       "      <td>NaN</td>\n",
       "      <td>NaN</td>\n",
       "      <td>NaN</td>\n",
       "      <td>1</td>\n",
       "      <td>1</td>\n",
       "      <td>0</td>\n",
       "      <td>0</td>\n",
       "      <td>1</td>\n",
       "      <td>0</td>\n",
       "      <td>0</td>\n",
       "    </tr>\n",
       "  </tbody>\n",
       "</table>\n",
       "</div>"
      ],
      "text/plain": [
       "      Loan_id Bucket_mar01  TENURE_mar01  PRINBALANCE_mar01  \\\n",
       "0  A205346000          TB0          36.0          3693500.0   \n",
       "1  A675851816          TB0          48.0         24353700.0   \n",
       "2  A260852240          TB0          48.0         42514900.0   \n",
       "3  A374402177          TB0          36.0         12290300.0   \n",
       "4  A211889361          TB0          36.0          9396700.0   \n",
       "\n",
       "   Months on Books_mar01  Sanctioned Amount_mar01 Bucket_mar31  \\\n",
       "0                   33.0               22000000.0          TB1   \n",
       "1                   30.0               40000000.0          TB1   \n",
       "2                   24.0               60000000.0          TB1   \n",
       "3                   19.0               20000000.0          TB0   \n",
       "4                   25.0               22000000.0          TB0   \n",
       "\n",
       "   PRINBALANCE_mar31  Months on Books_mar31 Bucket_apr01  PRINBALANCE_apr01  \\\n",
       "0          1332100.0                   34.0          NaN                NaN   \n",
       "1         20875500.0                   31.0          NaN                NaN   \n",
       "2         37947922.5                   25.0          NaN                NaN   \n",
       "3         11214900.0                   20.0          TB0         11214900.0   \n",
       "4          8666200.0                   26.0          TB0          8666200.0   \n",
       "\n",
       "   Months on Books_apr01 Bucket_apr31  PRINBALANCE_apr31  \\\n",
       "0                    NaN          NaN                NaN   \n",
       "1                    NaN          NaN                NaN   \n",
       "2                    NaN          NaN                NaN   \n",
       "3                   20.0          TB0         10639500.0   \n",
       "4                   26.0          TB1          8666200.0   \n",
       "\n",
       "   Months on Books_apr31 Bucket_may01  PRINBALANCE_may01  \\\n",
       "0                    NaN          NaN                NaN   \n",
       "1                    NaN          NaN                NaN   \n",
       "2                    NaN          NaN                NaN   \n",
       "3                   21.0          NaN                NaN   \n",
       "4                   27.0          NaN                NaN   \n",
       "\n",
       "   Months on Books_may01 Bucket_may31  PRINBALANCE_may31  \\\n",
       "0                    NaN          NaN                NaN   \n",
       "1                    NaN          NaN                NaN   \n",
       "2                    NaN          NaN                NaN   \n",
       "3                    NaN          NaN                NaN   \n",
       "4                    NaN          NaN                NaN   \n",
       "\n",
       "   Months on Books_may31  RF1  RF2  RF3  RF4  RB2  RB3  RB4  \n",
       "0                    NaN    1    0    0    0    0    0    0  \n",
       "1                    NaN    1    0    0    0    0    0    0  \n",
       "2                    NaN    1    0    0    0    0    0    0  \n",
       "3                    NaN    1    1    0    0    1    0    0  \n",
       "4                    NaN    1    1    0    0    1    0    0  "
      ]
     },
     "execution_count": 189,
     "metadata": {},
     "output_type": "execute_result"
    }
   ],
   "source": [
    "data2.head()"
   ]
  },
  {
   "cell_type": "code",
   "execution_count": 37,
   "metadata": {},
   "outputs": [
    {
     "name": "stdout",
     "output_type": "stream",
     "text": [
      "<class 'pandas.core.frame.DataFrame'>\n",
      "Int64Index: 40339 entries, 0 to 40338\n",
      "Data columns (total 28 columns):\n",
      "Loan_id                    40339 non-null object\n",
      "Bucket_mar01               24575 non-null object\n",
      "TENURE_mar01               24575 non-null float64\n",
      "PRINBALANCE_mar01          24575 non-null float64\n",
      "Months on Books_mar01      24575 non-null float64\n",
      "Sanctioned Amount_mar01    24575 non-null float64\n",
      "Bucket_mar31               24575 non-null object\n",
      "PRINBALANCE_mar31          24575 non-null float64\n",
      "Months on Books_mar31      24575 non-null float64\n",
      "Bucket_apr01               27079 non-null object\n",
      "PRINBALANCE_apr01          27079 non-null float64\n",
      "Months on Books_apr01      27079 non-null float64\n",
      "Bucket_apr31               27079 non-null object\n",
      "PRINBALANCE_apr31          27079 non-null float64\n",
      "Months on Books_apr31      27079 non-null float64\n",
      "Bucket_may01               29115 non-null object\n",
      "PRINBALANCE_may01          29115 non-null float64\n",
      "Months on Books_may01      29115 non-null float64\n",
      "Bucket_may31               29115 non-null object\n",
      "PRINBALANCE_may31          29115 non-null float64\n",
      "Months on Books_may31      29115 non-null float64\n",
      "RF1                        40339 non-null int32\n",
      "RF2                        40339 non-null int32\n",
      "RF3                        40339 non-null int32\n",
      "RF4                        40339 non-null int32\n",
      "RB2                        40339 non-null int32\n",
      "RB3                        40339 non-null int32\n",
      "RB4                        40339 non-null int32\n",
      "dtypes: float64(14), int32(7), object(7)\n",
      "memory usage: 7.8+ MB\n"
     ]
    }
   ],
   "source": [
    "data2.info()"
   ]
  },
  {
   "cell_type": "code",
   "execution_count": 170,
   "metadata": {},
   "outputs": [
    {
     "data": {
      "text/plain": [
       "Index(['Loan_id', 'Bucket_mar01', 'TENURE_mar01', 'PRINBALANCE_mar01',\n",
       "       'Months on Books_mar01', 'Sanctioned Amount_mar01', 'Bucket_mar31',\n",
       "       'PRINBALANCE_mar31', 'Months on Books_mar31', 'Bucket_apr01',\n",
       "       'PRINBALANCE_apr01', 'Months on Books_apr01', 'Bucket_apr31',\n",
       "       'PRINBALANCE_apr31', 'Months on Books_apr31', 'Bucket_may01',\n",
       "       'PRINBALANCE_may01', 'Months on Books_may01', 'Bucket_may31',\n",
       "       'PRINBALANCE_may31', 'Months on Books_may31', 'RF1', 'RF2', 'RF3',\n",
       "       'RF4', 'RB2', 'RB3', 'RB4'],\n",
       "      dtype='object')"
      ]
     },
     "execution_count": 170,
     "metadata": {},
     "output_type": "execute_result"
    }
   ],
   "source": [
    "data2.columns"
   ]
  },
  {
   "cell_type": "markdown",
   "metadata": {},
   "source": [
    "### TB0 Data "
   ]
  },
  {
   "cell_type": "code",
   "execution_count": 107,
   "metadata": {},
   "outputs": [
    {
     "name": "stdout",
     "output_type": "stream",
     "text": [
      "<class 'pandas.core.frame.DataFrame'>\n",
      "Int64Index: 40339 entries, 0 to 80759\n",
      "Data columns (total 3 columns):\n",
      "Loan_id            40339 non-null object\n",
      "PRINBALANCE        40339 non-null float64\n",
      "Months on Books    40339 non-null int64\n",
      "dtypes: float64(1), int64(1), object(1)\n",
      "memory usage: 1.2+ MB\n"
     ]
    }
   ],
   "source": [
    "data_TB0 = pd.DataFrame(df['Loan_Status_MartoMay'])\n",
    "data_TB0 = data_TB0.drop_duplicates(subset =\"Loan_id\", keep = 'first', inplace = False) \n",
    "data_TB0 = data_TB0.drop(columns=['TENURE', 'Sanctioned Amount','Month',  'Bucket'])\n",
    "data_TB0.info() \n",
    "                               "
   ]
  },
  {
   "cell_type": "markdown",
   "metadata": {},
   "source": [
    "### Historical Data Prep"
   ]
  },
  {
   "cell_type": "code",
   "execution_count": 74,
   "metadata": {},
   "outputs": [],
   "source": [
    "#cleaning/processing 6 month data \n",
    "data_6m = pd.DataFrame(df['Historical 6 Months Details'])\n",
    "data_6m = data_6m.drop_duplicates(subset =\"Loan_id\", keep = 'first', inplace = False) \n",
    "data_6m = data_6m.drop(columns=['rollf', 'Month'])\n",
    "data_6m.info()"
   ]
  },
  {
   "cell_type": "code",
   "execution_count": null,
   "metadata": {},
   "outputs": [],
   "source": []
  },
  {
   "cell_type": "code",
   "execution_count": null,
   "metadata": {},
   "outputs": [],
   "source": []
  },
  {
   "cell_type": "markdown",
   "metadata": {},
   "source": [
    "### Call Data Prep"
   ]
  },
  {
   "cell_type": "code",
   "execution_count": 243,
   "metadata": {},
   "outputs": [
    {
     "data": {
      "text/html": [
       "<div>\n",
       "<style scoped>\n",
       "    .dataframe tbody tr th:only-of-type {\n",
       "        vertical-align: middle;\n",
       "    }\n",
       "\n",
       "    .dataframe tbody tr th {\n",
       "        vertical-align: top;\n",
       "    }\n",
       "\n",
       "    .dataframe thead th {\n",
       "        text-align: right;\n",
       "    }\n",
       "</style>\n",
       "<table border=\"1\" class=\"dataframe\">\n",
       "  <thead>\n",
       "    <tr style=\"text-align: right;\">\n",
       "      <th></th>\n",
       "      <th>month</th>\n",
       "      <th>Application_Id</th>\n",
       "      <th>Login_ID</th>\n",
       "      <th>Right_Party_Contact</th>\n",
       "      <th>Promise_to_pay</th>\n",
       "      <th>total_contacts</th>\n",
       "    </tr>\n",
       "  </thead>\n",
       "  <tbody>\n",
       "    <tr>\n",
       "      <th>79609</th>\n",
       "      <td>5</td>\n",
       "      <td>MX-999897229</td>\n",
       "      <td>AGNT19</td>\n",
       "      <td>0</td>\n",
       "      <td>0</td>\n",
       "      <td>2</td>\n",
       "    </tr>\n",
       "    <tr>\n",
       "      <th>79610</th>\n",
       "      <td>5</td>\n",
       "      <td>MX-999911711</td>\n",
       "      <td>AGNT6</td>\n",
       "      <td>0</td>\n",
       "      <td>0</td>\n",
       "      <td>1</td>\n",
       "    </tr>\n",
       "    <tr>\n",
       "      <th>79611</th>\n",
       "      <td>5</td>\n",
       "      <td>MX-999978990</td>\n",
       "      <td>AGNT43</td>\n",
       "      <td>2</td>\n",
       "      <td>0</td>\n",
       "      <td>2</td>\n",
       "    </tr>\n",
       "    <tr>\n",
       "      <th>79612</th>\n",
       "      <td>5</td>\n",
       "      <td>MX-999980626</td>\n",
       "      <td>AGNT21</td>\n",
       "      <td>1</td>\n",
       "      <td>1</td>\n",
       "      <td>1</td>\n",
       "    </tr>\n",
       "    <tr>\n",
       "      <th>79613</th>\n",
       "      <td>5</td>\n",
       "      <td>MX-999985403</td>\n",
       "      <td>AGNT19</td>\n",
       "      <td>5</td>\n",
       "      <td>1</td>\n",
       "      <td>6</td>\n",
       "    </tr>\n",
       "  </tbody>\n",
       "</table>\n",
       "</div>"
      ],
      "text/plain": [
       "       month Application_Id Login_ID  Right_Party_Contact  Promise_to_pay  \\\n",
       "79609      5   MX-999897229   AGNT19                    0               0   \n",
       "79610      5   MX-999911711    AGNT6                    0               0   \n",
       "79611      5   MX-999978990   AGNT43                    2               0   \n",
       "79612      5   MX-999980626   AGNT21                    1               1   \n",
       "79613      5   MX-999985403   AGNT19                    5               1   \n",
       "\n",
       "       total_contacts  \n",
       "79609               2  \n",
       "79610               1  \n",
       "79611               2  \n",
       "79612               1  \n",
       "79613               6  "
      ]
     },
     "execution_count": 243,
     "metadata": {},
     "output_type": "execute_result"
    }
   ],
   "source": [
    "#assigns 'Call Detail' table to dataframe\n",
    "call_data = df['Call Details']\n",
    "call_data.tail()"
   ]
  },
  {
   "cell_type": "code",
   "execution_count": 244,
   "metadata": {},
   "outputs": [],
   "source": [
    "#groups call data by id and then aggregates\n",
    "month_table = call_data.groupby(['Application_Id']).aggregate({'month':'nunique', 'Right_Party_Contact':'sum', 'Promise_to_pay':'sum', 'total_contacts':'sum'})\n",
    "\n",
    "#calculates Right Party Contacts (RPC) rate and Percentage of outbound calls resulting in Promise to Pay (PTP)\n",
    "# month_table['avg_intensity'] = round(month_table['total_contacts'] / month_table['month'], 3)\n",
    "month_table['RPC_rate'] = round(month_table['Right_Party_Contact'] / month_table['total_contacts'], 3)\n",
    "month_table['PTP_rate'] = round(month_table['Promise_to_pay'] / month_table['total_contacts'], 3)\n",
    "month_table.rename(columns={'month':'month_count'}, inplace=True)\n",
    "\n"
   ]
  },
  {
   "cell_type": "code",
   "execution_count": 245,
   "metadata": {},
   "outputs": [],
   "source": [
    "call_data = pd.merge(df['Loan_ID mapping'], month_table, how='outer', left_on='Application_id', right_on='Application_Id')"
   ]
  },
  {
   "cell_type": "code",
   "execution_count": 246,
   "metadata": {},
   "outputs": [
    {
     "data": {
      "text/html": [
       "<div>\n",
       "<style scoped>\n",
       "    .dataframe tbody tr th:only-of-type {\n",
       "        vertical-align: middle;\n",
       "    }\n",
       "\n",
       "    .dataframe tbody tr th {\n",
       "        vertical-align: top;\n",
       "    }\n",
       "\n",
       "    .dataframe thead th {\n",
       "        text-align: right;\n",
       "    }\n",
       "</style>\n",
       "<table border=\"1\" class=\"dataframe\">\n",
       "  <thead>\n",
       "    <tr style=\"text-align: right;\">\n",
       "      <th></th>\n",
       "      <th>Loanid</th>\n",
       "      <th>Application_id</th>\n",
       "      <th>month_count</th>\n",
       "      <th>Right_Party_Contact</th>\n",
       "      <th>Promise_to_pay</th>\n",
       "      <th>total_contacts</th>\n",
       "      <th>RPC_rate</th>\n",
       "      <th>PTP_rate</th>\n",
       "    </tr>\n",
       "  </thead>\n",
       "  <tbody>\n",
       "  </tbody>\n",
       "</table>\n",
       "</div>"
      ],
      "text/plain": [
       "Empty DataFrame\n",
       "Columns: [Loanid, Application_id, month_count, Right_Party_Contact, Promise_to_pay, total_contacts, RPC_rate, PTP_rate]\n",
       "Index: []"
      ]
     },
     "execution_count": 246,
     "metadata": {},
     "output_type": "execute_result"
    }
   ],
   "source": [
    "call_data.fillna(0, inplace=True)\n",
    "valid = len(month_table)\n",
    "missing = len(call_data[call_data['total_contacts'].isnull()])\n",
    "call_data[call_data['total_contacts'].isnull()]"
   ]
  },
  {
   "cell_type": "code",
   "execution_count": 247,
   "metadata": {},
   "outputs": [],
   "source": [
    "\n",
    "call_data.rename(columns = {call_data.columns[0]: 'Loan_id'}, inplace = True)"
   ]
  },
  {
   "cell_type": "code",
   "execution_count": 248,
   "metadata": {},
   "outputs": [
    {
     "data": {
      "text/html": [
       "<div>\n",
       "<style scoped>\n",
       "    .dataframe tbody tr th:only-of-type {\n",
       "        vertical-align: middle;\n",
       "    }\n",
       "\n",
       "    .dataframe tbody tr th {\n",
       "        vertical-align: top;\n",
       "    }\n",
       "\n",
       "    .dataframe thead th {\n",
       "        text-align: right;\n",
       "    }\n",
       "</style>\n",
       "<table border=\"1\" class=\"dataframe\">\n",
       "  <thead>\n",
       "    <tr style=\"text-align: right;\">\n",
       "      <th></th>\n",
       "      <th>Loan_id</th>\n",
       "      <th>Application_id</th>\n",
       "      <th>month_count</th>\n",
       "      <th>Right_Party_Contact</th>\n",
       "      <th>Promise_to_pay</th>\n",
       "      <th>total_contacts</th>\n",
       "      <th>RPC_rate</th>\n",
       "      <th>PTP_rate</th>\n",
       "    </tr>\n",
       "  </thead>\n",
       "  <tbody>\n",
       "    <tr>\n",
       "      <th>0</th>\n",
       "      <td>A987633031</td>\n",
       "      <td>MX-100040250</td>\n",
       "      <td>1.0</td>\n",
       "      <td>5.0</td>\n",
       "      <td>2.0</td>\n",
       "      <td>21.0</td>\n",
       "      <td>0.238</td>\n",
       "      <td>0.095</td>\n",
       "    </tr>\n",
       "    <tr>\n",
       "      <th>1</th>\n",
       "      <td>A145720684</td>\n",
       "      <td>MX-10005082</td>\n",
       "      <td>1.0</td>\n",
       "      <td>0.0</td>\n",
       "      <td>0.0</td>\n",
       "      <td>2.0</td>\n",
       "      <td>0.000</td>\n",
       "      <td>0.000</td>\n",
       "    </tr>\n",
       "    <tr>\n",
       "      <th>2</th>\n",
       "      <td>A730581847</td>\n",
       "      <td>MX-100062359</td>\n",
       "      <td>1.0</td>\n",
       "      <td>1.0</td>\n",
       "      <td>1.0</td>\n",
       "      <td>1.0</td>\n",
       "      <td>1.000</td>\n",
       "      <td>1.000</td>\n",
       "    </tr>\n",
       "    <tr>\n",
       "      <th>3</th>\n",
       "      <td>A134412216</td>\n",
       "      <td>MX-100095892</td>\n",
       "      <td>1.0</td>\n",
       "      <td>1.0</td>\n",
       "      <td>0.0</td>\n",
       "      <td>2.0</td>\n",
       "      <td>0.500</td>\n",
       "      <td>0.000</td>\n",
       "    </tr>\n",
       "    <tr>\n",
       "      <th>4</th>\n",
       "      <td>A897161619</td>\n",
       "      <td>MX-100116696</td>\n",
       "      <td>3.0</td>\n",
       "      <td>5.0</td>\n",
       "      <td>2.0</td>\n",
       "      <td>10.0</td>\n",
       "      <td>0.500</td>\n",
       "      <td>0.200</td>\n",
       "    </tr>\n",
       "  </tbody>\n",
       "</table>\n",
       "</div>"
      ],
      "text/plain": [
       "      Loan_id Application_id  month_count  Right_Party_Contact  \\\n",
       "0  A987633031   MX-100040250          1.0                  5.0   \n",
       "1  A145720684    MX-10005082          1.0                  0.0   \n",
       "2  A730581847   MX-100062359          1.0                  1.0   \n",
       "3  A134412216   MX-100095892          1.0                  1.0   \n",
       "4  A897161619   MX-100116696          3.0                  5.0   \n",
       "\n",
       "   Promise_to_pay  total_contacts  RPC_rate  PTP_rate  \n",
       "0             2.0            21.0     0.238     0.095  \n",
       "1             0.0             2.0     0.000     0.000  \n",
       "2             1.0             1.0     1.000     1.000  \n",
       "3             0.0             2.0     0.500     0.000  \n",
       "4             2.0            10.0     0.500     0.200  "
      ]
     },
     "execution_count": 248,
     "metadata": {},
     "output_type": "execute_result"
    }
   ],
   "source": [
    "call_data.head()"
   ]
  },
  {
   "cell_type": "markdown",
   "metadata": {},
   "source": [
    "## Target Prep"
   ]
  },
  {
   "cell_type": "code",
   "execution_count": 178,
   "metadata": {},
   "outputs": [],
   "source": [
    "target_prep = data2.drop(columns=['Bucket_mar01', 'TENURE_mar01', 'PRINBALANCE_mar01',\n",
    "       'Months on Books_mar01', 'Sanctioned Amount_mar01', 'Bucket_mar31',\n",
    "       'PRINBALANCE_mar31', 'Months on Books_mar31', 'Bucket_apr01',\n",
    "       'PRINBALANCE_apr01', 'Months on Books_apr01', 'Bucket_apr31',\n",
    "       'PRINBALANCE_apr31', 'Months on Books_apr31', 'Bucket_may01',\n",
    "       'PRINBALANCE_may01', 'Months on Books_may01', 'Bucket_may31',\n",
    "       'PRINBALANCE_may31', 'Months on Books_may31',\n",
    "                               ])"
   ]
  },
  {
   "cell_type": "code",
   "execution_count": 179,
   "metadata": {
    "scrolled": true
   },
   "outputs": [
    {
     "name": "stdout",
     "output_type": "stream",
     "text": [
      "<class 'pandas.core.frame.DataFrame'>\n",
      "Int64Index: 40339 entries, 0 to 40338\n",
      "Data columns (total 8 columns):\n",
      "Loan_id    40339 non-null object\n",
      "RF1        40339 non-null int32\n",
      "RF2        40339 non-null int32\n",
      "RF3        40339 non-null int32\n",
      "RF4        40339 non-null int32\n",
      "RB2        40339 non-null int32\n",
      "RB3        40339 non-null int32\n",
      "RB4        40339 non-null int32\n",
      "dtypes: int32(7), object(1)\n",
      "memory usage: 1.7+ MB\n"
     ]
    }
   ],
   "source": [
    "target_prep.info()"
   ]
  },
  {
   "cell_type": "code",
   "execution_count": 190,
   "metadata": {},
   "outputs": [
    {
     "data": {
      "text/plain": [
       "Index(['Loan_id', 'RF1', 'RF2', 'RF3', 'RF4', 'RB2', 'RB3', 'RB4', 'RF_sum',\n",
       "       'target'],\n",
       "      dtype='object')"
      ]
     },
     "execution_count": 190,
     "metadata": {},
     "output_type": "execute_result"
    }
   ],
   "source": [
    "\n",
    "target_prep['RF_sum'] = target_prep['RF1'] + target_prep['RF2'] +target_prep['RF3'] + target_prep['RF4']\n",
    "target_prep['target'] = target_prep['RF_sum'].apply(lambda x: 1 if x >1 else 0)\n",
    "target_prep.columns"
   ]
  },
  {
   "cell_type": "code",
   "execution_count": 192,
   "metadata": {},
   "outputs": [],
   "source": [
    "target = target_prep.drop(columns=[ 'RF1', 'RF2', 'RF3', 'RF4', 'RB2', 'RB3', 'RB4', 'RF_sum'])"
   ]
  },
  {
   "cell_type": "code",
   "execution_count": 193,
   "metadata": {},
   "outputs": [
    {
     "data": {
      "text/html": [
       "<div>\n",
       "<style scoped>\n",
       "    .dataframe tbody tr th:only-of-type {\n",
       "        vertical-align: middle;\n",
       "    }\n",
       "\n",
       "    .dataframe tbody tr th {\n",
       "        vertical-align: top;\n",
       "    }\n",
       "\n",
       "    .dataframe thead th {\n",
       "        text-align: right;\n",
       "    }\n",
       "</style>\n",
       "<table border=\"1\" class=\"dataframe\">\n",
       "  <thead>\n",
       "    <tr style=\"text-align: right;\">\n",
       "      <th></th>\n",
       "      <th>Loan_id</th>\n",
       "      <th>target</th>\n",
       "    </tr>\n",
       "  </thead>\n",
       "  <tbody>\n",
       "    <tr>\n",
       "      <th>0</th>\n",
       "      <td>A205346000</td>\n",
       "      <td>0</td>\n",
       "    </tr>\n",
       "    <tr>\n",
       "      <th>1</th>\n",
       "      <td>A675851816</td>\n",
       "      <td>0</td>\n",
       "    </tr>\n",
       "    <tr>\n",
       "      <th>2</th>\n",
       "      <td>A260852240</td>\n",
       "      <td>0</td>\n",
       "    </tr>\n",
       "    <tr>\n",
       "      <th>3</th>\n",
       "      <td>A374402177</td>\n",
       "      <td>1</td>\n",
       "    </tr>\n",
       "    <tr>\n",
       "      <th>4</th>\n",
       "      <td>A211889361</td>\n",
       "      <td>1</td>\n",
       "    </tr>\n",
       "  </tbody>\n",
       "</table>\n",
       "</div>"
      ],
      "text/plain": [
       "      Loan_id  target\n",
       "0  A205346000       0\n",
       "1  A675851816       0\n",
       "2  A260852240       0\n",
       "3  A374402177       1\n",
       "4  A211889361       1"
      ]
     },
     "execution_count": 193,
     "metadata": {},
     "output_type": "execute_result"
    }
   ],
   "source": [
    "target.head()"
   ]
  },
  {
   "cell_type": "markdown",
   "metadata": {},
   "source": [
    "### Features Combined"
   ]
  },
  {
   "cell_type": "code",
   "execution_count": 259,
   "metadata": {},
   "outputs": [],
   "source": [
    "dataframe = pd.merge(data_TB0, df['Loan Details'], how='left', on='Loan_id')\n"
   ]
  },
  {
   "cell_type": "code",
   "execution_count": 260,
   "metadata": {},
   "outputs": [],
   "source": [
    "dataframe = pd.merge(dataframe, data_6m, how='left', on='Loan_id')"
   ]
  },
  {
   "cell_type": "code",
   "execution_count": 261,
   "metadata": {},
   "outputs": [],
   "source": [
    "dataframe = pd.merge(dataframe, call_data, how='left', on='Loan_id')"
   ]
  },
  {
   "cell_type": "code",
   "execution_count": 262,
   "metadata": {},
   "outputs": [],
   "source": [
    "dataframe = pd.merge(dataframe, target, how='left', on='Loan_id')"
   ]
  },
  {
   "cell_type": "code",
   "execution_count": 263,
   "metadata": {},
   "outputs": [],
   "source": [
    "dataframe = dataframe.drop(columns=[ 'Loan_id','Application_id','rollb'])"
   ]
  },
  {
   "cell_type": "code",
   "execution_count": 264,
   "metadata": {},
   "outputs": [
    {
     "name": "stdout",
     "output_type": "stream",
     "text": [
      "<class 'pandas.core.frame.DataFrame'>\n",
      "Int64Index: 40339 entries, 0 to 40338\n",
      "Data columns (total 22 columns):\n",
      "PRINBALANCE             40339 non-null float64\n",
      "Months on Books         40339 non-null int64\n",
      "Debt_to_burden_Ratio    40339 non-null float64\n",
      "total_income            40339 non-null float64\n",
      "TENURE                  40339 non-null int64\n",
      "Sanctioned Amount       40339 non-null int64\n",
      "paidcure                40339 non-null int64\n",
      "paiduncure              40339 non-null int64\n",
      "unpaid                  40339 non-null int64\n",
      "num6mosdel              40339 non-null int64\n",
      "num3mosdel              40339 non-null int64\n",
      "num6mosdel_2plus        40339 non-null int64\n",
      "num3mosdel_2plus        40339 non-null int64\n",
      "max6del                 40339 non-null int64\n",
      "max3del                 40339 non-null int64\n",
      "month_count             40339 non-null float64\n",
      "Right_Party_Contact     40339 non-null float64\n",
      "Promise_to_pay          40339 non-null float64\n",
      "total_contacts          40339 non-null float64\n",
      "RPC_rate                40339 non-null float64\n",
      "PTP_rate                40339 non-null float64\n",
      "target                  40339 non-null int64\n",
      "dtypes: float64(9), int64(13)\n",
      "memory usage: 7.1 MB\n"
     ]
    }
   ],
   "source": [
    "dataframe.info()"
   ]
  },
  {
   "cell_type": "code",
   "execution_count": 235,
   "metadata": {},
   "outputs": [
    {
     "data": {
      "text/html": [
       "<div>\n",
       "<style scoped>\n",
       "    .dataframe tbody tr th:only-of-type {\n",
       "        vertical-align: middle;\n",
       "    }\n",
       "\n",
       "    .dataframe tbody tr th {\n",
       "        vertical-align: top;\n",
       "    }\n",
       "\n",
       "    .dataframe thead th {\n",
       "        text-align: right;\n",
       "    }\n",
       "</style>\n",
       "<table border=\"1\" class=\"dataframe\">\n",
       "  <thead>\n",
       "    <tr style=\"text-align: right;\">\n",
       "      <th></th>\n",
       "      <th>PRINBALANCE</th>\n",
       "      <th>Months on Books</th>\n",
       "      <th>Debt_to_burden_Ratio</th>\n",
       "      <th>total_income</th>\n",
       "      <th>TENURE</th>\n",
       "      <th>Sanctioned Amount</th>\n",
       "      <th>paidcure</th>\n",
       "      <th>paiduncure</th>\n",
       "      <th>unpaid</th>\n",
       "      <th>num6mosdel</th>\n",
       "      <th>num3mosdel</th>\n",
       "      <th>num6mosdel_2plus</th>\n",
       "      <th>num3mosdel_2plus</th>\n",
       "      <th>max6del</th>\n",
       "      <th>max3del</th>\n",
       "      <th>month_count</th>\n",
       "      <th>Right_Party_Contact</th>\n",
       "      <th>Promise_to_pay</th>\n",
       "      <th>total_contacts</th>\n",
       "      <th>RPC_rate</th>\n",
       "      <th>PTP_rate</th>\n",
       "      <th>target</th>\n",
       "    </tr>\n",
       "  </thead>\n",
       "  <tbody>\n",
       "    <tr>\n",
       "      <th>0</th>\n",
       "      <td>10539100.0</td>\n",
       "      <td>37</td>\n",
       "      <td>0.244840</td>\n",
       "      <td>5000000.0</td>\n",
       "      <td>48</td>\n",
       "      <td>30000000</td>\n",
       "      <td>2</td>\n",
       "      <td>1</td>\n",
       "      <td>3</td>\n",
       "      <td>5</td>\n",
       "      <td>2</td>\n",
       "      <td>4</td>\n",
       "      <td>2</td>\n",
       "      <td>5</td>\n",
       "      <td>5</td>\n",
       "      <td>NaN</td>\n",
       "      <td>NaN</td>\n",
       "      <td>NaN</td>\n",
       "      <td>NaN</td>\n",
       "      <td>NaN</td>\n",
       "      <td>NaN</td>\n",
       "      <td>1</td>\n",
       "    </tr>\n",
       "    <tr>\n",
       "      <th>1</th>\n",
       "      <td>3693500.0</td>\n",
       "      <td>33</td>\n",
       "      <td>0.247458</td>\n",
       "      <td>4199908.0</td>\n",
       "      <td>36</td>\n",
       "      <td>22000000</td>\n",
       "      <td>2</td>\n",
       "      <td>1</td>\n",
       "      <td>3</td>\n",
       "      <td>6</td>\n",
       "      <td>3</td>\n",
       "      <td>6</td>\n",
       "      <td>3</td>\n",
       "      <td>4</td>\n",
       "      <td>4</td>\n",
       "      <td>NaN</td>\n",
       "      <td>NaN</td>\n",
       "      <td>NaN</td>\n",
       "      <td>NaN</td>\n",
       "      <td>NaN</td>\n",
       "      <td>NaN</td>\n",
       "      <td>0</td>\n",
       "    </tr>\n",
       "    <tr>\n",
       "      <th>2</th>\n",
       "      <td>24353700.0</td>\n",
       "      <td>30</td>\n",
       "      <td>0.149219</td>\n",
       "      <td>9887482.0</td>\n",
       "      <td>48</td>\n",
       "      <td>40000000</td>\n",
       "      <td>2</td>\n",
       "      <td>1</td>\n",
       "      <td>3</td>\n",
       "      <td>4</td>\n",
       "      <td>3</td>\n",
       "      <td>3</td>\n",
       "      <td>3</td>\n",
       "      <td>4</td>\n",
       "      <td>4</td>\n",
       "      <td>NaN</td>\n",
       "      <td>NaN</td>\n",
       "      <td>NaN</td>\n",
       "      <td>NaN</td>\n",
       "      <td>NaN</td>\n",
       "      <td>NaN</td>\n",
       "      <td>0</td>\n",
       "    </tr>\n",
       "    <tr>\n",
       "      <th>3</th>\n",
       "      <td>4441700.0</td>\n",
       "      <td>30</td>\n",
       "      <td>0.178700</td>\n",
       "      <td>5000000.0</td>\n",
       "      <td>36</td>\n",
       "      <td>20000000</td>\n",
       "      <td>2</td>\n",
       "      <td>1</td>\n",
       "      <td>3</td>\n",
       "      <td>4</td>\n",
       "      <td>2</td>\n",
       "      <td>3</td>\n",
       "      <td>2</td>\n",
       "      <td>4</td>\n",
       "      <td>4</td>\n",
       "      <td>NaN</td>\n",
       "      <td>NaN</td>\n",
       "      <td>NaN</td>\n",
       "      <td>NaN</td>\n",
       "      <td>NaN</td>\n",
       "      <td>NaN</td>\n",
       "      <td>0</td>\n",
       "    </tr>\n",
       "    <tr>\n",
       "      <th>4</th>\n",
       "      <td>20002300.0</td>\n",
       "      <td>19</td>\n",
       "      <td>0.212669</td>\n",
       "      <td>6105249.0</td>\n",
       "      <td>36</td>\n",
       "      <td>30000000</td>\n",
       "      <td>2</td>\n",
       "      <td>2</td>\n",
       "      <td>2</td>\n",
       "      <td>5</td>\n",
       "      <td>3</td>\n",
       "      <td>2</td>\n",
       "      <td>2</td>\n",
       "      <td>3</td>\n",
       "      <td>3</td>\n",
       "      <td>NaN</td>\n",
       "      <td>NaN</td>\n",
       "      <td>NaN</td>\n",
       "      <td>NaN</td>\n",
       "      <td>NaN</td>\n",
       "      <td>NaN</td>\n",
       "      <td>0</td>\n",
       "    </tr>\n",
       "  </tbody>\n",
       "</table>\n",
       "</div>"
      ],
      "text/plain": [
       "   PRINBALANCE  Months on Books  Debt_to_burden_Ratio  total_income  TENURE  \\\n",
       "0   10539100.0               37              0.244840     5000000.0      48   \n",
       "1    3693500.0               33              0.247458     4199908.0      36   \n",
       "2   24353700.0               30              0.149219     9887482.0      48   \n",
       "3    4441700.0               30              0.178700     5000000.0      36   \n",
       "4   20002300.0               19              0.212669     6105249.0      36   \n",
       "\n",
       "   Sanctioned Amount  paidcure  paiduncure  unpaid  num6mosdel  num3mosdel  \\\n",
       "0           30000000         2           1       3           5           2   \n",
       "1           22000000         2           1       3           6           3   \n",
       "2           40000000         2           1       3           4           3   \n",
       "3           20000000         2           1       3           4           2   \n",
       "4           30000000         2           2       2           5           3   \n",
       "\n",
       "   num6mosdel_2plus  num3mosdel_2plus  max6del  max3del  month_count  \\\n",
       "0                 4                 2        5        5          NaN   \n",
       "1                 6                 3        4        4          NaN   \n",
       "2                 3                 3        4        4          NaN   \n",
       "3                 3                 2        4        4          NaN   \n",
       "4                 2                 2        3        3          NaN   \n",
       "\n",
       "   Right_Party_Contact  Promise_to_pay  total_contacts  RPC_rate  PTP_rate  \\\n",
       "0                  NaN             NaN             NaN       NaN       NaN   \n",
       "1                  NaN             NaN             NaN       NaN       NaN   \n",
       "2                  NaN             NaN             NaN       NaN       NaN   \n",
       "3                  NaN             NaN             NaN       NaN       NaN   \n",
       "4                  NaN             NaN             NaN       NaN       NaN   \n",
       "\n",
       "   target  \n",
       "0       1  \n",
       "1       0  \n",
       "2       0  \n",
       "3       0  \n",
       "4       0  "
      ]
     },
     "execution_count": 235,
     "metadata": {},
     "output_type": "execute_result"
    }
   ],
   "source": [
    "dataframe.head()"
   ]
  },
  {
   "cell_type": "markdown",
   "metadata": {},
   "source": [
    "## Model"
   ]
  },
  {
   "cell_type": "code",
   "execution_count": 217,
   "metadata": {},
   "outputs": [],
   "source": [
    "from sklearn.metrics import make_scorer, accuracy_score, roc_auc_score \n",
    "from sklearn.model_selection import GridSearchCV\n",
    "from sklearn.model_selection import train_test_split"
   ]
  },
  {
   "cell_type": "code",
   "execution_count": 265,
   "metadata": {},
   "outputs": [],
   "source": [
    "X= dataframe.drop(columns=['target'])\n",
    "y= dataframe['target']\n",
    "X_train, X_test, y_train, y_test = train_test_split(X, y, test_size=0.33, random_state=42)"
   ]
  },
  {
   "cell_type": "code",
   "execution_count": 266,
   "metadata": {},
   "outputs": [
    {
     "name": "stdout",
     "output_type": "stream",
     "text": [
      "XGBoost's prediction accuracy is: 94.11\n",
      "Time consumed for training: 3.438\n",
      "Time consumed for prediction: 0.03862 seconds\n",
      "AUC: 0.9503212141088636\n"
     ]
    }
   ],
   "source": [
    "import time\n",
    "xgb = XGBClassifier(n_estimators=100)\n",
    "training_start = time.perf_counter()\n",
    "xgb.fit(X_train, y_train)\n",
    "training_end = time.perf_counter()\n",
    "prediction_start = time.perf_counter()\n",
    "preds = xgb.predict(X_test)\n",
    "prediction_end = time.perf_counter()\n",
    "acc_xgb = (preds == y_test).sum().astype(float) / len(preds)*100\n",
    "xgb_train_time = training_end-training_start\n",
    "xgb_prediction_time = prediction_end-prediction_start\n",
    "XGB_Accuracy = accuracy_score(y_test, preds)\n",
    "XGB_AUC = roc_auc_score(y_test, preds)\n",
    "\n",
    "print(\"XGBoost's prediction accuracy is: %3.2f\" % (acc_xgb))\n",
    "print(\"Time consumed for training: %4.3f\" % (xgb_train_time))\n",
    "print(\"Time consumed for prediction: %6.5f seconds\" % (xgb_prediction_time)) \n",
    "print(\"AUC: \" + str(XGB_AUC))\n"
   ]
  },
  {
   "cell_type": "code",
   "execution_count": 267,
   "metadata": {},
   "outputs": [
    {
     "name": "stdout",
     "output_type": "stream",
     "text": [
      "Accuracy: 0.9425330528846154\n",
      "AUC: 0.9522865847305401\n"
     ]
    }
   ],
   "source": [
    "RFC_Model = RandomForestClassifier()\n",
    "RFC_Model.fit(X_train, y_train)\n",
    "RFC_Predict = RFC_Model.predict(X_test)\n",
    "RFC_Accuracy = accuracy_score(y_test, RFC_Predict)\n",
    "print(\"Accuracy: \" + str(RFC_Accuracy))\n",
    "\n",
    "RFC_AUC = roc_auc_score(y_test, RFC_Predict) \n",
    "print(\"AUC: \" + str(RFC_AUC))"
   ]
  },
  {
   "cell_type": "code",
   "execution_count": 268,
   "metadata": {},
   "outputs": [
    {
     "name": "stdout",
     "output_type": "stream",
     "text": [
      "LR's prediction accuracy is: 64.55\n",
      "Time consumed for training: 0.842\n",
      "Time consumed for prediction: 0.00343 seconds\n",
      "AUC: 0.5\n"
     ]
    }
   ],
   "source": [
    "#Logistic Regression\n",
    "LR_Model = LogisticRegression()\n",
    "training_start2 = time.perf_counter()\n",
    "LR_Model.fit(X_train, y_train)\n",
    "training_end2 = time.perf_counter()\n",
    "prediction_start2 = time.perf_counter()\n",
    "preds = LR_Model.predict(X_test)\n",
    "prediction_end2 = time.perf_counter()\n",
    "acc_LR = (preds == y_test).sum().astype(float) / len(preds)*100\n",
    "LR_train_time = training_end2-training_start2\n",
    "LR_prediction_time = prediction_end2-prediction_start2\n",
    "LR_Accuracy = accuracy_score(y_test, preds)\n",
    "LR_AUC = roc_auc_score(y_test, preds)\n",
    "\n",
    "print(\"LR's prediction accuracy is: %3.2f\" % (acc_LR))\n",
    "print(\"Time consumed for training: %4.3f\" % (LR_train_time))\n",
    "print(\"Time consumed for prediction: %6.5f seconds\" % (LR_prediction_time)) \n",
    "print(\"AUC: \" + str(LR_AUC))"
   ]
  },
  {
   "cell_type": "code",
   "execution_count": 270,
   "metadata": {},
   "outputs": [
    {
     "name": "stdout",
     "output_type": "stream",
     "text": [
      "[0.00378651 0.00306394 0.0023139  0.00227875 0.00247637 0.00217809\n",
      " 0.00227092 0.00239556 0.00298646 0.00252683 0.00793218 0.00315364\n",
      " 0.00279523 0.         0.         0.9480186  0.00189721 0.00257675\n",
      " 0.00211155 0.00263328 0.00260418]\n",
      "[4.07018951e-02 3.49636705e-02 3.60901575e-02 3.38859482e-02\n",
      " 6.12705471e-03 2.55934207e-02 1.17320577e-02 1.39745915e-03\n",
      " 3.39903330e-03 4.69162439e-03 4.77917802e-03 5.31427496e-04\n",
      " 3.95457553e-04 2.72424262e-03 2.04178210e-03 5.11288838e-01\n",
      " 8.73855299e-02 4.48778303e-02 8.48535944e-02 3.34114667e-02\n",
      " 2.91283313e-02]\n"
     ]
    }
   ],
   "source": [
    "print(xgb.feature_importances_)\n",
    "print(RFC_Model.feature_importances_)\n"
   ]
  },
  {
   "cell_type": "code",
   "execution_count": null,
   "metadata": {},
   "outputs": [],
   "source": []
  }
 ],
 "metadata": {
  "kernelspec": {
   "display_name": "Python 3",
   "language": "python",
   "name": "python3"
  },
  "language_info": {
   "codemirror_mode": {
    "name": "ipython",
    "version": 3
   },
   "file_extension": ".py",
   "mimetype": "text/x-python",
   "name": "python",
   "nbconvert_exporter": "python",
   "pygments_lexer": "ipython3",
   "version": "3.7.4-final"
  }
 },
 "nbformat": 4,
 "nbformat_minor": 2
}