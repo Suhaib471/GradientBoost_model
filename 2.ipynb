{
 "cells": [
  {
   "cell_type": "code",
   "execution_count": 1,
   "metadata": {},
   "outputs": [],
   "source": [
    "#import modules and read file into dataframe\n",
    "import pandas as pd\n",
    "import datetime as dt\n",
    "import numpy as np\n",
    "import matplotlib\n",
    "import matplotlib.pyplot as plt \n",
    "import seaborn as sns\n",
    "import sklearn\n",
    "from openpyxl.workbook import Workbook\n",
    "\n",
    "from sklearn.linear_model import LogisticRegression\n",
    "from sklearn.ensemble import RandomForestClassifier\n",
    "from sklearn.model_selection import cross_val_predict\n",
    "from sklearn.metrics import confusion_matrix\n",
    "from sklearn.model_selection import train_test_split\n",
    "from sklearn.utils import resample\n",
    "\n",
    "pd.options.display.max_columns=999\n",
    "pd.options.display.max_rows=3000\n",
    "\n",
    "data = pd.read_excel('Collections Case Study Data.xlsx', sheet_name=None)"
   ]
  },
  {
   "cell_type": "markdown",
   "metadata": {},
   "source": [
    "## What is the account roll forward rate for the months of Mar , Apr, May and June for TB0?"
   ]
  },
  {
   "cell_type": "code",
   "execution_count": 2,
   "metadata": {},
   "outputs": [
    {
     "output_type": "execute_result",
     "data": {
      "text/plain": "dict_keys(['Loan Details', 'Loan_Status_MartoMay', 'Loan_Status_AprtoJun', 'Historical 6 Months Details', 'Loan_ID mapping', 'Call Details'])"
     },
     "metadata": {},
     "execution_count": 2
    }
   ],
   "source": [
    "#assign data to new dataframe and display keys\n",
    "df = data\n",
    "df.keys()"
   ]
  },
  {
   "cell_type": "code",
   "execution_count": 3,
   "metadata": {},
   "outputs": [],
   "source": [
    "#creates stratums for data based on month\n",
    "mar_data = df['Loan_Status_MartoMay'].loc[df['Loan_Status_MartoMay']['Month'] == 'March']\n",
    "apr_data = df['Loan_Status_MartoMay'].loc[df['Loan_Status_MartoMay']['Month'] == 'April']\n",
    "may_data = df['Loan_Status_MartoMay'].loc[df['Loan_Status_MartoMay']['Month'] == 'May']\n",
    "marapr_data = df['Loan_Status_AprtoJun'].loc[df['Loan_Status_AprtoJun']['Month'] == 'April']\n",
    "aprmay_data = df['Loan_Status_AprtoJun'].loc[df['Loan_Status_AprtoJun']['Month'] == 'May']\n",
    "mayjun_data = df['Loan_Status_AprtoJun'].loc[df['Loan_Status_AprtoJun']['Month'] == 'June']"
   ]
  },
  {
   "cell_type": "code",
   "execution_count": 4,
   "metadata": {},
   "outputs": [],
   "source": [
    "#combines data for months with performance in the following month\n",
    "mar_data1 = pd.merge(mar_data, marapr_data, how='left', on='Loan_id', suffixes=('_mar', '_marapr'))\n",
    "apr_data1 = pd.merge(apr_data, aprmay_data, how='left', on='Loan_id', suffixes=('_apr', '_aprmay'))\n",
    "may_data1 = pd.merge(may_data, mayjun_data, how='left', on='Loan_id', suffixes=('_may', '_mayjun'))"
   ]
  },
  {
   "cell_type": "code",
   "execution_count": 5,
   "metadata": {},
   "outputs": [],
   "source": [
    "#merges monthly data into one dataframe\n",
    "data1 = pd.merge(mar_data1, apr_data1, how='outer', on='Loan_id')\n",
    "data1 = pd.merge(data1, may_data1, how='outer', on='Loan_id')"
   ]
  },
  {
   "cell_type": "code",
   "execution_count": 6,
   "metadata": {},
   "outputs": [
    {
     "output_type": "execute_result",
     "data": {
      "text/plain": "True"
     },
     "metadata": {},
     "execution_count": 6
    }
   ],
   "source": [
    "#QC to ensure all data has been captured\n",
    "len(data1) == len(df['Loan Details'])"
   ]
  },
  {
   "cell_type": "code",
   "execution_count": 7,
   "metadata": {},
   "outputs": [
    {
     "output_type": "execute_result",
     "data": {
      "text/plain": "Index(['Loan_id', 'Bucket_mar', 'TENURE_mar', 'PRINBALANCE_mar',\n       'Months on Books_mar', 'Sanctioned Amount_mar', 'Month_mar',\n       'Bucket_marapr', 'PRINBALANCE_marapr', 'TENURE_marapr',\n       'Months on Books_marapr', 'Sanctioned Amount_marapr', 'Month_marapr',\n       'Bucket_apr', 'TENURE_apr', 'PRINBALANCE_apr', 'Months on Books_apr',\n       'Sanctioned Amount_apr', 'Month_apr', 'Bucket_aprmay',\n       'PRINBALANCE_aprmay', 'TENURE_aprmay', 'Months on Books_aprmay',\n       'Sanctioned Amount_aprmay', 'Month_aprmay', 'Bucket_may', 'TENURE_may',\n       'PRINBALANCE_may', 'Months on Books_may', 'Sanctioned Amount_may',\n       'Month_may', 'Bucket_mayjun', 'PRINBALANCE_mayjun', 'TENURE_mayjun',\n       'Months on Books_mayjun', 'Sanctioned Amount_mayjun', 'Month_mayjun'],\n      dtype='object')"
     },
     "metadata": {},
     "execution_count": 7
    }
   ],
   "source": [
    "#displays column names\n",
    "data1.columns"
   ]
  },
  {
   "cell_type": "code",
   "execution_count": 8,
   "metadata": {},
   "outputs": [
    {
     "output_type": "stream",
     "name": "stdout",
     "text": "TB0    24575\nName: Bucket_mar, dtype: int64\n\n\nREGULAR    22475\nTB0         1709\nTB1          391\nName: Bucket_marapr, dtype: int64\n\n\nTB0    27079\nName: Bucket_apr, dtype: int64\n\n\nREGULAR    24964\nTB0         1574\nTB1          541\nName: Bucket_aprmay, dtype: int64\n\n\nTB0    29115\nName: Bucket_may, dtype: int64\n\n\nREGULAR    27085\nTB0         1577\nTB1          453\nName: Bucket_mayjun, dtype: int64\n\n\n"
    }
   ],
   "source": [
    "#displays value counts for statuses in each month\n",
    "cols = ['Bucket_mar','Bucket_marapr', 'Bucket_apr', 'Bucket_aprmay', 'Bucket_may', 'Bucket_mayjun']\n",
    "\n",
    "for c in cols:\n",
    "    print(data1[c].value_counts())\n",
    "    print('\\n')"
   ]
  },
  {
   "cell_type": "code",
   "execution_count": 9,
   "metadata": {},
   "outputs": [
    {
     "output_type": "stream",
     "name": "stdout",
     "text": "Bucket_mar  Bucket_apr  Bucket_may\nTB0       24575       27079       29115\n         Bucket_marapr  Bucket_aprmay  Bucket_mayjun\nREGULAR          22475          24964          27085\nTB0               1709           1574           1577\nTB1                391            541            453\n"
    }
   ],
   "source": [
    "#creates a dataframe to display bucket migration for each month\n",
    "cols1 = ['Bucket_mar', 'Bucket_apr', 'Bucket_may']\n",
    "exp1 = pd.DataFrame()\n",
    "for c in cols1:\n",
    "    exp1[c] = data1[c].value_counts()\n",
    "\n",
    "\n",
    "cols2 = ['Bucket_marapr', 'Bucket_aprmay', 'Bucket_mayjun']\n",
    "exp2 = pd.DataFrame()\n",
    "for c in cols2:\n",
    "    exp2[c] = data1[c].value_counts()\n",
    "\n",
    "print(exp1)\n",
    "print(exp2)\n"
   ]
  },
  {
   "cell_type": "code",
   "execution_count": 10,
   "metadata": {},
   "outputs": [
    {
     "output_type": "stream",
     "name": "stdout",
     "text": "Roll rate TB0 loans in March:  60.92119289025509\nRoll rate TB0 loans in April:  67.12858524009023\nRoll rate TB0 loans in May:    72.17581001016387\n"
    }
   ],
   "source": [
    "#calculates roll forward rate for each month\n",
    "mar_roll = data1['Bucket_mar'].count() / len(data1) * 100\n",
    "apr_roll = data1['Bucket_apr'].count() / len(data1) * 100\n",
    "may_roll = data1['Bucket_may'].count() / len(data1) * 100\n",
    "\n",
    "print('Roll rate TB0 loans in March: ', mar_roll)\n",
    "print('Roll rate TB0 loans in April: ', apr_roll)\n",
    "print('Roll rate TB0 loans in May:   ', may_roll)"
   ]
  },
  {
   "cell_type": "code",
   "execution_count": 11,
   "metadata": {},
   "outputs": [
    {
     "output_type": "stream",
     "name": "stdout",
     "text": "Roll rate for March TB0 loans:  1.591\nRoll rate for April TB0 loans:  1.998\nRoll rate for May TB0:          1.556\n"
    }
   ],
   "source": [
    "#calculates roll forward rate for loans that were TB0 in each month\n",
    "mar_roll1 = round(exp2.iloc[2,0] / exp2['Bucket_marapr'].sum() * 100, 3)\n",
    "apr_roll1 = round(exp2.iloc[2,1] / exp2['Bucket_aprmay'].sum() * 100, 3)\n",
    "may_roll1 = round(exp2.iloc[2,2] / exp2['Bucket_mayjun'].sum() * 100, 3)\n",
    "\n",
    "print('Roll rate for March TB0 loans: ', mar_roll1)\n",
    "print('Roll rate for April TB0 loans: ', apr_roll1)\n",
    "print('Roll rate for May TB0:         ', may_roll1)"
   ]
  },
  {
   "cell_type": "markdown",
   "metadata": {},
   "source": [
    "## What is the Princple outstanding balance roll forward rate for the same months as above for TB0?"
   ]
  },
  {
   "cell_type": "code",
   "execution_count": 12,
   "metadata": {},
   "outputs": [
    {
     "output_type": "stream",
     "name": "stdout",
     "text": "Total sanctioned amount:  1862351670144\n"
    }
   ],
   "source": [
    "#calculates total dollar santioned for entire portfolio\n",
    "total_sanctioned = df['Loan Details']['Sanctioned Amount'].sum()\n",
    "\n",
    "print('Total sanctioned amount: ', total_sanctioned)"
   ]
  },
  {
   "cell_type": "code",
   "execution_count": 13,
   "metadata": {},
   "outputs": [
    {
     "output_type": "stream",
     "name": "stdout",
     "text": "Balance roll rate for TB0 loans in March:  44.44533007622233\nBalance roll rate for TB0 loans in April:  48.56477897441339\nBalance roll rate for TB0 loans in May:    53.393612868539655\n"
    }
   ],
   "source": [
    "#calculates balance roll forward rate for each month\n",
    "mar_bal_roll = data1['PRINBALANCE_mar'].sum() / total_sanctioned * 100\n",
    "apr_bal_roll = data1['PRINBALANCE_apr'].sum() / total_sanctioned * 100\n",
    "may_bal_roll = data1['PRINBALANCE_may'].sum() / total_sanctioned * 100\n",
    "\n",
    "print('Balance roll rate for TB0 loans in March: ', mar_bal_roll)\n",
    "print('Balance roll rate for TB0 loans in April: ', apr_bal_roll)\n",
    "print('Balance roll rate for TB0 loans in May:   ', may_bal_roll)"
   ]
  },
  {
   "cell_type": "markdown",
   "metadata": {},
   "source": [
    "## What is the average attempt intensity, RPC rate and PTP rate on accounts for the months of mar, Apr and May"
   ]
  },
  {
   "cell_type": "code",
   "execution_count": 14,
   "metadata": {},
   "outputs": [
    {
     "output_type": "execute_result",
     "data": {
      "text/plain": "dict_keys(['Loan Details', 'Loan_Status_MartoMay', 'Loan_Status_AprtoJun', 'Historical 6 Months Details', 'Loan_ID mapping', 'Call Details'])"
     },
     "metadata": {},
     "execution_count": 14
    }
   ],
   "source": [
    "df.keys()"
   ]
  },
  {
   "cell_type": "code",
   "execution_count": 105,
   "metadata": {},
   "outputs": [
    {
     "output_type": "execute_result",
     "data": {
      "text/plain": "       month Application_Id Login_ID  Right_Party_Contact  Promise_to_pay  \\\n79609      5   MX-999897229   AGNT19                    0               0   \n79610      5   MX-999911711    AGNT6                    0               0   \n79611      5   MX-999978990   AGNT43                    2               0   \n79612      5   MX-999980626   AGNT21                    1               1   \n79613      5   MX-999985403   AGNT19                    5               1   \n\n       total_contacts  \n79609               2  \n79610               1  \n79611               2  \n79612               1  \n79613               6  ",
      "text/html": "<div>\n<style scoped>\n    .dataframe tbody tr th:only-of-type {\n        vertical-align: middle;\n    }\n\n    .dataframe tbody tr th {\n        vertical-align: top;\n    }\n\n    .dataframe thead th {\n        text-align: right;\n    }\n</style>\n<table border=\"1\" class=\"dataframe\">\n  <thead>\n    <tr style=\"text-align: right;\">\n      <th></th>\n      <th>month</th>\n      <th>Application_Id</th>\n      <th>Login_ID</th>\n      <th>Right_Party_Contact</th>\n      <th>Promise_to_pay</th>\n      <th>total_contacts</th>\n    </tr>\n  </thead>\n  <tbody>\n    <tr>\n      <th>79609</th>\n      <td>5</td>\n      <td>MX-999897229</td>\n      <td>AGNT19</td>\n      <td>0</td>\n      <td>0</td>\n      <td>2</td>\n    </tr>\n    <tr>\n      <th>79610</th>\n      <td>5</td>\n      <td>MX-999911711</td>\n      <td>AGNT6</td>\n      <td>0</td>\n      <td>0</td>\n      <td>1</td>\n    </tr>\n    <tr>\n      <th>79611</th>\n      <td>5</td>\n      <td>MX-999978990</td>\n      <td>AGNT43</td>\n      <td>2</td>\n      <td>0</td>\n      <td>2</td>\n    </tr>\n    <tr>\n      <th>79612</th>\n      <td>5</td>\n      <td>MX-999980626</td>\n      <td>AGNT21</td>\n      <td>1</td>\n      <td>1</td>\n      <td>1</td>\n    </tr>\n    <tr>\n      <th>79613</th>\n      <td>5</td>\n      <td>MX-999985403</td>\n      <td>AGNT19</td>\n      <td>5</td>\n      <td>1</td>\n      <td>6</td>\n    </tr>\n  </tbody>\n</table>\n</div>"
     },
     "metadata": {},
     "execution_count": 105
    }
   ],
   "source": [
    "#assigns 'Call Detail' table to dataframe\n",
    "call_data = df['Call Details']\n",
    "call_data.tail()"
   ]
  },
  {
   "cell_type": "code",
   "execution_count": 106,
   "metadata": {},
   "outputs": [
    {
     "output_type": "execute_result",
     "data": {
      "text/plain": "                      month  Right_Party_Contact  Promise_to_pay  \\\nmonth Application_Id                                               \n3     MX-100062359        1                    1               1   \n      MX-100095892        1                    1               0   \n      MX-100116696        1                    2               0   \n      MX-10011780         1                    2               1   \n      MX-100133826        1                    4               3   \n...                     ...                  ...             ...   \n5     MX-999897229        1                    0               0   \n      MX-999911711        1                    0               0   \n      MX-999978990        1                    2               0   \n      MX-999980626        1                    1               1   \n      MX-999985403        1                    5               1   \n\n                      total_contacts  \nmonth Application_Id                  \n3     MX-100062359                 1  \n      MX-100095892                 2  \n      MX-100116696                 3  \n      MX-10011780                 10  \n      MX-100133826                17  \n...                              ...  \n5     MX-999897229                 2  \n      MX-999911711                 1  \n      MX-999978990                 2  \n      MX-999980626                 1  \n      MX-999985403                 6  \n\n[74925 rows x 4 columns]",
      "text/html": "<div>\n<style scoped>\n    .dataframe tbody tr th:only-of-type {\n        vertical-align: middle;\n    }\n\n    .dataframe tbody tr th {\n        vertical-align: top;\n    }\n\n    .dataframe thead th {\n        text-align: right;\n    }\n</style>\n<table border=\"1\" class=\"dataframe\">\n  <thead>\n    <tr style=\"text-align: right;\">\n      <th></th>\n      <th></th>\n      <th>month</th>\n      <th>Right_Party_Contact</th>\n      <th>Promise_to_pay</th>\n      <th>total_contacts</th>\n    </tr>\n    <tr>\n      <th>month</th>\n      <th>Application_Id</th>\n      <th></th>\n      <th></th>\n      <th></th>\n      <th></th>\n    </tr>\n  </thead>\n  <tbody>\n    <tr>\n      <th rowspan=\"5\" valign=\"top\">3</th>\n      <th>MX-100062359</th>\n      <td>1</td>\n      <td>1</td>\n      <td>1</td>\n      <td>1</td>\n    </tr>\n    <tr>\n      <th>MX-100095892</th>\n      <td>1</td>\n      <td>1</td>\n      <td>0</td>\n      <td>2</td>\n    </tr>\n    <tr>\n      <th>MX-100116696</th>\n      <td>1</td>\n      <td>2</td>\n      <td>0</td>\n      <td>3</td>\n    </tr>\n    <tr>\n      <th>MX-10011780</th>\n      <td>1</td>\n      <td>2</td>\n      <td>1</td>\n      <td>10</td>\n    </tr>\n    <tr>\n      <th>MX-100133826</th>\n      <td>1</td>\n      <td>4</td>\n      <td>3</td>\n      <td>17</td>\n    </tr>\n    <tr>\n      <th>...</th>\n      <th>...</th>\n      <td>...</td>\n      <td>...</td>\n      <td>...</td>\n      <td>...</td>\n    </tr>\n    <tr>\n      <th rowspan=\"5\" valign=\"top\">5</th>\n      <th>MX-999897229</th>\n      <td>1</td>\n      <td>0</td>\n      <td>0</td>\n      <td>2</td>\n    </tr>\n    <tr>\n      <th>MX-999911711</th>\n      <td>1</td>\n      <td>0</td>\n      <td>0</td>\n      <td>1</td>\n    </tr>\n    <tr>\n      <th>MX-999978990</th>\n      <td>1</td>\n      <td>2</td>\n      <td>0</td>\n      <td>2</td>\n    </tr>\n    <tr>\n      <th>MX-999980626</th>\n      <td>1</td>\n      <td>1</td>\n      <td>1</td>\n      <td>1</td>\n    </tr>\n    <tr>\n      <th>MX-999985403</th>\n      <td>1</td>\n      <td>5</td>\n      <td>1</td>\n      <td>6</td>\n    </tr>\n  </tbody>\n</table>\n<p>74925 rows × 4 columns</p>\n</div>"
     },
     "metadata": {},
     "execution_count": 106
    }
   ],
   "source": [
    "#groups call data by month and then aggregates\n",
    "month_table = call_data.groupby(['month', 'Application_Id']).aggregate({'month':'nunique', 'Right_Party_Contact':'sum', 'Promise_to_pay':'sum', 'total_contacts':'sum'})\n",
    "\n",
    "month_table"
   ]
  },
  {
   "cell_type": "code",
   "execution_count": 107,
   "metadata": {},
   "outputs": [
    {
     "output_type": "execute_result",
     "data": {
      "text/plain": "                      month_count  Right_Party_Contact  Promise_to_pay  \\\nmonth Application_Id                                                     \n3     MX-100062359              1                    1               1   \n      MX-100095892              1                    1               0   \n      MX-100116696              1                    2               0   \n      MX-10011780               1                    2               1   \n      MX-100133826              1                    4               3   \n...                           ...                  ...             ...   \n5     MX-999897229              1                    0               0   \n      MX-999911711              1                    0               0   \n      MX-999978990              1                    2               0   \n      MX-999980626              1                    1               1   \n      MX-999985403              1                    5               1   \n\n                      total_contacts  RPC_rate  PTP_rate  \nmonth Application_Id                                      \n3     MX-100062359                 1     1.000     1.000  \n      MX-100095892                 2     0.500     0.000  \n      MX-100116696                 3     0.667     0.000  \n      MX-10011780                 10     0.200     0.100  \n      MX-100133826                17     0.235     0.176  \n...                              ...       ...       ...  \n5     MX-999897229                 2     0.000     0.000  \n      MX-999911711                 1     0.000     0.000  \n      MX-999978990                 2     1.000     0.000  \n      MX-999980626                 1     1.000     1.000  \n      MX-999985403                 6     0.833     0.167  \n\n[74925 rows x 6 columns]",
      "text/html": "<div>\n<style scoped>\n    .dataframe tbody tr th:only-of-type {\n        vertical-align: middle;\n    }\n\n    .dataframe tbody tr th {\n        vertical-align: top;\n    }\n\n    .dataframe thead th {\n        text-align: right;\n    }\n</style>\n<table border=\"1\" class=\"dataframe\">\n  <thead>\n    <tr style=\"text-align: right;\">\n      <th></th>\n      <th></th>\n      <th>month_count</th>\n      <th>Right_Party_Contact</th>\n      <th>Promise_to_pay</th>\n      <th>total_contacts</th>\n      <th>RPC_rate</th>\n      <th>PTP_rate</th>\n    </tr>\n    <tr>\n      <th>month</th>\n      <th>Application_Id</th>\n      <th></th>\n      <th></th>\n      <th></th>\n      <th></th>\n      <th></th>\n      <th></th>\n    </tr>\n  </thead>\n  <tbody>\n    <tr>\n      <th rowspan=\"5\" valign=\"top\">3</th>\n      <th>MX-100062359</th>\n      <td>1</td>\n      <td>1</td>\n      <td>1</td>\n      <td>1</td>\n      <td>1.000</td>\n      <td>1.000</td>\n    </tr>\n    <tr>\n      <th>MX-100095892</th>\n      <td>1</td>\n      <td>1</td>\n      <td>0</td>\n      <td>2</td>\n      <td>0.500</td>\n      <td>0.000</td>\n    </tr>\n    <tr>\n      <th>MX-100116696</th>\n      <td>1</td>\n      <td>2</td>\n      <td>0</td>\n      <td>3</td>\n      <td>0.667</td>\n      <td>0.000</td>\n    </tr>\n    <tr>\n      <th>MX-10011780</th>\n      <td>1</td>\n      <td>2</td>\n      <td>1</td>\n      <td>10</td>\n      <td>0.200</td>\n      <td>0.100</td>\n    </tr>\n    <tr>\n      <th>MX-100133826</th>\n      <td>1</td>\n      <td>4</td>\n      <td>3</td>\n      <td>17</td>\n      <td>0.235</td>\n      <td>0.176</td>\n    </tr>\n    <tr>\n      <th>...</th>\n      <th>...</th>\n      <td>...</td>\n      <td>...</td>\n      <td>...</td>\n      <td>...</td>\n      <td>...</td>\n      <td>...</td>\n    </tr>\n    <tr>\n      <th rowspan=\"5\" valign=\"top\">5</th>\n      <th>MX-999897229</th>\n      <td>1</td>\n      <td>0</td>\n      <td>0</td>\n      <td>2</td>\n      <td>0.000</td>\n      <td>0.000</td>\n    </tr>\n    <tr>\n      <th>MX-999911711</th>\n      <td>1</td>\n      <td>0</td>\n      <td>0</td>\n      <td>1</td>\n      <td>0.000</td>\n      <td>0.000</td>\n    </tr>\n    <tr>\n      <th>MX-999978990</th>\n      <td>1</td>\n      <td>2</td>\n      <td>0</td>\n      <td>2</td>\n      <td>1.000</td>\n      <td>0.000</td>\n    </tr>\n    <tr>\n      <th>MX-999980626</th>\n      <td>1</td>\n      <td>1</td>\n      <td>1</td>\n      <td>1</td>\n      <td>1.000</td>\n      <td>1.000</td>\n    </tr>\n    <tr>\n      <th>MX-999985403</th>\n      <td>1</td>\n      <td>5</td>\n      <td>1</td>\n      <td>6</td>\n      <td>0.833</td>\n      <td>0.167</td>\n    </tr>\n  </tbody>\n</table>\n<p>74925 rows × 6 columns</p>\n</div>"
     },
     "metadata": {},
     "execution_count": 107
    }
   ],
   "source": [
    "#calculates Right Party Contacts (RPC) rate and Percentage of outbound calls resulting in Promise to Pay (PTP)\n",
    "# month_table['avg_intensity'] = round(month_table['total_contacts'] / month_table['month'], 3)\n",
    "\n",
    "month_table['RPC_rate'] = round(month_table['Right_Party_Contact'] / month_table['total_contacts'], 3)\n",
    "\n",
    "month_table['PTP_rate'] = round(month_table['Promise_to_pay'] / month_table['total_contacts'], 3)\n",
    "\n",
    "month_table.rename(columns={'month':'month_count'}, inplace=True)\n",
    "\n",
    "month_table"
   ]
  },
  {
   "cell_type": "code",
   "execution_count": 108,
   "metadata": {},
   "outputs": [
    {
     "output_type": "execute_result",
     "data": {
      "text/plain": "       month_count  Right_Party_Contact  Promise_to_pay  total_contacts  \\\ncount      74925.0         74925.000000    74925.000000    74925.000000   \nmean           1.0             3.415028        1.189216       11.683096   \nstd            0.0             6.855943        1.531626       21.936355   \nmin            1.0             0.000000        0.000000        1.000000   \n25%            1.0             1.000000        0.000000        2.000000   \n50%            1.0             2.000000        1.000000        4.000000   \n75%            1.0             4.000000        2.000000       11.000000   \nmax            1.0           651.000000       25.000000      659.000000   \n\n           RPC_rate      PTP_rate  \ncount  74925.000000  74925.000000  \nmean       0.491932      0.222600  \nstd        0.359137      0.302785  \nmin        0.000000      0.000000  \n25%        0.198000      0.000000  \n50%        0.429000      0.091000  \n75%        1.000000      0.333000  \nmax        1.000000      1.000000  ",
      "text/html": "<div>\n<style scoped>\n    .dataframe tbody tr th:only-of-type {\n        vertical-align: middle;\n    }\n\n    .dataframe tbody tr th {\n        vertical-align: top;\n    }\n\n    .dataframe thead th {\n        text-align: right;\n    }\n</style>\n<table border=\"1\" class=\"dataframe\">\n  <thead>\n    <tr style=\"text-align: right;\">\n      <th></th>\n      <th>month_count</th>\n      <th>Right_Party_Contact</th>\n      <th>Promise_to_pay</th>\n      <th>total_contacts</th>\n      <th>RPC_rate</th>\n      <th>PTP_rate</th>\n    </tr>\n  </thead>\n  <tbody>\n    <tr>\n      <th>count</th>\n      <td>74925.0</td>\n      <td>74925.000000</td>\n      <td>74925.000000</td>\n      <td>74925.000000</td>\n      <td>74925.000000</td>\n      <td>74925.000000</td>\n    </tr>\n    <tr>\n      <th>mean</th>\n      <td>1.0</td>\n      <td>3.415028</td>\n      <td>1.189216</td>\n      <td>11.683096</td>\n      <td>0.491932</td>\n      <td>0.222600</td>\n    </tr>\n    <tr>\n      <th>std</th>\n      <td>0.0</td>\n      <td>6.855943</td>\n      <td>1.531626</td>\n      <td>21.936355</td>\n      <td>0.359137</td>\n      <td>0.302785</td>\n    </tr>\n    <tr>\n      <th>min</th>\n      <td>1.0</td>\n      <td>0.000000</td>\n      <td>0.000000</td>\n      <td>1.000000</td>\n      <td>0.000000</td>\n      <td>0.000000</td>\n    </tr>\n    <tr>\n      <th>25%</th>\n      <td>1.0</td>\n      <td>1.000000</td>\n      <td>0.000000</td>\n      <td>2.000000</td>\n      <td>0.198000</td>\n      <td>0.000000</td>\n    </tr>\n    <tr>\n      <th>50%</th>\n      <td>1.0</td>\n      <td>2.000000</td>\n      <td>1.000000</td>\n      <td>4.000000</td>\n      <td>0.429000</td>\n      <td>0.091000</td>\n    </tr>\n    <tr>\n      <th>75%</th>\n      <td>1.0</td>\n      <td>4.000000</td>\n      <td>2.000000</td>\n      <td>11.000000</td>\n      <td>1.000000</td>\n      <td>0.333000</td>\n    </tr>\n    <tr>\n      <th>max</th>\n      <td>1.0</td>\n      <td>651.000000</td>\n      <td>25.000000</td>\n      <td>659.000000</td>\n      <td>1.000000</td>\n      <td>1.000000</td>\n    </tr>\n  </tbody>\n</table>\n</div>"
     },
     "metadata": {},
     "execution_count": 108
    }
   ],
   "source": [
    "month_table.describe()"
   ]
  },
  {
   "cell_type": "code",
   "execution_count": 77,
   "metadata": {},
   "outputs": [
    {
     "output_type": "execute_result",
     "data": {
      "text/plain": "Empty DataFrame\nColumns: [month_count, Right_Party_Contact, Promise_to_pay, total_contacts, RPC_rate, PTP_rate]\nIndex: []",
      "text/html": "<div>\n<style scoped>\n    .dataframe tbody tr th:only-of-type {\n        vertical-align: middle;\n    }\n\n    .dataframe tbody tr th {\n        vertical-align: top;\n    }\n\n    .dataframe thead th {\n        text-align: right;\n    }\n</style>\n<table border=\"1\" class=\"dataframe\">\n  <thead>\n    <tr style=\"text-align: right;\">\n      <th></th>\n      <th></th>\n      <th>month_count</th>\n      <th>Right_Party_Contact</th>\n      <th>Promise_to_pay</th>\n      <th>total_contacts</th>\n      <th>RPC_rate</th>\n      <th>PTP_rate</th>\n    </tr>\n    <tr>\n      <th>month</th>\n      <th>Application_Id</th>\n      <th></th>\n      <th></th>\n      <th></th>\n      <th></th>\n      <th></th>\n      <th></th>\n    </tr>\n  </thead>\n  <tbody>\n  </tbody>\n</table>\n</div>"
     },
     "metadata": {},
     "execution_count": 77
    }
   ],
   "source": [
    "month_table[month_table['Right_Party_Contact']==651]"
   ]
  },
  {
   "cell_type": "code",
   "execution_count": 78,
   "metadata": {},
   "outputs": [],
   "source": [
    "month_table = month_table[month_table['Right_Party_Contact']!=651]"
   ]
  },
  {
   "cell_type": "code",
   "execution_count": 79,
   "metadata": {},
   "outputs": [
    {
     "output_type": "execute_result",
     "data": {
      "text/plain": "       month_count  Right_Party_Contact  Promise_to_pay  total_contacts  \\\ncount      74924.0         74924.000000    74924.000000    74924.000000   \nmean           1.0             3.406385        1.189205       11.674457   \nstd            0.0             6.434843        1.531633       21.808653   \nmin            1.0             0.000000        0.000000        1.000000   \n25%            1.0             1.000000        0.000000        2.000000   \n50%            1.0             2.000000        1.000000        4.000000   \n75%            1.0             4.000000        2.000000       11.000000   \nmax            1.0           309.000000       25.000000      503.000000   \n\n           RPC_rate      PTP_rate  \ncount  74924.000000  74924.000000  \nmean       0.491926      0.106292  \nstd        0.359135      0.187733  \nmin        0.000000      0.000000  \n25%        0.198000      0.000000  \n50%        0.429000      0.034000  \n75%        1.000000      0.125000  \nmax        1.000000      1.000000  ",
      "text/html": "<div>\n<style scoped>\n    .dataframe tbody tr th:only-of-type {\n        vertical-align: middle;\n    }\n\n    .dataframe tbody tr th {\n        vertical-align: top;\n    }\n\n    .dataframe thead th {\n        text-align: right;\n    }\n</style>\n<table border=\"1\" class=\"dataframe\">\n  <thead>\n    <tr style=\"text-align: right;\">\n      <th></th>\n      <th>month_count</th>\n      <th>Right_Party_Contact</th>\n      <th>Promise_to_pay</th>\n      <th>total_contacts</th>\n      <th>RPC_rate</th>\n      <th>PTP_rate</th>\n    </tr>\n  </thead>\n  <tbody>\n    <tr>\n      <th>count</th>\n      <td>74924.0</td>\n      <td>74924.000000</td>\n      <td>74924.000000</td>\n      <td>74924.000000</td>\n      <td>74924.000000</td>\n      <td>74924.000000</td>\n    </tr>\n    <tr>\n      <th>mean</th>\n      <td>1.0</td>\n      <td>3.406385</td>\n      <td>1.189205</td>\n      <td>11.674457</td>\n      <td>0.491926</td>\n      <td>0.106292</td>\n    </tr>\n    <tr>\n      <th>std</th>\n      <td>0.0</td>\n      <td>6.434843</td>\n      <td>1.531633</td>\n      <td>21.808653</td>\n      <td>0.359135</td>\n      <td>0.187733</td>\n    </tr>\n    <tr>\n      <th>min</th>\n      <td>1.0</td>\n      <td>0.000000</td>\n      <td>0.000000</td>\n      <td>1.000000</td>\n      <td>0.000000</td>\n      <td>0.000000</td>\n    </tr>\n    <tr>\n      <th>25%</th>\n      <td>1.0</td>\n      <td>1.000000</td>\n      <td>0.000000</td>\n      <td>2.000000</td>\n      <td>0.198000</td>\n      <td>0.000000</td>\n    </tr>\n    <tr>\n      <th>50%</th>\n      <td>1.0</td>\n      <td>2.000000</td>\n      <td>1.000000</td>\n      <td>4.000000</td>\n      <td>0.429000</td>\n      <td>0.034000</td>\n    </tr>\n    <tr>\n      <th>75%</th>\n      <td>1.0</td>\n      <td>4.000000</td>\n      <td>2.000000</td>\n      <td>11.000000</td>\n      <td>1.000000</td>\n      <td>0.125000</td>\n    </tr>\n    <tr>\n      <th>max</th>\n      <td>1.0</td>\n      <td>309.000000</td>\n      <td>25.000000</td>\n      <td>503.000000</td>\n      <td>1.000000</td>\n      <td>1.000000</td>\n    </tr>\n  </tbody>\n</table>\n</div>"
     },
     "metadata": {},
     "execution_count": 79
    }
   ],
   "source": [
    "month_table.describe()"
   ]
  },
  {
   "cell_type": "code",
   "execution_count": 80,
   "metadata": {},
   "outputs": [
    {
     "output_type": "execute_result",
     "data": {
      "text/plain": "       avg_intensity  avg_rpc_rate  avg_ptp_rate\nmonth                                           \n3          12.957694      0.494614      0.106477\n4          11.247509      0.484527      0.100711\n5          10.963286      0.496549      0.111378",
      "text/html": "<div>\n<style scoped>\n    .dataframe tbody tr th:only-of-type {\n        vertical-align: middle;\n    }\n\n    .dataframe tbody tr th {\n        vertical-align: top;\n    }\n\n    .dataframe thead th {\n        text-align: right;\n    }\n</style>\n<table border=\"1\" class=\"dataframe\">\n  <thead>\n    <tr style=\"text-align: right;\">\n      <th></th>\n      <th>avg_intensity</th>\n      <th>avg_rpc_rate</th>\n      <th>avg_ptp_rate</th>\n    </tr>\n    <tr>\n      <th>month</th>\n      <th></th>\n      <th></th>\n      <th></th>\n    </tr>\n  </thead>\n  <tbody>\n    <tr>\n      <th>3</th>\n      <td>12.957694</td>\n      <td>0.494614</td>\n      <td>0.106477</td>\n    </tr>\n    <tr>\n      <th>4</th>\n      <td>11.247509</td>\n      <td>0.484527</td>\n      <td>0.100711</td>\n    </tr>\n    <tr>\n      <th>5</th>\n      <td>10.963286</td>\n      <td>0.496549</td>\n      <td>0.111378</td>\n    </tr>\n  </tbody>\n</table>\n</div>"
     },
     "metadata": {},
     "execution_count": 80
    }
   ],
   "source": [
    "avg_monthly = month_table.groupby('month').agg({'total_contacts':'mean', 'RPC_rate':'mean', 'PTP_rate':'mean'})\n",
    "\n",
    "avg_monthly.rename(columns={'total_contacts':'avg_intensity','RPC_rate':'avg_rpc_rate', 'PTP_rate':'avg_ptp_rate'}, inplace=True)\n",
    "\n",
    "avg_monthly"
   ]
  },
  {
   "cell_type": "code",
   "execution_count": 81,
   "metadata": {},
   "outputs": [],
   "source": [
    "#groups call data by month and then aggregates\n",
    "# acc_table = call_data.groupby(['Application_Id']).aggregate({'month':'nunique', 'Right_Party_Contact':'sum', 'Promise_to_pay':'sum', 'total_contacts':'sum'})\n",
    "# acc_table"
   ]
  },
  {
   "cell_type": "code",
   "execution_count": 82,
   "metadata": {},
   "outputs": [],
   "source": [
    "#calculates Right Party Contacts (RPC) rate and Percentage of outbound calls resulting in Promise to Pay (PTP)\n",
    "# acc_table['avg_intensity'] = round(acc_table['total_contacts'] / acc_table['month'], 3)\n",
    "\n",
    "# acc_table['RPC_rate'] = round(acc_table['Right_Party_Contact'] / acc_table['total_contacts'], 3)\n",
    "\n",
    "# acc_table['PTP_rate'] = round(acc_table['Promise_to_pay'] / acc_table['total_contacts'], 3)\n",
    "\n",
    "# acc_table"
   ]
  },
  {
   "cell_type": "code",
   "execution_count": 83,
   "metadata": {},
   "outputs": [],
   "source": [
    "# acc_table.describe()"
   ]
  },
  {
   "cell_type": "code",
   "execution_count": 84,
   "metadata": {},
   "outputs": [],
   "source": [
    "# acc_table[acc_table['Right_Party_Contact']==651]"
   ]
  },
  {
   "cell_type": "code",
   "execution_count": 85,
   "metadata": {},
   "outputs": [],
   "source": [
    "#groups call data by month and then aggregates\n",
    "# call_data_table = call_data.groupby(['month']).sum()\n",
    "\n",
    "# call_data_table"
   ]
  },
  {
   "cell_type": "code",
   "execution_count": 86,
   "metadata": {},
   "outputs": [],
   "source": [
    "# # calculates Right Party Contacts (RPC) rate and Percentage of outbound calls resulting in Promise to Pay (PTP)\n",
    "# call_data_table['RPC_rate'] = round((call_data_table['Right_Party_Contact'] / call_data_table['total_contacts']) * 100, 3)\n",
    "\n",
    "# call_data_table['PTP_rate'] = round((call_data_table['Promise_to_pay'] / call_data_table['total_contacts']) * 100, 3)\n",
    "\n",
    "# call_data_table"
   ]
  },
  {
   "cell_type": "code",
   "execution_count": 87,
   "metadata": {},
   "outputs": [],
   "source": [
    "# #displays RPC and PTP values for each month\n",
    "# call_data_result = call_data_table[['RPC_rate', 'PTP_rate']]\n",
    "\n",
    "# call_data_result"
   ]
  },
  {
   "cell_type": "markdown",
   "metadata": {},
   "source": [
    "## Is there any correlation between the princple balance remaining and the term completed"
   ]
  },
  {
   "cell_type": "code",
   "execution_count": 90,
   "metadata": {},
   "outputs": [],
   "source": [
    "bal_term_data = pd.concat([mar_data, apr_data, may_data])"
   ]
  },
  {
   "cell_type": "code",
   "execution_count": 92,
   "metadata": {},
   "outputs": [
    {
     "output_type": "execute_result",
     "data": {
      "text/plain": "True"
     },
     "metadata": {},
     "execution_count": 92
    }
   ],
   "source": [
    "#QC\n",
    "len(bal_term_data) == len(df['Loan_Status_MartoMay'])"
   ]
  },
  {
   "cell_type": "code",
   "execution_count": 114,
   "metadata": {},
   "outputs": [
    {
     "output_type": "execute_result",
     "data": {
      "text/plain": "80769"
     },
     "metadata": {},
     "execution_count": 114
    }
   ],
   "source": [
    "len(bal_term_data)"
   ]
  },
  {
   "cell_type": "code",
   "execution_count": 93,
   "metadata": {},
   "outputs": [
    {
     "output_type": "execute_result",
     "data": {
      "text/plain": "       Loan_id Bucket  TENURE  PRINBALANCE  Months on Books  \\\n1   A205346000    TB0      36    3693500.0               33   \n2   A675851816    TB0      48   24353700.0               30   \n7   A260852240    TB0      48   42514900.0               24   \n19  A374402177    TB0      36   12290300.0               19   \n21  A211889361    TB0      36    9396700.0               25   \n\n    Sanctioned Amount  Month  \n1            22000000  March  \n2            40000000  March  \n7            60000000  March  \n19           20000000  March  \n21           22000000  March  ",
      "text/html": "<div>\n<style scoped>\n    .dataframe tbody tr th:only-of-type {\n        vertical-align: middle;\n    }\n\n    .dataframe tbody tr th {\n        vertical-align: top;\n    }\n\n    .dataframe thead th {\n        text-align: right;\n    }\n</style>\n<table border=\"1\" class=\"dataframe\">\n  <thead>\n    <tr style=\"text-align: right;\">\n      <th></th>\n      <th>Loan_id</th>\n      <th>Bucket</th>\n      <th>TENURE</th>\n      <th>PRINBALANCE</th>\n      <th>Months on Books</th>\n      <th>Sanctioned Amount</th>\n      <th>Month</th>\n    </tr>\n  </thead>\n  <tbody>\n    <tr>\n      <th>1</th>\n      <td>A205346000</td>\n      <td>TB0</td>\n      <td>36</td>\n      <td>3693500.0</td>\n      <td>33</td>\n      <td>22000000</td>\n      <td>March</td>\n    </tr>\n    <tr>\n      <th>2</th>\n      <td>A675851816</td>\n      <td>TB0</td>\n      <td>48</td>\n      <td>24353700.0</td>\n      <td>30</td>\n      <td>40000000</td>\n      <td>March</td>\n    </tr>\n    <tr>\n      <th>7</th>\n      <td>A260852240</td>\n      <td>TB0</td>\n      <td>48</td>\n      <td>42514900.0</td>\n      <td>24</td>\n      <td>60000000</td>\n      <td>March</td>\n    </tr>\n    <tr>\n      <th>19</th>\n      <td>A374402177</td>\n      <td>TB0</td>\n      <td>36</td>\n      <td>12290300.0</td>\n      <td>19</td>\n      <td>20000000</td>\n      <td>March</td>\n    </tr>\n    <tr>\n      <th>21</th>\n      <td>A211889361</td>\n      <td>TB0</td>\n      <td>36</td>\n      <td>9396700.0</td>\n      <td>25</td>\n      <td>22000000</td>\n      <td>March</td>\n    </tr>\n  </tbody>\n</table>\n</div>"
     },
     "metadata": {},
     "execution_count": 93
    }
   ],
   "source": [
    "bal_term_data.head()"
   ]
  },
  {
   "cell_type": "code",
   "execution_count": 95,
   "metadata": {},
   "outputs": [
    {
     "output_type": "execute_result",
     "data": {
      "text/plain": "       Loan_id Bucket  TENURE  PRINBALANCE  Months on Books  \\\n1   A205346000    TB0      36    3693500.0               33   \n2   A675851816    TB0      48   24353700.0               30   \n7   A260852240    TB0      48   42514900.0               24   \n19  A374402177    TB0      36   12290300.0               19   \n21  A211889361    TB0      36    9396700.0               25   \n\n    Sanctioned Amount  Month  term_comp  \n1            22000000  March   0.916667  \n2            40000000  March   0.625000  \n7            60000000  March   0.500000  \n19           20000000  March   0.527778  \n21           22000000  March   0.694444  ",
      "text/html": "<div>\n<style scoped>\n    .dataframe tbody tr th:only-of-type {\n        vertical-align: middle;\n    }\n\n    .dataframe tbody tr th {\n        vertical-align: top;\n    }\n\n    .dataframe thead th {\n        text-align: right;\n    }\n</style>\n<table border=\"1\" class=\"dataframe\">\n  <thead>\n    <tr style=\"text-align: right;\">\n      <th></th>\n      <th>Loan_id</th>\n      <th>Bucket</th>\n      <th>TENURE</th>\n      <th>PRINBALANCE</th>\n      <th>Months on Books</th>\n      <th>Sanctioned Amount</th>\n      <th>Month</th>\n      <th>term_comp</th>\n    </tr>\n  </thead>\n  <tbody>\n    <tr>\n      <th>1</th>\n      <td>A205346000</td>\n      <td>TB0</td>\n      <td>36</td>\n      <td>3693500.0</td>\n      <td>33</td>\n      <td>22000000</td>\n      <td>March</td>\n      <td>0.916667</td>\n    </tr>\n    <tr>\n      <th>2</th>\n      <td>A675851816</td>\n      <td>TB0</td>\n      <td>48</td>\n      <td>24353700.0</td>\n      <td>30</td>\n      <td>40000000</td>\n      <td>March</td>\n      <td>0.625000</td>\n    </tr>\n    <tr>\n      <th>7</th>\n      <td>A260852240</td>\n      <td>TB0</td>\n      <td>48</td>\n      <td>42514900.0</td>\n      <td>24</td>\n      <td>60000000</td>\n      <td>March</td>\n      <td>0.500000</td>\n    </tr>\n    <tr>\n      <th>19</th>\n      <td>A374402177</td>\n      <td>TB0</td>\n      <td>36</td>\n      <td>12290300.0</td>\n      <td>19</td>\n      <td>20000000</td>\n      <td>March</td>\n      <td>0.527778</td>\n    </tr>\n    <tr>\n      <th>21</th>\n      <td>A211889361</td>\n      <td>TB0</td>\n      <td>36</td>\n      <td>9396700.0</td>\n      <td>25</td>\n      <td>22000000</td>\n      <td>March</td>\n      <td>0.694444</td>\n    </tr>\n  </tbody>\n</table>\n</div>"
     },
     "metadata": {},
     "execution_count": 95
    }
   ],
   "source": [
    "#calculates term completed as defined by 'month on books/tenure'\n",
    "bal_term_data['term_comp'] = bal_term_data['Months on Books'] / bal_term_data['TENURE']\n",
    "\n",
    "bal_term_data.head()"
   ]
  },
  {
   "cell_type": "code",
   "execution_count": 101,
   "metadata": {},
   "outputs": [
    {
     "output_type": "execute_result",
     "data": {
      "text/plain": "-0.5531746514714344"
     },
     "metadata": {},
     "execution_count": 101
    }
   ],
   "source": [
    "var1 = bal_term_data['term_comp']\n",
    "var2 = bal_term_data['PRINBALANCE']\n",
    "\n",
    "correlation = var1.corr(var2)\n",
    "correlation"
   ]
  },
  {
   "cell_type": "markdown",
   "metadata": {},
   "source": [
    "If we estimate the absolute correlation value as being moderate if it falls between 0.5 and 0.7, we can conclude that there is a moderate correlation between term completed and principal balance.  In addition as this is a negative value, we conclude that this is a negative relationship, meaning as there is an increase in one variable there is a decrease in the other and vice-versa."
   ]
  },
  {
   "cell_type": "markdown",
   "metadata": {},
   "source": [
    "## Identify the agents who are showing the best and worst performance. "
   ]
  },
  {
   "cell_type": "code",
   "execution_count": 102,
   "metadata": {},
   "outputs": [
    {
     "output_type": "execute_result",
     "data": {
      "text/plain": "   month Application_Id Login_ID  Right_Party_Contact  Promise_to_pay  \\\n0      3   MX-100062359   AGNT50                    1               1   \n1      3   MX-100095892   AGNT12                    1               0   \n2      3   MX-100116696   AGNT36                    2               0   \n3      3    MX-10011780   AGNT39                    2               1   \n4      3   MX-100133826   AGNT48                    4               3   \n\n   total_contacts  \n0               1  \n1               2  \n2               3  \n3              10  \n4              17  ",
      "text/html": "<div>\n<style scoped>\n    .dataframe tbody tr th:only-of-type {\n        vertical-align: middle;\n    }\n\n    .dataframe tbody tr th {\n        vertical-align: top;\n    }\n\n    .dataframe thead th {\n        text-align: right;\n    }\n</style>\n<table border=\"1\" class=\"dataframe\">\n  <thead>\n    <tr style=\"text-align: right;\">\n      <th></th>\n      <th>month</th>\n      <th>Application_Id</th>\n      <th>Login_ID</th>\n      <th>Right_Party_Contact</th>\n      <th>Promise_to_pay</th>\n      <th>total_contacts</th>\n    </tr>\n  </thead>\n  <tbody>\n    <tr>\n      <th>0</th>\n      <td>3</td>\n      <td>MX-100062359</td>\n      <td>AGNT50</td>\n      <td>1</td>\n      <td>1</td>\n      <td>1</td>\n    </tr>\n    <tr>\n      <th>1</th>\n      <td>3</td>\n      <td>MX-100095892</td>\n      <td>AGNT12</td>\n      <td>1</td>\n      <td>0</td>\n      <td>2</td>\n    </tr>\n    <tr>\n      <th>2</th>\n      <td>3</td>\n      <td>MX-100116696</td>\n      <td>AGNT36</td>\n      <td>2</td>\n      <td>0</td>\n      <td>3</td>\n    </tr>\n    <tr>\n      <th>3</th>\n      <td>3</td>\n      <td>MX-10011780</td>\n      <td>AGNT39</td>\n      <td>2</td>\n      <td>1</td>\n      <td>10</td>\n    </tr>\n    <tr>\n      <th>4</th>\n      <td>3</td>\n      <td>MX-100133826</td>\n      <td>AGNT48</td>\n      <td>4</td>\n      <td>3</td>\n      <td>17</td>\n    </tr>\n  </tbody>\n</table>\n</div>"
     },
     "metadata": {},
     "execution_count": 102
    }
   ],
   "source": [
    "call_data.head()"
   ]
  },
  {
   "cell_type": "code",
   "execution_count": 91,
   "metadata": {},
   "outputs": [
    {
     "output_type": "execute_result",
     "data": {
      "text/plain": "          month_count  Right_Party_Contact  Promise_to_pay  total_contacts\nLogin_ID                                                                  \nAGNT1               3                 3385            1300           16198\nAGNT10              3                 4078            1495           16883\nAGNT100             2                   58               1              59\nAGNT101             1                   27              10              48\nAGNT102             1                    1               0               1",
      "text/html": "<div>\n<style scoped>\n    .dataframe tbody tr th:only-of-type {\n        vertical-align: middle;\n    }\n\n    .dataframe tbody tr th {\n        vertical-align: top;\n    }\n\n    .dataframe thead th {\n        text-align: right;\n    }\n</style>\n<table border=\"1\" class=\"dataframe\">\n  <thead>\n    <tr style=\"text-align: right;\">\n      <th></th>\n      <th>month_count</th>\n      <th>Right_Party_Contact</th>\n      <th>Promise_to_pay</th>\n      <th>total_contacts</th>\n    </tr>\n    <tr>\n      <th>Login_ID</th>\n      <th></th>\n      <th></th>\n      <th></th>\n      <th></th>\n    </tr>\n  </thead>\n  <tbody>\n    <tr>\n      <th>AGNT1</th>\n      <td>3</td>\n      <td>3385</td>\n      <td>1300</td>\n      <td>16198</td>\n    </tr>\n    <tr>\n      <th>AGNT10</th>\n      <td>3</td>\n      <td>4078</td>\n      <td>1495</td>\n      <td>16883</td>\n    </tr>\n    <tr>\n      <th>AGNT100</th>\n      <td>2</td>\n      <td>58</td>\n      <td>1</td>\n      <td>59</td>\n    </tr>\n    <tr>\n      <th>AGNT101</th>\n      <td>1</td>\n      <td>27</td>\n      <td>10</td>\n      <td>48</td>\n    </tr>\n    <tr>\n      <th>AGNT102</th>\n      <td>1</td>\n      <td>1</td>\n      <td>0</td>\n      <td>1</td>\n    </tr>\n  </tbody>\n</table>\n</div>"
     },
     "metadata": {},
     "execution_count": 91
    }
   ],
   "source": [
    "agent_table = call_data.groupby(['Login_ID']).aggregate({'month':'nunique', 'Right_Party_Contact':'sum', 'Promise_to_pay':'sum', 'total_contacts':'sum'})\n",
    "\n",
    "agent_table.rename(columns={'month':'month_count'}, inplace=True)\n",
    "\n",
    "agent_table.head()"
   ]
  },
  {
   "cell_type": "code",
   "execution_count": 92,
   "metadata": {},
   "outputs": [
    {
     "output_type": "execute_result",
     "data": {
      "text/plain": "          month_count  Right_Party_Contact  Promise_to_pay  total_contacts  \\\nLogin_ID                                                                     \nAGNT1               3                 3385            1300           16198   \nAGNT10              3                 4078            1495           16883   \nAGNT100             2                   58               1              59   \nAGNT101             1                   27              10              48   \nAGNT102             1                    1               0               1   \n\n          RPC_rate  PTP_rate  \nLogin_ID                      \nAGNT1        0.209     0.080  \nAGNT10       0.242     0.089  \nAGNT100      0.983     0.017  \nAGNT101      0.562     0.208  \nAGNT102      1.000     0.000  ",
      "text/html": "<div>\n<style scoped>\n    .dataframe tbody tr th:only-of-type {\n        vertical-align: middle;\n    }\n\n    .dataframe tbody tr th {\n        vertical-align: top;\n    }\n\n    .dataframe thead th {\n        text-align: right;\n    }\n</style>\n<table border=\"1\" class=\"dataframe\">\n  <thead>\n    <tr style=\"text-align: right;\">\n      <th></th>\n      <th>month_count</th>\n      <th>Right_Party_Contact</th>\n      <th>Promise_to_pay</th>\n      <th>total_contacts</th>\n      <th>RPC_rate</th>\n      <th>PTP_rate</th>\n    </tr>\n    <tr>\n      <th>Login_ID</th>\n      <th></th>\n      <th></th>\n      <th></th>\n      <th></th>\n      <th></th>\n      <th></th>\n    </tr>\n  </thead>\n  <tbody>\n    <tr>\n      <th>AGNT1</th>\n      <td>3</td>\n      <td>3385</td>\n      <td>1300</td>\n      <td>16198</td>\n      <td>0.209</td>\n      <td>0.080</td>\n    </tr>\n    <tr>\n      <th>AGNT10</th>\n      <td>3</td>\n      <td>4078</td>\n      <td>1495</td>\n      <td>16883</td>\n      <td>0.242</td>\n      <td>0.089</td>\n    </tr>\n    <tr>\n      <th>AGNT100</th>\n      <td>2</td>\n      <td>58</td>\n      <td>1</td>\n      <td>59</td>\n      <td>0.983</td>\n      <td>0.017</td>\n    </tr>\n    <tr>\n      <th>AGNT101</th>\n      <td>1</td>\n      <td>27</td>\n      <td>10</td>\n      <td>48</td>\n      <td>0.562</td>\n      <td>0.208</td>\n    </tr>\n    <tr>\n      <th>AGNT102</th>\n      <td>1</td>\n      <td>1</td>\n      <td>0</td>\n      <td>1</td>\n      <td>1.000</td>\n      <td>0.000</td>\n    </tr>\n  </tbody>\n</table>\n</div>"
     },
     "metadata": {},
     "execution_count": 92
    }
   ],
   "source": [
    "#calculates Right Party Contacts (RPC) rate and Percentage of outbound calls resulting in Promise to Pay (PTP) for each agent\n",
    "agent_table['RPC_rate'] = round((agent_table['Right_Party_Contact'] / agent_table['total_contacts']), 3)\n",
    "\n",
    "agent_table['PTP_rate'] = round((agent_table['Promise_to_pay'] / agent_table['total_contacts']), 3)\n",
    "\n",
    "agent_table.head()\n"
   ]
  },
  {
   "cell_type": "code",
   "execution_count": 93,
   "metadata": {},
   "outputs": [
    {
     "output_type": "execute_result",
     "data": {
      "text/plain": "       month_count  Right_Party_Contact  Promise_to_pay  total_contacts  \\\ncount   114.000000           114.000000      114.000000      114.000000   \nmean      2.263158          2244.482456      781.596491     7678.561404   \nstd       0.852406          2904.722451      883.604702     8186.020639   \nmin       1.000000             1.000000        0.000000        1.000000   \n25%       1.000000            13.750000        2.000000       17.500000   \n50%       3.000000           487.000000      135.000000     2009.000000   \n75%       3.000000          3758.000000     1556.750000    16758.500000   \nmax       3.000000         16313.000000     2735.000000    19501.000000   \n\n         RPC_rate    PTP_rate  \ncount  114.000000  114.000000  \nmean     0.534509    0.104149  \nstd      0.326824    0.100328  \nmin      0.129000    0.000000  \n25%      0.245250    0.051000  \n50%      0.396000    0.091000  \n75%      0.965000    0.136000  \nmax      1.000000    0.667000  ",
      "text/html": "<div>\n<style scoped>\n    .dataframe tbody tr th:only-of-type {\n        vertical-align: middle;\n    }\n\n    .dataframe tbody tr th {\n        vertical-align: top;\n    }\n\n    .dataframe thead th {\n        text-align: right;\n    }\n</style>\n<table border=\"1\" class=\"dataframe\">\n  <thead>\n    <tr style=\"text-align: right;\">\n      <th></th>\n      <th>month_count</th>\n      <th>Right_Party_Contact</th>\n      <th>Promise_to_pay</th>\n      <th>total_contacts</th>\n      <th>RPC_rate</th>\n      <th>PTP_rate</th>\n    </tr>\n  </thead>\n  <tbody>\n    <tr>\n      <th>count</th>\n      <td>114.000000</td>\n      <td>114.000000</td>\n      <td>114.000000</td>\n      <td>114.000000</td>\n      <td>114.000000</td>\n      <td>114.000000</td>\n    </tr>\n    <tr>\n      <th>mean</th>\n      <td>2.263158</td>\n      <td>2244.482456</td>\n      <td>781.596491</td>\n      <td>7678.561404</td>\n      <td>0.534509</td>\n      <td>0.104149</td>\n    </tr>\n    <tr>\n      <th>std</th>\n      <td>0.852406</td>\n      <td>2904.722451</td>\n      <td>883.604702</td>\n      <td>8186.020639</td>\n      <td>0.326824</td>\n      <td>0.100328</td>\n    </tr>\n    <tr>\n      <th>min</th>\n      <td>1.000000</td>\n      <td>1.000000</td>\n      <td>0.000000</td>\n      <td>1.000000</td>\n      <td>0.129000</td>\n      <td>0.000000</td>\n    </tr>\n    <tr>\n      <th>25%</th>\n      <td>1.000000</td>\n      <td>13.750000</td>\n      <td>2.000000</td>\n      <td>17.500000</td>\n      <td>0.245250</td>\n      <td>0.051000</td>\n    </tr>\n    <tr>\n      <th>50%</th>\n      <td>3.000000</td>\n      <td>487.000000</td>\n      <td>135.000000</td>\n      <td>2009.000000</td>\n      <td>0.396000</td>\n      <td>0.091000</td>\n    </tr>\n    <tr>\n      <th>75%</th>\n      <td>3.000000</td>\n      <td>3758.000000</td>\n      <td>1556.750000</td>\n      <td>16758.500000</td>\n      <td>0.965000</td>\n      <td>0.136000</td>\n    </tr>\n    <tr>\n      <th>max</th>\n      <td>3.000000</td>\n      <td>16313.000000</td>\n      <td>2735.000000</td>\n      <td>19501.000000</td>\n      <td>1.000000</td>\n      <td>0.667000</td>\n    </tr>\n  </tbody>\n</table>\n</div>"
     },
     "metadata": {},
     "execution_count": 93
    }
   ],
   "source": [
    "agent_table.describe()"
   ]
  },
  {
   "cell_type": "code",
   "execution_count": 98,
   "metadata": {},
   "outputs": [
    {
     "output_type": "execute_result",
     "data": {
      "text/plain": "          month_count  Right_Party_Contact  Promise_to_pay  total_contacts  \\\nLogin_ID                                                                     \nAGNT35              3                13855            2511           17959   \nAGNT9               3                16313            1888           16906   \nAGNT2               3                13195            1775           16363   \nAGNT56              3                 6327            2309           19052   \nAGNT38              3                 5756            2735           17127   \nAGNT28              3                 5854            2377           17647   \nAGNT19              3                 5221            2437           17073   \nAGNT8               3                 4745            2608           17227   \nAGNT41              3                 5521            1982           17994   \nAGNT29              3                 5405            2058           17371   \n\n          RPC_rate  PTP_rate   perf_metric  perf_metric1  perf_metric2  \nLogin_ID                                                                \nAGNT35       0.771     0.140  1.874376e+12      0.333820   5815.493380  \nAGNT9        0.965     0.112  1.562061e+12      0.334240   5481.611440  \nAGNT2        0.806     0.108  1.149720e+12      0.271144   4273.109272  \nAGNT56       0.332     0.121  8.349945e+11      0.130516   2296.080832  \nAGNT38       0.336     0.160  8.088736e+11      0.171280   2762.252560  \nAGNT28       0.332     0.135  7.366718e+11      0.144460   2372.825620  \nAGNT19       0.306     0.143  6.516889e+11      0.141274   2241.251002  \nAGNT8        0.275     0.151  6.395503e+11      0.134575   2146.063525  \nAGNT41       0.307     0.110  5.907046e+11      0.111310   1822.982140  \nAGNT29       0.311     0.118  5.796784e+11      0.120094   1912.452874  ",
      "text/html": "<div>\n<style scoped>\n    .dataframe tbody tr th:only-of-type {\n        vertical-align: middle;\n    }\n\n    .dataframe tbody tr th {\n        vertical-align: top;\n    }\n\n    .dataframe thead th {\n        text-align: right;\n    }\n</style>\n<table border=\"1\" class=\"dataframe\">\n  <thead>\n    <tr style=\"text-align: right;\">\n      <th></th>\n      <th>month_count</th>\n      <th>Right_Party_Contact</th>\n      <th>Promise_to_pay</th>\n      <th>total_contacts</th>\n      <th>RPC_rate</th>\n      <th>PTP_rate</th>\n      <th>perf_metric</th>\n      <th>perf_metric1</th>\n      <th>perf_metric2</th>\n    </tr>\n    <tr>\n      <th>Login_ID</th>\n      <th></th>\n      <th></th>\n      <th></th>\n      <th></th>\n      <th></th>\n      <th></th>\n      <th></th>\n      <th></th>\n      <th></th>\n    </tr>\n  </thead>\n  <tbody>\n    <tr>\n      <th>AGNT35</th>\n      <td>3</td>\n      <td>13855</td>\n      <td>2511</td>\n      <td>17959</td>\n      <td>0.771</td>\n      <td>0.140</td>\n      <td>1.874376e+12</td>\n      <td>0.333820</td>\n      <td>5815.493380</td>\n    </tr>\n    <tr>\n      <th>AGNT9</th>\n      <td>3</td>\n      <td>16313</td>\n      <td>1888</td>\n      <td>16906</td>\n      <td>0.965</td>\n      <td>0.112</td>\n      <td>1.562061e+12</td>\n      <td>0.334240</td>\n      <td>5481.611440</td>\n    </tr>\n    <tr>\n      <th>AGNT2</th>\n      <td>3</td>\n      <td>13195</td>\n      <td>1775</td>\n      <td>16363</td>\n      <td>0.806</td>\n      <td>0.108</td>\n      <td>1.149720e+12</td>\n      <td>0.271144</td>\n      <td>4273.109272</td>\n    </tr>\n    <tr>\n      <th>AGNT56</th>\n      <td>3</td>\n      <td>6327</td>\n      <td>2309</td>\n      <td>19052</td>\n      <td>0.332</td>\n      <td>0.121</td>\n      <td>8.349945e+11</td>\n      <td>0.130516</td>\n      <td>2296.080832</td>\n    </tr>\n    <tr>\n      <th>AGNT38</th>\n      <td>3</td>\n      <td>5756</td>\n      <td>2735</td>\n      <td>17127</td>\n      <td>0.336</td>\n      <td>0.160</td>\n      <td>8.088736e+11</td>\n      <td>0.171280</td>\n      <td>2762.252560</td>\n    </tr>\n    <tr>\n      <th>AGNT28</th>\n      <td>3</td>\n      <td>5854</td>\n      <td>2377</td>\n      <td>17647</td>\n      <td>0.332</td>\n      <td>0.135</td>\n      <td>7.366718e+11</td>\n      <td>0.144460</td>\n      <td>2372.825620</td>\n    </tr>\n    <tr>\n      <th>AGNT19</th>\n      <td>3</td>\n      <td>5221</td>\n      <td>2437</td>\n      <td>17073</td>\n      <td>0.306</td>\n      <td>0.143</td>\n      <td>6.516889e+11</td>\n      <td>0.141274</td>\n      <td>2241.251002</td>\n    </tr>\n    <tr>\n      <th>AGNT8</th>\n      <td>3</td>\n      <td>4745</td>\n      <td>2608</td>\n      <td>17227</td>\n      <td>0.275</td>\n      <td>0.151</td>\n      <td>6.395503e+11</td>\n      <td>0.134575</td>\n      <td>2146.063525</td>\n    </tr>\n    <tr>\n      <th>AGNT41</th>\n      <td>3</td>\n      <td>5521</td>\n      <td>1982</td>\n      <td>17994</td>\n      <td>0.307</td>\n      <td>0.110</td>\n      <td>5.907046e+11</td>\n      <td>0.111310</td>\n      <td>1822.982140</td>\n    </tr>\n    <tr>\n      <th>AGNT29</th>\n      <td>3</td>\n      <td>5405</td>\n      <td>2058</td>\n      <td>17371</td>\n      <td>0.311</td>\n      <td>0.118</td>\n      <td>5.796784e+11</td>\n      <td>0.120094</td>\n      <td>1912.452874</td>\n    </tr>\n  </tbody>\n</table>\n</div>"
     },
     "metadata": {},
     "execution_count": 98
    }
   ],
   "source": [
    "agent_table['perf_metric'] = agent_table['month_count'] * agent_table['total_contacts'] * agent_table['Right_Party_Contact'] * agent_table['Promise_to_pay'] + 0.01\n",
    "\n",
    "agent_table['perf_metric1'] = agent_table['month_count'] * agent_table['RPC_rate'] * agent_table['PTP_rate'] + 0.01\n",
    "\n",
    "agent_table['perf_metric2'] = agent_table['month_count'] * agent_table['total_contacts'] * agent_table['RPC_rate'] * agent_table['PTP_rate'] + 0.01\n",
    "\n",
    "agent_table.sort_values(by=['perf_metric'], ascending=False).head(10)"
   ]
  },
  {
   "cell_type": "code",
   "execution_count": 99,
   "metadata": {},
   "outputs": [
    {
     "output_type": "execute_result",
     "data": {
      "text/plain": "          month_count  Right_Party_Contact  Promise_to_pay  total_contacts  \\\nLogin_ID                                                                     \nAGNT1               3                 3385            1300           16198   \nAGNT10              3                 4078            1495           16883   \nAGNT100             2                   58               1              59   \nAGNT101             1                   27              10              48   \nAGNT102             1                    1               0               1   \n\n          RPC_rate  PTP_rate   perf_metric  perf_metric1  perf_metric2  \nLogin_ID                                                                \nAGNT1        0.209     0.080  2.138379e+11      0.060160    812.501680  \nAGNT10       0.242     0.089  3.087872e+11      0.074614   1090.888162  \nAGNT100      0.983     0.017  6.844010e+03      0.043422      1.981898  \nAGNT101      0.562     0.208  1.296001e+04      0.126896      5.621008  \nAGNT102      1.000     0.000  1.000000e-02      0.010000      0.010000  ",
      "text/html": "<div>\n<style scoped>\n    .dataframe tbody tr th:only-of-type {\n        vertical-align: middle;\n    }\n\n    .dataframe tbody tr th {\n        vertical-align: top;\n    }\n\n    .dataframe thead th {\n        text-align: right;\n    }\n</style>\n<table border=\"1\" class=\"dataframe\">\n  <thead>\n    <tr style=\"text-align: right;\">\n      <th></th>\n      <th>month_count</th>\n      <th>Right_Party_Contact</th>\n      <th>Promise_to_pay</th>\n      <th>total_contacts</th>\n      <th>RPC_rate</th>\n      <th>PTP_rate</th>\n      <th>perf_metric</th>\n      <th>perf_metric1</th>\n      <th>perf_metric2</th>\n    </tr>\n    <tr>\n      <th>Login_ID</th>\n      <th></th>\n      <th></th>\n      <th></th>\n      <th></th>\n      <th></th>\n      <th></th>\n      <th></th>\n      <th></th>\n      <th></th>\n    </tr>\n  </thead>\n  <tbody>\n    <tr>\n      <th>AGNT1</th>\n      <td>3</td>\n      <td>3385</td>\n      <td>1300</td>\n      <td>16198</td>\n      <td>0.209</td>\n      <td>0.080</td>\n      <td>2.138379e+11</td>\n      <td>0.060160</td>\n      <td>812.501680</td>\n    </tr>\n    <tr>\n      <th>AGNT10</th>\n      <td>3</td>\n      <td>4078</td>\n      <td>1495</td>\n      <td>16883</td>\n      <td>0.242</td>\n      <td>0.089</td>\n      <td>3.087872e+11</td>\n      <td>0.074614</td>\n      <td>1090.888162</td>\n    </tr>\n    <tr>\n      <th>AGNT100</th>\n      <td>2</td>\n      <td>58</td>\n      <td>1</td>\n      <td>59</td>\n      <td>0.983</td>\n      <td>0.017</td>\n      <td>6.844010e+03</td>\n      <td>0.043422</td>\n      <td>1.981898</td>\n    </tr>\n    <tr>\n      <th>AGNT101</th>\n      <td>1</td>\n      <td>27</td>\n      <td>10</td>\n      <td>48</td>\n      <td>0.562</td>\n      <td>0.208</td>\n      <td>1.296001e+04</td>\n      <td>0.126896</td>\n      <td>5.621008</td>\n    </tr>\n    <tr>\n      <th>AGNT102</th>\n      <td>1</td>\n      <td>1</td>\n      <td>0</td>\n      <td>1</td>\n      <td>1.000</td>\n      <td>0.000</td>\n      <td>1.000000e-02</td>\n      <td>0.010000</td>\n      <td>0.010000</td>\n    </tr>\n  </tbody>\n</table>\n</div>"
     },
     "metadata": {},
     "execution_count": 99
    }
   ],
   "source": [
    "agent_table.head()"
   ]
  },
  {
   "cell_type": "code",
   "execution_count": 100,
   "metadata": {},
   "outputs": [
    {
     "output_type": "execute_result",
     "data": {
      "text/plain": "       month_count  Right_Party_Contact  Promise_to_pay  total_contacts  \\\ncount   114.000000           114.000000      114.000000      114.000000   \nmean      2.263158          2244.482456      781.596491     7678.561404   \nstd       0.852406          2904.722451      883.604702     8186.020639   \nmin       1.000000             1.000000        0.000000        1.000000   \n25%       1.000000            13.750000        2.000000       17.500000   \n50%       3.000000           487.000000      135.000000     2009.000000   \n75%       3.000000          3758.000000     1556.750000    16758.500000   \nmax       3.000000         16313.000000     2735.000000    19501.000000   \n\n         RPC_rate    PTP_rate   perf_metric  perf_metric1  perf_metric2  \ncount  114.000000  114.000000  1.140000e+02    114.000000    114.000000  \nmean     0.534509    0.104149  1.926507e+11      0.115128    698.477181  \nstd      0.326824    0.100328  3.093864e+11      0.125694   1048.740546  \nmin      0.129000    0.000000  1.000000e-02      0.010000      0.010000  \n25%      0.245250    0.051000  5.310100e+02      0.038557      2.871694  \n50%      0.396000    0.091000  3.534904e+08      0.070738     96.315547  \n75%      0.965000    0.136000  3.042643e+11      0.136410   1021.255262  \nmax      1.000000    0.667000  1.874376e+12      0.582000   5815.493380  ",
      "text/html": "<div>\n<style scoped>\n    .dataframe tbody tr th:only-of-type {\n        vertical-align: middle;\n    }\n\n    .dataframe tbody tr th {\n        vertical-align: top;\n    }\n\n    .dataframe thead th {\n        text-align: right;\n    }\n</style>\n<table border=\"1\" class=\"dataframe\">\n  <thead>\n    <tr style=\"text-align: right;\">\n      <th></th>\n      <th>month_count</th>\n      <th>Right_Party_Contact</th>\n      <th>Promise_to_pay</th>\n      <th>total_contacts</th>\n      <th>RPC_rate</th>\n      <th>PTP_rate</th>\n      <th>perf_metric</th>\n      <th>perf_metric1</th>\n      <th>perf_metric2</th>\n    </tr>\n  </thead>\n  <tbody>\n    <tr>\n      <th>count</th>\n      <td>114.000000</td>\n      <td>114.000000</td>\n      <td>114.000000</td>\n      <td>114.000000</td>\n      <td>114.000000</td>\n      <td>114.000000</td>\n      <td>1.140000e+02</td>\n      <td>114.000000</td>\n      <td>114.000000</td>\n    </tr>\n    <tr>\n      <th>mean</th>\n      <td>2.263158</td>\n      <td>2244.482456</td>\n      <td>781.596491</td>\n      <td>7678.561404</td>\n      <td>0.534509</td>\n      <td>0.104149</td>\n      <td>1.926507e+11</td>\n      <td>0.115128</td>\n      <td>698.477181</td>\n    </tr>\n    <tr>\n      <th>std</th>\n      <td>0.852406</td>\n      <td>2904.722451</td>\n      <td>883.604702</td>\n      <td>8186.020639</td>\n      <td>0.326824</td>\n      <td>0.100328</td>\n      <td>3.093864e+11</td>\n      <td>0.125694</td>\n      <td>1048.740546</td>\n    </tr>\n    <tr>\n      <th>min</th>\n      <td>1.000000</td>\n      <td>1.000000</td>\n      <td>0.000000</td>\n      <td>1.000000</td>\n      <td>0.129000</td>\n      <td>0.000000</td>\n      <td>1.000000e-02</td>\n      <td>0.010000</td>\n      <td>0.010000</td>\n    </tr>\n    <tr>\n      <th>25%</th>\n      <td>1.000000</td>\n      <td>13.750000</td>\n      <td>2.000000</td>\n      <td>17.500000</td>\n      <td>0.245250</td>\n      <td>0.051000</td>\n      <td>5.310100e+02</td>\n      <td>0.038557</td>\n      <td>2.871694</td>\n    </tr>\n    <tr>\n      <th>50%</th>\n      <td>3.000000</td>\n      <td>487.000000</td>\n      <td>135.000000</td>\n      <td>2009.000000</td>\n      <td>0.396000</td>\n      <td>0.091000</td>\n      <td>3.534904e+08</td>\n      <td>0.070738</td>\n      <td>96.315547</td>\n    </tr>\n    <tr>\n      <th>75%</th>\n      <td>3.000000</td>\n      <td>3758.000000</td>\n      <td>1556.750000</td>\n      <td>16758.500000</td>\n      <td>0.965000</td>\n      <td>0.136000</td>\n      <td>3.042643e+11</td>\n      <td>0.136410</td>\n      <td>1021.255262</td>\n    </tr>\n    <tr>\n      <th>max</th>\n      <td>3.000000</td>\n      <td>16313.000000</td>\n      <td>2735.000000</td>\n      <td>19501.000000</td>\n      <td>1.000000</td>\n      <td>0.667000</td>\n      <td>1.874376e+12</td>\n      <td>0.582000</td>\n      <td>5815.493380</td>\n    </tr>\n  </tbody>\n</table>\n</div>"
     },
     "metadata": {},
     "execution_count": 100
    }
   ],
   "source": [
    "agent_table.describe()"
   ]
  },
  {
   "cell_type": "code",
   "execution_count": 115,
   "metadata": {},
   "outputs": [
    {
     "output_type": "execute_result",
     "data": {
      "text/plain": "114"
     },
     "metadata": {},
     "execution_count": 115
    }
   ],
   "source": [
    "len(agent_table)"
   ]
  },
  {
   "cell_type": "code",
   "execution_count": 102,
   "metadata": {},
   "outputs": [
    {
     "output_type": "stream",
     "name": "stdout",
     "text": "month_count  Right_Party_Contact  Promise_to_pay  total_contacts  \\\nLogin_ID                                                                     \nAGNT91              2                    7               2               7   \nAGNT58              1                    2               1               2   \nAGNT79              2                    9               8              17   \nAGNT71              1                    4               4               6   \nAGNT80              2                    9               2               9   \nAGNT52              3                  164              22             170   \nAGNT114             3                  199             109             424   \nAGNT87              3                   45              26             101   \nAGNT57              3                   80              11              88   \nAGNT85              2                    6               1               6   \n\n          RPC_rate  PTP_rate  perf_metric  perf_metric1  perf_metric2  \nLogin_ID                                                               \nAGNT91       1.000     0.286       196.01      0.582000      4.014000  \nAGNT58       1.000     0.500         4.01      0.510000      1.010000  \nAGNT79       0.529     0.471      2448.01      0.508318      8.481406  \nAGNT71       0.667     0.667        96.01      0.454889      2.679334  \nAGNT80       1.000     0.222       324.01      0.454000      4.006000  \nAGNT52       0.965     0.129   1840080.01      0.383455     63.497350  \nAGNT114      0.469     0.257  27590952.01      0.371599    153.327976  \nAGNT87       0.446     0.257    354510.01      0.353866     34.740466  \nAGNT57       0.909     0.125    232320.01      0.350875     30.007000  \nAGNT85       1.000     0.167        72.01      0.344000      2.014000  \n          month_count  Right_Party_Contact  Promise_to_pay  total_contacts  \\\nLogin_ID                                                                     \nAGNT83              3                    9               0               9   \nAGNT76              1                    1               0               1   \nAGNT77              2                    4               0               5   \nAGNT81              1                    2               0               2   \nAGNT82              1                    2               0               2   \nAGNT68              2                   81               0              81   \nAGNT86              2                    3               0               3   \nAGNT88              2                    3               0               3   \nAGNT90              1                    1               0               1   \nAGNT51              1                    7               0               7   \n\n          RPC_rate  PTP_rate  perf_metric  perf_metric1  perf_metric2  \nLogin_ID                                                               \nAGNT83         1.0       0.0         0.01          0.01          0.01  \nAGNT76         1.0       0.0         0.01          0.01          0.01  \nAGNT77         0.8       0.0         0.01          0.01          0.01  \nAGNT81         1.0       0.0         0.01          0.01          0.01  \nAGNT82         1.0       0.0         0.01          0.01          0.01  \nAGNT68         1.0       0.0         0.01          0.01          0.01  \nAGNT86         1.0       0.0         0.01          0.01          0.01  \nAGNT88         1.0       0.0         0.01          0.01          0.01  \nAGNT90         1.0       0.0         0.01          0.01          0.01  \nAGNT51         1.0       0.0         0.01          0.01          0.01  \n"
    }
   ],
   "source": [
    "best_performance = agent_table.sort_values(by=['perf_metric1'], ascending=False).head(10)\n",
    "\n",
    "worst_performance = agent_table.sort_values(by=['perf_metric1'], ascending=True).head(10)\n",
    "\n",
    "print(best_performance)\n",
    "print(worst_performance)"
   ]
  },
  {
   "cell_type": "code",
   "execution_count": null,
   "metadata": {},
   "outputs": [],
   "source": []
  }
 ],
 "metadata": {
  "kernelspec": {
   "display_name": "Python 3.7.4 64-bit ('LoanStreet': conda)",
   "language": "python",
   "name": "python37464bitloanstreetcondafa66e404accb4a32a5c3bcdbfa6abf76"
  },
  "language_info": {
   "codemirror_mode": {
    "name": "ipython",
    "version": 3
   },
   "file_extension": ".py",
   "mimetype": "text/x-python",
   "name": "python",
   "nbconvert_exporter": "python",
   "pygments_lexer": "ipython3",
   "version": "3.7.4-final"
  }
 },
 "nbformat": 4,
 "nbformat_minor": 2
}