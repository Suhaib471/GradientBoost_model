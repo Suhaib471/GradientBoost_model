{
 "cells": [
  {
   "cell_type": "code",
   "execution_count": 1,
   "metadata": {},
   "outputs": [],
   "source": [
    "#import modules\n",
    "import pandas as pd\n",
    "import datetime as dt\n",
    "import numpy as np\n",
    "import matplotlib\n",
    "import matplotlib.pyplot as plt \n",
    "import seaborn as sns\n",
    "import sklearn\n",
    "\n",
    "from sklearn.linear_model import LogisticRegression\n",
    "from sklearn.ensemble import RandomForestClassifier\n",
    "from sklearn.model_selection import cross_val_predict\n",
    "from sklearn.metrics import confusion_matrix\n",
    "from sklearn.model_selection import train_test_split\n",
    "from sklearn.utils import resample\n",
    "\n",
    "pd.options.display.max_columns=999\n",
    "pd.options.display.max_rows=3000"
   ]
  },
  {
   "cell_type": "code",
   "execution_count": 2,
   "metadata": {},
   "outputs": [],
   "source": [
    "\n",
    "from openpyxl.workbook import Workbook\n"
   ]
  },
  {
   "cell_type": "code",
   "execution_count": 114,
   "metadata": {},
   "outputs": [
    {
     "output_type": "error",
     "ename": "KeyboardInterrupt",
     "evalue": "",
     "traceback": [
      "\u001b[0;31m---------------------------------------------------------------------------\u001b[0m",
      "\u001b[0;31mKeyboardInterrupt\u001b[0m                         Traceback (most recent call last)",
      "\u001b[0;32m<ipython-input-114-d70e59c1f541>\u001b[0m in \u001b[0;36m<module>\u001b[0;34m\u001b[0m\n\u001b[0;32m----> 1\u001b[0;31m \u001b[0mdf\u001b[0m \u001b[0;34m=\u001b[0m \u001b[0mpd\u001b[0m\u001b[0;34m.\u001b[0m\u001b[0mread_excel\u001b[0m\u001b[0;34m(\u001b[0m\u001b[0;34m'Collections Case Study Data.xlsx'\u001b[0m\u001b[0;34m,\u001b[0m \u001b[0msheet_name\u001b[0m\u001b[0;34m=\u001b[0m\u001b[0;32mNone\u001b[0m\u001b[0;34m)\u001b[0m\u001b[0;34m\u001b[0m\u001b[0;34m\u001b[0m\u001b[0m\n\u001b[0m",
      "\u001b[0;32m/Applications/anaconda3/envs/LoanStreet/lib/python3.7/site-packages/pandas/io/excel/_base.py\u001b[0m in \u001b[0;36mread_excel\u001b[0;34m(io, sheet_name, header, names, index_col, usecols, squeeze, dtype, engine, converters, true_values, false_values, skiprows, nrows, na_values, keep_default_na, verbose, parse_dates, date_parser, thousands, comment, skipfooter, convert_float, mangle_dupe_cols, **kwds)\u001b[0m\n\u001b[1;32m    302\u001b[0m \u001b[0;34m\u001b[0m\u001b[0m\n\u001b[1;32m    303\u001b[0m     \u001b[0;32mif\u001b[0m \u001b[0;32mnot\u001b[0m \u001b[0misinstance\u001b[0m\u001b[0;34m(\u001b[0m\u001b[0mio\u001b[0m\u001b[0;34m,\u001b[0m \u001b[0mExcelFile\u001b[0m\u001b[0;34m)\u001b[0m\u001b[0;34m:\u001b[0m\u001b[0;34m\u001b[0m\u001b[0;34m\u001b[0m\u001b[0m\n\u001b[0;32m--> 304\u001b[0;31m         \u001b[0mio\u001b[0m \u001b[0;34m=\u001b[0m \u001b[0mExcelFile\u001b[0m\u001b[0;34m(\u001b[0m\u001b[0mio\u001b[0m\u001b[0;34m,\u001b[0m \u001b[0mengine\u001b[0m\u001b[0;34m=\u001b[0m\u001b[0mengine\u001b[0m\u001b[0;34m)\u001b[0m\u001b[0;34m\u001b[0m\u001b[0;34m\u001b[0m\u001b[0m\n\u001b[0m\u001b[1;32m    305\u001b[0m     \u001b[0;32melif\u001b[0m \u001b[0mengine\u001b[0m \u001b[0;32mand\u001b[0m \u001b[0mengine\u001b[0m \u001b[0;34m!=\u001b[0m \u001b[0mio\u001b[0m\u001b[0;34m.\u001b[0m\u001b[0mengine\u001b[0m\u001b[0;34m:\u001b[0m\u001b[0;34m\u001b[0m\u001b[0;34m\u001b[0m\u001b[0m\n\u001b[1;32m    306\u001b[0m         raise ValueError(\n",
      "\u001b[0;32m/Applications/anaconda3/envs/LoanStreet/lib/python3.7/site-packages/pandas/io/excel/_base.py\u001b[0m in \u001b[0;36m__init__\u001b[0;34m(self, io, engine)\u001b[0m\n\u001b[1;32m    819\u001b[0m         \u001b[0mself\u001b[0m\u001b[0;34m.\u001b[0m\u001b[0m_io\u001b[0m \u001b[0;34m=\u001b[0m \u001b[0mstringify_path\u001b[0m\u001b[0;34m(\u001b[0m\u001b[0mio\u001b[0m\u001b[0;34m)\u001b[0m\u001b[0;34m\u001b[0m\u001b[0;34m\u001b[0m\u001b[0m\n\u001b[1;32m    820\u001b[0m \u001b[0;34m\u001b[0m\u001b[0m\n\u001b[0;32m--> 821\u001b[0;31m         \u001b[0mself\u001b[0m\u001b[0;34m.\u001b[0m\u001b[0m_reader\u001b[0m \u001b[0;34m=\u001b[0m \u001b[0mself\u001b[0m\u001b[0;34m.\u001b[0m\u001b[0m_engines\u001b[0m\u001b[0;34m[\u001b[0m\u001b[0mengine\u001b[0m\u001b[0;34m]\u001b[0m\u001b[0;34m(\u001b[0m\u001b[0mself\u001b[0m\u001b[0;34m.\u001b[0m\u001b[0m_io\u001b[0m\u001b[0;34m)\u001b[0m\u001b[0;34m\u001b[0m\u001b[0;34m\u001b[0m\u001b[0m\n\u001b[0m\u001b[1;32m    822\u001b[0m \u001b[0;34m\u001b[0m\u001b[0m\n\u001b[1;32m    823\u001b[0m     \u001b[0;32mdef\u001b[0m \u001b[0m__fspath__\u001b[0m\u001b[0;34m(\u001b[0m\u001b[0mself\u001b[0m\u001b[0;34m)\u001b[0m\u001b[0;34m:\u001b[0m\u001b[0;34m\u001b[0m\u001b[0;34m\u001b[0m\u001b[0m\n",
      "\u001b[0;32m/Applications/anaconda3/envs/LoanStreet/lib/python3.7/site-packages/pandas/io/excel/_xlrd.py\u001b[0m in \u001b[0;36m__init__\u001b[0;34m(self, filepath_or_buffer)\u001b[0m\n\u001b[1;32m     19\u001b[0m         \u001b[0merr_msg\u001b[0m \u001b[0;34m=\u001b[0m \u001b[0;34m\"Install xlrd >= 1.0.0 for Excel support\"\u001b[0m\u001b[0;34m\u001b[0m\u001b[0;34m\u001b[0m\u001b[0m\n\u001b[1;32m     20\u001b[0m         \u001b[0mimport_optional_dependency\u001b[0m\u001b[0;34m(\u001b[0m\u001b[0;34m\"xlrd\"\u001b[0m\u001b[0;34m,\u001b[0m \u001b[0mextra\u001b[0m\u001b[0;34m=\u001b[0m\u001b[0merr_msg\u001b[0m\u001b[0;34m)\u001b[0m\u001b[0;34m\u001b[0m\u001b[0;34m\u001b[0m\u001b[0m\n\u001b[0;32m---> 21\u001b[0;31m         \u001b[0msuper\u001b[0m\u001b[0;34m(\u001b[0m\u001b[0;34m)\u001b[0m\u001b[0;34m.\u001b[0m\u001b[0m__init__\u001b[0m\u001b[0;34m(\u001b[0m\u001b[0mfilepath_or_buffer\u001b[0m\u001b[0;34m)\u001b[0m\u001b[0;34m\u001b[0m\u001b[0;34m\u001b[0m\u001b[0m\n\u001b[0m\u001b[1;32m     22\u001b[0m \u001b[0;34m\u001b[0m\u001b[0m\n\u001b[1;32m     23\u001b[0m     \u001b[0;34m@\u001b[0m\u001b[0mproperty\u001b[0m\u001b[0;34m\u001b[0m\u001b[0;34m\u001b[0m\u001b[0m\n",
      "\u001b[0;32m/Applications/anaconda3/envs/LoanStreet/lib/python3.7/site-packages/pandas/io/excel/_base.py\u001b[0m in \u001b[0;36m__init__\u001b[0;34m(self, filepath_or_buffer)\u001b[0m\n\u001b[1;32m    351\u001b[0m             \u001b[0mself\u001b[0m\u001b[0;34m.\u001b[0m\u001b[0mbook\u001b[0m \u001b[0;34m=\u001b[0m \u001b[0mself\u001b[0m\u001b[0;34m.\u001b[0m\u001b[0mload_workbook\u001b[0m\u001b[0;34m(\u001b[0m\u001b[0mfilepath_or_buffer\u001b[0m\u001b[0;34m)\u001b[0m\u001b[0;34m\u001b[0m\u001b[0;34m\u001b[0m\u001b[0m\n\u001b[1;32m    352\u001b[0m         \u001b[0;32melif\u001b[0m \u001b[0misinstance\u001b[0m\u001b[0;34m(\u001b[0m\u001b[0mfilepath_or_buffer\u001b[0m\u001b[0;34m,\u001b[0m \u001b[0mstr\u001b[0m\u001b[0;34m)\u001b[0m\u001b[0;34m:\u001b[0m\u001b[0;34m\u001b[0m\u001b[0;34m\u001b[0m\u001b[0m\n\u001b[0;32m--> 353\u001b[0;31m             \u001b[0mself\u001b[0m\u001b[0;34m.\u001b[0m\u001b[0mbook\u001b[0m \u001b[0;34m=\u001b[0m \u001b[0mself\u001b[0m\u001b[0;34m.\u001b[0m\u001b[0mload_workbook\u001b[0m\u001b[0;34m(\u001b[0m\u001b[0mfilepath_or_buffer\u001b[0m\u001b[0;34m)\u001b[0m\u001b[0;34m\u001b[0m\u001b[0;34m\u001b[0m\u001b[0m\n\u001b[0m\u001b[1;32m    354\u001b[0m         \u001b[0;32melif\u001b[0m \u001b[0misinstance\u001b[0m\u001b[0;34m(\u001b[0m\u001b[0mfilepath_or_buffer\u001b[0m\u001b[0;34m,\u001b[0m \u001b[0mbytes\u001b[0m\u001b[0;34m)\u001b[0m\u001b[0;34m:\u001b[0m\u001b[0;34m\u001b[0m\u001b[0;34m\u001b[0m\u001b[0m\n\u001b[1;32m    355\u001b[0m             \u001b[0mself\u001b[0m\u001b[0;34m.\u001b[0m\u001b[0mbook\u001b[0m \u001b[0;34m=\u001b[0m \u001b[0mself\u001b[0m\u001b[0;34m.\u001b[0m\u001b[0mload_workbook\u001b[0m\u001b[0;34m(\u001b[0m\u001b[0mBytesIO\u001b[0m\u001b[0;34m(\u001b[0m\u001b[0mfilepath_or_buffer\u001b[0m\u001b[0;34m)\u001b[0m\u001b[0;34m)\u001b[0m\u001b[0;34m\u001b[0m\u001b[0;34m\u001b[0m\u001b[0m\n",
      "\u001b[0;32m/Applications/anaconda3/envs/LoanStreet/lib/python3.7/site-packages/pandas/io/excel/_xlrd.py\u001b[0m in \u001b[0;36mload_workbook\u001b[0;34m(self, filepath_or_buffer)\u001b[0m\n\u001b[1;32m     34\u001b[0m             \u001b[0;32mreturn\u001b[0m \u001b[0mopen_workbook\u001b[0m\u001b[0;34m(\u001b[0m\u001b[0mfile_contents\u001b[0m\u001b[0;34m=\u001b[0m\u001b[0mdata\u001b[0m\u001b[0;34m)\u001b[0m\u001b[0;34m\u001b[0m\u001b[0;34m\u001b[0m\u001b[0m\n\u001b[1;32m     35\u001b[0m         \u001b[0;32melse\u001b[0m\u001b[0;34m:\u001b[0m\u001b[0;34m\u001b[0m\u001b[0;34m\u001b[0m\u001b[0m\n\u001b[0;32m---> 36\u001b[0;31m             \u001b[0;32mreturn\u001b[0m \u001b[0mopen_workbook\u001b[0m\u001b[0;34m(\u001b[0m\u001b[0mfilepath_or_buffer\u001b[0m\u001b[0;34m)\u001b[0m\u001b[0;34m\u001b[0m\u001b[0;34m\u001b[0m\u001b[0m\n\u001b[0m\u001b[1;32m     37\u001b[0m \u001b[0;34m\u001b[0m\u001b[0m\n\u001b[1;32m     38\u001b[0m     \u001b[0;34m@\u001b[0m\u001b[0mproperty\u001b[0m\u001b[0;34m\u001b[0m\u001b[0;34m\u001b[0m\u001b[0m\n",
      "\u001b[0;32m/Applications/anaconda3/envs/LoanStreet/lib/python3.7/site-packages/xlrd/__init__.py\u001b[0m in \u001b[0;36mopen_workbook\u001b[0;34m(filename, logfile, verbosity, use_mmap, file_contents, encoding_override, formatting_info, on_demand, ragged_rows)\u001b[0m\n\u001b[1;32m    136\u001b[0m                 \u001b[0mformatting_info\u001b[0m\u001b[0;34m=\u001b[0m\u001b[0mformatting_info\u001b[0m\u001b[0;34m,\u001b[0m\u001b[0;34m\u001b[0m\u001b[0;34m\u001b[0m\u001b[0m\n\u001b[1;32m    137\u001b[0m                 \u001b[0mon_demand\u001b[0m\u001b[0;34m=\u001b[0m\u001b[0mon_demand\u001b[0m\u001b[0;34m,\u001b[0m\u001b[0;34m\u001b[0m\u001b[0;34m\u001b[0m\u001b[0m\n\u001b[0;32m--> 138\u001b[0;31m                 \u001b[0mragged_rows\u001b[0m\u001b[0;34m=\u001b[0m\u001b[0mragged_rows\u001b[0m\u001b[0;34m,\u001b[0m\u001b[0;34m\u001b[0m\u001b[0;34m\u001b[0m\u001b[0m\n\u001b[0m\u001b[1;32m    139\u001b[0m             )\n\u001b[1;32m    140\u001b[0m             \u001b[0;32mreturn\u001b[0m \u001b[0mbk\u001b[0m\u001b[0;34m\u001b[0m\u001b[0;34m\u001b[0m\u001b[0m\n",
      "\u001b[0;32m/Applications/anaconda3/envs/LoanStreet/lib/python3.7/site-packages/xlrd/xlsx.py\u001b[0m in \u001b[0;36mopen_workbook_2007_xml\u001b[0;34m(zf, component_names, logfile, verbosity, use_mmap, formatting_info, on_demand, ragged_rows)\u001b[0m\n\u001b[1;32m    839\u001b[0m         \u001b[0mx12sheet\u001b[0m \u001b[0;34m=\u001b[0m \u001b[0mX12Sheet\u001b[0m\u001b[0;34m(\u001b[0m\u001b[0msheet\u001b[0m\u001b[0;34m,\u001b[0m \u001b[0mlogfile\u001b[0m\u001b[0;34m,\u001b[0m \u001b[0mverbosity\u001b[0m\u001b[0;34m)\u001b[0m\u001b[0;34m\u001b[0m\u001b[0;34m\u001b[0m\u001b[0m\n\u001b[1;32m    840\u001b[0m         \u001b[0mheading\u001b[0m \u001b[0;34m=\u001b[0m \u001b[0;34m\"Sheet %r (sheetx=%d) from %r\"\u001b[0m \u001b[0;34m%\u001b[0m \u001b[0;34m(\u001b[0m\u001b[0msheet\u001b[0m\u001b[0;34m.\u001b[0m\u001b[0mname\u001b[0m\u001b[0;34m,\u001b[0m \u001b[0msheetx\u001b[0m\u001b[0;34m,\u001b[0m \u001b[0mfname\u001b[0m\u001b[0;34m)\u001b[0m\u001b[0;34m\u001b[0m\u001b[0;34m\u001b[0m\u001b[0m\n\u001b[0;32m--> 841\u001b[0;31m         \u001b[0mx12sheet\u001b[0m\u001b[0;34m.\u001b[0m\u001b[0mprocess_stream\u001b[0m\u001b[0;34m(\u001b[0m\u001b[0mzflo\u001b[0m\u001b[0;34m,\u001b[0m \u001b[0mheading\u001b[0m\u001b[0;34m)\u001b[0m\u001b[0;34m\u001b[0m\u001b[0;34m\u001b[0m\u001b[0m\n\u001b[0m\u001b[1;32m    842\u001b[0m         \u001b[0;32mdel\u001b[0m \u001b[0mzflo\u001b[0m\u001b[0;34m\u001b[0m\u001b[0;34m\u001b[0m\u001b[0m\n\u001b[1;32m    843\u001b[0m \u001b[0;34m\u001b[0m\u001b[0m\n",
      "\u001b[0;32m/Applications/anaconda3/envs/LoanStreet/lib/python3.7/site-packages/xlrd/xlsx.py\u001b[0m in \u001b[0;36mown_process_stream\u001b[0;34m(self, stream, heading)\u001b[0m\n\u001b[1;32m    546\u001b[0m         \u001b[0mrow_tag\u001b[0m \u001b[0;34m=\u001b[0m \u001b[0mU_SSML12\u001b[0m \u001b[0;34m+\u001b[0m \u001b[0;34m\"row\"\u001b[0m\u001b[0;34m\u001b[0m\u001b[0;34m\u001b[0m\u001b[0m\n\u001b[1;32m    547\u001b[0m         \u001b[0mself_do_row\u001b[0m \u001b[0;34m=\u001b[0m \u001b[0mself\u001b[0m\u001b[0;34m.\u001b[0m\u001b[0mdo_row\u001b[0m\u001b[0;34m\u001b[0m\u001b[0;34m\u001b[0m\u001b[0m\n\u001b[0;32m--> 548\u001b[0;31m         \u001b[0;32mfor\u001b[0m \u001b[0mevent\u001b[0m\u001b[0;34m,\u001b[0m \u001b[0melem\u001b[0m \u001b[0;32min\u001b[0m \u001b[0mET\u001b[0m\u001b[0;34m.\u001b[0m\u001b[0miterparse\u001b[0m\u001b[0;34m(\u001b[0m\u001b[0mstream\u001b[0m\u001b[0;34m)\u001b[0m\u001b[0;34m:\u001b[0m\u001b[0;34m\u001b[0m\u001b[0;34m\u001b[0m\u001b[0m\n\u001b[0m\u001b[1;32m    549\u001b[0m             \u001b[0;32mif\u001b[0m \u001b[0melem\u001b[0m\u001b[0;34m.\u001b[0m\u001b[0mtag\u001b[0m \u001b[0;34m==\u001b[0m \u001b[0mrow_tag\u001b[0m\u001b[0;34m:\u001b[0m\u001b[0;34m\u001b[0m\u001b[0;34m\u001b[0m\u001b[0m\n\u001b[1;32m    550\u001b[0m                 \u001b[0mself_do_row\u001b[0m\u001b[0;34m(\u001b[0m\u001b[0melem\u001b[0m\u001b[0;34m)\u001b[0m\u001b[0;34m\u001b[0m\u001b[0;34m\u001b[0m\u001b[0m\n",
      "\u001b[0;32m/Applications/anaconda3/envs/LoanStreet/lib/python3.7/xml/etree/ElementTree.py\u001b[0m in \u001b[0;36miterator\u001b[0;34m()\u001b[0m\n\u001b[1;32m   1225\u001b[0m                 \u001b[0;32mif\u001b[0m \u001b[0;32mnot\u001b[0m \u001b[0mdata\u001b[0m\u001b[0;34m:\u001b[0m\u001b[0;34m\u001b[0m\u001b[0;34m\u001b[0m\u001b[0m\n\u001b[1;32m   1226\u001b[0m                     \u001b[0;32mbreak\u001b[0m\u001b[0;34m\u001b[0m\u001b[0;34m\u001b[0m\u001b[0m\n\u001b[0;32m-> 1227\u001b[0;31m                 \u001b[0mpullparser\u001b[0m\u001b[0;34m.\u001b[0m\u001b[0mfeed\u001b[0m\u001b[0;34m(\u001b[0m\u001b[0mdata\u001b[0m\u001b[0;34m)\u001b[0m\u001b[0;34m\u001b[0m\u001b[0;34m\u001b[0m\u001b[0m\n\u001b[0m\u001b[1;32m   1228\u001b[0m             \u001b[0mroot\u001b[0m \u001b[0;34m=\u001b[0m \u001b[0mpullparser\u001b[0m\u001b[0;34m.\u001b[0m\u001b[0m_close_and_return_root\u001b[0m\u001b[0;34m(\u001b[0m\u001b[0;34m)\u001b[0m\u001b[0;34m\u001b[0m\u001b[0;34m\u001b[0m\u001b[0m\n\u001b[1;32m   1229\u001b[0m             \u001b[0;32myield\u001b[0m \u001b[0;32mfrom\u001b[0m \u001b[0mpullparser\u001b[0m\u001b[0;34m.\u001b[0m\u001b[0mread_events\u001b[0m\u001b[0;34m(\u001b[0m\u001b[0;34m)\u001b[0m\u001b[0;34m\u001b[0m\u001b[0;34m\u001b[0m\u001b[0m\n",
      "\u001b[0;32m/Applications/anaconda3/envs/LoanStreet/lib/python3.7/xml/etree/ElementTree.py\u001b[0m in \u001b[0;36mfeed\u001b[0;34m(self, data)\u001b[0m\n\u001b[1;32m   1267\u001b[0m         \u001b[0;32mif\u001b[0m \u001b[0mdata\u001b[0m\u001b[0;34m:\u001b[0m\u001b[0;34m\u001b[0m\u001b[0;34m\u001b[0m\u001b[0m\n\u001b[1;32m   1268\u001b[0m             \u001b[0;32mtry\u001b[0m\u001b[0;34m:\u001b[0m\u001b[0;34m\u001b[0m\u001b[0;34m\u001b[0m\u001b[0m\n\u001b[0;32m-> 1269\u001b[0;31m                 \u001b[0mself\u001b[0m\u001b[0;34m.\u001b[0m\u001b[0m_parser\u001b[0m\u001b[0;34m.\u001b[0m\u001b[0mfeed\u001b[0m\u001b[0;34m(\u001b[0m\u001b[0mdata\u001b[0m\u001b[0;34m)\u001b[0m\u001b[0;34m\u001b[0m\u001b[0;34m\u001b[0m\u001b[0m\n\u001b[0m\u001b[1;32m   1270\u001b[0m             \u001b[0;32mexcept\u001b[0m \u001b[0mSyntaxError\u001b[0m \u001b[0;32mas\u001b[0m \u001b[0mexc\u001b[0m\u001b[0;34m:\u001b[0m\u001b[0;34m\u001b[0m\u001b[0;34m\u001b[0m\u001b[0m\n\u001b[1;32m   1271\u001b[0m                 \u001b[0mself\u001b[0m\u001b[0;34m.\u001b[0m\u001b[0m_events_queue\u001b[0m\u001b[0;34m.\u001b[0m\u001b[0mappend\u001b[0m\u001b[0;34m(\u001b[0m\u001b[0mexc\u001b[0m\u001b[0;34m)\u001b[0m\u001b[0;34m\u001b[0m\u001b[0;34m\u001b[0m\u001b[0m\n",
      "\u001b[0;32m/Applications/anaconda3/envs/LoanStreet/lib/python3.7/xml/etree/ElementTree.py\u001b[0m in \u001b[0;36mfeed\u001b[0;34m(self, data)\u001b[0m\n\u001b[1;32m   1628\u001b[0m         \u001b[0;34m\"\"\"Feed encoded data to parser.\"\"\"\u001b[0m\u001b[0;34m\u001b[0m\u001b[0;34m\u001b[0m\u001b[0m\n\u001b[1;32m   1629\u001b[0m         \u001b[0;32mtry\u001b[0m\u001b[0;34m:\u001b[0m\u001b[0;34m\u001b[0m\u001b[0;34m\u001b[0m\u001b[0m\n\u001b[0;32m-> 1630\u001b[0;31m             \u001b[0mself\u001b[0m\u001b[0;34m.\u001b[0m\u001b[0mparser\u001b[0m\u001b[0;34m.\u001b[0m\u001b[0mParse\u001b[0m\u001b[0;34m(\u001b[0m\u001b[0mdata\u001b[0m\u001b[0;34m,\u001b[0m \u001b[0;36m0\u001b[0m\u001b[0;34m)\u001b[0m\u001b[0;34m\u001b[0m\u001b[0;34m\u001b[0m\u001b[0m\n\u001b[0m\u001b[1;32m   1631\u001b[0m         \u001b[0;32mexcept\u001b[0m \u001b[0mself\u001b[0m\u001b[0;34m.\u001b[0m\u001b[0m_error\u001b[0m \u001b[0;32mas\u001b[0m \u001b[0mv\u001b[0m\u001b[0;34m:\u001b[0m\u001b[0;34m\u001b[0m\u001b[0;34m\u001b[0m\u001b[0m\n\u001b[1;32m   1632\u001b[0m             \u001b[0mself\u001b[0m\u001b[0;34m.\u001b[0m\u001b[0m_raiseerror\u001b[0m\u001b[0;34m(\u001b[0m\u001b[0mv\u001b[0m\u001b[0;34m)\u001b[0m\u001b[0;34m\u001b[0m\u001b[0;34m\u001b[0m\u001b[0m\n",
      "\u001b[0;32m/opt/concourse/worker/volumes/live/d698b2ce-b4b9-4fb4-6268-e633fba1b324/volume/python_1565725718142/work/Modules/pyexpat.c\u001b[0m in \u001b[0;36mStartElement\u001b[0;34m()\u001b[0m\n",
      "\u001b[0;32m/Applications/anaconda3/envs/LoanStreet/lib/python3.7/xml/etree/ElementTree.py\u001b[0m in \u001b[0;36m_start\u001b[0;34m(self, tag, attr_list)\u001b[0m\n\u001b[1;32m   1542\u001b[0m         \u001b[0;32mreturn\u001b[0m \u001b[0mname\u001b[0m\u001b[0;34m\u001b[0m\u001b[0;34m\u001b[0m\u001b[0m\n\u001b[1;32m   1543\u001b[0m \u001b[0;34m\u001b[0m\u001b[0m\n\u001b[0;32m-> 1544\u001b[0;31m     \u001b[0;32mdef\u001b[0m \u001b[0m_start\u001b[0m\u001b[0;34m(\u001b[0m\u001b[0mself\u001b[0m\u001b[0;34m,\u001b[0m \u001b[0mtag\u001b[0m\u001b[0;34m,\u001b[0m \u001b[0mattr_list\u001b[0m\u001b[0;34m)\u001b[0m\u001b[0;34m:\u001b[0m\u001b[0;34m\u001b[0m\u001b[0;34m\u001b[0m\u001b[0m\n\u001b[0m\u001b[1;32m   1545\u001b[0m         \u001b[0;31m# Handler for expat's StartElementHandler. Since ordered_attributes\u001b[0m\u001b[0;34m\u001b[0m\u001b[0;34m\u001b[0m\u001b[0;34m\u001b[0m\u001b[0m\n\u001b[1;32m   1546\u001b[0m         \u001b[0;31m# is set, the attributes are reported as a list of alternating\u001b[0m\u001b[0;34m\u001b[0m\u001b[0;34m\u001b[0m\u001b[0;34m\u001b[0m\u001b[0m\n",
      "\u001b[0;31mKeyboardInterrupt\u001b[0m: "
     ]
    }
   ],
   "source": [
    "df = pd.read_excel('Collections Case Study Data.xlsx', sheet_name=None)"
   ]
  },
  {
   "cell_type": "markdown",
   "metadata": {},
   "source": [
    "## What is the account roll forward rate for the months of Mar , Apr, May and June for TB0?"
   ]
  },
  {
   "cell_type": "code",
   "execution_count": 95,
   "metadata": {},
   "outputs": [],
   "source": [
    "start_data = df['Loan Details']\n",
    "mar1_data = df['Loan_Status_MartoMay'].loc[df['Loan_Status_MartoMay']['Month'] == 'March']\n",
    "apr1_data = df['Loan_Status_MartoMay'].loc[df['Loan_Status_MartoMay']['Month'] == 'April']\n",
    "may1_data = df['Loan_Status_MartoMay'].loc[df['Loan_Status_MartoMay']['Month'] == 'May']\n",
    "apr2_data = df['Loan_Status_AprtoJun'].loc[df['Loan_Status_AprtoJun']['Month'] == 'April']\n",
    "may2_data = df['Loan_Status_AprtoJun'].loc[df['Loan_Status_AprtoJun']['Month'] == 'May']\n",
    "jun2_data = df['Loan_Status_AprtoJun'].loc[df['Loan_Status_AprtoJun']['Month'] == 'June']"
   ]
  },
  {
   "cell_type": "code",
   "execution_count": 96,
   "metadata": {},
   "outputs": [
    {
     "output_type": "execute_result",
     "data": {
      "text/plain": "      Loan_id  Debt_to_burden_Ratio  total_income  TENURE  Sanctioned Amount\n0  A999993387              0.259113     5326806.0      36           22000000\n1  A999990339              0.323385     8392773.0      48           73000000\n2  A999971854              0.346267    12000000.0      48           80000000\n3  A999952066              0.229800     9000000.0      36           50000000\n4  A999938479              0.370082     8500000.0      36           67000000",
      "text/html": "<div>\n<style scoped>\n    .dataframe tbody tr th:only-of-type {\n        vertical-align: middle;\n    }\n\n    .dataframe tbody tr th {\n        vertical-align: top;\n    }\n\n    .dataframe thead th {\n        text-align: right;\n    }\n</style>\n<table border=\"1\" class=\"dataframe\">\n  <thead>\n    <tr style=\"text-align: right;\">\n      <th></th>\n      <th>Loan_id</th>\n      <th>Debt_to_burden_Ratio</th>\n      <th>total_income</th>\n      <th>TENURE</th>\n      <th>Sanctioned Amount</th>\n    </tr>\n  </thead>\n  <tbody>\n    <tr>\n      <th>0</th>\n      <td>A999993387</td>\n      <td>0.259113</td>\n      <td>5326806.0</td>\n      <td>36</td>\n      <td>22000000</td>\n    </tr>\n    <tr>\n      <th>1</th>\n      <td>A999990339</td>\n      <td>0.323385</td>\n      <td>8392773.0</td>\n      <td>48</td>\n      <td>73000000</td>\n    </tr>\n    <tr>\n      <th>2</th>\n      <td>A999971854</td>\n      <td>0.346267</td>\n      <td>12000000.0</td>\n      <td>48</td>\n      <td>80000000</td>\n    </tr>\n    <tr>\n      <th>3</th>\n      <td>A999952066</td>\n      <td>0.229800</td>\n      <td>9000000.0</td>\n      <td>36</td>\n      <td>50000000</td>\n    </tr>\n    <tr>\n      <th>4</th>\n      <td>A999938479</td>\n      <td>0.370082</td>\n      <td>8500000.0</td>\n      <td>36</td>\n      <td>67000000</td>\n    </tr>\n  </tbody>\n</table>\n</div>"
     },
     "metadata": {},
     "execution_count": 96
    }
   ],
   "source": [
    "start_data.head()"
   ]
  },
  {
   "cell_type": "code",
   "execution_count": 97,
   "metadata": {},
   "outputs": [],
   "source": [
    "dfs = [start_data, mar1_data, apr1_data, may1_data, apr2_data, may2_data, jun2_data]"
   ]
  },
  {
   "cell_type": "code",
   "execution_count": 99,
   "metadata": {},
   "outputs": [],
   "source": [
    "data = start_data"
   ]
  },
  {
   "cell_type": "code",
   "execution_count": 100,
   "metadata": {},
   "outputs": [],
   "source": [
    "for df in dfs:\n",
    "    data1 = pd.merge(data, df, how='left', on='Loan_id')"
   ]
  },
  {
   "cell_type": "code",
   "execution_count": 101,
   "metadata": {},
   "outputs": [
    {
     "output_type": "execute_result",
     "data": {
      "text/plain": "      Loan_id  Debt_to_burden_Ratio  total_income  TENURE_x  \\\n0  A999993387              0.259113     5326806.0        36   \n1  A999990339              0.323385     8392773.0        48   \n2  A999971854              0.346267    12000000.0        48   \n3  A999952066              0.229800     9000000.0        36   \n4  A999938479              0.370082     8500000.0        36   \n\n   Sanctioned Amount_x   Bucket  PRINBALANCE  TENURE_y  Months on Books  \\\n0             22000000      NaN          NaN       NaN              NaN   \n1             73000000  REGULAR   66303700.0      48.0              7.0   \n2             80000000  REGULAR   48509900.0      48.0             25.0   \n3             50000000  REGULAR   32791800.0      36.0             15.0   \n4             67000000  REGULAR   60348600.0      36.0              5.0   \n\n   Sanctioned Amount_y Month  Unnamed: 7  Unnamed: 8  \n0                  NaN   NaN         NaN         NaN  \n1           73000000.0  June         NaN         NaN  \n2           80000000.0  June         NaN -19605000.0  \n3           50000000.0  June         NaN         NaN  \n4           67000000.0  June         NaN         NaN  ",
      "text/html": "<div>\n<style scoped>\n    .dataframe tbody tr th:only-of-type {\n        vertical-align: middle;\n    }\n\n    .dataframe tbody tr th {\n        vertical-align: top;\n    }\n\n    .dataframe thead th {\n        text-align: right;\n    }\n</style>\n<table border=\"1\" class=\"dataframe\">\n  <thead>\n    <tr style=\"text-align: right;\">\n      <th></th>\n      <th>Loan_id</th>\n      <th>Debt_to_burden_Ratio</th>\n      <th>total_income</th>\n      <th>TENURE_x</th>\n      <th>Sanctioned Amount_x</th>\n      <th>Bucket</th>\n      <th>PRINBALANCE</th>\n      <th>TENURE_y</th>\n      <th>Months on Books</th>\n      <th>Sanctioned Amount_y</th>\n      <th>Month</th>\n      <th>Unnamed: 7</th>\n      <th>Unnamed: 8</th>\n    </tr>\n  </thead>\n  <tbody>\n    <tr>\n      <th>0</th>\n      <td>A999993387</td>\n      <td>0.259113</td>\n      <td>5326806.0</td>\n      <td>36</td>\n      <td>22000000</td>\n      <td>NaN</td>\n      <td>NaN</td>\n      <td>NaN</td>\n      <td>NaN</td>\n      <td>NaN</td>\n      <td>NaN</td>\n      <td>NaN</td>\n      <td>NaN</td>\n    </tr>\n    <tr>\n      <th>1</th>\n      <td>A999990339</td>\n      <td>0.323385</td>\n      <td>8392773.0</td>\n      <td>48</td>\n      <td>73000000</td>\n      <td>REGULAR</td>\n      <td>66303700.0</td>\n      <td>48.0</td>\n      <td>7.0</td>\n      <td>73000000.0</td>\n      <td>June</td>\n      <td>NaN</td>\n      <td>NaN</td>\n    </tr>\n    <tr>\n      <th>2</th>\n      <td>A999971854</td>\n      <td>0.346267</td>\n      <td>12000000.0</td>\n      <td>48</td>\n      <td>80000000</td>\n      <td>REGULAR</td>\n      <td>48509900.0</td>\n      <td>48.0</td>\n      <td>25.0</td>\n      <td>80000000.0</td>\n      <td>June</td>\n      <td>NaN</td>\n      <td>-19605000.0</td>\n    </tr>\n    <tr>\n      <th>3</th>\n      <td>A999952066</td>\n      <td>0.229800</td>\n      <td>9000000.0</td>\n      <td>36</td>\n      <td>50000000</td>\n      <td>REGULAR</td>\n      <td>32791800.0</td>\n      <td>36.0</td>\n      <td>15.0</td>\n      <td>50000000.0</td>\n      <td>June</td>\n      <td>NaN</td>\n      <td>NaN</td>\n    </tr>\n    <tr>\n      <th>4</th>\n      <td>A999938479</td>\n      <td>0.370082</td>\n      <td>8500000.0</td>\n      <td>36</td>\n      <td>67000000</td>\n      <td>REGULAR</td>\n      <td>60348600.0</td>\n      <td>36.0</td>\n      <td>5.0</td>\n      <td>67000000.0</td>\n      <td>June</td>\n      <td>NaN</td>\n      <td>NaN</td>\n    </tr>\n  </tbody>\n</table>\n</div>"
     },
     "metadata": {},
     "execution_count": 101
    }
   ],
   "source": [
    "data1.head()"
   ]
  },
  {
   "cell_type": "code",
   "execution_count": 102,
   "metadata": {},
   "outputs": [],
   "source": [
    "from functools import reduce\n",
    "dfs = [start_data, mar1_data, apr1_data, may1_data, apr2_data, may2_data, jun2_data]\n",
    "\n",
    "df_merged = reduce(lambda  left,right: pd.merge(left,right,on=['Loan_id'],how='left'), dfs)"
   ]
  },
  {
   "cell_type": "code",
   "execution_count": 103,
   "metadata": {},
   "outputs": [
    {
     "output_type": "execute_result",
     "data": {
      "text/plain": "      Loan_id  Debt_to_burden_Ratio  total_income  TENURE_x  \\\n0  A999993387              0.259113     5326806.0        36   \n1  A999990339              0.323385     8392773.0        48   \n2  A999971854              0.346267    12000000.0        48   \n3  A999952066              0.229800     9000000.0        36   \n4  A999938479              0.370082     8500000.0        36   \n\n   Sanctioned Amount_x Bucket_x  TENURE_y  PRINBALANCE_x  Months on Books_x  \\\n0             22000000      TB0      36.0     14361500.0               17.0   \n1             73000000      TB0      48.0     69805500.0                4.0   \n2             80000000      NaN       NaN            NaN                NaN   \n3             50000000      TB0      36.0     37728800.0               12.0   \n4             67000000      NaN       NaN            NaN                NaN   \n\n   Sanctioned Amount_y Month_x  Unnamed: 7_x  Unnamed: 8_x Bucket_y  TENURE_x  \\\n0           22000000.0   March           NaN      576300.0      TB0      36.0   \n1           73000000.0   March           NaN      848000.0      TB0      48.0   \n2                  NaN     NaN           NaN           NaN      TB0      48.0   \n3           50000000.0   March           NaN     1237600.0      TB0      36.0   \n4                  NaN     NaN           NaN           NaN      TB0      36.0   \n\n   PRINBALANCE_y  Months on Books_y  Sanctioned Amount_x Month_y  \\\n0     13785200.0               18.0           22000000.0   April   \n1     68957500.0                5.0           73000000.0   April   \n2     53248600.0               23.0           80000000.0   April   \n3     36491200.0               13.0           50000000.0   April   \n4     63848300.0                3.0           67000000.0   April   \n\n   Unnamed: 7_y  Unnamed: 8_y Bucket_x  TENURE_y  PRINBALANCE_x  \\\n0           NaN           NaN      NaN       NaN            NaN   \n1           NaN      842600.0      TB0      48.0     68114900.0   \n2           NaN     1550600.0      TB0      48.0     51698000.0   \n3           NaN     1216700.0      TB0      36.0     35274500.0   \n4           NaN           NaN      TB0      36.0     62723900.0   \n\n   Months on Books_x  Sanctioned Amount_y Month_x  Unnamed: 7_x  Unnamed: 8_x  \\\n0                NaN                  NaN     NaN           NaN           NaN   \n1                6.0           73000000.0     May           NaN           NaN   \n2               24.0           80000000.0     May           NaN           NaN   \n3               14.0           50000000.0     May           NaN           NaN   \n4                4.0           67000000.0     May           NaN           NaN   \n\n  Bucket_y  PRINBALANCE_y  TENURE_x  Months on Books_y  Sanctioned Amount_x  \\\n0  REGULAR     13192100.0      36.0               18.0           22000000.0   \n1  REGULAR     68114900.0      48.0                5.0           73000000.0   \n2      NaN            NaN       NaN                NaN                  NaN   \n3  REGULAR     35274500.0      36.0               13.0           50000000.0   \n4      NaN            NaN       NaN                NaN                  NaN   \n\n  Month_y  Unnamed: 7_y  Unnamed: 8_y Bucket_x  PRINBALANCE_x  TENURE_y  \\\n0   April           NaN      609100.0  REGULAR     12583000.0      36.0   \n1   April           NaN           NaN  REGULAR     67206100.0      48.0   \n2     NaN           NaN           NaN  REGULAR     50123600.0      48.0   \n3   April           NaN           NaN  REGULAR     34047600.0      36.0   \n4     NaN           NaN           NaN  REGULAR     61587400.0      36.0   \n\n   Months on Books_x  Sanctioned Amount_y Month_x  Unnamed: 7_x  Unnamed: 8_x  \\\n0               19.0           22000000.0     May           NaN           NaN   \n1                6.0           73000000.0     May           NaN           NaN   \n2               24.0           80000000.0     May           NaN     1613700.0   \n3               14.0           50000000.0     May           NaN           NaN   \n4                4.0           67000000.0     May           NaN           NaN   \n\n  Bucket_y  PRINBALANCE_y  TENURE  Months on Books_y  Sanctioned Amount  \\\n0      NaN            NaN     NaN                NaN                NaN   \n1  REGULAR     66303700.0    48.0                7.0         73000000.0   \n2  REGULAR     48509900.0    48.0               25.0         80000000.0   \n3  REGULAR     32791800.0    36.0               15.0         50000000.0   \n4  REGULAR     60348600.0    36.0                5.0         67000000.0   \n\n  Month_y  Unnamed: 7_y  Unnamed: 8_y  \n0     NaN           NaN           NaN  \n1    June           NaN           NaN  \n2    June           NaN   -19605000.0  \n3    June           NaN           NaN  \n4    June           NaN           NaN  ",
      "text/html": "<div>\n<style scoped>\n    .dataframe tbody tr th:only-of-type {\n        vertical-align: middle;\n    }\n\n    .dataframe tbody tr th {\n        vertical-align: top;\n    }\n\n    .dataframe thead th {\n        text-align: right;\n    }\n</style>\n<table border=\"1\" class=\"dataframe\">\n  <thead>\n    <tr style=\"text-align: right;\">\n      <th></th>\n      <th>Loan_id</th>\n      <th>Debt_to_burden_Ratio</th>\n      <th>total_income</th>\n      <th>TENURE_x</th>\n      <th>Sanctioned Amount_x</th>\n      <th>Bucket_x</th>\n      <th>TENURE_y</th>\n      <th>PRINBALANCE_x</th>\n      <th>Months on Books_x</th>\n      <th>Sanctioned Amount_y</th>\n      <th>Month_x</th>\n      <th>Unnamed: 7_x</th>\n      <th>Unnamed: 8_x</th>\n      <th>Bucket_y</th>\n      <th>TENURE_x</th>\n      <th>PRINBALANCE_y</th>\n      <th>Months on Books_y</th>\n      <th>Sanctioned Amount_x</th>\n      <th>Month_y</th>\n      <th>Unnamed: 7_y</th>\n      <th>Unnamed: 8_y</th>\n      <th>Bucket_x</th>\n      <th>TENURE_y</th>\n      <th>PRINBALANCE_x</th>\n      <th>Months on Books_x</th>\n      <th>Sanctioned Amount_y</th>\n      <th>Month_x</th>\n      <th>Unnamed: 7_x</th>\n      <th>Unnamed: 8_x</th>\n      <th>Bucket_y</th>\n      <th>PRINBALANCE_y</th>\n      <th>TENURE_x</th>\n      <th>Months on Books_y</th>\n      <th>Sanctioned Amount_x</th>\n      <th>Month_y</th>\n      <th>Unnamed: 7_y</th>\n      <th>Unnamed: 8_y</th>\n      <th>Bucket_x</th>\n      <th>PRINBALANCE_x</th>\n      <th>TENURE_y</th>\n      <th>Months on Books_x</th>\n      <th>Sanctioned Amount_y</th>\n      <th>Month_x</th>\n      <th>Unnamed: 7_x</th>\n      <th>Unnamed: 8_x</th>\n      <th>Bucket_y</th>\n      <th>PRINBALANCE_y</th>\n      <th>TENURE</th>\n      <th>Months on Books_y</th>\n      <th>Sanctioned Amount</th>\n      <th>Month_y</th>\n      <th>Unnamed: 7_y</th>\n      <th>Unnamed: 8_y</th>\n    </tr>\n  </thead>\n  <tbody>\n    <tr>\n      <th>0</th>\n      <td>A999993387</td>\n      <td>0.259113</td>\n      <td>5326806.0</td>\n      <td>36</td>\n      <td>22000000</td>\n      <td>TB0</td>\n      <td>36.0</td>\n      <td>14361500.0</td>\n      <td>17.0</td>\n      <td>22000000.0</td>\n      <td>March</td>\n      <td>NaN</td>\n      <td>576300.0</td>\n      <td>TB0</td>\n      <td>36.0</td>\n      <td>13785200.0</td>\n      <td>18.0</td>\n      <td>22000000.0</td>\n      <td>April</td>\n      <td>NaN</td>\n      <td>NaN</td>\n      <td>NaN</td>\n      <td>NaN</td>\n      <td>NaN</td>\n      <td>NaN</td>\n      <td>NaN</td>\n      <td>NaN</td>\n      <td>NaN</td>\n      <td>NaN</td>\n      <td>REGULAR</td>\n      <td>13192100.0</td>\n      <td>36.0</td>\n      <td>18.0</td>\n      <td>22000000.0</td>\n      <td>April</td>\n      <td>NaN</td>\n      <td>609100.0</td>\n      <td>REGULAR</td>\n      <td>12583000.0</td>\n      <td>36.0</td>\n      <td>19.0</td>\n      <td>22000000.0</td>\n      <td>May</td>\n      <td>NaN</td>\n      <td>NaN</td>\n      <td>NaN</td>\n      <td>NaN</td>\n      <td>NaN</td>\n      <td>NaN</td>\n      <td>NaN</td>\n      <td>NaN</td>\n      <td>NaN</td>\n      <td>NaN</td>\n    </tr>\n    <tr>\n      <th>1</th>\n      <td>A999990339</td>\n      <td>0.323385</td>\n      <td>8392773.0</td>\n      <td>48</td>\n      <td>73000000</td>\n      <td>TB0</td>\n      <td>48.0</td>\n      <td>69805500.0</td>\n      <td>4.0</td>\n      <td>73000000.0</td>\n      <td>March</td>\n      <td>NaN</td>\n      <td>848000.0</td>\n      <td>TB0</td>\n      <td>48.0</td>\n      <td>68957500.0</td>\n      <td>5.0</td>\n      <td>73000000.0</td>\n      <td>April</td>\n      <td>NaN</td>\n      <td>842600.0</td>\n      <td>TB0</td>\n      <td>48.0</td>\n      <td>68114900.0</td>\n      <td>6.0</td>\n      <td>73000000.0</td>\n      <td>May</td>\n      <td>NaN</td>\n      <td>NaN</td>\n      <td>REGULAR</td>\n      <td>68114900.0</td>\n      <td>48.0</td>\n      <td>5.0</td>\n      <td>73000000.0</td>\n      <td>April</td>\n      <td>NaN</td>\n      <td>NaN</td>\n      <td>REGULAR</td>\n      <td>67206100.0</td>\n      <td>48.0</td>\n      <td>6.0</td>\n      <td>73000000.0</td>\n      <td>May</td>\n      <td>NaN</td>\n      <td>NaN</td>\n      <td>REGULAR</td>\n      <td>66303700.0</td>\n      <td>48.0</td>\n      <td>7.0</td>\n      <td>73000000.0</td>\n      <td>June</td>\n      <td>NaN</td>\n      <td>NaN</td>\n    </tr>\n    <tr>\n      <th>2</th>\n      <td>A999971854</td>\n      <td>0.346267</td>\n      <td>12000000.0</td>\n      <td>48</td>\n      <td>80000000</td>\n      <td>NaN</td>\n      <td>NaN</td>\n      <td>NaN</td>\n      <td>NaN</td>\n      <td>NaN</td>\n      <td>NaN</td>\n      <td>NaN</td>\n      <td>NaN</td>\n      <td>TB0</td>\n      <td>48.0</td>\n      <td>53248600.0</td>\n      <td>23.0</td>\n      <td>80000000.0</td>\n      <td>April</td>\n      <td>NaN</td>\n      <td>1550600.0</td>\n      <td>TB0</td>\n      <td>48.0</td>\n      <td>51698000.0</td>\n      <td>24.0</td>\n      <td>80000000.0</td>\n      <td>May</td>\n      <td>NaN</td>\n      <td>NaN</td>\n      <td>NaN</td>\n      <td>NaN</td>\n      <td>NaN</td>\n      <td>NaN</td>\n      <td>NaN</td>\n      <td>NaN</td>\n      <td>NaN</td>\n      <td>NaN</td>\n      <td>REGULAR</td>\n      <td>50123600.0</td>\n      <td>48.0</td>\n      <td>24.0</td>\n      <td>80000000.0</td>\n      <td>May</td>\n      <td>NaN</td>\n      <td>1613700.0</td>\n      <td>REGULAR</td>\n      <td>48509900.0</td>\n      <td>48.0</td>\n      <td>25.0</td>\n      <td>80000000.0</td>\n      <td>June</td>\n      <td>NaN</td>\n      <td>-19605000.0</td>\n    </tr>\n    <tr>\n      <th>3</th>\n      <td>A999952066</td>\n      <td>0.229800</td>\n      <td>9000000.0</td>\n      <td>36</td>\n      <td>50000000</td>\n      <td>TB0</td>\n      <td>36.0</td>\n      <td>37728800.0</td>\n      <td>12.0</td>\n      <td>50000000.0</td>\n      <td>March</td>\n      <td>NaN</td>\n      <td>1237600.0</td>\n      <td>TB0</td>\n      <td>36.0</td>\n      <td>36491200.0</td>\n      <td>13.0</td>\n      <td>50000000.0</td>\n      <td>April</td>\n      <td>NaN</td>\n      <td>1216700.0</td>\n      <td>TB0</td>\n      <td>36.0</td>\n      <td>35274500.0</td>\n      <td>14.0</td>\n      <td>50000000.0</td>\n      <td>May</td>\n      <td>NaN</td>\n      <td>NaN</td>\n      <td>REGULAR</td>\n      <td>35274500.0</td>\n      <td>36.0</td>\n      <td>13.0</td>\n      <td>50000000.0</td>\n      <td>April</td>\n      <td>NaN</td>\n      <td>NaN</td>\n      <td>REGULAR</td>\n      <td>34047600.0</td>\n      <td>36.0</td>\n      <td>14.0</td>\n      <td>50000000.0</td>\n      <td>May</td>\n      <td>NaN</td>\n      <td>NaN</td>\n      <td>REGULAR</td>\n      <td>32791800.0</td>\n      <td>36.0</td>\n      <td>15.0</td>\n      <td>50000000.0</td>\n      <td>June</td>\n      <td>NaN</td>\n      <td>NaN</td>\n    </tr>\n    <tr>\n      <th>4</th>\n      <td>A999938479</td>\n      <td>0.370082</td>\n      <td>8500000.0</td>\n      <td>36</td>\n      <td>67000000</td>\n      <td>NaN</td>\n      <td>NaN</td>\n      <td>NaN</td>\n      <td>NaN</td>\n      <td>NaN</td>\n      <td>NaN</td>\n      <td>NaN</td>\n      <td>NaN</td>\n      <td>TB0</td>\n      <td>36.0</td>\n      <td>63848300.0</td>\n      <td>3.0</td>\n      <td>67000000.0</td>\n      <td>April</td>\n      <td>NaN</td>\n      <td>NaN</td>\n      <td>TB0</td>\n      <td>36.0</td>\n      <td>62723900.0</td>\n      <td>4.0</td>\n      <td>67000000.0</td>\n      <td>May</td>\n      <td>NaN</td>\n      <td>NaN</td>\n      <td>NaN</td>\n      <td>NaN</td>\n      <td>NaN</td>\n      <td>NaN</td>\n      <td>NaN</td>\n      <td>NaN</td>\n      <td>NaN</td>\n      <td>NaN</td>\n      <td>REGULAR</td>\n      <td>61587400.0</td>\n      <td>36.0</td>\n      <td>4.0</td>\n      <td>67000000.0</td>\n      <td>May</td>\n      <td>NaN</td>\n      <td>NaN</td>\n      <td>REGULAR</td>\n      <td>60348600.0</td>\n      <td>36.0</td>\n      <td>5.0</td>\n      <td>67000000.0</td>\n      <td>June</td>\n      <td>NaN</td>\n      <td>NaN</td>\n    </tr>\n  </tbody>\n</table>\n</div>"
     },
     "metadata": {},
     "execution_count": 103
    }
   ],
   "source": [
    "df_merged.head()"
   ]
  },
  {
   "cell_type": "code",
   "execution_count": 104,
   "metadata": {},
   "outputs": [
    {
     "output_type": "execute_result",
     "data": {
      "text/plain": "Index(['Loan_id', 'Debt_to_burden_Ratio', 'total_income', 'TENURE_x',\n       'Sanctioned Amount_x', 'Bucket_x', 'TENURE_y', 'PRINBALANCE_x',\n       'Months on Books_x', 'Sanctioned Amount_y', 'Month_x', 'Unnamed: 7_x',\n       'Unnamed: 8_x', 'Bucket_y', 'TENURE_x', 'PRINBALANCE_y',\n       'Months on Books_y', 'Sanctioned Amount_x', 'Month_y', 'Unnamed: 7_y',\n       'Unnamed: 8_y', 'Bucket_x', 'TENURE_y', 'PRINBALANCE_x',\n       'Months on Books_x', 'Sanctioned Amount_y', 'Month_x', 'Unnamed: 7_x',\n       'Unnamed: 8_x', 'Bucket_y', 'PRINBALANCE_y', 'TENURE_x',\n       'Months on Books_y', 'Sanctioned Amount_x', 'Month_y', 'Unnamed: 7_y',\n       'Unnamed: 8_y', 'Bucket_x', 'PRINBALANCE_x', 'TENURE_y',\n       'Months on Books_x', 'Sanctioned Amount_y', 'Month_x', 'Unnamed: 7_x',\n       'Unnamed: 8_x', 'Bucket_y', 'PRINBALANCE_y', 'TENURE',\n       'Months on Books_y', 'Sanctioned Amount', 'Month_y', 'Unnamed: 7_y',\n       'Unnamed: 8_y'],\n      dtype='object')"
     },
     "metadata": {},
     "execution_count": 104
    }
   ],
   "source": [
    "df_merged.columns"
   ]
  },
  {
   "cell_type": "code",
   "execution_count": 105,
   "metadata": {},
   "outputs": [
    {
     "output_type": "stream",
     "name": "stdout",
     "text": "<class 'pandas.core.frame.DataFrame'>\nInt64Index: 40339 entries, 0 to 40338\nData columns (total 53 columns):\n #   Column                Non-Null Count  Dtype  \n---  ------                --------------  -----  \n 0   Loan_id               40339 non-null  object \n 1   Debt_to_burden_Ratio  40339 non-null  float64\n 2   total_income          40339 non-null  float64\n 3   TENURE_x              40339 non-null  int64  \n 4   Sanctioned Amount_x   40339 non-null  int64  \n 5   Bucket_x              24575 non-null  object \n 6   TENURE_y              24575 non-null  float64\n 7   PRINBALANCE_x         24575 non-null  float64\n 8   Months on Books_x     24575 non-null  float64\n 9   Sanctioned Amount_y   24575 non-null  float64\n 10  Month_x               24575 non-null  object \n 11  Unnamed: 7_x          0 non-null      float64\n 12  Unnamed: 8_x          3 non-null      float64\n 13  Bucket_y              27079 non-null  object \n 14  TENURE_x              27079 non-null  float64\n 15  PRINBALANCE_y         27079 non-null  float64\n 16  Months on Books_y     27079 non-null  float64\n 17  Sanctioned Amount_x   27079 non-null  float64\n 18  Month_y               27079 non-null  object \n 19  Unnamed: 7_y          0 non-null      float64\n 20  Unnamed: 8_y          3 non-null      float64\n 21  Bucket_x              29115 non-null  object \n 22  TENURE_y              29115 non-null  float64\n 23  PRINBALANCE_x         29115 non-null  float64\n 24  Months on Books_x     29115 non-null  float64\n 25  Sanctioned Amount_y   29115 non-null  float64\n 26  Month_x               29115 non-null  object \n 27  Unnamed: 7_x          0 non-null      float64\n 28  Unnamed: 8_x          0 non-null      float64\n 29  Bucket_y              24575 non-null  object \n 30  PRINBALANCE_y         24575 non-null  float64\n 31  TENURE_x              24575 non-null  float64\n 32  Months on Books_y     24575 non-null  float64\n 33  Sanctioned Amount_x   24575 non-null  float64\n 34  Month_y               24575 non-null  object \n 35  Unnamed: 7_y          0 non-null      float64\n 36  Unnamed: 8_y          1 non-null      float64\n 37  Bucket_x              27079 non-null  object \n 38  PRINBALANCE_x         27079 non-null  float64\n 39  TENURE_y              27079 non-null  float64\n 40  Months on Books_x     27079 non-null  float64\n 41  Sanctioned Amount_y   27079 non-null  float64\n 42  Month_x               27079 non-null  object \n 43  Unnamed: 7_x          0 non-null      float64\n 44  Unnamed: 8_x          1 non-null      float64\n 45  Bucket_y              29115 non-null  object \n 46  PRINBALANCE_y         29115 non-null  float64\n 47  TENURE                29115 non-null  float64\n 48  Months on Books_y     29115 non-null  float64\n 49  Sanctioned Amount     29115 non-null  float64\n 50  Month_y               29115 non-null  object \n 51  Unnamed: 7_y          0 non-null      float64\n 52  Unnamed: 8_y          1 non-null      float64\ndtypes: float64(38), int64(2), object(13)\nmemory usage: 16.6+ MB\n"
    }
   ],
   "source": [
    "df_merged.info()"
   ]
  },
  {
   "cell_type": "code",
   "execution_count": 106,
   "metadata": {},
   "outputs": [],
   "source": [
    "df2 = df_merged[['Loan_id', 'Bucket_x', 'Bucket_y']]"
   ]
  },
  {
   "cell_type": "code",
   "execution_count": 107,
   "metadata": {},
   "outputs": [
    {
     "output_type": "stream",
     "name": "stdout",
     "text": "<class 'pandas.core.frame.DataFrame'>\nInt64Index: 40339 entries, 0 to 40338\nData columns (total 7 columns):\n #   Column    Non-Null Count  Dtype \n---  ------    --------------  ----- \n 0   Loan_id   40339 non-null  object\n 1   Bucket_x  24575 non-null  object\n 2   Bucket_x  29115 non-null  object\n 3   Bucket_x  27079 non-null  object\n 4   Bucket_y  27079 non-null  object\n 5   Bucket_y  24575 non-null  object\n 6   Bucket_y  29115 non-null  object\ndtypes: object(7)\nmemory usage: 2.5+ MB\n"
    }
   ],
   "source": [
    "df2.info()"
   ]
  },
  {
   "cell_type": "code",
   "execution_count": 108,
   "metadata": {},
   "outputs": [
    {
     "output_type": "execute_result",
     "data": {
      "text/plain": "      Loan_id Bucket_mar1 Bucket_apr1 Bucket_may1 Bucket_apr2 Bucket_may2  \\\n0  A999993387         TB0         TB0         NaN     REGULAR     REGULAR   \n1  A999990339         TB0         TB0         TB0     REGULAR     REGULAR   \n2  A999971854         NaN         TB0         TB0         NaN     REGULAR   \n3  A999952066         TB0         TB0         TB0     REGULAR     REGULAR   \n4  A999938479         NaN         TB0         TB0         NaN     REGULAR   \n\n  Bucket_jun2  \n0         NaN  \n1     REGULAR  \n2     REGULAR  \n3     REGULAR  \n4     REGULAR  ",
      "text/html": "<div>\n<style scoped>\n    .dataframe tbody tr th:only-of-type {\n        vertical-align: middle;\n    }\n\n    .dataframe tbody tr th {\n        vertical-align: top;\n    }\n\n    .dataframe thead th {\n        text-align: right;\n    }\n</style>\n<table border=\"1\" class=\"dataframe\">\n  <thead>\n    <tr style=\"text-align: right;\">\n      <th></th>\n      <th>Loan_id</th>\n      <th>Bucket_mar1</th>\n      <th>Bucket_apr1</th>\n      <th>Bucket_may1</th>\n      <th>Bucket_apr2</th>\n      <th>Bucket_may2</th>\n      <th>Bucket_jun2</th>\n    </tr>\n  </thead>\n  <tbody>\n    <tr>\n      <th>0</th>\n      <td>A999993387</td>\n      <td>TB0</td>\n      <td>TB0</td>\n      <td>NaN</td>\n      <td>REGULAR</td>\n      <td>REGULAR</td>\n      <td>NaN</td>\n    </tr>\n    <tr>\n      <th>1</th>\n      <td>A999990339</td>\n      <td>TB0</td>\n      <td>TB0</td>\n      <td>TB0</td>\n      <td>REGULAR</td>\n      <td>REGULAR</td>\n      <td>REGULAR</td>\n    </tr>\n    <tr>\n      <th>2</th>\n      <td>A999971854</td>\n      <td>NaN</td>\n      <td>TB0</td>\n      <td>TB0</td>\n      <td>NaN</td>\n      <td>REGULAR</td>\n      <td>REGULAR</td>\n    </tr>\n    <tr>\n      <th>3</th>\n      <td>A999952066</td>\n      <td>TB0</td>\n      <td>TB0</td>\n      <td>TB0</td>\n      <td>REGULAR</td>\n      <td>REGULAR</td>\n      <td>REGULAR</td>\n    </tr>\n    <tr>\n      <th>4</th>\n      <td>A999938479</td>\n      <td>NaN</td>\n      <td>TB0</td>\n      <td>TB0</td>\n      <td>NaN</td>\n      <td>REGULAR</td>\n      <td>REGULAR</td>\n    </tr>\n  </tbody>\n</table>\n</div>"
     },
     "metadata": {},
     "execution_count": 108
    }
   ],
   "source": [
    "df2.columns = ['Loan_id', 'Bucket_mar1', 'Bucket_may1', 'Bucket_may2', 'Bucket_apr1', 'Bucket_apr2', 'Bucket_jun2']\n",
    "df2 = df2[['Loan_id', 'Bucket_mar1', 'Bucket_apr1', 'Bucket_may1', 'Bucket_apr2', 'Bucket_may2', 'Bucket_jun2']]\n",
    "df2.head()"
   ]
  },
  {
   "cell_type": "code",
   "execution_count": 110,
   "metadata": {},
   "outputs": [
    {
     "output_type": "stream",
     "name": "stdout",
     "text": "A277860021    1\nA737756929    1\nA409493772    1\nA644241821    1\nA656707551    1\n             ..\nA7152365      1\nA642857773    1\nA10699572     1\nA891798984    1\nA984001610    1\nName: Loan_id, Length: 40339, dtype: int64\nTB0    24575\nName: Bucket_mar1, dtype: int64\nTB0    27079\nName: Bucket_apr1, dtype: int64\nTB0    29115\nName: Bucket_may1, dtype: int64\nREGULAR    22475\nTB0         1709\nTB1          391\nName: Bucket_apr2, dtype: int64\nREGULAR    24964\nTB0         1574\nTB1          541\nName: Bucket_may2, dtype: int64\nREGULAR    27085\nTB0         1577\nTB1          453\nName: Bucket_jun2, dtype: int64\n"
    }
   ],
   "source": [
    "cols = df2.columns\n",
    "\n",
    "for c in cols:\n",
    "    print(df2[c].value_counts())"
   ]
  },
  {
   "cell_type": "code",
   "execution_count": null,
   "metadata": {},
   "outputs": [],
   "source": [
    "def clean_bucket(row):\n",
    "    if row[]"
   ]
  },
  {
   "cell_type": "code",
   "execution_count": 71,
   "metadata": {},
   "outputs": [
    {
     "output_type": "execute_result",
     "data": {
      "text/plain": "      Loan_id Bucket_x Bucket_x Bucket_y Bucket_y start_bucket\n0  A999993387      TB0  REGULAR  REGULAR      NaN      REGULAR\n1  A999990339      TB0  REGULAR  REGULAR  REGULAR      REGULAR\n2  A999971854      NaN  REGULAR      NaN  REGULAR      REGULAR\n3  A999952066      TB0  REGULAR  REGULAR  REGULAR      REGULAR\n4  A999938479      NaN  REGULAR      NaN  REGULAR      REGULAR",
      "text/html": "<div>\n<style scoped>\n    .dataframe tbody tr th:only-of-type {\n        vertical-align: middle;\n    }\n\n    .dataframe tbody tr th {\n        vertical-align: top;\n    }\n\n    .dataframe thead th {\n        text-align: right;\n    }\n</style>\n<table border=\"1\" class=\"dataframe\">\n  <thead>\n    <tr style=\"text-align: right;\">\n      <th></th>\n      <th>Loan_id</th>\n      <th>Bucket_x</th>\n      <th>Bucket_x</th>\n      <th>Bucket_y</th>\n      <th>Bucket_y</th>\n      <th>start_bucket</th>\n    </tr>\n  </thead>\n  <tbody>\n    <tr>\n      <th>0</th>\n      <td>A999993387</td>\n      <td>TB0</td>\n      <td>REGULAR</td>\n      <td>REGULAR</td>\n      <td>NaN</td>\n      <td>REGULAR</td>\n    </tr>\n    <tr>\n      <th>1</th>\n      <td>A999990339</td>\n      <td>TB0</td>\n      <td>REGULAR</td>\n      <td>REGULAR</td>\n      <td>REGULAR</td>\n      <td>REGULAR</td>\n    </tr>\n    <tr>\n      <th>2</th>\n      <td>A999971854</td>\n      <td>NaN</td>\n      <td>REGULAR</td>\n      <td>NaN</td>\n      <td>REGULAR</td>\n      <td>REGULAR</td>\n    </tr>\n    <tr>\n      <th>3</th>\n      <td>A999952066</td>\n      <td>TB0</td>\n      <td>REGULAR</td>\n      <td>REGULAR</td>\n      <td>REGULAR</td>\n      <td>REGULAR</td>\n    </tr>\n    <tr>\n      <th>4</th>\n      <td>A999938479</td>\n      <td>NaN</td>\n      <td>REGULAR</td>\n      <td>NaN</td>\n      <td>REGULAR</td>\n      <td>REGULAR</td>\n    </tr>\n  </tbody>\n</table>\n</div>"
     },
     "metadata": {},
     "execution_count": 71
    }
   ],
   "source": [
    "df2['start_bucket'] = 'REGULAR'\n",
    "df2.head()"
   ]
  },
  {
   "cell_type": "code",
   "execution_count": 72,
   "metadata": {},
   "outputs": [
    {
     "output_type": "execute_result",
     "data": {
      "text/plain": "      Loan_id Bucket_x Bucket_x Bucket_y Bucket_y start_bucket\n0  A999993387      TB0  REGULAR  REGULAR      NaN      REGULAR\n1  A999990339      TB0  REGULAR  REGULAR  REGULAR      REGULAR\n2  A999971854      NaN  REGULAR      NaN  REGULAR      REGULAR\n3  A999952066      TB0  REGULAR  REGULAR  REGULAR      REGULAR\n4  A999938479      NaN  REGULAR      NaN  REGULAR      REGULAR",
      "text/html": "<div>\n<style scoped>\n    .dataframe tbody tr th:only-of-type {\n        vertical-align: middle;\n    }\n\n    .dataframe tbody tr th {\n        vertical-align: top;\n    }\n\n    .dataframe thead th {\n        text-align: right;\n    }\n</style>\n<table border=\"1\" class=\"dataframe\">\n  <thead>\n    <tr style=\"text-align: right;\">\n      <th></th>\n      <th>Loan_id</th>\n      <th>Bucket_x</th>\n      <th>Bucket_x</th>\n      <th>Bucket_y</th>\n      <th>Bucket_y</th>\n      <th>start_bucket</th>\n    </tr>\n  </thead>\n  <tbody>\n    <tr>\n      <th>0</th>\n      <td>A999993387</td>\n      <td>TB0</td>\n      <td>REGULAR</td>\n      <td>REGULAR</td>\n      <td>NaN</td>\n      <td>REGULAR</td>\n    </tr>\n    <tr>\n      <th>1</th>\n      <td>A999990339</td>\n      <td>TB0</td>\n      <td>REGULAR</td>\n      <td>REGULAR</td>\n      <td>REGULAR</td>\n      <td>REGULAR</td>\n    </tr>\n    <tr>\n      <th>2</th>\n      <td>A999971854</td>\n      <td>NaN</td>\n      <td>REGULAR</td>\n      <td>NaN</td>\n      <td>REGULAR</td>\n      <td>REGULAR</td>\n    </tr>\n    <tr>\n      <th>3</th>\n      <td>A999952066</td>\n      <td>TB0</td>\n      <td>REGULAR</td>\n      <td>REGULAR</td>\n      <td>REGULAR</td>\n      <td>REGULAR</td>\n    </tr>\n    <tr>\n      <th>4</th>\n      <td>A999938479</td>\n      <td>NaN</td>\n      <td>REGULAR</td>\n      <td>NaN</td>\n      <td>REGULAR</td>\n      <td>REGULAR</td>\n    </tr>\n  </tbody>\n</table>\n</div>"
     },
     "metadata": {},
     "execution_count": 72
    }
   ],
   "source": [
    "df2.head()"
   ]
  },
  {
   "cell_type": "code",
   "execution_count": 74,
   "metadata": {},
   "outputs": [
    {
     "output_type": "stream",
     "name": "stdout",
     "text": "A277860021    1\nA737756929    1\nA409493772    1\nA644241821    1\nA656707551    1\n             ..\nA7152365      1\nA642857773    1\nA10699572     1\nA891798984    1\nA984001610    1\nName: Loan_id, Length: 40339, dtype: int64\nREGULAR    40339\nName: Bucket_start, dtype: int64\nTB0    24575\nName: Bucket_mar, dtype: int64\nREGULAR    22475\nTB0         1709\nTB1          391\nName: Bucket_apr, dtype: int64\nREGULAR    24964\nTB0         1574\nTB1          541\nName: Bucket_may, dtype: int64\nREGULAR    27085\nTB0         1577\nTB1          453\nName: Bucket_jun, dtype: int64\n"
    }
   ],
   "source": [
    "cols = df2.columns\n",
    "\n",
    "for c in cols:\n",
    "    print(df2[c].value_counts())"
   ]
  },
  {
   "cell_type": "code",
   "execution_count": 75,
   "metadata": {},
   "outputs": [
    {
     "output_type": "stream",
     "name": "stdout",
     "text": "<class 'pandas.core.frame.DataFrame'>\nInt64Index: 40339 entries, 0 to 40338\nData columns (total 6 columns):\n #   Column        Non-Null Count  Dtype \n---  ------        --------------  ----- \n 0   Loan_id       40339 non-null  object\n 1   Bucket_start  40339 non-null  object\n 2   Bucket_mar    24575 non-null  object\n 3   Bucket_apr    24575 non-null  object\n 4   Bucket_may    27079 non-null  object\n 5   Bucket_jun    29115 non-null  object\ndtypes: object(6)\nmemory usage: 3.4+ MB\n"
    }
   ],
   "source": [
    "df2.info()"
   ]
  },
  {
   "cell_type": "code",
   "execution_count": 76,
   "metadata": {},
   "outputs": [
    {
     "output_type": "execute_result",
     "data": {
      "text/plain": "          Loan_id Bucket_start Bucket_mar Bucket_apr Bucket_may Bucket_jun\n2      A999971854      REGULAR        NaN        NaN    REGULAR    REGULAR\n4      A999938479      REGULAR        NaN        NaN    REGULAR    REGULAR\n6      A999913454      REGULAR        NaN        NaN    REGULAR    REGULAR\n7      A999891961      REGULAR        NaN        NaN    REGULAR    REGULAR\n9      A999870375      REGULAR        NaN        NaN        NaN    REGULAR\n...           ...          ...        ...        ...        ...        ...\n40326  A100462080      REGULAR        NaN        NaN    REGULAR        NaN\n40329  A100223932      REGULAR        NaN        NaN    REGULAR    REGULAR\n40330  A100220970      REGULAR        NaN        NaN        NaN    REGULAR\n40331  A100184245      REGULAR        NaN        NaN        NaN    REGULAR\n40333  A100135795      REGULAR        NaN        NaN        TB0        NaN\n\n[15764 rows x 6 columns]",
      "text/html": "<div>\n<style scoped>\n    .dataframe tbody tr th:only-of-type {\n        vertical-align: middle;\n    }\n\n    .dataframe tbody tr th {\n        vertical-align: top;\n    }\n\n    .dataframe thead th {\n        text-align: right;\n    }\n</style>\n<table border=\"1\" class=\"dataframe\">\n  <thead>\n    <tr style=\"text-align: right;\">\n      <th></th>\n      <th>Loan_id</th>\n      <th>Bucket_start</th>\n      <th>Bucket_mar</th>\n      <th>Bucket_apr</th>\n      <th>Bucket_may</th>\n      <th>Bucket_jun</th>\n    </tr>\n  </thead>\n  <tbody>\n    <tr>\n      <th>2</th>\n      <td>A999971854</td>\n      <td>REGULAR</td>\n      <td>NaN</td>\n      <td>NaN</td>\n      <td>REGULAR</td>\n      <td>REGULAR</td>\n    </tr>\n    <tr>\n      <th>4</th>\n      <td>A999938479</td>\n      <td>REGULAR</td>\n      <td>NaN</td>\n      <td>NaN</td>\n      <td>REGULAR</td>\n      <td>REGULAR</td>\n    </tr>\n    <tr>\n      <th>6</th>\n      <td>A999913454</td>\n      <td>REGULAR</td>\n      <td>NaN</td>\n      <td>NaN</td>\n      <td>REGULAR</td>\n      <td>REGULAR</td>\n    </tr>\n    <tr>\n      <th>7</th>\n      <td>A999891961</td>\n      <td>REGULAR</td>\n      <td>NaN</td>\n      <td>NaN</td>\n      <td>REGULAR</td>\n      <td>REGULAR</td>\n    </tr>\n    <tr>\n      <th>9</th>\n      <td>A999870375</td>\n      <td>REGULAR</td>\n      <td>NaN</td>\n      <td>NaN</td>\n      <td>NaN</td>\n      <td>REGULAR</td>\n    </tr>\n    <tr>\n      <th>...</th>\n      <td>...</td>\n      <td>...</td>\n      <td>...</td>\n      <td>...</td>\n      <td>...</td>\n      <td>...</td>\n    </tr>\n    <tr>\n      <th>40326</th>\n      <td>A100462080</td>\n      <td>REGULAR</td>\n      <td>NaN</td>\n      <td>NaN</td>\n      <td>REGULAR</td>\n      <td>NaN</td>\n    </tr>\n    <tr>\n      <th>40329</th>\n      <td>A100223932</td>\n      <td>REGULAR</td>\n      <td>NaN</td>\n      <td>NaN</td>\n      <td>REGULAR</td>\n      <td>REGULAR</td>\n    </tr>\n    <tr>\n      <th>40330</th>\n      <td>A100220970</td>\n      <td>REGULAR</td>\n      <td>NaN</td>\n      <td>NaN</td>\n      <td>NaN</td>\n      <td>REGULAR</td>\n    </tr>\n    <tr>\n      <th>40331</th>\n      <td>A100184245</td>\n      <td>REGULAR</td>\n      <td>NaN</td>\n      <td>NaN</td>\n      <td>NaN</td>\n      <td>REGULAR</td>\n    </tr>\n    <tr>\n      <th>40333</th>\n      <td>A100135795</td>\n      <td>REGULAR</td>\n      <td>NaN</td>\n      <td>NaN</td>\n      <td>TB0</td>\n      <td>NaN</td>\n    </tr>\n  </tbody>\n</table>\n<p>15764 rows × 6 columns</p>\n</div>"
     },
     "metadata": {},
     "execution_count": 76
    }
   ],
   "source": [
    "df2[df2['Bucket_mar'].isnull()]"
   ]
  },
  {
   "cell_type": "code",
   "execution_count": 77,
   "metadata": {},
   "outputs": [],
   "source": [
    "df2 = df2.fillna('REGULAR')"
   ]
  },
  {
   "cell_type": "code",
   "execution_count": 78,
   "metadata": {},
   "outputs": [
    {
     "output_type": "execute_result",
     "data": {
      "text/plain": "      Loan_id Bucket_start Bucket_mar Bucket_apr Bucket_may Bucket_jun\n0  A999993387      REGULAR        TB0    REGULAR    REGULAR    REGULAR\n1  A999990339      REGULAR        TB0    REGULAR    REGULAR    REGULAR\n2  A999971854      REGULAR    REGULAR    REGULAR    REGULAR    REGULAR\n3  A999952066      REGULAR        TB0    REGULAR    REGULAR    REGULAR\n4  A999938479      REGULAR    REGULAR    REGULAR    REGULAR    REGULAR",
      "text/html": "<div>\n<style scoped>\n    .dataframe tbody tr th:only-of-type {\n        vertical-align: middle;\n    }\n\n    .dataframe tbody tr th {\n        vertical-align: top;\n    }\n\n    .dataframe thead th {\n        text-align: right;\n    }\n</style>\n<table border=\"1\" class=\"dataframe\">\n  <thead>\n    <tr style=\"text-align: right;\">\n      <th></th>\n      <th>Loan_id</th>\n      <th>Bucket_start</th>\n      <th>Bucket_mar</th>\n      <th>Bucket_apr</th>\n      <th>Bucket_may</th>\n      <th>Bucket_jun</th>\n    </tr>\n  </thead>\n  <tbody>\n    <tr>\n      <th>0</th>\n      <td>A999993387</td>\n      <td>REGULAR</td>\n      <td>TB0</td>\n      <td>REGULAR</td>\n      <td>REGULAR</td>\n      <td>REGULAR</td>\n    </tr>\n    <tr>\n      <th>1</th>\n      <td>A999990339</td>\n      <td>REGULAR</td>\n      <td>TB0</td>\n      <td>REGULAR</td>\n      <td>REGULAR</td>\n      <td>REGULAR</td>\n    </tr>\n    <tr>\n      <th>2</th>\n      <td>A999971854</td>\n      <td>REGULAR</td>\n      <td>REGULAR</td>\n      <td>REGULAR</td>\n      <td>REGULAR</td>\n      <td>REGULAR</td>\n    </tr>\n    <tr>\n      <th>3</th>\n      <td>A999952066</td>\n      <td>REGULAR</td>\n      <td>TB0</td>\n      <td>REGULAR</td>\n      <td>REGULAR</td>\n      <td>REGULAR</td>\n    </tr>\n    <tr>\n      <th>4</th>\n      <td>A999938479</td>\n      <td>REGULAR</td>\n      <td>REGULAR</td>\n      <td>REGULAR</td>\n      <td>REGULAR</td>\n      <td>REGULAR</td>\n    </tr>\n  </tbody>\n</table>\n</div>"
     },
     "metadata": {},
     "execution_count": 78
    }
   ],
   "source": [
    "df2.head()"
   ]
  },
  {
   "cell_type": "code",
   "execution_count": 79,
   "metadata": {},
   "outputs": [
    {
     "output_type": "stream",
     "name": "stdout",
     "text": "<class 'pandas.core.frame.DataFrame'>\nInt64Index: 40339 entries, 0 to 40338\nData columns (total 6 columns):\n #   Column        Non-Null Count  Dtype \n---  ------        --------------  ----- \n 0   Loan_id       40339 non-null  object\n 1   Bucket_start  40339 non-null  object\n 2   Bucket_mar    40339 non-null  object\n 3   Bucket_apr    40339 non-null  object\n 4   Bucket_may    40339 non-null  object\n 5   Bucket_jun    40339 non-null  object\ndtypes: object(6)\nmemory usage: 3.4+ MB\n"
    }
   ],
   "source": [
    "df2.info()"
   ]
  },
  {
   "cell_type": "code",
   "execution_count": 80,
   "metadata": {},
   "outputs": [
    {
     "output_type": "stream",
     "name": "stdout",
     "text": "A277860021    1\nA737756929    1\nA409493772    1\nA644241821    1\nA656707551    1\n             ..\nA7152365      1\nA642857773    1\nA10699572     1\nA891798984    1\nA984001610    1\nName: Loan_id, Length: 40339, dtype: int64\nREGULAR    40339\nName: Bucket_start, dtype: int64\nTB0        24575\nREGULAR    15764\nName: Bucket_mar, dtype: int64\nREGULAR    38239\nTB0         1709\nTB1          391\nName: Bucket_apr, dtype: int64\nREGULAR    38224\nTB0         1574\nTB1          541\nName: Bucket_may, dtype: int64\nREGULAR    38309\nTB0         1577\nTB1          453\nName: Bucket_jun, dtype: int64\n"
    }
   ],
   "source": [
    "cols = df2.columns\n",
    "\n",
    "for c in cols:\n",
    "    print(df2[c].value_counts())"
   ]
  },
  {
   "cell_type": "code",
   "execution_count": 86,
   "metadata": {},
   "outputs": [
    {
     "output_type": "execute_result",
     "data": {
      "text/plain": "         Bucket_start  Bucket_mar  Bucket_apr  Bucket_may  Bucket_jun\nREGULAR       40339.0     15764.0       38239       38224       38309\nTB0               NaN     24575.0        1709        1574        1577\nTB1               NaN         NaN         391         541         453",
      "text/html": "<div>\n<style scoped>\n    .dataframe tbody tr th:only-of-type {\n        vertical-align: middle;\n    }\n\n    .dataframe tbody tr th {\n        vertical-align: top;\n    }\n\n    .dataframe thead th {\n        text-align: right;\n    }\n</style>\n<table border=\"1\" class=\"dataframe\">\n  <thead>\n    <tr style=\"text-align: right;\">\n      <th></th>\n      <th>Bucket_start</th>\n      <th>Bucket_mar</th>\n      <th>Bucket_apr</th>\n      <th>Bucket_may</th>\n      <th>Bucket_jun</th>\n    </tr>\n  </thead>\n  <tbody>\n    <tr>\n      <th>REGULAR</th>\n      <td>40339.0</td>\n      <td>15764.0</td>\n      <td>38239</td>\n      <td>38224</td>\n      <td>38309</td>\n    </tr>\n    <tr>\n      <th>TB0</th>\n      <td>NaN</td>\n      <td>24575.0</td>\n      <td>1709</td>\n      <td>1574</td>\n      <td>1577</td>\n    </tr>\n    <tr>\n      <th>TB1</th>\n      <td>NaN</td>\n      <td>NaN</td>\n      <td>391</td>\n      <td>541</td>\n      <td>453</td>\n    </tr>\n  </tbody>\n</table>\n</div>"
     },
     "metadata": {},
     "execution_count": 86
    }
   ],
   "source": [
    "bucket_counts = df2.agg({'Bucket_start': 'value_counts', \n",
    "                        'Bucket_mar': 'value_counts',\n",
    "                        'Bucket_apr': 'value_counts',\n",
    "                        'Bucket_may': 'value_counts',\n",
    "                        'Bucket_jun': 'value_counts'})\n",
    "\n",
    "bucket_counts"
   ]
  },
  {
   "cell_type": "code",
   "execution_count": 89,
   "metadata": {},
   "outputs": [
    {
     "output_type": "execute_result",
     "data": {
      "text/plain": "24575.0"
     },
     "metadata": {},
     "execution_count": 89
    }
   ],
   "source": [
    "bucket_counts.iloc[1,1]"
   ]
  },
  {
   "cell_type": "code",
   "execution_count": 94,
   "metadata": {},
   "outputs": [
    {
     "output_type": "stream",
     "name": "stdout",
     "text": "March Roll Rate: 60.92119289025509%\n"
    }
   ],
   "source": [
    "mar_roll_rate = (bucket_counts.iloc[1,1] / bucket_counts.iloc[0,0]) *100\n",
    "print('March Roll Rate: '+ str(mar_roll_rate) + '%')"
   ]
  },
  {
   "cell_type": "markdown",
   "metadata": {},
   "source": [
    "## What is the average attempt intensity, RPC rate and PTP rate on accounts for the months of mar, Apr and May"
   ]
  },
  {
   "cell_type": "code",
   "execution_count": 113,
   "metadata": {},
   "outputs": [
    {
     "output_type": "execute_result",
     "data": {
      "text/plain": "Index(['Loan_id', 'Bucket', 'PRINBALANCE', 'TENURE', 'Months on Books',\n       'Sanctioned Amount', 'Month', 'Unnamed: 7', 'Unnamed: 8'],\n      dtype='object')"
     },
     "metadata": {},
     "execution_count": 113
    }
   ],
   "source": [
    "df.keys()"
   ]
  },
  {
   "cell_type": "code",
   "execution_count": 111,
   "metadata": {},
   "outputs": [
    {
     "output_type": "error",
     "ename": "KeyError",
     "evalue": "'Call Details'",
     "traceback": [
      "\u001b[0;31m---------------------------------------------------------------------------\u001b[0m",
      "\u001b[0;31mKeyError\u001b[0m                                  Traceback (most recent call last)",
      "\u001b[0;32m/Applications/anaconda3/envs/LoanStreet/lib/python3.7/site-packages/pandas/core/indexes/base.py\u001b[0m in \u001b[0;36mget_loc\u001b[0;34m(self, key, method, tolerance)\u001b[0m\n\u001b[1;32m   2645\u001b[0m             \u001b[0;32mtry\u001b[0m\u001b[0;34m:\u001b[0m\u001b[0;34m\u001b[0m\u001b[0;34m\u001b[0m\u001b[0m\n\u001b[0;32m-> 2646\u001b[0;31m                 \u001b[0;32mreturn\u001b[0m \u001b[0mself\u001b[0m\u001b[0;34m.\u001b[0m\u001b[0m_engine\u001b[0m\u001b[0;34m.\u001b[0m\u001b[0mget_loc\u001b[0m\u001b[0;34m(\u001b[0m\u001b[0mkey\u001b[0m\u001b[0;34m)\u001b[0m\u001b[0;34m\u001b[0m\u001b[0;34m\u001b[0m\u001b[0m\n\u001b[0m\u001b[1;32m   2647\u001b[0m             \u001b[0;32mexcept\u001b[0m \u001b[0mKeyError\u001b[0m\u001b[0;34m:\u001b[0m\u001b[0;34m\u001b[0m\u001b[0;34m\u001b[0m\u001b[0m\n",
      "\u001b[0;32mpandas/_libs/index.pyx\u001b[0m in \u001b[0;36mpandas._libs.index.IndexEngine.get_loc\u001b[0;34m()\u001b[0m\n",
      "\u001b[0;32mpandas/_libs/index.pyx\u001b[0m in \u001b[0;36mpandas._libs.index.IndexEngine.get_loc\u001b[0;34m()\u001b[0m\n",
      "\u001b[0;32mpandas/_libs/hashtable_class_helper.pxi\u001b[0m in \u001b[0;36mpandas._libs.hashtable.PyObjectHashTable.get_item\u001b[0;34m()\u001b[0m\n",
      "\u001b[0;32mpandas/_libs/hashtable_class_helper.pxi\u001b[0m in \u001b[0;36mpandas._libs.hashtable.PyObjectHashTable.get_item\u001b[0;34m()\u001b[0m\n",
      "\u001b[0;31mKeyError\u001b[0m: 'Call Details'",
      "\nDuring handling of the above exception, another exception occurred:\n",
      "\u001b[0;31mKeyError\u001b[0m                                  Traceback (most recent call last)",
      "\u001b[0;32m<ipython-input-111-f87a7f2845e7>\u001b[0m in \u001b[0;36m<module>\u001b[0;34m\u001b[0m\n\u001b[0;32m----> 1\u001b[0;31m \u001b[0mcall_data\u001b[0m \u001b[0;34m=\u001b[0m \u001b[0mdf\u001b[0m\u001b[0;34m[\u001b[0m\u001b[0;34m'Call Details'\u001b[0m\u001b[0;34m]\u001b[0m\u001b[0;34m\u001b[0m\u001b[0;34m\u001b[0m\u001b[0m\n\u001b[0m\u001b[1;32m      2\u001b[0m \u001b[0mcall_data\u001b[0m\u001b[0;34m.\u001b[0m\u001b[0mhead\u001b[0m\u001b[0;34m(\u001b[0m\u001b[0;34m)\u001b[0m\u001b[0;34m\u001b[0m\u001b[0;34m\u001b[0m\u001b[0m\n",
      "\u001b[0;32m/Applications/anaconda3/envs/LoanStreet/lib/python3.7/site-packages/pandas/core/frame.py\u001b[0m in \u001b[0;36m__getitem__\u001b[0;34m(self, key)\u001b[0m\n\u001b[1;32m   2798\u001b[0m             \u001b[0;32mif\u001b[0m \u001b[0mself\u001b[0m\u001b[0;34m.\u001b[0m\u001b[0mcolumns\u001b[0m\u001b[0;34m.\u001b[0m\u001b[0mnlevels\u001b[0m \u001b[0;34m>\u001b[0m \u001b[0;36m1\u001b[0m\u001b[0;34m:\u001b[0m\u001b[0;34m\u001b[0m\u001b[0;34m\u001b[0m\u001b[0m\n\u001b[1;32m   2799\u001b[0m                 \u001b[0;32mreturn\u001b[0m \u001b[0mself\u001b[0m\u001b[0;34m.\u001b[0m\u001b[0m_getitem_multilevel\u001b[0m\u001b[0;34m(\u001b[0m\u001b[0mkey\u001b[0m\u001b[0;34m)\u001b[0m\u001b[0;34m\u001b[0m\u001b[0;34m\u001b[0m\u001b[0m\n\u001b[0;32m-> 2800\u001b[0;31m             \u001b[0mindexer\u001b[0m \u001b[0;34m=\u001b[0m \u001b[0mself\u001b[0m\u001b[0;34m.\u001b[0m\u001b[0mcolumns\u001b[0m\u001b[0;34m.\u001b[0m\u001b[0mget_loc\u001b[0m\u001b[0;34m(\u001b[0m\u001b[0mkey\u001b[0m\u001b[0;34m)\u001b[0m\u001b[0;34m\u001b[0m\u001b[0;34m\u001b[0m\u001b[0m\n\u001b[0m\u001b[1;32m   2801\u001b[0m             \u001b[0;32mif\u001b[0m \u001b[0mis_integer\u001b[0m\u001b[0;34m(\u001b[0m\u001b[0mindexer\u001b[0m\u001b[0;34m)\u001b[0m\u001b[0;34m:\u001b[0m\u001b[0;34m\u001b[0m\u001b[0;34m\u001b[0m\u001b[0m\n\u001b[1;32m   2802\u001b[0m                 \u001b[0mindexer\u001b[0m \u001b[0;34m=\u001b[0m \u001b[0;34m[\u001b[0m\u001b[0mindexer\u001b[0m\u001b[0;34m]\u001b[0m\u001b[0;34m\u001b[0m\u001b[0;34m\u001b[0m\u001b[0m\n",
      "\u001b[0;32m/Applications/anaconda3/envs/LoanStreet/lib/python3.7/site-packages/pandas/core/indexes/base.py\u001b[0m in \u001b[0;36mget_loc\u001b[0;34m(self, key, method, tolerance)\u001b[0m\n\u001b[1;32m   2646\u001b[0m                 \u001b[0;32mreturn\u001b[0m \u001b[0mself\u001b[0m\u001b[0;34m.\u001b[0m\u001b[0m_engine\u001b[0m\u001b[0;34m.\u001b[0m\u001b[0mget_loc\u001b[0m\u001b[0;34m(\u001b[0m\u001b[0mkey\u001b[0m\u001b[0;34m)\u001b[0m\u001b[0;34m\u001b[0m\u001b[0;34m\u001b[0m\u001b[0m\n\u001b[1;32m   2647\u001b[0m             \u001b[0;32mexcept\u001b[0m \u001b[0mKeyError\u001b[0m\u001b[0;34m:\u001b[0m\u001b[0;34m\u001b[0m\u001b[0;34m\u001b[0m\u001b[0m\n\u001b[0;32m-> 2648\u001b[0;31m                 \u001b[0;32mreturn\u001b[0m \u001b[0mself\u001b[0m\u001b[0;34m.\u001b[0m\u001b[0m_engine\u001b[0m\u001b[0;34m.\u001b[0m\u001b[0mget_loc\u001b[0m\u001b[0;34m(\u001b[0m\u001b[0mself\u001b[0m\u001b[0;34m.\u001b[0m\u001b[0m_maybe_cast_indexer\u001b[0m\u001b[0;34m(\u001b[0m\u001b[0mkey\u001b[0m\u001b[0;34m)\u001b[0m\u001b[0;34m)\u001b[0m\u001b[0;34m\u001b[0m\u001b[0;34m\u001b[0m\u001b[0m\n\u001b[0m\u001b[1;32m   2649\u001b[0m         \u001b[0mindexer\u001b[0m \u001b[0;34m=\u001b[0m \u001b[0mself\u001b[0m\u001b[0;34m.\u001b[0m\u001b[0mget_indexer\u001b[0m\u001b[0;34m(\u001b[0m\u001b[0;34m[\u001b[0m\u001b[0mkey\u001b[0m\u001b[0;34m]\u001b[0m\u001b[0;34m,\u001b[0m \u001b[0mmethod\u001b[0m\u001b[0;34m=\u001b[0m\u001b[0mmethod\u001b[0m\u001b[0;34m,\u001b[0m \u001b[0mtolerance\u001b[0m\u001b[0;34m=\u001b[0m\u001b[0mtolerance\u001b[0m\u001b[0;34m)\u001b[0m\u001b[0;34m\u001b[0m\u001b[0;34m\u001b[0m\u001b[0m\n\u001b[1;32m   2650\u001b[0m         \u001b[0;32mif\u001b[0m \u001b[0mindexer\u001b[0m\u001b[0;34m.\u001b[0m\u001b[0mndim\u001b[0m \u001b[0;34m>\u001b[0m \u001b[0;36m1\u001b[0m \u001b[0;32mor\u001b[0m \u001b[0mindexer\u001b[0m\u001b[0;34m.\u001b[0m\u001b[0msize\u001b[0m \u001b[0;34m>\u001b[0m \u001b[0;36m1\u001b[0m\u001b[0;34m:\u001b[0m\u001b[0;34m\u001b[0m\u001b[0;34m\u001b[0m\u001b[0m\n",
      "\u001b[0;32mpandas/_libs/index.pyx\u001b[0m in \u001b[0;36mpandas._libs.index.IndexEngine.get_loc\u001b[0;34m()\u001b[0m\n",
      "\u001b[0;32mpandas/_libs/index.pyx\u001b[0m in \u001b[0;36mpandas._libs.index.IndexEngine.get_loc\u001b[0;34m()\u001b[0m\n",
      "\u001b[0;32mpandas/_libs/hashtable_class_helper.pxi\u001b[0m in \u001b[0;36mpandas._libs.hashtable.PyObjectHashTable.get_item\u001b[0;34m()\u001b[0m\n",
      "\u001b[0;32mpandas/_libs/hashtable_class_helper.pxi\u001b[0m in \u001b[0;36mpandas._libs.hashtable.PyObjectHashTable.get_item\u001b[0;34m()\u001b[0m\n",
      "\u001b[0;31mKeyError\u001b[0m: 'Call Details'"
     ]
    }
   ],
   "source": [
    "call_data = df['Call Details']\n",
    "call_data.head()"
   ]
  },
  {
   "cell_type": "code",
   "execution_count": null,
   "metadata": {},
   "outputs": [],
   "source": []
  }
 ],
 "metadata": {
  "language_info": {
   "codemirror_mode": {
    "name": "ipython",
    "version": 3
   },
   "file_extension": ".py",
   "mimetype": "text/x-python",
   "name": "python",
   "nbconvert_exporter": "python",
   "pygments_lexer": "ipython3",
   "version": "3.7.4-final"
  },
  "orig_nbformat": 2,
  "kernelspec": {
   "name": "python37464bitloanstreetcondafa66e404accb4a32a5c3bcdbfa6abf76",
   "display_name": "Python 3.7.4 64-bit ('LoanStreet': conda)"
  }
 },
 "nbformat": 4,
 "nbformat_minor": 2
}