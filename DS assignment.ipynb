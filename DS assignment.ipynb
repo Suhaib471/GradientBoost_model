{
 "cells": [
  {
   "cell_type": "markdown",
   "metadata": {},
   "source": [
    "# Scienaptic Data Science Assignment\n",
    "Author: Sharmeen Malik\n",
    "\n",
    "Date: May 18, 2020"
   ]
  },
  {
   "cell_type": "code",
   "execution_count": 1,
   "metadata": {},
   "outputs": [],
   "source": [
    "#import modules and read file into dataframe\n",
    "import pandas as pd\n",
    "import matplotlib.pyplot as plt \n",
    "\n",
    "\n",
    "pd.options.display.max_columns=999\n",
    "pd.options.display.max_rows=3000\n",
    "\n",
    "data = pd.read_excel('Collections Case Study Data.xlsx', sheet_name=None)"
   ]
  },
  {
   "cell_type": "markdown",
   "metadata": {},
   "source": [
    "## What is the account roll forward rate for the months of Mar, Apr, May and June for TB0?"
   ]
  },
  {
   "cell_type": "code",
   "execution_count": 2,
   "metadata": {},
   "outputs": [
    {
     "data": {
      "text/plain": [
       "dict_keys(['Loan Details', 'Loan_Status_MartoMay', 'Loan_Status_AprtoJun', 'Historical 6 Months Details', 'Loan_ID mapping', 'Call Details'])"
      ]
     },
     "execution_count": 2,
     "metadata": {},
     "output_type": "execute_result"
    }
   ],
   "source": [
    "#assign data to new dataframe and display keys\n",
    "df = data\n",
    "df.keys()"
   ]
  },
  {
   "cell_type": "markdown",
   "metadata": {},
   "source": [
    "**Assumptions made about data:**\n",
    "- 'Loan_Status_MartoMay' - gives data for loans that were TBO each month.\n",
    "- 'Loan_Status_AprtoJun' - gives data for the next month for loans that were TBO each month in 'Loan_Status_MartoMay'.\n",
    "\n",
    "**Methodology:**\n",
    "- Roll forward rate is calculated as accounts turning TB0 in Mar, Apr and May from the original account list of 40,339 loans.\n",
    "- Roll forward rate for June TBO cannot be calculated as the June data represents the status of accounts that were TB0 in May."
   ]
  },
  {
   "cell_type": "code",
   "execution_count": 3,
   "metadata": {},
   "outputs": [],
   "source": [
    "#creates stratums for data based on month\n",
    "mar_data = df['Loan_Status_MartoMay'].loc[df['Loan_Status_MartoMay']['Month'] == 'March']\n",
    "apr_data = df['Loan_Status_MartoMay'].loc[df['Loan_Status_MartoMay']['Month'] == 'April']\n",
    "may_data = df['Loan_Status_MartoMay'].loc[df['Loan_Status_MartoMay']['Month'] == 'May']\n",
    "marapr_data = df['Loan_Status_AprtoJun'].loc[df['Loan_Status_AprtoJun']['Month'] == 'April']\n",
    "aprmay_data = df['Loan_Status_AprtoJun'].loc[df['Loan_Status_AprtoJun']['Month'] == 'May']\n",
    "mayjun_data = df['Loan_Status_AprtoJun'].loc[df['Loan_Status_AprtoJun']['Month'] == 'June']"
   ]
  },
  {
   "cell_type": "code",
   "execution_count": 4,
   "metadata": {},
   "outputs": [
    {
     "name": "stdout",
     "output_type": "stream",
     "text": [
      "True\n",
      "True\n",
      "True\n"
     ]
    }
   ],
   "source": [
    "#QC checking to see if our assumption is correct\n",
    "print(len(mar_data) == len(marapr_data))\n",
    "print(len(apr_data) == len(aprmay_data))\n",
    "print(len(may_data) == len(mayjun_data))"
   ]
  },
  {
   "cell_type": "code",
   "execution_count": 5,
   "metadata": {},
   "outputs": [],
   "source": [
    "#combines account information for each month with performance in the following month\n",
    "mar_data1 = pd.merge(mar_data, marapr_data, how='left', on='Loan_id', suffixes=('_mar', '_marapr'))\n",
    "apr_data1 = pd.merge(apr_data, aprmay_data, how='left', on='Loan_id', suffixes=('_apr', '_aprmay'))\n",
    "may_data1 = pd.merge(may_data, mayjun_data, how='left', on='Loan_id', suffixes=('_may', '_mayjun'))"
   ]
  },
  {
   "cell_type": "code",
   "execution_count": 6,
   "metadata": {},
   "outputs": [],
   "source": [
    "#merges monthly data into one dataframe\n",
    "data1 = pd.merge(mar_data1, apr_data1, how='outer', on='Loan_id')\n",
    "data1 = pd.merge(data1, may_data1, how='outer', on='Loan_id')"
   ]
  },
  {
   "cell_type": "code",
   "execution_count": 7,
   "metadata": {},
   "outputs": [
    {
     "data": {
      "text/plain": [
       "True"
      ]
     },
     "execution_count": 7,
     "metadata": {},
     "output_type": "execute_result"
    }
   ],
   "source": [
    "#QC to ensure all data has been captured\n",
    "len(data1) == len(df['Loan Details'])"
   ]
  },
  {
   "cell_type": "code",
   "execution_count": 8,
   "metadata": {},
   "outputs": [
    {
     "data": {
      "text/plain": [
       "Index(['Loan_id', 'Bucket_mar', 'TENURE_mar', 'PRINBALANCE_mar',\n",
       "       'Months on Books_mar', 'Sanctioned Amount_mar', 'Month_mar',\n",
       "       'Bucket_marapr', 'PRINBALANCE_marapr', 'TENURE_marapr',\n",
       "       'Months on Books_marapr', 'Sanctioned Amount_marapr', 'Month_marapr',\n",
       "       'Bucket_apr', 'TENURE_apr', 'PRINBALANCE_apr', 'Months on Books_apr',\n",
       "       'Sanctioned Amount_apr', 'Month_apr', 'Bucket_aprmay',\n",
       "       'PRINBALANCE_aprmay', 'TENURE_aprmay', 'Months on Books_aprmay',\n",
       "       'Sanctioned Amount_aprmay', 'Month_aprmay', 'Bucket_may', 'TENURE_may',\n",
       "       'PRINBALANCE_may', 'Months on Books_may', 'Sanctioned Amount_may',\n",
       "       'Month_may', 'Bucket_mayjun', 'PRINBALANCE_mayjun', 'TENURE_mayjun',\n",
       "       'Months on Books_mayjun', 'Sanctioned Amount_mayjun', 'Month_mayjun'],\n",
       "      dtype='object')"
      ]
     },
     "execution_count": 8,
     "metadata": {},
     "output_type": "execute_result"
    }
   ],
   "source": [
    "#displays column names\n",
    "data1.columns"
   ]
  },
  {
   "cell_type": "code",
   "execution_count": 9,
   "metadata": {},
   "outputs": [
    {
     "name": "stdout",
     "output_type": "stream",
     "text": [
      "Bucket_mar\n",
      "TB0    24575\n",
      "Name: Bucket_mar, dtype: int64\n",
      "\n",
      "\n",
      "Bucket_marapr\n",
      "REGULAR    22475\n",
      "TB0         1709\n",
      "TB1          391\n",
      "Name: Bucket_marapr, dtype: int64\n",
      "\n",
      "\n",
      "Bucket_apr\n",
      "TB0    27079\n",
      "Name: Bucket_apr, dtype: int64\n",
      "\n",
      "\n",
      "Bucket_aprmay\n",
      "REGULAR    24964\n",
      "TB0         1574\n",
      "TB1          541\n",
      "Name: Bucket_aprmay, dtype: int64\n",
      "\n",
      "\n",
      "Bucket_may\n",
      "TB0    29115\n",
      "Name: Bucket_may, dtype: int64\n",
      "\n",
      "\n",
      "Bucket_mayjun\n",
      "REGULAR    27085\n",
      "TB0         1577\n",
      "TB1          453\n",
      "Name: Bucket_mayjun, dtype: int64\n",
      "\n",
      "\n"
     ]
    }
   ],
   "source": [
    "#displays value counts for statuses in each month\n",
    "cols = ['Bucket_mar','Bucket_marapr', 'Bucket_apr', 'Bucket_aprmay', 'Bucket_may', 'Bucket_mayjun']\n",
    "\n",
    "for c in cols:\n",
    "    print(c)\n",
    "    print(data1[c].value_counts())\n",
    "    print('\\n')"
   ]
  },
  {
   "cell_type": "code",
   "execution_count": 10,
   "metadata": {},
   "outputs": [
    {
     "name": "stdout",
     "output_type": "stream",
     "text": [
      "Total TBO loans:\n",
      "     Bucket_mar  Bucket_apr  Bucket_may\n",
      "TB0       24575       27079       29115\n",
      "\n",
      "\n",
      "Migration of loans after one month:\n",
      "         Bucket_marapr  Bucket_aprmay  Bucket_mayjun\n",
      "REGULAR          22475          24964          27085\n",
      "TB0               1709           1574           1577\n",
      "TB1                391            541            453\n"
     ]
    }
   ],
   "source": [
    "#creates a dataframe to display bucket migration for each month\n",
    "cols1 = ['Bucket_mar', 'Bucket_apr', 'Bucket_may']\n",
    "tot_TBO = pd.DataFrame()\n",
    "for c in cols1:\n",
    "    tot_TBO[c] = data1[c].value_counts()\n",
    "\n",
    "\n",
    "cols2 = ['Bucket_marapr', 'Bucket_aprmay', 'Bucket_mayjun']\n",
    "migration = pd.DataFrame()\n",
    "for c in cols2:\n",
    "    migration[c] = data1[c].value_counts()\n",
    "\n",
    "print('Total TBO loans:')\n",
    "print(tot_TBO)\n",
    "print('\\n')\n",
    "print('Migration of loans after one month:')\n",
    "print(migration)\n"
   ]
  },
  {
   "cell_type": "code",
   "execution_count": 11,
   "metadata": {},
   "outputs": [
    {
     "name": "stdout",
     "output_type": "stream",
     "text": [
      "Roll rate for TBO loans in March:  60.92119289025509\n",
      "Roll rate for TB0 loans in April:  67.12858524009023\n",
      "Roll rate for TB0 loans in May:    72.17581001016387\n",
      "\n",
      "\n",
      "Percentage increase from March to April:    10.189216683621554\n",
      "Percentage increase from April to May:      7.518741460172111\n"
     ]
    }
   ],
   "source": [
    "#calculates roll forward rate for each month\n",
    "mar_roll = data1['Bucket_mar'].count() / len(data1) * 100\n",
    "apr_roll = data1['Bucket_apr'].count() / len(data1) * 100\n",
    "may_roll = data1['Bucket_may'].count() / len(data1) * 100\n",
    "\n",
    "perc_marapr = (apr_roll - mar_roll) / mar_roll * 100\n",
    "perc_aprmay = (may_roll - apr_roll) / apr_roll * 100\n",
    "\n",
    "print('Roll rate for TBO loans in March: ', mar_roll)\n",
    "print('Roll rate for TB0 loans in April: ', apr_roll)\n",
    "print('Roll rate for TB0 loans in May:   ', may_roll)\n",
    "print('\\n')\n",
    "print('Percentage increase from March to April:   ', perc_marapr)\n",
    "print('Percentage increase from April to May:     ', perc_aprmay)"
   ]
  },
  {
   "cell_type": "code",
   "execution_count": 12,
   "metadata": {},
   "outputs": [
    {
     "data": {
      "text/plain": [
       "True"
      ]
     },
     "execution_count": 12,
     "metadata": {},
     "output_type": "execute_result"
    }
   ],
   "source": [
    "#QC checking to see whether there are more TBO loans in May than in March\n",
    "len(may_data1) > len(mar_data1)"
   ]
  },
  {
   "cell_type": "markdown",
   "metadata": {},
   "source": [
    "Looking at the roll rates for each months we can see an increasing trend in the number of accounts that rolled over. However, the percentage increase has gone down from 10.19 to 7.52."
   ]
  },
  {
   "cell_type": "code",
   "execution_count": 13,
   "metadata": {},
   "outputs": [
    {
     "name": "stdout",
     "output_type": "stream",
     "text": [
      "Roll rate for March TB0 loans:  1.591\n",
      "Roll rate for April TB0 loans:  1.998\n",
      "Roll rate for May TB0 loans:    1.556\n"
     ]
    }
   ],
   "source": [
    "#calculates roll forward rate for loans after one month for loans that were TB0 each month\n",
    "mar_roll1 = round(migration.iloc[2,0] / migration['Bucket_marapr'].sum() * 100, 3)\n",
    "apr_roll1 = round(migration.iloc[2,1] / migration['Bucket_aprmay'].sum() * 100, 3)\n",
    "may_roll1 = round(migration.iloc[2,2] / migration['Bucket_mayjun'].sum() * 100, 3)\n",
    "\n",
    "print('Roll rate for March TB0 loans: ', mar_roll1)\n",
    "print('Roll rate for April TB0 loans: ', apr_roll1)\n",
    "print('Roll rate for May TB0 loans:   ', may_roll1)"
   ]
  },
  {
   "cell_type": "markdown",
   "metadata": {},
   "source": [
    "## What is the Princple outstanding balance roll forward rate for the same months as above for TB0?"
   ]
  },
  {
   "cell_type": "markdown",
   "metadata": {},
   "source": [
    "**Methodology**\n",
    "\n",
    "Principal Balance was not provided for all loans for the beginning of March, therefore the rate was calculated against the total sanctioned amount of all loans."
   ]
  },
  {
   "cell_type": "code",
   "execution_count": 14,
   "metadata": {},
   "outputs": [
    {
     "name": "stdout",
     "output_type": "stream",
     "text": [
      "Total sanctioned amount:  1862351670144\n"
     ]
    }
   ],
   "source": [
    "#calculates total dollar santioned for entire portfolio\n",
    "total_sanctioned = df['Loan Details']['Sanctioned Amount'].sum()\n",
    "\n",
    "print('Total sanctioned amount: ', total_sanctioned)"
   ]
  },
  {
   "cell_type": "code",
   "execution_count": 15,
   "metadata": {},
   "outputs": [
    {
     "name": "stdout",
     "output_type": "stream",
     "text": [
      "Balance roll for TB0 loans in March:  827728346975.54\n",
      "Balance roll for TB0 loans in April:  904446972331.73\n",
      "Balance roll for TB0 loans in May:    994376841007.47\n"
     ]
    }
   ],
   "source": [
    "#calculates balance roll forward rate for each month\n",
    "mar_bal_roll = data1['PRINBALANCE_mar'].sum() / total_sanctioned * 100\n",
    "apr_bal_roll = data1['PRINBALANCE_apr'].sum() / total_sanctioned * 100\n",
    "may_bal_roll = data1['PRINBALANCE_may'].sum() / total_sanctioned * 100\n",
    "\n",
    "print('Balance roll for TB0 loans in March: ', data1['PRINBALANCE_mar'].sum())\n",
    "print('Balance roll for TB0 loans in April: ', data1['PRINBALANCE_apr'].sum())\n",
    "print('Balance roll for TB0 loans in May:   ', data1['PRINBALANCE_may'].sum())"
   ]
  },
  {
   "cell_type": "code",
   "execution_count": 16,
   "metadata": {},
   "outputs": [
    {
     "name": "stdout",
     "output_type": "stream",
     "text": [
      "Balance roll rate for TB0 loans in March:  44.44533007622233\n",
      "Balance roll rate for TB0 loans in April:  48.56477897441339\n",
      "Balance roll rate for TB0 loans in May:    53.393612868539655\n"
     ]
    }
   ],
   "source": [
    "print('Balance roll rate for TB0 loans in March: ', mar_bal_roll)\n",
    "print('Balance roll rate for TB0 loans in April: ', apr_bal_roll)\n",
    "print('Balance roll rate for TB0 loans in May:   ', may_bal_roll)"
   ]
  },
  {
   "cell_type": "code",
   "execution_count": 17,
   "metadata": {},
   "outputs": [
    {
     "name": "stdout",
     "output_type": "stream",
     "text": [
      "Percentage increase from March to April:    9.268575328670847\n",
      "Percentage increase from April to May:      9.943078082719904\n"
     ]
    }
   ],
   "source": [
    "#calculates percentage increase/decrease for roll rates\n",
    "perc_marapr_bal = (apr_bal_roll - mar_bal_roll) / mar_bal_roll * 100\n",
    "perc_aprmay_bal = (may_bal_roll - apr_bal_roll) / apr_bal_roll * 100\n",
    "\n",
    "print('Percentage increase from March to April:   ', perc_marapr_bal)\n",
    "print('Percentage increase from April to May:     ', perc_aprmay_bal)"
   ]
  },
  {
   "cell_type": "markdown",
   "metadata": {},
   "source": [
    "Looking at the roll rates for each months we can see an increasing trend in the number of accounts that rolled over. The percentage increase has also increased from 9.27 to 9.94."
   ]
  },
  {
   "cell_type": "markdown",
   "metadata": {},
   "source": [
    "## Is there any correlation between the princple balance remaining and the term completed"
   ]
  },
  {
   "cell_type": "code",
   "execution_count": 18,
   "metadata": {},
   "outputs": [],
   "source": [
    "#creates dataframe for accounts\n",
    "bal_term_data = df['Loan_Status_MartoMay']"
   ]
  },
  {
   "cell_type": "code",
   "execution_count": 19,
   "metadata": {},
   "outputs": [
    {
     "data": {
      "text/plain": [
       "80769"
      ]
     },
     "execution_count": 19,
     "metadata": {},
     "output_type": "execute_result"
    }
   ],
   "source": [
    "#checks length of dataframe\n",
    "len(bal_term_data)"
   ]
  },
  {
   "cell_type": "code",
   "execution_count": 20,
   "metadata": {},
   "outputs": [
    {
     "data": {
      "text/plain": [
       "40339"
      ]
     },
     "execution_count": 20,
     "metadata": {},
     "output_type": "execute_result"
    }
   ],
   "source": [
    "#drops duplicates and keeps first instance of each account \n",
    "#checks length of dataframe\n",
    "bal_term_data = bal_term_data.drop_duplicates(subset='Loan_id', keep='first')\n",
    "\n",
    "len(bal_term_data)"
   ]
  },
  {
   "cell_type": "markdown",
   "metadata": {},
   "source": [
    "The dataframe now includes first instance of TB0 for all accounts"
   ]
  },
  {
   "cell_type": "code",
   "execution_count": 22,
   "metadata": {},
   "outputs": [
    {
     "name": "stderr",
     "output_type": "stream",
     "text": [
      "/Applications/anaconda3/envs/LoanStreet/lib/python3.7/site-packages/ipykernel_launcher.py:2: SettingWithCopyWarning: \n",
      "A value is trying to be set on a copy of a slice from a DataFrame.\n",
      "Try using .loc[row_indexer,col_indexer] = value instead\n",
      "\n",
      "See the caveats in the documentation: https://pandas.pydata.org/pandas-docs/stable/user_guide/indexing.html#returning-a-view-versus-a-copy\n",
      "  \n"
     ]
    },
    {
     "data": {
      "text/html": [
       "<div>\n",
       "<style scoped>\n",
       "    .dataframe tbody tr th:only-of-type {\n",
       "        vertical-align: middle;\n",
       "    }\n",
       "\n",
       "    .dataframe tbody tr th {\n",
       "        vertical-align: top;\n",
       "    }\n",
       "\n",
       "    .dataframe thead th {\n",
       "        text-align: right;\n",
       "    }\n",
       "</style>\n",
       "<table border=\"1\" class=\"dataframe\">\n",
       "  <thead>\n",
       "    <tr style=\"text-align: right;\">\n",
       "      <th></th>\n",
       "      <th>Loan_id</th>\n",
       "      <th>Bucket</th>\n",
       "      <th>TENURE</th>\n",
       "      <th>PRINBALANCE</th>\n",
       "      <th>Months on Books</th>\n",
       "      <th>Sanctioned Amount</th>\n",
       "      <th>Month</th>\n",
       "      <th>term_comp</th>\n",
       "    </tr>\n",
       "  </thead>\n",
       "  <tbody>\n",
       "    <tr>\n",
       "      <th>0</th>\n",
       "      <td>A810487695</td>\n",
       "      <td>TB0</td>\n",
       "      <td>48</td>\n",
       "      <td>10539100.0</td>\n",
       "      <td>37</td>\n",
       "      <td>30000000</td>\n",
       "      <td>April</td>\n",
       "      <td>0.770833</td>\n",
       "    </tr>\n",
       "    <tr>\n",
       "      <th>1</th>\n",
       "      <td>A205346000</td>\n",
       "      <td>TB0</td>\n",
       "      <td>36</td>\n",
       "      <td>3693500.0</td>\n",
       "      <td>33</td>\n",
       "      <td>22000000</td>\n",
       "      <td>March</td>\n",
       "      <td>0.916667</td>\n",
       "    </tr>\n",
       "    <tr>\n",
       "      <th>2</th>\n",
       "      <td>A675851816</td>\n",
       "      <td>TB0</td>\n",
       "      <td>48</td>\n",
       "      <td>24353700.0</td>\n",
       "      <td>30</td>\n",
       "      <td>40000000</td>\n",
       "      <td>March</td>\n",
       "      <td>0.625000</td>\n",
       "    </tr>\n",
       "    <tr>\n",
       "      <th>4</th>\n",
       "      <td>A269873383</td>\n",
       "      <td>TB0</td>\n",
       "      <td>36</td>\n",
       "      <td>4441700.0</td>\n",
       "      <td>30</td>\n",
       "      <td>20000000</td>\n",
       "      <td>May</td>\n",
       "      <td>0.833333</td>\n",
       "    </tr>\n",
       "    <tr>\n",
       "      <th>5</th>\n",
       "      <td>A948976866</td>\n",
       "      <td>TB0</td>\n",
       "      <td>36</td>\n",
       "      <td>20002300.0</td>\n",
       "      <td>19</td>\n",
       "      <td>30000000</td>\n",
       "      <td>April</td>\n",
       "      <td>0.527778</td>\n",
       "    </tr>\n",
       "  </tbody>\n",
       "</table>\n",
       "</div>"
      ],
      "text/plain": [
       "      Loan_id Bucket  TENURE  PRINBALANCE  Months on Books  Sanctioned Amount  \\\n",
       "0  A810487695    TB0      48   10539100.0               37           30000000   \n",
       "1  A205346000    TB0      36    3693500.0               33           22000000   \n",
       "2  A675851816    TB0      48   24353700.0               30           40000000   \n",
       "4  A269873383    TB0      36    4441700.0               30           20000000   \n",
       "5  A948976866    TB0      36   20002300.0               19           30000000   \n",
       "\n",
       "   Month  term_comp  \n",
       "0  April   0.770833  \n",
       "1  March   0.916667  \n",
       "2  March   0.625000  \n",
       "4    May   0.833333  \n",
       "5  April   0.527778  "
      ]
     },
     "execution_count": 22,
     "metadata": {},
     "output_type": "execute_result"
    }
   ],
   "source": [
    "#calculates term completed as defined by 'month on books/tenure'\n",
    "bal_term_data['term_comp'] = (bal_term_data['Months on Books'] / bal_term_data['TENURE'])\n",
    "\n",
    "bal_term_data.head()"
   ]
  },
  {
   "cell_type": "code",
   "execution_count": null,
   "metadata": {},
   "outputs": [],
   "source": [
    "#calculates correlation between principal balance remaining and term completed\n",
    "var1 = bal_term_data['term_comp']\n",
    "var2 = bal_term_data['PRINBALANCE']\n",
    "\n",
    "correlation = var1.corr(var2)\n",
    "correlation"
   ]
  },
  {
   "cell_type": "markdown",
   "metadata": {},
   "source": [
    "If we estimate the absolute correlation value as being moderate if it falls between 0.5 and 0.7, we can conclude that there is a moderate correlation between term completed and principal balance.  In addition as this is a negative value, we conclude that this is a negative relationship, meaning as there is an increase in one variable there is a decrease in the other and vice-versa."
   ]
  },
  {
   "cell_type": "markdown",
   "metadata": {},
   "source": [
    "## What is the average attempt intensity, RPC rate and PTP rate on accounts for the months of Mar, Apr and May"
   ]
  },
  {
   "cell_type": "code",
   "execution_count": null,
   "metadata": {},
   "outputs": [],
   "source": [
    "df.keys()"
   ]
  },
  {
   "cell_type": "code",
   "execution_count": null,
   "metadata": {},
   "outputs": [],
   "source": [
    "#assigns 'Call Detail' table to dataframe\n",
    "call_data = df['Call Details']\n",
    "call_data.tail()"
   ]
  },
  {
   "cell_type": "code",
   "execution_count": null,
   "metadata": {},
   "outputs": [],
   "source": [
    "#groups call data by month and accounts and then aggregates\n",
    "month_table = call_data.groupby(['month', 'Application_Id']).aggregate({'month':'nunique', 'Right_Party_Contact':'sum', 'Promise_to_pay':'sum', 'total_contacts':'sum'})\n",
    "\n",
    "month_table.rename(columns={'month':'month_count'}, inplace=True)\n",
    "\n",
    "month_table"
   ]
  },
  {
   "cell_type": "code",
   "execution_count": null,
   "metadata": {},
   "outputs": [],
   "source": [
    "#calculates Right Party Contacts (RPC) rate and Percentage of outbound calls resulting in Promise to Pay (PTP) for each account every month\n",
    "\n",
    "month_table['RPC_rate'] = round(month_table['Right_Party_Contact'] / month_table['total_contacts'], 3)\n",
    "\n",
    "month_table['PTP_rate'] = round((month_table['Promise_to_pay']) / month_table['total_contacts'], 3)\n",
    "\n",
    "month_table"
   ]
  },
  {
   "cell_type": "code",
   "execution_count": null,
   "metadata": {},
   "outputs": [],
   "source": [
    "#displays descriptive statistics for the grouped data\n",
    "\n",
    "month_table.describe()"
   ]
  },
  {
   "cell_type": "markdown",
   "metadata": {},
   "source": [
    "Due to the high max value for 'Right_Party_Contact' and 'total_contact', let's explore further"
   ]
  },
  {
   "cell_type": "code",
   "execution_count": null,
   "metadata": {},
   "outputs": [],
   "source": [
    "x = month_table['Right_Party_Contact']\n",
    "y = month_table['total_contacts']\n",
    "\n",
    "plt.boxplot([x,y])\n",
    "plt.show()"
   ]
  },
  {
   "cell_type": "code",
   "execution_count": null,
   "metadata": {},
   "outputs": [],
   "source": [
    "#exploring max value observation further\n",
    "month_table[month_table['Right_Party_Contact']==651]"
   ]
  },
  {
   "cell_type": "markdown",
   "metadata": {},
   "source": [
    "The max value looks like an extreme outlier where there might have been an input error. I will exclude this case."
   ]
  },
  {
   "cell_type": "code",
   "execution_count": null,
   "metadata": {},
   "outputs": [],
   "source": [
    "month_table = month_table[month_table['Right_Party_Contact']!=651]"
   ]
  },
  {
   "cell_type": "code",
   "execution_count": null,
   "metadata": {},
   "outputs": [],
   "source": [
    "month_table.describe()"
   ]
  },
  {
   "cell_type": "markdown",
   "metadata": {},
   "source": [
    "There still seem to be high values but will need to research this further for correct treatment, so will leave this in for now."
   ]
  },
  {
   "cell_type": "code",
   "execution_count": null,
   "metadata": {},
   "outputs": [],
   "source": [
    "#calculates average rates for each month based on account activity\n",
    "avg_monthly = month_table.groupby('month').agg({'total_contacts':'mean', 'RPC_rate':'mean', 'PTP_rate':'mean'})\n",
    "\n",
    "avg_monthly.rename(columns={'total_contacts':'avg_intensity','RPC_rate':'avg_rpc_rate', 'PTP_rate':'avg_ptp_rate'}, inplace=True)\n",
    "\n",
    "avg_monthly"
   ]
  },
  {
   "cell_type": "markdown",
   "metadata": {},
   "source": [
    "## Identify the agents who are showing the best and worst performance. "
   ]
  },
  {
   "cell_type": "code",
   "execution_count": null,
   "metadata": {},
   "outputs": [],
   "source": [
    "#groups data by agent and then aggregates\n",
    "agent_table = call_data.groupby(['Login_ID']).aggregate({'month':'nunique', 'Right_Party_Contact':'sum', 'Promise_to_pay':'sum', 'total_contacts':'sum'})\n",
    "\n",
    "agent_table.rename(columns={'month':'month_count'}, inplace=True)\n",
    "\n",
    "agent_table.head()"
   ]
  },
  {
   "cell_type": "code",
   "execution_count": null,
   "metadata": {},
   "outputs": [],
   "source": [
    "#calculates Right Party Contacts (RPC) rate and Percentage of outbound calls resulting in Promise to Pay (PTP) for each agent\n",
    "agent_table['RPC_rate'] = round((agent_table['Right_Party_Contact'] / agent_table['total_contacts']), 3)\n",
    "\n",
    "agent_table['PTP_rate'] = round(((agent_table['Promise_to_pay']) / agent_table['total_contacts']), 3)\n",
    "\n",
    "agent_table.describe()\n"
   ]
  },
  {
   "cell_type": "code",
   "execution_count": null,
   "metadata": {},
   "outputs": [],
   "source": [
    "#calculates performance metrics\n",
    "agent_table['perf_metric'] = agent_table['month_count'] * agent_table['total_contacts'] * agent_table['Right_Party_Contact'] * (agent_table['Promise_to_pay'] + 0.001)\n",
    "\n",
    "agent_table['perf_metric1'] = agent_table['month_count'] * agent_table['RPC_rate'] * (agent_table['PTP_rate'] + 0.001)\n",
    "\n",
    "agent_table['perf_metric2'] = agent_table['month_count'] * agent_table['total_contacts'] * agent_table['RPC_rate'] * (agent_table['PTP_rate'] + 0.001)\n",
    "\n",
    "agent_table.sort_values(by=['perf_metric1'], ascending=False).head(10)"
   ]
  },
  {
   "cell_type": "code",
   "execution_count": null,
   "metadata": {},
   "outputs": [],
   "source": [
    "agent_table.describe()"
   ]
  },
  {
   "cell_type": "markdown",
   "metadata": {},
   "source": [
    "In order to rank the agents' performance, we will use per_metric1 as the standard deviation is minimum for this metric."
   ]
  },
  {
   "cell_type": "code",
   "execution_count": null,
   "metadata": {},
   "outputs": [],
   "source": [
    "#calculates best and worst performance\n",
    "top_five = agent_table.sort_values(by=['perf_metric1'], ascending=False).head(5)\n",
    "\n",
    "bottom_five = agent_table.sort_values(by=['perf_metric1'], ascending=True).head(5)"
   ]
  },
  {
   "cell_type": "code",
   "execution_count": null,
   "metadata": {},
   "outputs": [],
   "source": [
    "top_five"
   ]
  },
  {
   "cell_type": "code",
   "execution_count": null,
   "metadata": {},
   "outputs": [],
   "source": [
    "bottom_five"
   ]
  },
  {
   "cell_type": "markdown",
   "metadata": {},
   "source": [
    "For assessing agent performance, there were instances where the RPC rate was showing as 1.00 while the PTP rate was showing as 0.00. This was due to the fact that the agent made only one contact and was able to connect with the right party and was unable to get a promise to pay.  However, due to this characteristic, using either of the rates on their own would not account for such granular nuance.  There for the performance metric devised attempts to not only account for such cases but also to account for the number of months that the agent has been involved with the operation.  Specifically, the metric multiplies the number of months with the RPC rate and the PTP rate. In addition, in order to prevent a PTP rate value of 0 from being included in the calculation, an addition of 0.001 was made."
   ]
  },
  {
   "cell_type": "code",
   "execution_count": null,
   "metadata": {},
   "outputs": [],
   "source": []
  }
 ],
 "metadata": {
  "kernelspec": {
   "display_name": "Python 3.7.4 64-bit ('LoanStreet': conda)",
   "language": "python",
   "name": "python37464bitloanstreetcondafa66e404accb4a32a5c3bcdbfa6abf76"
  },
  "language_info": {
   "codemirror_mode": {
    "name": "ipython",
    "version": 3
   },
   "file_extension": ".py",
   "mimetype": "text/x-python",
   "name": "python",
   "nbconvert_exporter": "python",
   "pygments_lexer": "ipython3",
   "version": "3.7.4"
  }
 },
 "nbformat": 4,
 "nbformat_minor": 2
}
