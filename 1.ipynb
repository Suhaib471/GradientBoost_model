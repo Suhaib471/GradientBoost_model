{
 "cells": [
  {
   "cell_type": "code",
   "execution_count": 1,
   "metadata": {},
   "outputs": [],
   "source": [
    "import pandas as pd\n",
    "from openpyxl.workbook import Workbook"
   ]
  },
  {
   "cell_type": "code",
   "execution_count": 4,
   "metadata": {},
   "outputs": [],
   "source": [
    "df = pd.read_excel('Collections Case Study Data.xlsx', sheet_name=None)"
   ]
  },
  {
   "cell_type": "code",
   "execution_count": 6,
   "metadata": {},
   "outputs": [
    {
     "output_type": "execute_result",
     "data": {
      "text/plain": "dict_keys(['Loan Details', 'Loan_Status_MartoMay', 'Loan_Status_AprtoJun', 'Historical 6 Months Details', 'Loan_ID mapping', 'Call Details'])"
     },
     "metadata": {},
     "execution_count": 6
    }
   ],
   "source": [
    "df.keys()"
   ]
  },
  {
   "cell_type": "code",
   "execution_count": 17,
   "metadata": {},
   "outputs": [
    {
     "output_type": "execute_result",
     "data": {
      "text/plain": "      Loan_id  Debt_to_burden_Ratio  total_income  TENURE  Sanctioned Amount\n0  A999993387              0.259113     5326806.0      36           22000000\n1  A999990339              0.323385     8392773.0      48           73000000\n2  A999971854              0.346267    12000000.0      48           80000000\n3  A999952066              0.229800     9000000.0      36           50000000\n4  A999938479              0.370082     8500000.0      36           67000000",
      "text/html": "<div>\n<style scoped>\n    .dataframe tbody tr th:only-of-type {\n        vertical-align: middle;\n    }\n\n    .dataframe tbody tr th {\n        vertical-align: top;\n    }\n\n    .dataframe thead th {\n        text-align: right;\n    }\n</style>\n<table border=\"1\" class=\"dataframe\">\n  <thead>\n    <tr style=\"text-align: right;\">\n      <th></th>\n      <th>Loan_id</th>\n      <th>Debt_to_burden_Ratio</th>\n      <th>total_income</th>\n      <th>TENURE</th>\n      <th>Sanctioned Amount</th>\n    </tr>\n  </thead>\n  <tbody>\n    <tr>\n      <th>0</th>\n      <td>A999993387</td>\n      <td>0.259113</td>\n      <td>5326806.0</td>\n      <td>36</td>\n      <td>22000000</td>\n    </tr>\n    <tr>\n      <th>1</th>\n      <td>A999990339</td>\n      <td>0.323385</td>\n      <td>8392773.0</td>\n      <td>48</td>\n      <td>73000000</td>\n    </tr>\n    <tr>\n      <th>2</th>\n      <td>A999971854</td>\n      <td>0.346267</td>\n      <td>12000000.0</td>\n      <td>48</td>\n      <td>80000000</td>\n    </tr>\n    <tr>\n      <th>3</th>\n      <td>A999952066</td>\n      <td>0.229800</td>\n      <td>9000000.0</td>\n      <td>36</td>\n      <td>50000000</td>\n    </tr>\n    <tr>\n      <th>4</th>\n      <td>A999938479</td>\n      <td>0.370082</td>\n      <td>8500000.0</td>\n      <td>36</td>\n      <td>67000000</td>\n    </tr>\n  </tbody>\n</table>\n</div>"
     },
     "metadata": {},
     "execution_count": 17
    }
   ],
   "source": [
    "loan_detail = df['Loan Details']\n",
    "loan_detail.head()"
   ]
  },
  {
   "cell_type": "code",
   "execution_count": 19,
   "metadata": {},
   "outputs": [
    {
     "output_type": "execute_result",
     "data": {
      "text/plain": "      Loan_id Bucket  TENURE  ...  Month  Unnamed: 7  Unnamed: 8\n0  A999993387    TB0      36  ...  April         NaN         NaN\n1  A999993387    TB0      36  ...  March         NaN    576300.0\n2  A999990339    TB0      48  ...    May         NaN         NaN\n3  A999990339    TB0      48  ...  April         NaN    842600.0\n4  A999990339    TB0      48  ...  March         NaN    848000.0\n\n[5 rows x 9 columns]",
      "text/html": "<div>\n<style scoped>\n    .dataframe tbody tr th:only-of-type {\n        vertical-align: middle;\n    }\n\n    .dataframe tbody tr th {\n        vertical-align: top;\n    }\n\n    .dataframe thead th {\n        text-align: right;\n    }\n</style>\n<table border=\"1\" class=\"dataframe\">\n  <thead>\n    <tr style=\"text-align: right;\">\n      <th></th>\n      <th>Loan_id</th>\n      <th>Bucket</th>\n      <th>TENURE</th>\n      <th>PRINBALANCE</th>\n      <th>Months on Books</th>\n      <th>Sanctioned Amount</th>\n      <th>Month</th>\n      <th>Unnamed: 7</th>\n      <th>Unnamed: 8</th>\n    </tr>\n  </thead>\n  <tbody>\n    <tr>\n      <th>0</th>\n      <td>A999993387</td>\n      <td>TB0</td>\n      <td>36</td>\n      <td>13785200.0</td>\n      <td>18</td>\n      <td>22000000</td>\n      <td>April</td>\n      <td>NaN</td>\n      <td>NaN</td>\n    </tr>\n    <tr>\n      <th>1</th>\n      <td>A999993387</td>\n      <td>TB0</td>\n      <td>36</td>\n      <td>14361500.0</td>\n      <td>17</td>\n      <td>22000000</td>\n      <td>March</td>\n      <td>NaN</td>\n      <td>576300.0</td>\n    </tr>\n    <tr>\n      <th>2</th>\n      <td>A999990339</td>\n      <td>TB0</td>\n      <td>48</td>\n      <td>68114900.0</td>\n      <td>6</td>\n      <td>73000000</td>\n      <td>May</td>\n      <td>NaN</td>\n      <td>NaN</td>\n    </tr>\n    <tr>\n      <th>3</th>\n      <td>A999990339</td>\n      <td>TB0</td>\n      <td>48</td>\n      <td>68957500.0</td>\n      <td>5</td>\n      <td>73000000</td>\n      <td>April</td>\n      <td>NaN</td>\n      <td>842600.0</td>\n    </tr>\n    <tr>\n      <th>4</th>\n      <td>A999990339</td>\n      <td>TB0</td>\n      <td>48</td>\n      <td>69805500.0</td>\n      <td>4</td>\n      <td>73000000</td>\n      <td>March</td>\n      <td>NaN</td>\n      <td>848000.0</td>\n    </tr>\n  </tbody>\n</table>\n</div>"
     },
     "metadata": {},
     "execution_count": 19
    }
   ],
   "source": [
    "loan_stat_marmay = df['Loan_Status_MartoMay']\n",
    "loan_stat_marmay.head()"
   ]
  },
  {
   "cell_type": "code",
   "execution_count": 20,
   "metadata": {},
   "outputs": [
    {
     "output_type": "execute_result",
     "data": {
      "text/plain": "      Loan_id   Bucket  PRINBALANCE  ...  Month  Unnamed: 7  Unnamed: 8\n0  A999993387  REGULAR   12583000.0  ...    May         NaN         NaN\n1  A999993387  REGULAR   13192100.0  ...  April         NaN    609100.0\n2  A999990339  REGULAR   66303700.0  ...   June         NaN         NaN\n3  A999990339  REGULAR   67206100.0  ...    May         NaN         NaN\n4  A999990339  REGULAR   68114900.0  ...  April         NaN         NaN\n\n[5 rows x 9 columns]",
      "text/html": "<div>\n<style scoped>\n    .dataframe tbody tr th:only-of-type {\n        vertical-align: middle;\n    }\n\n    .dataframe tbody tr th {\n        vertical-align: top;\n    }\n\n    .dataframe thead th {\n        text-align: right;\n    }\n</style>\n<table border=\"1\" class=\"dataframe\">\n  <thead>\n    <tr style=\"text-align: right;\">\n      <th></th>\n      <th>Loan_id</th>\n      <th>Bucket</th>\n      <th>PRINBALANCE</th>\n      <th>TENURE</th>\n      <th>Months on Books</th>\n      <th>Sanctioned Amount</th>\n      <th>Month</th>\n      <th>Unnamed: 7</th>\n      <th>Unnamed: 8</th>\n    </tr>\n  </thead>\n  <tbody>\n    <tr>\n      <th>0</th>\n      <td>A999993387</td>\n      <td>REGULAR</td>\n      <td>12583000.0</td>\n      <td>36</td>\n      <td>19</td>\n      <td>22000000</td>\n      <td>May</td>\n      <td>NaN</td>\n      <td>NaN</td>\n    </tr>\n    <tr>\n      <th>1</th>\n      <td>A999993387</td>\n      <td>REGULAR</td>\n      <td>13192100.0</td>\n      <td>36</td>\n      <td>18</td>\n      <td>22000000</td>\n      <td>April</td>\n      <td>NaN</td>\n      <td>609100.0</td>\n    </tr>\n    <tr>\n      <th>2</th>\n      <td>A999990339</td>\n      <td>REGULAR</td>\n      <td>66303700.0</td>\n      <td>48</td>\n      <td>7</td>\n      <td>73000000</td>\n      <td>June</td>\n      <td>NaN</td>\n      <td>NaN</td>\n    </tr>\n    <tr>\n      <th>3</th>\n      <td>A999990339</td>\n      <td>REGULAR</td>\n      <td>67206100.0</td>\n      <td>48</td>\n      <td>6</td>\n      <td>73000000</td>\n      <td>May</td>\n      <td>NaN</td>\n      <td>NaN</td>\n    </tr>\n    <tr>\n      <th>4</th>\n      <td>A999990339</td>\n      <td>REGULAR</td>\n      <td>68114900.0</td>\n      <td>48</td>\n      <td>5</td>\n      <td>73000000</td>\n      <td>April</td>\n      <td>NaN</td>\n      <td>NaN</td>\n    </tr>\n  </tbody>\n</table>\n</div>"
     },
     "metadata": {},
     "execution_count": 20
    }
   ],
   "source": [
    "loan_stat_aprjun = df['Loan_Status_AprtoJun']\n",
    "loan_stat_aprjun.head()\n"
   ]
  },
  {
   "cell_type": "code",
   "execution_count": 21,
   "metadata": {},
   "outputs": [],
   "source": [
    "loan_stat_aprjun = loan_stat_aprjun[['Loan_id', 'Bucket', 'TENURE', 'PRINBALANCE', 'Months on Books', 'Sanctioned Amount', 'Month', 'Unnamed: 7', 'Unnamed: 8']]"
   ]
  },
  {
   "cell_type": "code",
   "execution_count": 22,
   "metadata": {},
   "outputs": [
    {
     "output_type": "execute_result",
     "data": {
      "text/plain": "      Loan_id   Bucket  TENURE  ...  Month  Unnamed: 7  Unnamed: 8\n0  A999993387  REGULAR      36  ...    May         NaN         NaN\n1  A999993387  REGULAR      36  ...  April         NaN    609100.0\n2  A999990339  REGULAR      48  ...   June         NaN         NaN\n3  A999990339  REGULAR      48  ...    May         NaN         NaN\n4  A999990339  REGULAR      48  ...  April         NaN         NaN\n\n[5 rows x 9 columns]",
      "text/html": "<div>\n<style scoped>\n    .dataframe tbody tr th:only-of-type {\n        vertical-align: middle;\n    }\n\n    .dataframe tbody tr th {\n        vertical-align: top;\n    }\n\n    .dataframe thead th {\n        text-align: right;\n    }\n</style>\n<table border=\"1\" class=\"dataframe\">\n  <thead>\n    <tr style=\"text-align: right;\">\n      <th></th>\n      <th>Loan_id</th>\n      <th>Bucket</th>\n      <th>TENURE</th>\n      <th>PRINBALANCE</th>\n      <th>Months on Books</th>\n      <th>Sanctioned Amount</th>\n      <th>Month</th>\n      <th>Unnamed: 7</th>\n      <th>Unnamed: 8</th>\n    </tr>\n  </thead>\n  <tbody>\n    <tr>\n      <th>0</th>\n      <td>A999993387</td>\n      <td>REGULAR</td>\n      <td>36</td>\n      <td>12583000.0</td>\n      <td>19</td>\n      <td>22000000</td>\n      <td>May</td>\n      <td>NaN</td>\n      <td>NaN</td>\n    </tr>\n    <tr>\n      <th>1</th>\n      <td>A999993387</td>\n      <td>REGULAR</td>\n      <td>36</td>\n      <td>13192100.0</td>\n      <td>18</td>\n      <td>22000000</td>\n      <td>April</td>\n      <td>NaN</td>\n      <td>609100.0</td>\n    </tr>\n    <tr>\n      <th>2</th>\n      <td>A999990339</td>\n      <td>REGULAR</td>\n      <td>48</td>\n      <td>66303700.0</td>\n      <td>7</td>\n      <td>73000000</td>\n      <td>June</td>\n      <td>NaN</td>\n      <td>NaN</td>\n    </tr>\n    <tr>\n      <th>3</th>\n      <td>A999990339</td>\n      <td>REGULAR</td>\n      <td>48</td>\n      <td>67206100.0</td>\n      <td>6</td>\n      <td>73000000</td>\n      <td>May</td>\n      <td>NaN</td>\n      <td>NaN</td>\n    </tr>\n    <tr>\n      <th>4</th>\n      <td>A999990339</td>\n      <td>REGULAR</td>\n      <td>48</td>\n      <td>68114900.0</td>\n      <td>5</td>\n      <td>73000000</td>\n      <td>April</td>\n      <td>NaN</td>\n      <td>NaN</td>\n    </tr>\n  </tbody>\n</table>\n</div>"
     },
     "metadata": {},
     "execution_count": 22
    }
   ],
   "source": [
    "loan_stat_aprjun.head()"
   ]
  },
  {
   "cell_type": "code",
   "execution_count": 24,
   "metadata": {},
   "outputs": [],
   "source": [
    "loan_stat_months = pd.concat([loan_stat_marmay, loan_stat_aprjun])"
   ]
  },
  {
   "cell_type": "code",
   "execution_count": 26,
   "metadata": {},
   "outputs": [
    {
     "output_type": "stream",
     "name": "stdout",
     "text": "Loan_id Bucket  TENURE  ...  Month  Unnamed: 7  Unnamed: 8\n0  A999993387    TB0      36  ...  April         NaN         NaN\n1  A999993387    TB0      36  ...  March         NaN    576300.0\n2  A999990339    TB0      48  ...    May         NaN         NaN\n3  A999990339    TB0      48  ...  April         NaN    842600.0\n4  A999990339    TB0      48  ...  March         NaN    848000.0\n\n[5 rows x 9 columns]\n          Loan_id   Bucket  TENURE  ...  Month  Unnamed: 7  Unnamed: 8\n80764  A100026967      TB0      48  ...    May         NaN         NaN\n80765  A100026967      TB0      48  ...  April         NaN         NaN\n80766  A100005454  REGULAR      36  ...   June         NaN         NaN\n80767  A100005454  REGULAR      36  ...    May         NaN         NaN\n80768  A100005454  REGULAR      36  ...  April         NaN         NaN\n\n[5 rows x 9 columns]\n"
    }
   ],
   "source": [
    "print(loan_stat_months.head())\n",
    "print(loan_stat_months.tail())"
   ]
  },
  {
   "cell_type": "code",
   "execution_count": 27,
   "metadata": {},
   "outputs": [],
   "source": [
    "data = pd.merge(loan_detail, loan_stat_months, how='left', on='Loan_id')"
   ]
  },
  {
   "cell_type": "code",
   "execution_count": 28,
   "metadata": {},
   "outputs": [
    {
     "output_type": "execute_result",
     "data": {
      "text/plain": "      Loan_id  Debt_to_burden_Ratio  ...  Sanctioned Amount_y  Month\n0  A999993387              0.259113  ...             22000000  April\n1  A999993387              0.259113  ...             22000000  March\n2  A999993387              0.259113  ...             22000000    May\n3  A999993387              0.259113  ...             22000000  April\n4  A999990339              0.323385  ...             73000000    May\n\n[5 rows x 11 columns]",
      "text/html": "<div>\n<style scoped>\n    .dataframe tbody tr th:only-of-type {\n        vertical-align: middle;\n    }\n\n    .dataframe tbody tr th {\n        vertical-align: top;\n    }\n\n    .dataframe thead th {\n        text-align: right;\n    }\n</style>\n<table border=\"1\" class=\"dataframe\">\n  <thead>\n    <tr style=\"text-align: right;\">\n      <th></th>\n      <th>Loan_id</th>\n      <th>Debt_to_burden_Ratio</th>\n      <th>total_income</th>\n      <th>TENURE_x</th>\n      <th>Sanctioned Amount_x</th>\n      <th>Bucket</th>\n      <th>TENURE_y</th>\n      <th>PRINBALANCE</th>\n      <th>Months on Books</th>\n      <th>Sanctioned Amount_y</th>\n      <th>Month</th>\n    </tr>\n  </thead>\n  <tbody>\n    <tr>\n      <th>0</th>\n      <td>A999993387</td>\n      <td>0.259113</td>\n      <td>5326806.0</td>\n      <td>36</td>\n      <td>22000000</td>\n      <td>TB0</td>\n      <td>36</td>\n      <td>13785200.0</td>\n      <td>18</td>\n      <td>22000000</td>\n      <td>April</td>\n    </tr>\n    <tr>\n      <th>1</th>\n      <td>A999993387</td>\n      <td>0.259113</td>\n      <td>5326806.0</td>\n      <td>36</td>\n      <td>22000000</td>\n      <td>TB0</td>\n      <td>36</td>\n      <td>14361500.0</td>\n      <td>17</td>\n      <td>22000000</td>\n      <td>March</td>\n    </tr>\n    <tr>\n      <th>2</th>\n      <td>A999993387</td>\n      <td>0.259113</td>\n      <td>5326806.0</td>\n      <td>36</td>\n      <td>22000000</td>\n      <td>REGULAR</td>\n      <td>36</td>\n      <td>12583000.0</td>\n      <td>19</td>\n      <td>22000000</td>\n      <td>May</td>\n    </tr>\n    <tr>\n      <th>3</th>\n      <td>A999993387</td>\n      <td>0.259113</td>\n      <td>5326806.0</td>\n      <td>36</td>\n      <td>22000000</td>\n      <td>REGULAR</td>\n      <td>36</td>\n      <td>13192100.0</td>\n      <td>18</td>\n      <td>22000000</td>\n      <td>April</td>\n    </tr>\n    <tr>\n      <th>4</th>\n      <td>A999990339</td>\n      <td>0.323385</td>\n      <td>8392773.0</td>\n      <td>48</td>\n      <td>73000000</td>\n      <td>TB0</td>\n      <td>48</td>\n      <td>68114900.0</td>\n      <td>6</td>\n      <td>73000000</td>\n      <td>May</td>\n    </tr>\n  </tbody>\n</table>\n</div>"
     },
     "metadata": {},
     "execution_count": 28
    }
   ],
   "source": [
    "data = data.drop(columns=['Unnamed: 7', 'Unnamed: 8'], axis=1)\n",
    "data.head()"
   ]
  },
  {
   "cell_type": "code",
   "execution_count": 30,
   "metadata": {},
   "outputs": [
    {
     "output_type": "execute_result",
     "data": {
      "text/plain": "      Loan_id  paidcure  paiduncure  ...  max6del  max3del  Month\n0  A999993387         6           0  ...        0        0  April\n1  A999993387         6           0  ...        0        0  March\n2  A999990339         6           0  ...        0        0    May\n3  A999990339         5           0  ...        0        0  April\n4  A999990339         4           0  ...        0        0  March\n\n[5 rows x 13 columns]",
      "text/html": "<div>\n<style scoped>\n    .dataframe tbody tr th:only-of-type {\n        vertical-align: middle;\n    }\n\n    .dataframe tbody tr th {\n        vertical-align: top;\n    }\n\n    .dataframe thead th {\n        text-align: right;\n    }\n</style>\n<table border=\"1\" class=\"dataframe\">\n  <thead>\n    <tr style=\"text-align: right;\">\n      <th></th>\n      <th>Loan_id</th>\n      <th>paidcure</th>\n      <th>paiduncure</th>\n      <th>unpaid</th>\n      <th>rollb</th>\n      <th>rollf</th>\n      <th>num6mosdel</th>\n      <th>num3mosdel</th>\n      <th>num6mosdel_2plus</th>\n      <th>num3mosdel_2plus</th>\n      <th>max6del</th>\n      <th>max3del</th>\n      <th>Month</th>\n    </tr>\n  </thead>\n  <tbody>\n    <tr>\n      <th>0</th>\n      <td>A999993387</td>\n      <td>6</td>\n      <td>0</td>\n      <td>0</td>\n      <td>0</td>\n      <td>0</td>\n      <td>0</td>\n      <td>0</td>\n      <td>0</td>\n      <td>0</td>\n      <td>0</td>\n      <td>0</td>\n      <td>April</td>\n    </tr>\n    <tr>\n      <th>1</th>\n      <td>A999993387</td>\n      <td>6</td>\n      <td>0</td>\n      <td>0</td>\n      <td>0</td>\n      <td>0</td>\n      <td>0</td>\n      <td>0</td>\n      <td>0</td>\n      <td>0</td>\n      <td>0</td>\n      <td>0</td>\n      <td>March</td>\n    </tr>\n    <tr>\n      <th>2</th>\n      <td>A999990339</td>\n      <td>6</td>\n      <td>0</td>\n      <td>0</td>\n      <td>0</td>\n      <td>0</td>\n      <td>0</td>\n      <td>0</td>\n      <td>0</td>\n      <td>0</td>\n      <td>0</td>\n      <td>0</td>\n      <td>May</td>\n    </tr>\n    <tr>\n      <th>3</th>\n      <td>A999990339</td>\n      <td>5</td>\n      <td>0</td>\n      <td>0</td>\n      <td>0</td>\n      <td>0</td>\n      <td>0</td>\n      <td>0</td>\n      <td>0</td>\n      <td>0</td>\n      <td>0</td>\n      <td>0</td>\n      <td>April</td>\n    </tr>\n    <tr>\n      <th>4</th>\n      <td>A999990339</td>\n      <td>4</td>\n      <td>0</td>\n      <td>0</td>\n      <td>0</td>\n      <td>0</td>\n      <td>0</td>\n      <td>0</td>\n      <td>0</td>\n      <td>0</td>\n      <td>0</td>\n      <td>0</td>\n      <td>March</td>\n    </tr>\n  </tbody>\n</table>\n</div>"
     },
     "metadata": {},
     "execution_count": 30
    }
   ],
   "source": [
    "hist_data = df['Historical 6 Months Details'].head()\n",
    "hist_data.head()"
   ]
  },
  {
   "cell_type": "code",
   "execution_count": 31,
   "metadata": {},
   "outputs": [
    {
     "output_type": "execute_result",
     "data": {
      "text/plain": "      Loan_id  Debt_to_burden_Ratio  ...  max6del  max3del\n0  A999993387              0.259113  ...      0.0      0.0\n1  A999993387              0.259113  ...      0.0      0.0\n2  A999993387              0.259113  ...      NaN      NaN\n3  A999993387              0.259113  ...      0.0      0.0\n4  A999990339              0.323385  ...      0.0      0.0\n\n[5 rows x 22 columns]",
      "text/html": "<div>\n<style scoped>\n    .dataframe tbody tr th:only-of-type {\n        vertical-align: middle;\n    }\n\n    .dataframe tbody tr th {\n        vertical-align: top;\n    }\n\n    .dataframe thead th {\n        text-align: right;\n    }\n</style>\n<table border=\"1\" class=\"dataframe\">\n  <thead>\n    <tr style=\"text-align: right;\">\n      <th></th>\n      <th>Loan_id</th>\n      <th>Debt_to_burden_Ratio</th>\n      <th>total_income</th>\n      <th>TENURE_x</th>\n      <th>Sanctioned Amount_x</th>\n      <th>Bucket</th>\n      <th>TENURE_y</th>\n      <th>PRINBALANCE</th>\n      <th>Months on Books</th>\n      <th>Sanctioned Amount_y</th>\n      <th>Month</th>\n      <th>paidcure</th>\n      <th>paiduncure</th>\n      <th>unpaid</th>\n      <th>rollb</th>\n      <th>rollf</th>\n      <th>num6mosdel</th>\n      <th>num3mosdel</th>\n      <th>num6mosdel_2plus</th>\n      <th>num3mosdel_2plus</th>\n      <th>max6del</th>\n      <th>max3del</th>\n    </tr>\n  </thead>\n  <tbody>\n    <tr>\n      <th>0</th>\n      <td>A999993387</td>\n      <td>0.259113</td>\n      <td>5326806.0</td>\n      <td>36</td>\n      <td>22000000</td>\n      <td>TB0</td>\n      <td>36</td>\n      <td>13785200.0</td>\n      <td>18</td>\n      <td>22000000</td>\n      <td>April</td>\n      <td>6.0</td>\n      <td>0.0</td>\n      <td>0.0</td>\n      <td>0.0</td>\n      <td>0.0</td>\n      <td>0.0</td>\n      <td>0.0</td>\n      <td>0.0</td>\n      <td>0.0</td>\n      <td>0.0</td>\n      <td>0.0</td>\n    </tr>\n    <tr>\n      <th>1</th>\n      <td>A999993387</td>\n      <td>0.259113</td>\n      <td>5326806.0</td>\n      <td>36</td>\n      <td>22000000</td>\n      <td>TB0</td>\n      <td>36</td>\n      <td>14361500.0</td>\n      <td>17</td>\n      <td>22000000</td>\n      <td>March</td>\n      <td>6.0</td>\n      <td>0.0</td>\n      <td>0.0</td>\n      <td>0.0</td>\n      <td>0.0</td>\n      <td>0.0</td>\n      <td>0.0</td>\n      <td>0.0</td>\n      <td>0.0</td>\n      <td>0.0</td>\n      <td>0.0</td>\n    </tr>\n    <tr>\n      <th>2</th>\n      <td>A999993387</td>\n      <td>0.259113</td>\n      <td>5326806.0</td>\n      <td>36</td>\n      <td>22000000</td>\n      <td>REGULAR</td>\n      <td>36</td>\n      <td>12583000.0</td>\n      <td>19</td>\n      <td>22000000</td>\n      <td>May</td>\n      <td>NaN</td>\n      <td>NaN</td>\n      <td>NaN</td>\n      <td>NaN</td>\n      <td>NaN</td>\n      <td>NaN</td>\n      <td>NaN</td>\n      <td>NaN</td>\n      <td>NaN</td>\n      <td>NaN</td>\n      <td>NaN</td>\n    </tr>\n    <tr>\n      <th>3</th>\n      <td>A999993387</td>\n      <td>0.259113</td>\n      <td>5326806.0</td>\n      <td>36</td>\n      <td>22000000</td>\n      <td>REGULAR</td>\n      <td>36</td>\n      <td>13192100.0</td>\n      <td>18</td>\n      <td>22000000</td>\n      <td>April</td>\n      <td>6.0</td>\n      <td>0.0</td>\n      <td>0.0</td>\n      <td>0.0</td>\n      <td>0.0</td>\n      <td>0.0</td>\n      <td>0.0</td>\n      <td>0.0</td>\n      <td>0.0</td>\n      <td>0.0</td>\n      <td>0.0</td>\n    </tr>\n    <tr>\n      <th>4</th>\n      <td>A999990339</td>\n      <td>0.323385</td>\n      <td>8392773.0</td>\n      <td>48</td>\n      <td>73000000</td>\n      <td>TB0</td>\n      <td>48</td>\n      <td>68114900.0</td>\n      <td>6</td>\n      <td>73000000</td>\n      <td>May</td>\n      <td>6.0</td>\n      <td>0.0</td>\n      <td>0.0</td>\n      <td>0.0</td>\n      <td>0.0</td>\n      <td>0.0</td>\n      <td>0.0</td>\n      <td>0.0</td>\n      <td>0.0</td>\n      <td>0.0</td>\n      <td>0.0</td>\n    </tr>\n  </tbody>\n</table>\n</div>"
     },
     "metadata": {},
     "execution_count": 31
    }
   ],
   "source": [
    "data = pd.merge(data, hist_data, how='left', on=['Loan_id', 'Month'])\n",
    "data.head()"
   ]
  },
  {
   "cell_type": "code",
   "execution_count": 33,
   "metadata": {},
   "outputs": [
    {
     "output_type": "execute_result",
     "data": {
      "text/plain": "       Loanid Application_id\n0  A999993387    MX-90216316\n1  A999990339   MX-459254348\n2  A999971854   MX-153697240\n3  A999952066   MX-552890335\n4  A999938479   MX-962936786",
      "text/html": "<div>\n<style scoped>\n    .dataframe tbody tr th:only-of-type {\n        vertical-align: middle;\n    }\n\n    .dataframe tbody tr th {\n        vertical-align: top;\n    }\n\n    .dataframe thead th {\n        text-align: right;\n    }\n</style>\n<table border=\"1\" class=\"dataframe\">\n  <thead>\n    <tr style=\"text-align: right;\">\n      <th></th>\n      <th>Loanid</th>\n      <th>Application_id</th>\n    </tr>\n  </thead>\n  <tbody>\n    <tr>\n      <th>0</th>\n      <td>A999993387</td>\n      <td>MX-90216316</td>\n    </tr>\n    <tr>\n      <th>1</th>\n      <td>A999990339</td>\n      <td>MX-459254348</td>\n    </tr>\n    <tr>\n      <th>2</th>\n      <td>A999971854</td>\n      <td>MX-153697240</td>\n    </tr>\n    <tr>\n      <th>3</th>\n      <td>A999952066</td>\n      <td>MX-552890335</td>\n    </tr>\n    <tr>\n      <th>4</th>\n      <td>A999938479</td>\n      <td>MX-962936786</td>\n    </tr>\n  </tbody>\n</table>\n</div>"
     },
     "metadata": {},
     "execution_count": 33
    }
   ],
   "source": [
    "loan_id_map = df['Loan_ID mapping']\n",
    "loan_id_map.head()"
   ]
  },
  {
   "cell_type": "code",
   "execution_count": 34,
   "metadata": {},
   "outputs": [
    {
     "output_type": "execute_result",
     "data": {
      "text/plain": "   month Application_Id  ... Promise_to_pay  total_contacts\n0      3   MX-100062359  ...              1               1\n1      3   MX-100095892  ...              0               2\n2      3   MX-100116696  ...              0               3\n3      3    MX-10011780  ...              1              10\n4      3   MX-100133826  ...              3              17\n\n[5 rows x 6 columns]",
      "text/html": "<div>\n<style scoped>\n    .dataframe tbody tr th:only-of-type {\n        vertical-align: middle;\n    }\n\n    .dataframe tbody tr th {\n        vertical-align: top;\n    }\n\n    .dataframe thead th {\n        text-align: right;\n    }\n</style>\n<table border=\"1\" class=\"dataframe\">\n  <thead>\n    <tr style=\"text-align: right;\">\n      <th></th>\n      <th>month</th>\n      <th>Application_Id</th>\n      <th>Login_ID</th>\n      <th>Right_Party_Contact</th>\n      <th>Promise_to_pay</th>\n      <th>total_contacts</th>\n    </tr>\n  </thead>\n  <tbody>\n    <tr>\n      <th>0</th>\n      <td>3</td>\n      <td>MX-100062359</td>\n      <td>AGNT50</td>\n      <td>1</td>\n      <td>1</td>\n      <td>1</td>\n    </tr>\n    <tr>\n      <th>1</th>\n      <td>3</td>\n      <td>MX-100095892</td>\n      <td>AGNT12</td>\n      <td>1</td>\n      <td>0</td>\n      <td>2</td>\n    </tr>\n    <tr>\n      <th>2</th>\n      <td>3</td>\n      <td>MX-100116696</td>\n      <td>AGNT36</td>\n      <td>2</td>\n      <td>0</td>\n      <td>3</td>\n    </tr>\n    <tr>\n      <th>3</th>\n      <td>3</td>\n      <td>MX-10011780</td>\n      <td>AGNT39</td>\n      <td>2</td>\n      <td>1</td>\n      <td>10</td>\n    </tr>\n    <tr>\n      <th>4</th>\n      <td>3</td>\n      <td>MX-100133826</td>\n      <td>AGNT48</td>\n      <td>4</td>\n      <td>3</td>\n      <td>17</td>\n    </tr>\n  </tbody>\n</table>\n</div>"
     },
     "metadata": {},
     "execution_count": 34
    }
   ],
   "source": [
    "call_details = df['Call Details']\n",
    "call_details.head()"
   ]
  },
  {
   "cell_type": "code",
   "execution_count": 40,
   "metadata": {},
   "outputs": [
    {
     "output_type": "execute_result",
     "data": {
      "text/plain": "5    27983\n4    26848\n3    24783\nName: month, dtype: int64"
     },
     "metadata": {},
     "execution_count": 40
    }
   ],
   "source": [
    "call_details['month'].value_counts()"
   ]
  },
  {
   "cell_type": "code",
   "execution_count": 41,
   "metadata": {},
   "outputs": [],
   "source": [
    "m = {3:'March', 4:'April', 5:'May'}\n",
    "call_details['month'] = call_details['month'].map(m)"
   ]
  },
  {
   "cell_type": "code",
   "execution_count": 42,
   "metadata": {},
   "outputs": [
    {
     "output_type": "execute_result",
     "data": {
      "text/plain": "   month Application_Id  ... Promise_to_pay  total_contacts\n0  March   MX-100062359  ...              1               1\n1  March   MX-100095892  ...              0               2\n2  March   MX-100116696  ...              0               3\n3  March    MX-10011780  ...              1              10\n4  March   MX-100133826  ...              3              17\n\n[5 rows x 6 columns]",
      "text/html": "<div>\n<style scoped>\n    .dataframe tbody tr th:only-of-type {\n        vertical-align: middle;\n    }\n\n    .dataframe tbody tr th {\n        vertical-align: top;\n    }\n\n    .dataframe thead th {\n        text-align: right;\n    }\n</style>\n<table border=\"1\" class=\"dataframe\">\n  <thead>\n    <tr style=\"text-align: right;\">\n      <th></th>\n      <th>month</th>\n      <th>Application_Id</th>\n      <th>Login_ID</th>\n      <th>Right_Party_Contact</th>\n      <th>Promise_to_pay</th>\n      <th>total_contacts</th>\n    </tr>\n  </thead>\n  <tbody>\n    <tr>\n      <th>0</th>\n      <td>March</td>\n      <td>MX-100062359</td>\n      <td>AGNT50</td>\n      <td>1</td>\n      <td>1</td>\n      <td>1</td>\n    </tr>\n    <tr>\n      <th>1</th>\n      <td>March</td>\n      <td>MX-100095892</td>\n      <td>AGNT12</td>\n      <td>1</td>\n      <td>0</td>\n      <td>2</td>\n    </tr>\n    <tr>\n      <th>2</th>\n      <td>March</td>\n      <td>MX-100116696</td>\n      <td>AGNT36</td>\n      <td>2</td>\n      <td>0</td>\n      <td>3</td>\n    </tr>\n    <tr>\n      <th>3</th>\n      <td>March</td>\n      <td>MX-10011780</td>\n      <td>AGNT39</td>\n      <td>2</td>\n      <td>1</td>\n      <td>10</td>\n    </tr>\n    <tr>\n      <th>4</th>\n      <td>March</td>\n      <td>MX-100133826</td>\n      <td>AGNT48</td>\n      <td>4</td>\n      <td>3</td>\n      <td>17</td>\n    </tr>\n  </tbody>\n</table>\n</div>"
     },
     "metadata": {},
     "execution_count": 42
    }
   ],
   "source": [
    "call_details.head()"
   ]
  },
  {
   "cell_type": "code",
   "execution_count": 44,
   "metadata": {},
   "outputs": [
    {
     "output_type": "execute_result",
     "data": {
      "text/plain": "       Loanid Application_id  ... Promise_to_pay total_contacts\n0  A999993387    MX-90216316  ...            0.0            1.0\n1  A999993387    MX-90216316  ...            0.0            6.0\n2  A999993387    MX-90216316  ...            0.0            1.0\n3  A999990339   MX-459254348  ...            1.0           20.0\n4  A999990339   MX-459254348  ...            1.0            4.0\n\n[5 rows x 8 columns]",
      "text/html": "<div>\n<style scoped>\n    .dataframe tbody tr th:only-of-type {\n        vertical-align: middle;\n    }\n\n    .dataframe tbody tr th {\n        vertical-align: top;\n    }\n\n    .dataframe thead th {\n        text-align: right;\n    }\n</style>\n<table border=\"1\" class=\"dataframe\">\n  <thead>\n    <tr style=\"text-align: right;\">\n      <th></th>\n      <th>Loanid</th>\n      <th>Application_id</th>\n      <th>month</th>\n      <th>Application_Id</th>\n      <th>Login_ID</th>\n      <th>Right_Party_Contact</th>\n      <th>Promise_to_pay</th>\n      <th>total_contacts</th>\n    </tr>\n  </thead>\n  <tbody>\n    <tr>\n      <th>0</th>\n      <td>A999993387</td>\n      <td>MX-90216316</td>\n      <td>March</td>\n      <td>MX-90216316</td>\n      <td>AGNT29</td>\n      <td>0.0</td>\n      <td>0.0</td>\n      <td>1.0</td>\n    </tr>\n    <tr>\n      <th>1</th>\n      <td>A999993387</td>\n      <td>MX-90216316</td>\n      <td>April</td>\n      <td>MX-90216316</td>\n      <td>AGNT46</td>\n      <td>0.0</td>\n      <td>0.0</td>\n      <td>6.0</td>\n    </tr>\n    <tr>\n      <th>2</th>\n      <td>A999993387</td>\n      <td>MX-90216316</td>\n      <td>April</td>\n      <td>MX-90216316</td>\n      <td>AGNT7</td>\n      <td>0.0</td>\n      <td>0.0</td>\n      <td>1.0</td>\n    </tr>\n    <tr>\n      <th>3</th>\n      <td>A999990339</td>\n      <td>MX-459254348</td>\n      <td>March</td>\n      <td>MX-459254348</td>\n      <td>AGNT1</td>\n      <td>4.0</td>\n      <td>1.0</td>\n      <td>20.0</td>\n    </tr>\n    <tr>\n      <th>4</th>\n      <td>A999990339</td>\n      <td>MX-459254348</td>\n      <td>April</td>\n      <td>MX-459254348</td>\n      <td>AGNT3</td>\n      <td>3.0</td>\n      <td>1.0</td>\n      <td>4.0</td>\n    </tr>\n  </tbody>\n</table>\n</div>"
     },
     "metadata": {},
     "execution_count": 44
    }
   ],
   "source": [
    "call_details = pd.merge(loan_id_map, call_details, how='left', left_on='Application_id', right_on='Application_Id')\n",
    "call_details.head()"
   ]
  },
  {
   "cell_type": "code",
   "execution_count": 45,
   "metadata": {},
   "outputs": [],
   "source": [
    "data = pd.merge(data, call_details, how='left', left_on=['Loan_id', 'Month'], right_on=['Loanid', 'month'])"
   ]
  },
  {
   "cell_type": "code",
   "execution_count": 46,
   "metadata": {},
   "outputs": [
    {
     "output_type": "execute_result",
     "data": {
      "text/plain": "      Loan_id  Debt_to_burden_Ratio  ...  Promise_to_pay  total_contacts\n0  A999993387              0.259113  ...             0.0             6.0\n1  A999993387              0.259113  ...             0.0             1.0\n2  A999993387              0.259113  ...             0.0             1.0\n3  A999993387              0.259113  ...             NaN             NaN\n4  A999993387              0.259113  ...             0.0             6.0\n\n[5 rows x 30 columns]",
      "text/html": "<div>\n<style scoped>\n    .dataframe tbody tr th:only-of-type {\n        vertical-align: middle;\n    }\n\n    .dataframe tbody tr th {\n        vertical-align: top;\n    }\n\n    .dataframe thead th {\n        text-align: right;\n    }\n</style>\n<table border=\"1\" class=\"dataframe\">\n  <thead>\n    <tr style=\"text-align: right;\">\n      <th></th>\n      <th>Loan_id</th>\n      <th>Debt_to_burden_Ratio</th>\n      <th>total_income</th>\n      <th>TENURE_x</th>\n      <th>Sanctioned Amount_x</th>\n      <th>Bucket</th>\n      <th>TENURE_y</th>\n      <th>PRINBALANCE</th>\n      <th>Months on Books</th>\n      <th>Sanctioned Amount_y</th>\n      <th>Month</th>\n      <th>paidcure</th>\n      <th>paiduncure</th>\n      <th>unpaid</th>\n      <th>rollb</th>\n      <th>rollf</th>\n      <th>num6mosdel</th>\n      <th>num3mosdel</th>\n      <th>num6mosdel_2plus</th>\n      <th>num3mosdel_2plus</th>\n      <th>max6del</th>\n      <th>max3del</th>\n      <th>Loanid</th>\n      <th>Application_id</th>\n      <th>month</th>\n      <th>Application_Id</th>\n      <th>Login_ID</th>\n      <th>Right_Party_Contact</th>\n      <th>Promise_to_pay</th>\n      <th>total_contacts</th>\n    </tr>\n  </thead>\n  <tbody>\n    <tr>\n      <th>0</th>\n      <td>A999993387</td>\n      <td>0.259113</td>\n      <td>5326806.0</td>\n      <td>36</td>\n      <td>22000000</td>\n      <td>TB0</td>\n      <td>36</td>\n      <td>13785200.0</td>\n      <td>18</td>\n      <td>22000000</td>\n      <td>April</td>\n      <td>6.0</td>\n      <td>0.0</td>\n      <td>0.0</td>\n      <td>0.0</td>\n      <td>0.0</td>\n      <td>0.0</td>\n      <td>0.0</td>\n      <td>0.0</td>\n      <td>0.0</td>\n      <td>0.0</td>\n      <td>0.0</td>\n      <td>A999993387</td>\n      <td>MX-90216316</td>\n      <td>April</td>\n      <td>MX-90216316</td>\n      <td>AGNT46</td>\n      <td>0.0</td>\n      <td>0.0</td>\n      <td>6.0</td>\n    </tr>\n    <tr>\n      <th>1</th>\n      <td>A999993387</td>\n      <td>0.259113</td>\n      <td>5326806.0</td>\n      <td>36</td>\n      <td>22000000</td>\n      <td>TB0</td>\n      <td>36</td>\n      <td>13785200.0</td>\n      <td>18</td>\n      <td>22000000</td>\n      <td>April</td>\n      <td>6.0</td>\n      <td>0.0</td>\n      <td>0.0</td>\n      <td>0.0</td>\n      <td>0.0</td>\n      <td>0.0</td>\n      <td>0.0</td>\n      <td>0.0</td>\n      <td>0.0</td>\n      <td>0.0</td>\n      <td>0.0</td>\n      <td>A999993387</td>\n      <td>MX-90216316</td>\n      <td>April</td>\n      <td>MX-90216316</td>\n      <td>AGNT7</td>\n      <td>0.0</td>\n      <td>0.0</td>\n      <td>1.0</td>\n    </tr>\n    <tr>\n      <th>2</th>\n      <td>A999993387</td>\n      <td>0.259113</td>\n      <td>5326806.0</td>\n      <td>36</td>\n      <td>22000000</td>\n      <td>TB0</td>\n      <td>36</td>\n      <td>14361500.0</td>\n      <td>17</td>\n      <td>22000000</td>\n      <td>March</td>\n      <td>6.0</td>\n      <td>0.0</td>\n      <td>0.0</td>\n      <td>0.0</td>\n      <td>0.0</td>\n      <td>0.0</td>\n      <td>0.0</td>\n      <td>0.0</td>\n      <td>0.0</td>\n      <td>0.0</td>\n      <td>0.0</td>\n      <td>A999993387</td>\n      <td>MX-90216316</td>\n      <td>March</td>\n      <td>MX-90216316</td>\n      <td>AGNT29</td>\n      <td>0.0</td>\n      <td>0.0</td>\n      <td>1.0</td>\n    </tr>\n    <tr>\n      <th>3</th>\n      <td>A999993387</td>\n      <td>0.259113</td>\n      <td>5326806.0</td>\n      <td>36</td>\n      <td>22000000</td>\n      <td>REGULAR</td>\n      <td>36</td>\n      <td>12583000.0</td>\n      <td>19</td>\n      <td>22000000</td>\n      <td>May</td>\n      <td>NaN</td>\n      <td>NaN</td>\n      <td>NaN</td>\n      <td>NaN</td>\n      <td>NaN</td>\n      <td>NaN</td>\n      <td>NaN</td>\n      <td>NaN</td>\n      <td>NaN</td>\n      <td>NaN</td>\n      <td>NaN</td>\n      <td>NaN</td>\n      <td>NaN</td>\n      <td>NaN</td>\n      <td>NaN</td>\n      <td>NaN</td>\n      <td>NaN</td>\n      <td>NaN</td>\n      <td>NaN</td>\n    </tr>\n    <tr>\n      <th>4</th>\n      <td>A999993387</td>\n      <td>0.259113</td>\n      <td>5326806.0</td>\n      <td>36</td>\n      <td>22000000</td>\n      <td>REGULAR</td>\n      <td>36</td>\n      <td>13192100.0</td>\n      <td>18</td>\n      <td>22000000</td>\n      <td>April</td>\n      <td>6.0</td>\n      <td>0.0</td>\n      <td>0.0</td>\n      <td>0.0</td>\n      <td>0.0</td>\n      <td>0.0</td>\n      <td>0.0</td>\n      <td>0.0</td>\n      <td>0.0</td>\n      <td>0.0</td>\n      <td>0.0</td>\n      <td>A999993387</td>\n      <td>MX-90216316</td>\n      <td>April</td>\n      <td>MX-90216316</td>\n      <td>AGNT46</td>\n      <td>0.0</td>\n      <td>0.0</td>\n      <td>6.0</td>\n    </tr>\n  </tbody>\n</table>\n</div>"
     },
     "metadata": {},
     "execution_count": 46
    }
   ],
   "source": [
    "data.head()"
   ]
  },
  {
   "cell_type": "code",
   "execution_count": 47,
   "metadata": {},
   "outputs": [],
   "source": [
    "writer = pd.ExcelWriter('data.xlsx')\n",
    "data.to_excel(writer,'Sheet1')\n",
    "writer.save()"
   ]
  },
  {
   "cell_type": "code",
   "execution_count": 48,
   "metadata": {},
   "outputs": [
    {
     "output_type": "execute_result",
     "data": {
      "text/plain": "      Loan_id  Debt_to_burden_Ratio  ...  Promise_to_pay  total_contacts\n0  A999993387              0.259113  ...             0.0             6.0\n1  A999993387              0.259113  ...             0.0             1.0\n2  A999993387              0.259113  ...             0.0             1.0\n3  A999993387              0.259113  ...             NaN             NaN\n4  A999993387              0.259113  ...             0.0             6.0\n\n[5 rows x 30 columns]",
      "text/html": "<div>\n<style scoped>\n    .dataframe tbody tr th:only-of-type {\n        vertical-align: middle;\n    }\n\n    .dataframe tbody tr th {\n        vertical-align: top;\n    }\n\n    .dataframe thead th {\n        text-align: right;\n    }\n</style>\n<table border=\"1\" class=\"dataframe\">\n  <thead>\n    <tr style=\"text-align: right;\">\n      <th></th>\n      <th>Loan_id</th>\n      <th>Debt_to_burden_Ratio</th>\n      <th>total_income</th>\n      <th>TENURE_x</th>\n      <th>Sanctioned Amount_x</th>\n      <th>Bucket</th>\n      <th>TENURE_y</th>\n      <th>PRINBALANCE</th>\n      <th>Months on Books</th>\n      <th>Sanctioned Amount_y</th>\n      <th>Month</th>\n      <th>paidcure</th>\n      <th>paiduncure</th>\n      <th>unpaid</th>\n      <th>rollb</th>\n      <th>rollf</th>\n      <th>num6mosdel</th>\n      <th>num3mosdel</th>\n      <th>num6mosdel_2plus</th>\n      <th>num3mosdel_2plus</th>\n      <th>max6del</th>\n      <th>max3del</th>\n      <th>Loanid</th>\n      <th>Application_id</th>\n      <th>month</th>\n      <th>Application_Id</th>\n      <th>Login_ID</th>\n      <th>Right_Party_Contact</th>\n      <th>Promise_to_pay</th>\n      <th>total_contacts</th>\n    </tr>\n  </thead>\n  <tbody>\n    <tr>\n      <th>0</th>\n      <td>A999993387</td>\n      <td>0.259113</td>\n      <td>5326806.0</td>\n      <td>36</td>\n      <td>22000000</td>\n      <td>TB0</td>\n      <td>36</td>\n      <td>13785200.0</td>\n      <td>18</td>\n      <td>22000000</td>\n      <td>April</td>\n      <td>6.0</td>\n      <td>0.0</td>\n      <td>0.0</td>\n      <td>0.0</td>\n      <td>0.0</td>\n      <td>0.0</td>\n      <td>0.0</td>\n      <td>0.0</td>\n      <td>0.0</td>\n      <td>0.0</td>\n      <td>0.0</td>\n      <td>A999993387</td>\n      <td>MX-90216316</td>\n      <td>April</td>\n      <td>MX-90216316</td>\n      <td>AGNT46</td>\n      <td>0.0</td>\n      <td>0.0</td>\n      <td>6.0</td>\n    </tr>\n    <tr>\n      <th>1</th>\n      <td>A999993387</td>\n      <td>0.259113</td>\n      <td>5326806.0</td>\n      <td>36</td>\n      <td>22000000</td>\n      <td>TB0</td>\n      <td>36</td>\n      <td>13785200.0</td>\n      <td>18</td>\n      <td>22000000</td>\n      <td>April</td>\n      <td>6.0</td>\n      <td>0.0</td>\n      <td>0.0</td>\n      <td>0.0</td>\n      <td>0.0</td>\n      <td>0.0</td>\n      <td>0.0</td>\n      <td>0.0</td>\n      <td>0.0</td>\n      <td>0.0</td>\n      <td>0.0</td>\n      <td>A999993387</td>\n      <td>MX-90216316</td>\n      <td>April</td>\n      <td>MX-90216316</td>\n      <td>AGNT7</td>\n      <td>0.0</td>\n      <td>0.0</td>\n      <td>1.0</td>\n    </tr>\n    <tr>\n      <th>2</th>\n      <td>A999993387</td>\n      <td>0.259113</td>\n      <td>5326806.0</td>\n      <td>36</td>\n      <td>22000000</td>\n      <td>TB0</td>\n      <td>36</td>\n      <td>14361500.0</td>\n      <td>17</td>\n      <td>22000000</td>\n      <td>March</td>\n      <td>6.0</td>\n      <td>0.0</td>\n      <td>0.0</td>\n      <td>0.0</td>\n      <td>0.0</td>\n      <td>0.0</td>\n      <td>0.0</td>\n      <td>0.0</td>\n      <td>0.0</td>\n      <td>0.0</td>\n      <td>0.0</td>\n      <td>A999993387</td>\n      <td>MX-90216316</td>\n      <td>March</td>\n      <td>MX-90216316</td>\n      <td>AGNT29</td>\n      <td>0.0</td>\n      <td>0.0</td>\n      <td>1.0</td>\n    </tr>\n    <tr>\n      <th>3</th>\n      <td>A999993387</td>\n      <td>0.259113</td>\n      <td>5326806.0</td>\n      <td>36</td>\n      <td>22000000</td>\n      <td>REGULAR</td>\n      <td>36</td>\n      <td>12583000.0</td>\n      <td>19</td>\n      <td>22000000</td>\n      <td>May</td>\n      <td>NaN</td>\n      <td>NaN</td>\n      <td>NaN</td>\n      <td>NaN</td>\n      <td>NaN</td>\n      <td>NaN</td>\n      <td>NaN</td>\n      <td>NaN</td>\n      <td>NaN</td>\n      <td>NaN</td>\n      <td>NaN</td>\n      <td>NaN</td>\n      <td>NaN</td>\n      <td>NaN</td>\n      <td>NaN</td>\n      <td>NaN</td>\n      <td>NaN</td>\n      <td>NaN</td>\n      <td>NaN</td>\n    </tr>\n    <tr>\n      <th>4</th>\n      <td>A999993387</td>\n      <td>0.259113</td>\n      <td>5326806.0</td>\n      <td>36</td>\n      <td>22000000</td>\n      <td>REGULAR</td>\n      <td>36</td>\n      <td>13192100.0</td>\n      <td>18</td>\n      <td>22000000</td>\n      <td>April</td>\n      <td>6.0</td>\n      <td>0.0</td>\n      <td>0.0</td>\n      <td>0.0</td>\n      <td>0.0</td>\n      <td>0.0</td>\n      <td>0.0</td>\n      <td>0.0</td>\n      <td>0.0</td>\n      <td>0.0</td>\n      <td>0.0</td>\n      <td>A999993387</td>\n      <td>MX-90216316</td>\n      <td>April</td>\n      <td>MX-90216316</td>\n      <td>AGNT46</td>\n      <td>0.0</td>\n      <td>0.0</td>\n      <td>6.0</td>\n    </tr>\n  </tbody>\n</table>\n</div>"
     },
     "metadata": {},
     "execution_count": 48
    }
   ],
   "source": [
    "data.head()"
   ]
  },
  {
   "cell_type": "code",
   "execution_count": null,
   "metadata": {},
   "outputs": [],
   "source": []
  }
 ],
 "metadata": {
  "language_info": {
   "codemirror_mode": {
    "name": "ipython",
    "version": 3
   },
   "file_extension": ".py",
   "mimetype": "text/x-python",
   "name": "python",
   "nbconvert_exporter": "python",
   "pygments_lexer": "ipython3",
   "version": "3.7.4-final"
  },
  "orig_nbformat": 2,
  "kernelspec": {
   "name": "python37464bitloanstreetcondafa66e404accb4a32a5c3bcdbfa6abf76",
   "display_name": "Python 3.7.4 64-bit ('LoanStreet': conda)"
  }
 },
 "nbformat": 4,
 "nbformat_minor": 2
}