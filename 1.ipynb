{
 "cells": [
  {
   "cell_type": "code",
   "execution_count": 1,
   "metadata": {},
   "outputs": [],
   "source": [
    "#import modules\n",
    "import pandas as pd\n",
    "import datetime as dt\n",
    "import numpy as np\n",
    "import matplotlib\n",
    "import matplotlib.pyplot as plt \n",
    "import seaborn as sns\n",
    "import sklearn\n",
    "\n",
    "from sklearn.linear_model import LogisticRegression\n",
    "from sklearn.ensemble import RandomForestClassifier\n",
    "from sklearn.model_selection import cross_val_predict\n",
    "from sklearn.metrics import confusion_matrix\n",
    "from sklearn.model_selection import train_test_split\n",
    "from sklearn.utils import resample\n",
    "\n",
    "pd.options.display.max_columns=999\n",
    "pd.options.display.max_rows=3000"
   ]
  },
  {
   "cell_type": "code",
   "execution_count": 2,
   "metadata": {},
   "outputs": [],
   "source": [
    "\n",
    "from openpyxl.workbook import Workbook\n"
   ]
  },
  {
   "cell_type": "code",
   "execution_count": 3,
   "metadata": {},
   "outputs": [],
   "source": [
    "df = pd.read_excel('Collections Case Study Data.xlsx', sheet_name=None)"
   ]
  },
  {
   "cell_type": "code",
   "execution_count": 4,
   "metadata": {},
   "outputs": [
    {
     "output_type": "execute_result",
     "data": {
      "text/plain": "dict_keys(['Loan Details', 'Loan_Status_MartoMay', 'Loan_Status_AprtoJun', 'Historical 6 Months Details', 'Loan_ID mapping', 'Call Details'])"
     },
     "metadata": {},
     "execution_count": 4
    }
   ],
   "source": [
    "df.keys()"
   ]
  },
  {
   "cell_type": "code",
   "execution_count": 5,
   "metadata": {},
   "outputs": [
    {
     "output_type": "stream",
     "name": "stdout",
     "text": "Loan Details\n      Loan_id  Debt_to_burden_Ratio  total_income  TENURE  Sanctioned Amount\n0  A999993387              0.259113     5326806.0      36           22000000\n1  A999990339              0.323385     8392773.0      48           73000000\n2  A999971854              0.346267    12000000.0      48           80000000\n3  A999952066              0.229800     9000000.0      36           50000000\n4  A999938479              0.370082     8500000.0      36           67000000\n\n\n\n\nLoan_Status_MartoMay\n      Loan_id Bucket  TENURE  PRINBALANCE  Months on Books  Sanctioned Amount  \\\n0  A999993387    TB0      36   13785200.0               18           22000000   \n1  A999993387    TB0      36   14361500.0               17           22000000   \n2  A999990339    TB0      48   68114900.0                6           73000000   \n3  A999990339    TB0      48   68957500.0                5           73000000   \n4  A999990339    TB0      48   69805500.0                4           73000000   \n\n   Month  Unnamed: 7  Unnamed: 8  \n0  April         NaN         NaN  \n1  March         NaN    576300.0  \n2    May         NaN         NaN  \n3  April         NaN    842600.0  \n4  March         NaN    848000.0  \n\n\n\n\nLoan_Status_AprtoJun\n      Loan_id   Bucket  PRINBALANCE  TENURE  Months on Books  \\\n0  A999993387  REGULAR   12583000.0      36               19   \n1  A999993387  REGULAR   13192100.0      36               18   \n2  A999990339  REGULAR   66303700.0      48                7   \n3  A999990339  REGULAR   67206100.0      48                6   \n4  A999990339  REGULAR   68114900.0      48                5   \n\n   Sanctioned Amount  Month  Unnamed: 7  Unnamed: 8  \n0           22000000    May         NaN         NaN  \n1           22000000  April         NaN    609100.0  \n2           73000000   June         NaN         NaN  \n3           73000000    May         NaN         NaN  \n4           73000000  April         NaN         NaN  \n\n\n\n\nHistorical 6 Months Details\n      Loan_id  paidcure  paiduncure  unpaid  rollb  rollf  num6mosdel  \\\n0  A999993387         6           0       0      0      0           0   \n1  A999993387         6           0       0      0      0           0   \n2  A999990339         6           0       0      0      0           0   \n3  A999990339         5           0       0      0      0           0   \n4  A999990339         4           0       0      0      0           0   \n\n   num3mosdel  num6mosdel_2plus  num3mosdel_2plus  max6del  max3del  Month  \n0           0                 0                 0        0        0  April  \n1           0                 0                 0        0        0  March  \n2           0                 0                 0        0        0    May  \n3           0                 0                 0        0        0  April  \n4           0                 0                 0        0        0  March  \n\n\n\n\nLoan_ID mapping\n       Loanid Application_id\n0  A999993387    MX-90216316\n1  A999990339   MX-459254348\n2  A999971854   MX-153697240\n3  A999952066   MX-552890335\n4  A999938479   MX-962936786\n\n\n\n\nCall Details\n   month Application_Id Login_ID  Right_Party_Contact  Promise_to_pay  \\\n0      3   MX-100062359   AGNT50                    1               1   \n1      3   MX-100095892   AGNT12                    1               0   \n2      3   MX-100116696   AGNT36                    2               0   \n3      3    MX-10011780   AGNT39                    2               1   \n4      3   MX-100133826   AGNT48                    4               3   \n\n   total_contacts  \n0               1  \n1               2  \n2               3  \n3              10  \n4              17  \n\n\n\n\n"
    }
   ],
   "source": [
    "for i in df.keys():\n",
    "    print(i)\n",
    "    print(df[i].head())\n",
    "    print('\\n')\n",
    "    print('\\n')"
   ]
  },
  {
   "cell_type": "code",
   "execution_count": null,
   "metadata": {},
   "outputs": [],
   "source": [
    "# loan_detail = df['Loan Details']\n",
    "# loan_detail.head()"
   ]
  },
  {
   "cell_type": "code",
   "execution_count": null,
   "metadata": {},
   "outputs": [],
   "source": [
    "# loan_stat_marmay = df['Loan_Status_MartoMay']\n",
    "# loan_stat_marmay.head()"
   ]
  },
  {
   "cell_type": "code",
   "execution_count": null,
   "metadata": {},
   "outputs": [],
   "source": [
    "# loan_stat_aprjun = df['Loan_Status_AprtoJun']\n",
    "# loan_stat_aprjun.head()\n"
   ]
  },
  {
   "cell_type": "code",
   "execution_count": null,
   "metadata": {},
   "outputs": [],
   "source": [
    "# loan_stat_aprjun = loan_stat_aprjun[['Loan_id', 'Bucket', 'TENURE', 'PRINBALANCE', 'Months on Books', 'Sanctioned Amount', 'Month', 'Unnamed: 7', 'Unnamed: 8']]"
   ]
  },
  {
   "cell_type": "code",
   "execution_count": null,
   "metadata": {},
   "outputs": [],
   "source": [
    "# loan_stat_aprjun.head()"
   ]
  },
  {
   "cell_type": "code",
   "execution_count": null,
   "metadata": {},
   "outputs": [],
   "source": [
    "# loan_stat_months = pd.concat([df['Loan_Status_MartoMay'], df['Loan_Status_AprtoJun']])"
   ]
  },
  {
   "cell_type": "code",
   "execution_count": null,
   "metadata": {},
   "outputs": [],
   "source": [
    "# print(loan_stat_months.head())\n",
    "# print(loan_stat_months.tail())"
   ]
  },
  {
   "cell_type": "code",
   "execution_count": 6,
   "metadata": {},
   "outputs": [],
   "source": [
    "mar_data = df['Loan_Status_MartoMay'].loc[df['Loan_Status_MartoMay']['Month'] == 'March']\n",
    "mar_hist_data = df['Historical 6 Months Details'].loc[df['Historical 6 Months Details']['Month'] == 'March']"
   ]
  },
  {
   "cell_type": "code",
   "execution_count": 7,
   "metadata": {},
   "outputs": [],
   "source": [
    "mar_data_1 = pd.merge(mar_data, mar_hist_data, how='left', on='Loan_id', suffixes=('_mar', '_mar'))"
   ]
  },
  {
   "cell_type": "code",
   "execution_count": 8,
   "metadata": {},
   "outputs": [
    {
     "output_type": "execute_result",
     "data": {
      "text/plain": "      Loan_id Bucket  TENURE  PRINBALANCE  Months on Books  Sanctioned Amount  \\\n0  A999993387    TB0      36   14361500.0               17           22000000   \n1  A999990339    TB0      48   69805500.0                4           73000000   \n2  A999952066    TB0      36   37728800.0               12           50000000   \n3  A999937745    TB0      36   45753500.0                3           48000000   \n4  A999873098    TB0      48   42680200.0               12           50000000   \n\n  Month_mar  Unnamed: 7  Unnamed: 8  paidcure  paiduncure  unpaid  rollb  \\\n0     March         NaN    576300.0         6           0       0      0   \n1     March         NaN    848000.0         4           0       0      0   \n2     March         NaN   1237600.0         6           0       0      0   \n3     March         NaN         NaN         3           0       1      0   \n4     March         NaN         NaN         6           0       0      0   \n\n   rollf  num6mosdel  num3mosdel  num6mosdel_2plus  num3mosdel_2plus  max6del  \\\n0      0           0           0                 0                 0        0   \n1      0           0           0                 0                 0        0   \n2      0           0           0                 0                 0        0   \n3      0           0           0                 0                 0        0   \n4      0           0           0                 0                 0        0   \n\n   max3del Month_mar  \n0        0     March  \n1        0     March  \n2        0     March  \n3        0     March  \n4        0     March  ",
      "text/html": "<div>\n<style scoped>\n    .dataframe tbody tr th:only-of-type {\n        vertical-align: middle;\n    }\n\n    .dataframe tbody tr th {\n        vertical-align: top;\n    }\n\n    .dataframe thead th {\n        text-align: right;\n    }\n</style>\n<table border=\"1\" class=\"dataframe\">\n  <thead>\n    <tr style=\"text-align: right;\">\n      <th></th>\n      <th>Loan_id</th>\n      <th>Bucket</th>\n      <th>TENURE</th>\n      <th>PRINBALANCE</th>\n      <th>Months on Books</th>\n      <th>Sanctioned Amount</th>\n      <th>Month_mar</th>\n      <th>Unnamed: 7</th>\n      <th>Unnamed: 8</th>\n      <th>paidcure</th>\n      <th>paiduncure</th>\n      <th>unpaid</th>\n      <th>rollb</th>\n      <th>rollf</th>\n      <th>num6mosdel</th>\n      <th>num3mosdel</th>\n      <th>num6mosdel_2plus</th>\n      <th>num3mosdel_2plus</th>\n      <th>max6del</th>\n      <th>max3del</th>\n      <th>Month_mar</th>\n    </tr>\n  </thead>\n  <tbody>\n    <tr>\n      <th>0</th>\n      <td>A999993387</td>\n      <td>TB0</td>\n      <td>36</td>\n      <td>14361500.0</td>\n      <td>17</td>\n      <td>22000000</td>\n      <td>March</td>\n      <td>NaN</td>\n      <td>576300.0</td>\n      <td>6</td>\n      <td>0</td>\n      <td>0</td>\n      <td>0</td>\n      <td>0</td>\n      <td>0</td>\n      <td>0</td>\n      <td>0</td>\n      <td>0</td>\n      <td>0</td>\n      <td>0</td>\n      <td>March</td>\n    </tr>\n    <tr>\n      <th>1</th>\n      <td>A999990339</td>\n      <td>TB0</td>\n      <td>48</td>\n      <td>69805500.0</td>\n      <td>4</td>\n      <td>73000000</td>\n      <td>March</td>\n      <td>NaN</td>\n      <td>848000.0</td>\n      <td>4</td>\n      <td>0</td>\n      <td>0</td>\n      <td>0</td>\n      <td>0</td>\n      <td>0</td>\n      <td>0</td>\n      <td>0</td>\n      <td>0</td>\n      <td>0</td>\n      <td>0</td>\n      <td>March</td>\n    </tr>\n    <tr>\n      <th>2</th>\n      <td>A999952066</td>\n      <td>TB0</td>\n      <td>36</td>\n      <td>37728800.0</td>\n      <td>12</td>\n      <td>50000000</td>\n      <td>March</td>\n      <td>NaN</td>\n      <td>1237600.0</td>\n      <td>6</td>\n      <td>0</td>\n      <td>0</td>\n      <td>0</td>\n      <td>0</td>\n      <td>0</td>\n      <td>0</td>\n      <td>0</td>\n      <td>0</td>\n      <td>0</td>\n      <td>0</td>\n      <td>March</td>\n    </tr>\n    <tr>\n      <th>3</th>\n      <td>A999937745</td>\n      <td>TB0</td>\n      <td>36</td>\n      <td>45753500.0</td>\n      <td>3</td>\n      <td>48000000</td>\n      <td>March</td>\n      <td>NaN</td>\n      <td>NaN</td>\n      <td>3</td>\n      <td>0</td>\n      <td>1</td>\n      <td>0</td>\n      <td>0</td>\n      <td>0</td>\n      <td>0</td>\n      <td>0</td>\n      <td>0</td>\n      <td>0</td>\n      <td>0</td>\n      <td>March</td>\n    </tr>\n    <tr>\n      <th>4</th>\n      <td>A999873098</td>\n      <td>TB0</td>\n      <td>48</td>\n      <td>42680200.0</td>\n      <td>12</td>\n      <td>50000000</td>\n      <td>March</td>\n      <td>NaN</td>\n      <td>NaN</td>\n      <td>6</td>\n      <td>0</td>\n      <td>0</td>\n      <td>0</td>\n      <td>0</td>\n      <td>0</td>\n      <td>0</td>\n      <td>0</td>\n      <td>0</td>\n      <td>0</td>\n      <td>0</td>\n      <td>March</td>\n    </tr>\n  </tbody>\n</table>\n</div>"
     },
     "metadata": {},
     "execution_count": 8
    }
   ],
   "source": [
    "mar_data_1.head()"
   ]
  },
  {
   "cell_type": "code",
   "execution_count": 36,
   "metadata": {},
   "outputs": [
    {
     "output_type": "execute_result",
     "data": {
      "text/plain": "Empty DataFrame\nColumns: [Loan_id, Bucket, TENURE, PRINBALANCE, Months on Books, Sanctioned Amount, Month_mar, Unnamed: 7, Unnamed: 8, paidcure, paiduncure, unpaid, rollb, rollf, num6mosdel, num3mosdel, num6mosdel_2plus, num3mosdel_2plus, max6del, max3del, Month_mar]\nIndex: []",
      "text/html": "<div>\n<style scoped>\n    .dataframe tbody tr th:only-of-type {\n        vertical-align: middle;\n    }\n\n    .dataframe tbody tr th {\n        vertical-align: top;\n    }\n\n    .dataframe thead th {\n        text-align: right;\n    }\n</style>\n<table border=\"1\" class=\"dataframe\">\n  <thead>\n    <tr style=\"text-align: right;\">\n      <th></th>\n      <th>Loan_id</th>\n      <th>Bucket</th>\n      <th>TENURE</th>\n      <th>PRINBALANCE</th>\n      <th>Months on Books</th>\n      <th>Sanctioned Amount</th>\n      <th>Month_mar</th>\n      <th>Unnamed: 7</th>\n      <th>Unnamed: 8</th>\n      <th>paidcure</th>\n      <th>paiduncure</th>\n      <th>unpaid</th>\n      <th>rollb</th>\n      <th>rollf</th>\n      <th>num6mosdel</th>\n      <th>num3mosdel</th>\n      <th>num6mosdel_2plus</th>\n      <th>num3mosdel_2plus</th>\n      <th>max6del</th>\n      <th>max3del</th>\n      <th>Month_mar</th>\n    </tr>\n  </thead>\n  <tbody>\n  </tbody>\n</table>\n</div>"
     },
     "metadata": {},
     "execution_count": 36
    }
   ],
   "source": [
    "mar_data_1[mar_data_1['paidcure'].isnull()]"
   ]
  },
  {
   "cell_type": "code",
   "execution_count": null,
   "metadata": {},
   "outputs": [],
   "source": [
    "# bucket_data = mar_data[['Loan_id', 'Bucket']]"
   ]
  },
  {
   "cell_type": "code",
   "execution_count": null,
   "metadata": {},
   "outputs": [],
   "source": [
    "# bucket_data.columns = ['Loan_id', 'mar_bucket'] "
   ]
  },
  {
   "cell_type": "code",
   "execution_count": null,
   "metadata": {},
   "outputs": [],
   "source": [
    "# bucket_data.head()"
   ]
  },
  {
   "cell_type": "code",
   "execution_count": null,
   "metadata": {},
   "outputs": [],
   "source": [
    "# apr_data = df['Loan_Status_AprtoJun'].loc[df['Loan_Status_AprtoJun']['Month'] == 'April']"
   ]
  },
  {
   "cell_type": "code",
   "execution_count": null,
   "metadata": {},
   "outputs": [],
   "source": [
    "# apr_data.head()"
   ]
  },
  {
   "cell_type": "code",
   "execution_count": 9,
   "metadata": {},
   "outputs": [],
   "source": [
    "jun_data = df['Loan_Status_AprtoJun'].loc[df['Loan_Status_AprtoJun']['Month'] == 'June']"
   ]
  },
  {
   "cell_type": "code",
   "execution_count": 18,
   "metadata": {},
   "outputs": [
    {
     "output_type": "execute_result",
     "data": {
      "text/plain": "29115"
     },
     "metadata": {},
     "execution_count": 18
    }
   ],
   "source": [
    "len(jun_data)"
   ]
  },
  {
   "cell_type": "code",
   "execution_count": 10,
   "metadata": {},
   "outputs": [
    {
     "output_type": "execute_result",
     "data": {
      "text/plain": "       Loan_id   Bucket  PRINBALANCE  TENURE  Months on Books  \\\n2   A999990339  REGULAR   66303700.0      48                7   \n5   A999971854  REGULAR   48509900.0      48               25   \n7   A999952066  REGULAR   32791800.0      36               15   \n10  A999938479  REGULAR   60348600.0      36                5   \n12  A999937745  REGULAR   42353900.0      36                6   \n\n    Sanctioned Amount Month  Unnamed: 7  Unnamed: 8  \n2            73000000  June         NaN         NaN  \n5            80000000  June         NaN -19605000.0  \n7            50000000  June         NaN         NaN  \n10           67000000  June         NaN         NaN  \n12           48000000  June         NaN         NaN  ",
      "text/html": "<div>\n<style scoped>\n    .dataframe tbody tr th:only-of-type {\n        vertical-align: middle;\n    }\n\n    .dataframe tbody tr th {\n        vertical-align: top;\n    }\n\n    .dataframe thead th {\n        text-align: right;\n    }\n</style>\n<table border=\"1\" class=\"dataframe\">\n  <thead>\n    <tr style=\"text-align: right;\">\n      <th></th>\n      <th>Loan_id</th>\n      <th>Bucket</th>\n      <th>PRINBALANCE</th>\n      <th>TENURE</th>\n      <th>Months on Books</th>\n      <th>Sanctioned Amount</th>\n      <th>Month</th>\n      <th>Unnamed: 7</th>\n      <th>Unnamed: 8</th>\n    </tr>\n  </thead>\n  <tbody>\n    <tr>\n      <th>2</th>\n      <td>A999990339</td>\n      <td>REGULAR</td>\n      <td>66303700.0</td>\n      <td>48</td>\n      <td>7</td>\n      <td>73000000</td>\n      <td>June</td>\n      <td>NaN</td>\n      <td>NaN</td>\n    </tr>\n    <tr>\n      <th>5</th>\n      <td>A999971854</td>\n      <td>REGULAR</td>\n      <td>48509900.0</td>\n      <td>48</td>\n      <td>25</td>\n      <td>80000000</td>\n      <td>June</td>\n      <td>NaN</td>\n      <td>-19605000.0</td>\n    </tr>\n    <tr>\n      <th>7</th>\n      <td>A999952066</td>\n      <td>REGULAR</td>\n      <td>32791800.0</td>\n      <td>36</td>\n      <td>15</td>\n      <td>50000000</td>\n      <td>June</td>\n      <td>NaN</td>\n      <td>NaN</td>\n    </tr>\n    <tr>\n      <th>10</th>\n      <td>A999938479</td>\n      <td>REGULAR</td>\n      <td>60348600.0</td>\n      <td>36</td>\n      <td>5</td>\n      <td>67000000</td>\n      <td>June</td>\n      <td>NaN</td>\n      <td>NaN</td>\n    </tr>\n    <tr>\n      <th>12</th>\n      <td>A999937745</td>\n      <td>REGULAR</td>\n      <td>42353900.0</td>\n      <td>36</td>\n      <td>6</td>\n      <td>48000000</td>\n      <td>June</td>\n      <td>NaN</td>\n      <td>NaN</td>\n    </tr>\n  </tbody>\n</table>\n</div>"
     },
     "metadata": {},
     "execution_count": 10
    }
   ],
   "source": [
    "jun_data.head()"
   ]
  },
  {
   "cell_type": "code",
   "execution_count": 26,
   "metadata": {},
   "outputs": [],
   "source": [
    "month_data = pd.merge(mar_data_1, jun_data, how='left', on='Loan_id', suffixes=('_mar', '_jun'))"
   ]
  },
  {
   "cell_type": "code",
   "execution_count": 27,
   "metadata": {},
   "outputs": [
    {
     "output_type": "execute_result",
     "data": {
      "text/plain": "      Loan_id Bucket_mar  TENURE_mar  PRINBALANCE_mar  Months on Books_mar  \\\n0  A999993387        TB0          36       14361500.0                   17   \n1  A999990339        TB0          48       69805500.0                    4   \n2  A999952066        TB0          36       37728800.0                   12   \n3  A999937745        TB0          36       45753500.0                    3   \n4  A999873098        TB0          48       42680200.0                   12   \n\n   Sanctioned Amount_mar Month_mar  Unnamed: 7_mar  Unnamed: 8_mar  paidcure  \\\n0               22000000     March             NaN        576300.0         6   \n1               73000000     March             NaN        848000.0         4   \n2               50000000     March             NaN       1237600.0         6   \n3               48000000     March             NaN             NaN         3   \n4               50000000     March             NaN             NaN         6   \n\n   paiduncure  unpaid  rollb  rollf  num6mosdel  num3mosdel  num6mosdel_2plus  \\\n0           0       0      0      0           0           0                 0   \n1           0       0      0      0           0           0                 0   \n2           0       0      0      0           0           0                 0   \n3           0       1      0      0           0           0                 0   \n4           0       0      0      0           0           0                 0   \n\n   num3mosdel_2plus  max6del  max3del Month_mar Bucket_jun  PRINBALANCE_jun  \\\n0                 0        0        0     March        NaN              NaN   \n1                 0        0        0     March    REGULAR       66303700.0   \n2                 0        0        0     March    REGULAR       32791800.0   \n3                 0        0        0     March    REGULAR       42353900.0   \n4                 0        0        0     March    REGULAR       39679600.0   \n\n   TENURE_jun  Months on Books_jun  Sanctioned Amount_jun Month  \\\n0         NaN                  NaN                    NaN   NaN   \n1        48.0                  7.0             73000000.0  June   \n2        36.0                 15.0             50000000.0  June   \n3        36.0                  6.0             48000000.0  June   \n4        48.0                 15.0             50000000.0  June   \n\n   Unnamed: 7_jun  Unnamed: 8_jun  \n0             NaN             NaN  \n1             NaN             NaN  \n2             NaN             NaN  \n3             NaN             NaN  \n4             NaN             NaN  ",
      "text/html": "<div>\n<style scoped>\n    .dataframe tbody tr th:only-of-type {\n        vertical-align: middle;\n    }\n\n    .dataframe tbody tr th {\n        vertical-align: top;\n    }\n\n    .dataframe thead th {\n        text-align: right;\n    }\n</style>\n<table border=\"1\" class=\"dataframe\">\n  <thead>\n    <tr style=\"text-align: right;\">\n      <th></th>\n      <th>Loan_id</th>\n      <th>Bucket_mar</th>\n      <th>TENURE_mar</th>\n      <th>PRINBALANCE_mar</th>\n      <th>Months on Books_mar</th>\n      <th>Sanctioned Amount_mar</th>\n      <th>Month_mar</th>\n      <th>Unnamed: 7_mar</th>\n      <th>Unnamed: 8_mar</th>\n      <th>paidcure</th>\n      <th>paiduncure</th>\n      <th>unpaid</th>\n      <th>rollb</th>\n      <th>rollf</th>\n      <th>num6mosdel</th>\n      <th>num3mosdel</th>\n      <th>num6mosdel_2plus</th>\n      <th>num3mosdel_2plus</th>\n      <th>max6del</th>\n      <th>max3del</th>\n      <th>Month_mar</th>\n      <th>Bucket_jun</th>\n      <th>PRINBALANCE_jun</th>\n      <th>TENURE_jun</th>\n      <th>Months on Books_jun</th>\n      <th>Sanctioned Amount_jun</th>\n      <th>Month</th>\n      <th>Unnamed: 7_jun</th>\n      <th>Unnamed: 8_jun</th>\n    </tr>\n  </thead>\n  <tbody>\n    <tr>\n      <th>0</th>\n      <td>A999993387</td>\n      <td>TB0</td>\n      <td>36</td>\n      <td>14361500.0</td>\n      <td>17</td>\n      <td>22000000</td>\n      <td>March</td>\n      <td>NaN</td>\n      <td>576300.0</td>\n      <td>6</td>\n      <td>0</td>\n      <td>0</td>\n      <td>0</td>\n      <td>0</td>\n      <td>0</td>\n      <td>0</td>\n      <td>0</td>\n      <td>0</td>\n      <td>0</td>\n      <td>0</td>\n      <td>March</td>\n      <td>NaN</td>\n      <td>NaN</td>\n      <td>NaN</td>\n      <td>NaN</td>\n      <td>NaN</td>\n      <td>NaN</td>\n      <td>NaN</td>\n      <td>NaN</td>\n    </tr>\n    <tr>\n      <th>1</th>\n      <td>A999990339</td>\n      <td>TB0</td>\n      <td>48</td>\n      <td>69805500.0</td>\n      <td>4</td>\n      <td>73000000</td>\n      <td>March</td>\n      <td>NaN</td>\n      <td>848000.0</td>\n      <td>4</td>\n      <td>0</td>\n      <td>0</td>\n      <td>0</td>\n      <td>0</td>\n      <td>0</td>\n      <td>0</td>\n      <td>0</td>\n      <td>0</td>\n      <td>0</td>\n      <td>0</td>\n      <td>March</td>\n      <td>REGULAR</td>\n      <td>66303700.0</td>\n      <td>48.0</td>\n      <td>7.0</td>\n      <td>73000000.0</td>\n      <td>June</td>\n      <td>NaN</td>\n      <td>NaN</td>\n    </tr>\n    <tr>\n      <th>2</th>\n      <td>A999952066</td>\n      <td>TB0</td>\n      <td>36</td>\n      <td>37728800.0</td>\n      <td>12</td>\n      <td>50000000</td>\n      <td>March</td>\n      <td>NaN</td>\n      <td>1237600.0</td>\n      <td>6</td>\n      <td>0</td>\n      <td>0</td>\n      <td>0</td>\n      <td>0</td>\n      <td>0</td>\n      <td>0</td>\n      <td>0</td>\n      <td>0</td>\n      <td>0</td>\n      <td>0</td>\n      <td>March</td>\n      <td>REGULAR</td>\n      <td>32791800.0</td>\n      <td>36.0</td>\n      <td>15.0</td>\n      <td>50000000.0</td>\n      <td>June</td>\n      <td>NaN</td>\n      <td>NaN</td>\n    </tr>\n    <tr>\n      <th>3</th>\n      <td>A999937745</td>\n      <td>TB0</td>\n      <td>36</td>\n      <td>45753500.0</td>\n      <td>3</td>\n      <td>48000000</td>\n      <td>March</td>\n      <td>NaN</td>\n      <td>NaN</td>\n      <td>3</td>\n      <td>0</td>\n      <td>1</td>\n      <td>0</td>\n      <td>0</td>\n      <td>0</td>\n      <td>0</td>\n      <td>0</td>\n      <td>0</td>\n      <td>0</td>\n      <td>0</td>\n      <td>March</td>\n      <td>REGULAR</td>\n      <td>42353900.0</td>\n      <td>36.0</td>\n      <td>6.0</td>\n      <td>48000000.0</td>\n      <td>June</td>\n      <td>NaN</td>\n      <td>NaN</td>\n    </tr>\n    <tr>\n      <th>4</th>\n      <td>A999873098</td>\n      <td>TB0</td>\n      <td>48</td>\n      <td>42680200.0</td>\n      <td>12</td>\n      <td>50000000</td>\n      <td>March</td>\n      <td>NaN</td>\n      <td>NaN</td>\n      <td>6</td>\n      <td>0</td>\n      <td>0</td>\n      <td>0</td>\n      <td>0</td>\n      <td>0</td>\n      <td>0</td>\n      <td>0</td>\n      <td>0</td>\n      <td>0</td>\n      <td>0</td>\n      <td>March</td>\n      <td>REGULAR</td>\n      <td>39679600.0</td>\n      <td>48.0</td>\n      <td>15.0</td>\n      <td>50000000.0</td>\n      <td>June</td>\n      <td>NaN</td>\n      <td>NaN</td>\n    </tr>\n  </tbody>\n</table>\n</div>"
     },
     "metadata": {},
     "execution_count": 27
    }
   ],
   "source": [
    "month_data.head()"
   ]
  },
  {
   "cell_type": "code",
   "execution_count": 28,
   "metadata": {},
   "outputs": [
    {
     "output_type": "execute_result",
     "data": {
      "text/plain": "REGULAR    15847\nTB0         1082\nTB1          270\nName: Bucket_jun, dtype: int64"
     },
     "metadata": {},
     "execution_count": 28
    }
   ],
   "source": [
    "month_data['Bucket_jun'].value_counts()"
   ]
  },
  {
   "cell_type": "code",
   "execution_count": 29,
   "metadata": {},
   "outputs": [],
   "source": [
    "def target(row):\n",
    "    if row['Bucket_jun'] == 'TB1':\n",
    "        return 1\n",
    "    else:\n",
    "        return 0\n",
    "\n",
    "month_data['target'] = month_data.apply(target, axis=1)"
   ]
  },
  {
   "cell_type": "code",
   "execution_count": 30,
   "metadata": {},
   "outputs": [
    {
     "output_type": "execute_result",
     "data": {
      "text/plain": "0    24305\n1      270\nName: target, dtype: int64"
     },
     "metadata": {},
     "execution_count": 30
    }
   ],
   "source": [
    "month_data['target'].value_counts()"
   ]
  },
  {
   "cell_type": "code",
   "execution_count": 31,
   "metadata": {},
   "outputs": [
    {
     "output_type": "stream",
     "name": "stdout",
     "text": "<class 'pandas.core.frame.DataFrame'>\nInt64Index: 24575 entries, 0 to 24574\nData columns (total 30 columns):\n #   Column                 Non-Null Count  Dtype  \n---  ------                 --------------  -----  \n 0   Loan_id                24575 non-null  object \n 1   Bucket_mar             24575 non-null  object \n 2   TENURE_mar             24575 non-null  int64  \n 3   PRINBALANCE_mar        24575 non-null  float64\n 4   Months on Books_mar    24575 non-null  int64  \n 5   Sanctioned Amount_mar  24575 non-null  int64  \n 6   Month_mar              24575 non-null  object \n 7   Unnamed: 7_mar         0 non-null      float64\n 8   Unnamed: 8_mar         3 non-null      float64\n 9   paidcure               24575 non-null  int64  \n 10  paiduncure             24575 non-null  int64  \n 11  unpaid                 24575 non-null  int64  \n 12  rollb                  24575 non-null  int64  \n 13  rollf                  24575 non-null  int64  \n 14  num6mosdel             24575 non-null  int64  \n 15  num3mosdel             24575 non-null  int64  \n 16  num6mosdel_2plus       24575 non-null  int64  \n 17  num3mosdel_2plus       24575 non-null  int64  \n 18  max6del                24575 non-null  int64  \n 19  max3del                24575 non-null  int64  \n 20  Month_mar              24575 non-null  object \n 21  Bucket_jun             17199 non-null  object \n 22  PRINBALANCE_jun        17199 non-null  float64\n 23  TENURE_jun             17199 non-null  float64\n 24  Months on Books_jun    17199 non-null  float64\n 25  Sanctioned Amount_jun  17199 non-null  float64\n 26  Month                  17199 non-null  object \n 27  Unnamed: 7_jun         0 non-null      float64\n 28  Unnamed: 8_jun         0 non-null      float64\n 29  target                 24575 non-null  int64  \ndtypes: float64(9), int64(15), object(6)\nmemory usage: 5.8+ MB\n\n\nNumber of duplicates in data frame: 0\n"
    }
   ],
   "source": [
    "dups = len(month_data) - len(month_data.drop_duplicates())\n",
    "month_data.info()\n",
    "print('\\n')\n",
    "print(\"Number of duplicates in data frame: \" + str(dups))"
   ]
  },
  {
   "cell_type": "code",
   "execution_count": 19,
   "metadata": {},
   "outputs": [
    {
     "output_type": "execute_result",
     "data": {
      "text/plain": "          Loan_id Bucket_mar  TENURE_mar  PRINBALANCE_mar  \\\n0      A999993387        TB0          36       14361500.0   \n13     A999643203        TB0          36        3226900.0   \n19     A999349812        TB0          48       21203300.0   \n26     A999000974        TB0          48       35354900.0   \n30     A998901950        TB0          48       27022100.0   \n...           ...        ...         ...              ...   \n24564  A100525553        TB0          48       93344800.0   \n24566  A100463209        TB0          48       13199200.0   \n24567  A100410370        TB0          36       48000000.0   \n24571  A100080302        TB0          48       26520900.0   \n24573  A100026967        TB0          48       30639900.0   \n\n       Months on Books_mar  Sanctioned Amount_mar Month_mar  Unnamed: 7_mar  \\\n0                       17               22000000     March             NaN   \n13                      32               21000000     March             NaN   \n19                      11               24000000     March             NaN   \n26                       9               39000000     March             NaN   \n30                      26               45000000     March             NaN   \n...                    ...                    ...       ...             ...   \n24564                   16              120000000     March             NaN   \n24566                   41               70000000     March             NaN   \n24567                    0               48000000     March             NaN   \n24571                   16               33000000     March             NaN   \n24573                   16               38000000     March             NaN   \n\n       Unnamed: 8_mar  paidcure  paiduncure  unpaid  rollb  rollf  num6mosdel  \\\n0            576300.0         6           0       0      0      0           0   \n13                NaN         6           0       0      0      0           0   \n19                NaN         6           0       0      0      0           0   \n26                NaN         6           0       0      0      0           0   \n30                NaN         6           0       0      0      0           0   \n...               ...       ...         ...     ...    ...    ...         ...   \n24564             NaN         6           0       0      0      0           0   \n24566             NaN         6           0       0      0      0           0   \n24567             NaN         0           0       0      0      0           1   \n24571             NaN         6           0       0      0      0           0   \n24573             NaN         6           0       0      0      0           0   \n\n       num3mosdel  num6mosdel_2plus  num3mosdel_2plus  max6del  max3del  \\\n0               0                 0                 0        0        0   \n13              0                 0                 0        0        0   \n19              0                 0                 0        0        0   \n26              0                 0                 0        0        0   \n30              0                 0                 0        0        0   \n...           ...               ...               ...      ...      ...   \n24564           0                 0                 0        0        0   \n24566           0                 0                 0        0        0   \n24567           1                 0                 0        1        1   \n24571           0                 0                 0        0        0   \n24573           0                 0                 0        0        0   \n\n      Month_mar Bucket_jun  PRINBALANCE_jun  TENURE_jun  Months on Books_jun  \\\n0         March        NaN              NaN         NaN                  NaN   \n13        March        NaN              NaN         NaN                  NaN   \n19        March        NaN              NaN         NaN                  NaN   \n26        March        NaN              NaN         NaN                  NaN   \n30        March        NaN              NaN         NaN                  NaN   \n...         ...        ...              ...         ...                  ...   \n24564     March        NaN              NaN         NaN                  NaN   \n24566     March        NaN              NaN         NaN                  NaN   \n24567     March        NaN              NaN         NaN                  NaN   \n24571     March        NaN              NaN         NaN                  NaN   \n24573     March        NaN              NaN         NaN                  NaN   \n\n       Sanctioned Amount_jun Month  Unnamed: 7_jun  Unnamed: 8_jun  target  \n0                        NaN   NaN             NaN             NaN       0  \n13                       NaN   NaN             NaN             NaN       0  \n19                       NaN   NaN             NaN             NaN       0  \n26                       NaN   NaN             NaN             NaN       0  \n30                       NaN   NaN             NaN             NaN       0  \n...                      ...   ...             ...             ...     ...  \n24564                    NaN   NaN             NaN             NaN       0  \n24566                    NaN   NaN             NaN             NaN       0  \n24567                    NaN   NaN             NaN             NaN       0  \n24571                    NaN   NaN             NaN             NaN       0  \n24573                    NaN   NaN             NaN             NaN       0  \n\n[7376 rows x 30 columns]",
      "text/html": "<div>\n<style scoped>\n    .dataframe tbody tr th:only-of-type {\n        vertical-align: middle;\n    }\n\n    .dataframe tbody tr th {\n        vertical-align: top;\n    }\n\n    .dataframe thead th {\n        text-align: right;\n    }\n</style>\n<table border=\"1\" class=\"dataframe\">\n  <thead>\n    <tr style=\"text-align: right;\">\n      <th></th>\n      <th>Loan_id</th>\n      <th>Bucket_mar</th>\n      <th>TENURE_mar</th>\n      <th>PRINBALANCE_mar</th>\n      <th>Months on Books_mar</th>\n      <th>Sanctioned Amount_mar</th>\n      <th>Month_mar</th>\n      <th>Unnamed: 7_mar</th>\n      <th>Unnamed: 8_mar</th>\n      <th>paidcure</th>\n      <th>paiduncure</th>\n      <th>unpaid</th>\n      <th>rollb</th>\n      <th>rollf</th>\n      <th>num6mosdel</th>\n      <th>num3mosdel</th>\n      <th>num6mosdel_2plus</th>\n      <th>num3mosdel_2plus</th>\n      <th>max6del</th>\n      <th>max3del</th>\n      <th>Month_mar</th>\n      <th>Bucket_jun</th>\n      <th>PRINBALANCE_jun</th>\n      <th>TENURE_jun</th>\n      <th>Months on Books_jun</th>\n      <th>Sanctioned Amount_jun</th>\n      <th>Month</th>\n      <th>Unnamed: 7_jun</th>\n      <th>Unnamed: 8_jun</th>\n      <th>target</th>\n    </tr>\n  </thead>\n  <tbody>\n    <tr>\n      <th>0</th>\n      <td>A999993387</td>\n      <td>TB0</td>\n      <td>36</td>\n      <td>14361500.0</td>\n      <td>17</td>\n      <td>22000000</td>\n      <td>March</td>\n      <td>NaN</td>\n      <td>576300.0</td>\n      <td>6</td>\n      <td>0</td>\n      <td>0</td>\n      <td>0</td>\n      <td>0</td>\n      <td>0</td>\n      <td>0</td>\n      <td>0</td>\n      <td>0</td>\n      <td>0</td>\n      <td>0</td>\n      <td>March</td>\n      <td>NaN</td>\n      <td>NaN</td>\n      <td>NaN</td>\n      <td>NaN</td>\n      <td>NaN</td>\n      <td>NaN</td>\n      <td>NaN</td>\n      <td>NaN</td>\n      <td>0</td>\n    </tr>\n    <tr>\n      <th>13</th>\n      <td>A999643203</td>\n      <td>TB0</td>\n      <td>36</td>\n      <td>3226900.0</td>\n      <td>32</td>\n      <td>21000000</td>\n      <td>March</td>\n      <td>NaN</td>\n      <td>NaN</td>\n      <td>6</td>\n      <td>0</td>\n      <td>0</td>\n      <td>0</td>\n      <td>0</td>\n      <td>0</td>\n      <td>0</td>\n      <td>0</td>\n      <td>0</td>\n      <td>0</td>\n      <td>0</td>\n      <td>March</td>\n      <td>NaN</td>\n      <td>NaN</td>\n      <td>NaN</td>\n      <td>NaN</td>\n      <td>NaN</td>\n      <td>NaN</td>\n      <td>NaN</td>\n      <td>NaN</td>\n      <td>0</td>\n    </tr>\n    <tr>\n      <th>19</th>\n      <td>A999349812</td>\n      <td>TB0</td>\n      <td>48</td>\n      <td>21203300.0</td>\n      <td>11</td>\n      <td>24000000</td>\n      <td>March</td>\n      <td>NaN</td>\n      <td>NaN</td>\n      <td>6</td>\n      <td>0</td>\n      <td>0</td>\n      <td>0</td>\n      <td>0</td>\n      <td>0</td>\n      <td>0</td>\n      <td>0</td>\n      <td>0</td>\n      <td>0</td>\n      <td>0</td>\n      <td>March</td>\n      <td>NaN</td>\n      <td>NaN</td>\n      <td>NaN</td>\n      <td>NaN</td>\n      <td>NaN</td>\n      <td>NaN</td>\n      <td>NaN</td>\n      <td>NaN</td>\n      <td>0</td>\n    </tr>\n    <tr>\n      <th>26</th>\n      <td>A999000974</td>\n      <td>TB0</td>\n      <td>48</td>\n      <td>35354900.0</td>\n      <td>9</td>\n      <td>39000000</td>\n      <td>March</td>\n      <td>NaN</td>\n      <td>NaN</td>\n      <td>6</td>\n      <td>0</td>\n      <td>0</td>\n      <td>0</td>\n      <td>0</td>\n      <td>0</td>\n      <td>0</td>\n      <td>0</td>\n      <td>0</td>\n      <td>0</td>\n      <td>0</td>\n      <td>March</td>\n      <td>NaN</td>\n      <td>NaN</td>\n      <td>NaN</td>\n      <td>NaN</td>\n      <td>NaN</td>\n      <td>NaN</td>\n      <td>NaN</td>\n      <td>NaN</td>\n      <td>0</td>\n    </tr>\n    <tr>\n      <th>30</th>\n      <td>A998901950</td>\n      <td>TB0</td>\n      <td>48</td>\n      <td>27022100.0</td>\n      <td>26</td>\n      <td>45000000</td>\n      <td>March</td>\n      <td>NaN</td>\n      <td>NaN</td>\n      <td>6</td>\n      <td>0</td>\n      <td>0</td>\n      <td>0</td>\n      <td>0</td>\n      <td>0</td>\n      <td>0</td>\n      <td>0</td>\n      <td>0</td>\n      <td>0</td>\n      <td>0</td>\n      <td>March</td>\n      <td>NaN</td>\n      <td>NaN</td>\n      <td>NaN</td>\n      <td>NaN</td>\n      <td>NaN</td>\n      <td>NaN</td>\n      <td>NaN</td>\n      <td>NaN</td>\n      <td>0</td>\n    </tr>\n    <tr>\n      <th>...</th>\n      <td>...</td>\n      <td>...</td>\n      <td>...</td>\n      <td>...</td>\n      <td>...</td>\n      <td>...</td>\n      <td>...</td>\n      <td>...</td>\n      <td>...</td>\n      <td>...</td>\n      <td>...</td>\n      <td>...</td>\n      <td>...</td>\n      <td>...</td>\n      <td>...</td>\n      <td>...</td>\n      <td>...</td>\n      <td>...</td>\n      <td>...</td>\n      <td>...</td>\n      <td>...</td>\n      <td>...</td>\n      <td>...</td>\n      <td>...</td>\n      <td>...</td>\n      <td>...</td>\n      <td>...</td>\n      <td>...</td>\n      <td>...</td>\n      <td>...</td>\n    </tr>\n    <tr>\n      <th>24564</th>\n      <td>A100525553</td>\n      <td>TB0</td>\n      <td>48</td>\n      <td>93344800.0</td>\n      <td>16</td>\n      <td>120000000</td>\n      <td>March</td>\n      <td>NaN</td>\n      <td>NaN</td>\n      <td>6</td>\n      <td>0</td>\n      <td>0</td>\n      <td>0</td>\n      <td>0</td>\n      <td>0</td>\n      <td>0</td>\n      <td>0</td>\n      <td>0</td>\n      <td>0</td>\n      <td>0</td>\n      <td>March</td>\n      <td>NaN</td>\n      <td>NaN</td>\n      <td>NaN</td>\n      <td>NaN</td>\n      <td>NaN</td>\n      <td>NaN</td>\n      <td>NaN</td>\n      <td>NaN</td>\n      <td>0</td>\n    </tr>\n    <tr>\n      <th>24566</th>\n      <td>A100463209</td>\n      <td>TB0</td>\n      <td>48</td>\n      <td>13199200.0</td>\n      <td>41</td>\n      <td>70000000</td>\n      <td>March</td>\n      <td>NaN</td>\n      <td>NaN</td>\n      <td>6</td>\n      <td>0</td>\n      <td>0</td>\n      <td>0</td>\n      <td>0</td>\n      <td>0</td>\n      <td>0</td>\n      <td>0</td>\n      <td>0</td>\n      <td>0</td>\n      <td>0</td>\n      <td>March</td>\n      <td>NaN</td>\n      <td>NaN</td>\n      <td>NaN</td>\n      <td>NaN</td>\n      <td>NaN</td>\n      <td>NaN</td>\n      <td>NaN</td>\n      <td>NaN</td>\n      <td>0</td>\n    </tr>\n    <tr>\n      <th>24567</th>\n      <td>A100410370</td>\n      <td>TB0</td>\n      <td>36</td>\n      <td>48000000.0</td>\n      <td>0</td>\n      <td>48000000</td>\n      <td>March</td>\n      <td>NaN</td>\n      <td>NaN</td>\n      <td>0</td>\n      <td>0</td>\n      <td>0</td>\n      <td>0</td>\n      <td>0</td>\n      <td>1</td>\n      <td>1</td>\n      <td>0</td>\n      <td>0</td>\n      <td>1</td>\n      <td>1</td>\n      <td>March</td>\n      <td>NaN</td>\n      <td>NaN</td>\n      <td>NaN</td>\n      <td>NaN</td>\n      <td>NaN</td>\n      <td>NaN</td>\n      <td>NaN</td>\n      <td>NaN</td>\n      <td>0</td>\n    </tr>\n    <tr>\n      <th>24571</th>\n      <td>A100080302</td>\n      <td>TB0</td>\n      <td>48</td>\n      <td>26520900.0</td>\n      <td>16</td>\n      <td>33000000</td>\n      <td>March</td>\n      <td>NaN</td>\n      <td>NaN</td>\n      <td>6</td>\n      <td>0</td>\n      <td>0</td>\n      <td>0</td>\n      <td>0</td>\n      <td>0</td>\n      <td>0</td>\n      <td>0</td>\n      <td>0</td>\n      <td>0</td>\n      <td>0</td>\n      <td>March</td>\n      <td>NaN</td>\n      <td>NaN</td>\n      <td>NaN</td>\n      <td>NaN</td>\n      <td>NaN</td>\n      <td>NaN</td>\n      <td>NaN</td>\n      <td>NaN</td>\n      <td>0</td>\n    </tr>\n    <tr>\n      <th>24573</th>\n      <td>A100026967</td>\n      <td>TB0</td>\n      <td>48</td>\n      <td>30639900.0</td>\n      <td>16</td>\n      <td>38000000</td>\n      <td>March</td>\n      <td>NaN</td>\n      <td>NaN</td>\n      <td>6</td>\n      <td>0</td>\n      <td>0</td>\n      <td>0</td>\n      <td>0</td>\n      <td>0</td>\n      <td>0</td>\n      <td>0</td>\n      <td>0</td>\n      <td>0</td>\n      <td>0</td>\n      <td>March</td>\n      <td>NaN</td>\n      <td>NaN</td>\n      <td>NaN</td>\n      <td>NaN</td>\n      <td>NaN</td>\n      <td>NaN</td>\n      <td>NaN</td>\n      <td>NaN</td>\n      <td>0</td>\n    </tr>\n  </tbody>\n</table>\n<p>7376 rows × 30 columns</p>\n</div>"
     },
     "metadata": {},
     "execution_count": 19
    }
   ],
   "source": [
    "month_data[month_data['Bucket_jun'].isnull()]"
   ]
  },
  {
   "cell_type": "code",
   "execution_count": 21,
   "metadata": {},
   "outputs": [],
   "source": [
    "import numpy as np"
   ]
  },
  {
   "cell_type": "code",
   "execution_count": 25,
   "metadata": {},
   "outputs": [
    {
     "output_type": "stream",
     "name": "stdout",
     "text": "<class 'pandas.core.frame.DataFrame'>\nInt64Index: 24575 entries, 0 to 24574\nData columns (total 30 columns):\n #   Column                 Non-Null Count  Dtype  \n---  ------                 --------------  -----  \n 0   Loan_id                24575 non-null  object \n 1   Bucket_mar             24575 non-null  object \n 2   TENURE_mar             24575 non-null  int64  \n 3   PRINBALANCE_mar        24575 non-null  float64\n 4   Months on Books_mar    24575 non-null  int64  \n 5   Sanctioned Amount_mar  24575 non-null  int64  \n 6   Month_mar              24575 non-null  object \n 7   Unnamed: 7_mar         0 non-null      float64\n 8   Unnamed: 8_mar         3 non-null      float64\n 9   paidcure               24575 non-null  int64  \n 10  paiduncure             24575 non-null  int64  \n 11  unpaid                 24575 non-null  int64  \n 12  rollb                  24575 non-null  int64  \n 13  rollf                  24575 non-null  int64  \n 14  num6mosdel             24575 non-null  int64  \n 15  num3mosdel             24575 non-null  int64  \n 16  num6mosdel_2plus       24575 non-null  int64  \n 17  num3mosdel_2plus       24575 non-null  int64  \n 18  max6del                24575 non-null  int64  \n 19  max3del                24575 non-null  int64  \n 20  Month_mar              24575 non-null  object \n 21  Bucket_jun             24575 non-null  object \n 22  PRINBALANCE_jun        17199 non-null  float64\n 23  TENURE_jun             17199 non-null  float64\n 24  Months on Books_jun    17199 non-null  float64\n 25  Sanctioned Amount_jun  17199 non-null  float64\n 26  Month                  17199 non-null  object \n 27  Unnamed: 7_jun         0 non-null      float64\n 28  Unnamed: 8_jun         0 non-null      float64\n 29  target                 24575 non-null  int64  \ndtypes: float64(9), int64(15), object(6)\nmemory usage: 5.8+ MB\n"
    }
   ],
   "source": [
    "month_data.loc[(month_data['Bucket_jun'].isnull()), 'Bucket_jun']='REGULAR'\n",
    "# month_data['Bucket_jun'].replace('NaN', 'REGULAR', inplace=True)\n",
    "month_data.info()"
   ]
  },
  {
   "cell_type": "code",
   "execution_count": null,
   "metadata": {},
   "outputs": [],
   "source": [
    "#split dataframe\n",
    "train, test = train_test_split(month_data, train_size=0.7, random_state=99)"
   ]
  },
  {
   "cell_type": "code",
   "execution_count": null,
   "metadata": {},
   "outputs": [],
   "source": [
    "x_train = train.drop(['target'], axis=1)\n",
    "y_train = train['target']\n",
    "\n",
    "x_test = test.drop(['target'], axis=1)\n",
    "y_test = test['target']"
   ]
  },
  {
   "cell_type": "code",
   "execution_count": null,
   "metadata": {},
   "outputs": [],
   "source": [
    "x_train.head()"
   ]
  },
  {
   "cell_type": "code",
   "execution_count": null,
   "metadata": {},
   "outputs": [],
   "source": [
    "bucket_mar_pivot = train.pivot_table(index='Bucket_jun', values='target')\n",
    "bucket_mar_pivot.plot.bar()"
   ]
  },
  {
   "cell_type": "code",
   "execution_count": null,
   "metadata": {},
   "outputs": [],
   "source": []
  },
  {
   "cell_type": "code",
   "execution_count": null,
   "metadata": {},
   "outputs": [],
   "source": []
  },
  {
   "cell_type": "code",
   "execution_count": null,
   "metadata": {},
   "outputs": [],
   "source": []
  },
  {
   "cell_type": "code",
   "execution_count": null,
   "metadata": {},
   "outputs": [],
   "source": []
  },
  {
   "cell_type": "code",
   "execution_count": null,
   "metadata": {},
   "outputs": [],
   "source": []
  },
  {
   "cell_type": "code",
   "execution_count": null,
   "metadata": {},
   "outputs": [],
   "source": [
    "# df.keys()"
   ]
  },
  {
   "cell_type": "code",
   "execution_count": null,
   "metadata": {},
   "outputs": [],
   "source": [
    "# df['Call Details'].head()"
   ]
  },
  {
   "cell_type": "code",
   "execution_count": null,
   "metadata": {},
   "outputs": [],
   "source": [
    "# import numpy as np"
   ]
  },
  {
   "cell_type": "code",
   "execution_count": null,
   "metadata": {},
   "outputs": [],
   "source": [
    "# df['Call Details'].pivot_table(index='Application_Id', values=['Right_Party_Contact', 'Promise_to_pay', 'total_contacts'], aggfunc= np.sum)"
   ]
  },
  {
   "cell_type": "code",
   "execution_count": null,
   "metadata": {},
   "outputs": [],
   "source": []
  },
  {
   "cell_type": "code",
   "execution_count": null,
   "metadata": {},
   "outputs": [],
   "source": []
  },
  {
   "cell_type": "code",
   "execution_count": null,
   "metadata": {},
   "outputs": [],
   "source": [
    "# df.keys()"
   ]
  },
  {
   "cell_type": "code",
   "execution_count": null,
   "metadata": {},
   "outputs": [],
   "source": [
    "# data = pd.merge(df['Loan Details'], loan_stat_months, how='left', on='Loan_id')"
   ]
  },
  {
   "cell_type": "code",
   "execution_count": null,
   "metadata": {},
   "outputs": [],
   "source": [
    "# data.head()"
   ]
  },
  {
   "cell_type": "code",
   "execution_count": null,
   "metadata": {},
   "outputs": [],
   "source": [
    "# data = data.drop(columns=['Unnamed: 7', 'Unnamed: 8'], axis=1)\n",
    "# data.head()"
   ]
  },
  {
   "cell_type": "code",
   "execution_count": null,
   "metadata": {},
   "outputs": [],
   "source": [
    "# hist_data = df['Historical 6 Months Details'].head()\n",
    "# hist_data.head()"
   ]
  },
  {
   "cell_type": "code",
   "execution_count": null,
   "metadata": {},
   "outputs": [],
   "source": [
    "# data = pd.merge(data, hist_data, how='left', on=['Loan_id', 'Month'])\n",
    "# data.head()"
   ]
  },
  {
   "cell_type": "code",
   "execution_count": null,
   "metadata": {},
   "outputs": [],
   "source": [
    "# loan_id_map = df['Loan_ID mapping']\n",
    "# loan_id_map.head()"
   ]
  },
  {
   "cell_type": "code",
   "execution_count": null,
   "metadata": {},
   "outputs": [],
   "source": [
    "# call_details = df['Call Details']\n",
    "# call_details.head()"
   ]
  },
  {
   "cell_type": "code",
   "execution_count": null,
   "metadata": {},
   "outputs": [],
   "source": [
    "# call_details['month'].value_counts()"
   ]
  },
  {
   "cell_type": "code",
   "execution_count": null,
   "metadata": {},
   "outputs": [],
   "source": [
    "# m = {3:'March', 4:'April', 5:'May'}\n",
    "# call_details['month'] = call_details['month'].map(m)"
   ]
  },
  {
   "cell_type": "code",
   "execution_count": null,
   "metadata": {},
   "outputs": [],
   "source": [
    "# call_details.head()"
   ]
  },
  {
   "cell_type": "code",
   "execution_count": null,
   "metadata": {},
   "outputs": [],
   "source": [
    "# call_details = pd.merge(loan_id_map, call_details, how='left', left_on='Application_id', right_on='Application_Id')\n",
    "# call_details.head()"
   ]
  },
  {
   "cell_type": "code",
   "execution_count": null,
   "metadata": {},
   "outputs": [],
   "source": [
    "# data = pd.merge(data, call_details, how='left', left_on=['Loan_id', 'Month'], right_on=['Loanid', 'month'])"
   ]
  },
  {
   "cell_type": "code",
   "execution_count": null,
   "metadata": {},
   "outputs": [],
   "source": [
    "# data.head()\n"
   ]
  },
  {
   "cell_type": "code",
   "execution_count": null,
   "metadata": {},
   "outputs": [],
   "source": [
    "# writer = pd.ExcelWriter('data.xlsx')\n",
    "# data.to_excel(writer,'Sheet1')\n",
    "# writer.save()\n"
   ]
  },
  {
   "cell_type": "code",
   "execution_count": null,
   "metadata": {},
   "outputs": [],
   "source": [
    "# data.head()\n"
   ]
  },
  {
   "cell_type": "code",
   "execution_count": null,
   "metadata": {},
   "outputs": [],
   "source": []
  }
 ],
 "metadata": {
  "language_info": {
   "codemirror_mode": {
    "name": "ipython",
    "version": 3
   },
   "file_extension": ".py",
   "mimetype": "text/x-python",
   "name": "python",
   "nbconvert_exporter": "python",
   "pygments_lexer": "ipython3",
   "version": "3.7.4-final"
  },
  "orig_nbformat": 2,
  "kernelspec": {
   "name": "python37464bitloanstreetcondafa66e404accb4a32a5c3bcdbfa6abf76",
   "display_name": "Python 3.7.4 64-bit ('LoanStreet': conda)"
  }
 },
 "nbformat": 4,
 "nbformat_minor": 2
}